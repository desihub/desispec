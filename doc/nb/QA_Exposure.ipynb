{
 "cells": [
  {
   "cell_type": "markdown",
   "metadata": {},
   "source": [
    "# QA for an Exposures"
   ]
  },
  {
   "cell_type": "code",
   "execution_count": 1,
   "metadata": {
    "collapsed": false
   },
   "outputs": [],
   "source": [
    "# imports\n",
    "from desispec.qa import qa_exposure as dqaexp"
   ]
  },
  {
   "cell_type": "markdown",
   "metadata": {},
   "source": [
    "## Load"
   ]
  },
  {
   "cell_type": "code",
   "execution_count": 2,
   "metadata": {
    "collapsed": true
   },
   "outputs": [],
   "source": [
    "expid = 2\n",
    "night = '20150211'\n",
    "specprod_dir = '/Users/xavier/DESI/TST/dogwood/'"
   ]
  },
  {
   "cell_type": "code",
   "execution_count": 19,
   "metadata": {
    "collapsed": false
   },
   "outputs": [
    {
     "name": "stderr",
     "output_type": "stream",
     "text": [
      "/Users/xavier/anaconda/lib/python2.7/site-packages/matplotlib/__init__.py:1350: UserWarning:  This call to matplotlib.use() has no effect\n",
      "because the backend has already been chosen;\n",
      "matplotlib.use() must be called *before* pylab, matplotlib.pyplot,\n",
      "or matplotlib.backends is imported for the first time.\n",
      "\n",
      "  warnings.warn(_use_error_msg)\n"
     ]
    }
   ],
   "source": [
    "# Load data\n",
    "reload(dqaexp)\n",
    "qaexp = dqaexp.QA_Exposure(expid, night, specprod_dir, flavor='dark')"
   ]
  },
  {
   "cell_type": "code",
   "execution_count": 20,
   "metadata": {
    "collapsed": false
   },
   "outputs": [
    {
     "data": {
      "text/plain": [
       "{'expid': 2,\n",
       " 'flavor': 'dark',\n",
       " 'frames': {'b0': {u'FIBERFLAT': {u'PARAM': {'MAX_MEAN_OFF': 0.05,\n",
       "     'MAX_N_MASK': 20000,\n",
       "     'MAX_OFF': 0.15,\n",
       "     'MAX_RMS': 0.02,\n",
       "     'MAX_SCALE_OFF': 0.05},\n",
       "    u'QA': {'MAX_MEANSPEC': 20036.989142187947,\n",
       "     'MAX_MEAN_OFF': 11.95263722228059,\n",
       "     'MAX_OFF': 31.86232340755261,\n",
       "     'MAX_RMS': 4.606179058912466,\n",
       "     'MAX_SCALE_OFF': 17.14729933910587,\n",
       "     'N_MASK': 141167}},\n",
       "   u'FLUXCALIB': {u'PARAM': {'MAX_ZP_OFF': 0.2, 'ZP_WAVE': 4800.0},\n",
       "    u'QA': {'MAX_ZP_OFF': [0.03162147678992966, 119],\n",
       "     'NSTARS_FIBER': 5,\n",
       "     'RMS_ZP': 0.010376131442290066,\n",
       "     'ZP': 25.234761071013523}},\n",
       "   u'SKYSUB': {u'PARAM': {'PCHI_RESID': 0.05},\n",
       "    u'QA': {'MED_RESID': 0.7486787818569205, 'NBAD_PCHI': 38, 'NSKY_FIB': 45}},\n",
       "   'camera': 'b0',\n",
       "   u'file': '/Users/xavier/DESI/TST/dogwood/exposures/20150211/00000002/qa-b0-00000002.yaml',\n",
       "   'flavor': 'science'}},\n",
       " 'night': '20150211'}"
      ]
     },
     "execution_count": 20,
     "metadata": {},
     "output_type": "execute_result"
    }
   ],
   "source": [
    "qaexp.data"
   ]
  },
  {
   "cell_type": "markdown",
   "metadata": {},
   "source": [
    "## FluxCalib QA"
   ]
  },
  {
   "cell_type": "code",
   "execution_count": 21,
   "metadata": {
    "collapsed": false
   },
   "outputs": [
    {
     "name": "stdout",
     "output_type": "stream",
     "text": [
      "Wrote QA FluxCalib Exposure file: qa-flux-{expid:08d}.pdf\n"
     ]
    }
   ],
   "source": [
    "qaexp.fluxcalib()"
   ]
  },
  {
   "cell_type": "code",
   "execution_count": 18,
   "metadata": {
    "collapsed": false
   },
   "outputs": [
    {
     "data": {
      "text/plain": [
       "{u'FLUXCALIB': {u'b': {u'ZP_RMS': 0.0}, u'r': {}, u'z': {}},\n",
       " 'expid': 2,\n",
       " 'flavor': 'dark',\n",
       " 'frames': {'b0': {u'FIBERFLAT': {u'PARAM': {'MAX_MEAN_OFF': 0.05,\n",
       "     'MAX_N_MASK': 20000,\n",
       "     'MAX_OFF': 0.15,\n",
       "     'MAX_RMS': 0.02,\n",
       "     'MAX_SCALE_OFF': 0.05},\n",
       "    u'QA': {'MAX_MEANSPEC': 20036.989142187947,\n",
       "     'MAX_MEAN_OFF': 11.95263722228059,\n",
       "     'MAX_OFF': 31.86232340755261,\n",
       "     'MAX_RMS': 4.606179058912466,\n",
       "     'MAX_SCALE_OFF': 17.14729933910587,\n",
       "     'N_MASK': 141167}},\n",
       "   u'FLUXCALIB': {u'PARAM': {'MAX_ZP_OFF': 0.2, 'ZP_WAVE': 4800.0},\n",
       "    u'QA': {'MAX_ZP_OFF': [0.03162147678992966, 119],\n",
       "     'NSTARS_FIBER': 5,\n",
       "     'RMS_ZP': 0.010376131442290066,\n",
       "     'ZP': 25.234761071013523}},\n",
       "   u'SKYSUB': {u'PARAM': {'PCHI_RESID': 0.05},\n",
       "    u'QA': {'MED_RESID': 0.7486787818569205, 'NBAD_PCHI': 38, 'NSKY_FIB': 45}},\n",
       "   'camera': 'b0',\n",
       "   u'file': '/Users/xavier/DESI/TST/dogwood/exposures/20150211/00000002/qa-b0-00000002.yaml',\n",
       "   'flavor': 'science'}},\n",
       " 'night': '20150211'}"
      ]
     },
     "execution_count": 18,
     "metadata": {},
     "output_type": "execute_result"
    }
   ],
   "source": [
    "qaexp.data"
   ]
  },
  {
   "cell_type": "code",
   "execution_count": null,
   "metadata": {
    "collapsed": true
   },
   "outputs": [],
   "source": []
  }
 ],
 "metadata": {
  "kernelspec": {
   "display_name": "Python 2",
   "language": "python",
   "name": "python2"
  },
  "language_info": {
   "codemirror_mode": {
    "name": "ipython",
    "version": 2
   },
   "file_extension": ".py",
   "mimetype": "text/x-python",
   "name": "python",
   "nbconvert_exporter": "python",
   "pygments_lexer": "ipython2",
   "version": "2.7.11"
  }
 },
 "nbformat": 4,
 "nbformat_minor": 0
}
