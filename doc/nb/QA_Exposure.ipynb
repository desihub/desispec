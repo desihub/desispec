{
 "cells": [
  {
   "cell_type": "markdown",
   "metadata": {},
   "source": [
    "# QA for an Exposures (v1.1)"
   ]
  },
  {
   "cell_type": "code",
   "execution_count": 1,
   "metadata": {
    "collapsed": false
   },
   "outputs": [],
   "source": [
    "# imports\n",
    "from desispec.qa import qa_exposure as dqaexp"
   ]
  },
  {
   "cell_type": "markdown",
   "metadata": {},
   "source": [
    "## Load"
   ]
  },
  {
   "cell_type": "code",
   "execution_count": 2,
   "metadata": {
    "collapsed": true
   },
   "outputs": [],
   "source": [
    "expid = 7\n",
    "night = '20160607'\n",
    "specprod_dir = '/Users/xavier/DESI/DESI_SCRATCH/redux/madrone/'"
   ]
  },
  {
   "cell_type": "code",
   "execution_count": 3,
   "metadata": {
    "collapsed": false
   },
   "outputs": [
    {
     "name": "stdout",
     "output_type": "stream",
     "text": [
      "INFO:qa.py:81:load_qa_frame: Loaded QA file /Users/xavier/DESI/DESI_SCRATCH/redux/madrone/exposures/20160607/00000007/qa-r0-00000007.yaml\n",
      "INFO:qa.py:81:load_qa_frame: Loaded QA file /Users/xavier/DESI/DESI_SCRATCH/redux/madrone/exposures/20160607/00000007/qa-r1-00000007.yaml\n",
      "INFO:qa.py:81:load_qa_frame: Loaded QA file /Users/xavier/DESI/DESI_SCRATCH/redux/madrone/exposures/20160607/00000007/qa-b0-00000007.yaml\n",
      "INFO:qa.py:81:load_qa_frame: Loaded QA file /Users/xavier/DESI/DESI_SCRATCH/redux/madrone/exposures/20160607/00000007/qa-b1-00000007.yaml\n",
      "INFO:qa.py:81:load_qa_frame: Loaded QA file /Users/xavier/DESI/DESI_SCRATCH/redux/madrone/exposures/20160607/00000007/qa-z0-00000007.yaml\n",
      "INFO:qa.py:81:load_qa_frame: Loaded QA file /Users/xavier/DESI/DESI_SCRATCH/redux/madrone/exposures/20160607/00000007/qa-z1-00000007.yaml\n"
     ]
    }
   ],
   "source": [
    "# Load data\n",
    "reload(dqaexp)\n",
    "qaexp = dqaexp.QA_Exposure(expid, night, 'dark', specprod_dir=specprod_dir)"
   ]
  },
  {
   "cell_type": "code",
   "execution_count": 4,
   "metadata": {
    "collapsed": false
   },
   "outputs": [
    {
     "data": {
      "text/plain": [
       "{'expid': 7,\n",
       " 'flavor': 'dark',\n",
       " 'frames': {'b0': {'FLUXCALIB': {'PARAM': {'MAX_ZP_OFF': 0.2,\n",
       "     'ZP_WAVE': 4800.0},\n",
       "    'QA': {'MAX_ZP_OFF': [0.4802616039991179, 0],\n",
       "     'NSTARS_FIBER': 12,\n",
       "     'RMS_ZP': 0.1449260023073517,\n",
       "     'ZP': 25.592318861231973}},\n",
       "   'SKYSUB': {'PARAM': {'PCHI_RESID': 0.05, 'PER_RESID': 95.0},\n",
       "    'QA': {'MED_RESID': 0.7977447509765625,\n",
       "     'NBAD_PCHI': 38,\n",
       "     'NREJ': 0,\n",
       "     'NSKY_FIB': 38,\n",
       "     'RESID_PER': [-28.585147666931153, 30.517656135559076]}}},\n",
       "  'b1': {'FLUXCALIB': {'PARAM': {'MAX_ZP_OFF': 0.2, 'ZP_WAVE': 4800.0},\n",
       "    'QA': {'MAX_ZP_OFF': [0.5010662602690843, 0],\n",
       "     'NSTARS_FIBER': 13,\n",
       "     'RMS_ZP': 0.14132149782701103,\n",
       "     'ZP': 25.593496049967925}},\n",
       "   'SKYSUB': {'PARAM': {'PCHI_RESID': 0.05, 'PER_RESID': 95.0},\n",
       "    'QA': {'MED_RESID': 0.7645645141601562,\n",
       "     'NBAD_PCHI': 35,\n",
       "     'NREJ': 0,\n",
       "     'NSKY_FIB': 36,\n",
       "     'RESID_PER': [-28.651506423950195, 30.514743328094482]}}},\n",
       "  'r0': {'FLUXCALIB': {'PARAM': {'MAX_ZP_OFF': 0.2, 'ZP_WAVE': 6500.0},\n",
       "    'QA': {'MAX_ZP_OFF': [0.5145173890571471, 0],\n",
       "     'NSTARS_FIBER': 12,\n",
       "     'RMS_ZP': 0.1552311138402372,\n",
       "     'ZP': 25.462437703942683}},\n",
       "   'SKYSUB': {'PARAM': {'PCHI_RESID': 0.05, 'PER_RESID': 95.0},\n",
       "    'QA': {'MED_RESID': 0.8249320983886719,\n",
       "     'NBAD_PCHI': 18,\n",
       "     'NREJ': 0,\n",
       "     'NSKY_FIB': 38,\n",
       "     'RESID_PER': [-38.79963073730468, 41.19881591796872]}}},\n",
       "  'r1': {'FLUXCALIB': {'PARAM': {'MAX_ZP_OFF': 0.2, 'ZP_WAVE': 6500.0},\n",
       "    'QA': {'MAX_ZP_OFF': [0.5120047209460807, 0],\n",
       "     'NSTARS_FIBER': 13,\n",
       "     'RMS_ZP': 0.14398544844135472,\n",
       "     'ZP': 25.463873267968722}},\n",
       "   'SKYSUB': {'PARAM': {'PCHI_RESID': 0.05, 'PER_RESID': 95.0},\n",
       "    'QA': {'MED_RESID': 0.6858577728271484,\n",
       "     'NBAD_PCHI': 14,\n",
       "     'NREJ': 0,\n",
       "     'NSKY_FIB': 36,\n",
       "     'RESID_PER': [-38.262718200683594, 41.21645736694336]}}},\n",
       "  'z0': {'FLUXCALIB': {'PARAM': {'MAX_ZP_OFF': 0.2, 'ZP_WAVE': 8250.0},\n",
       "    'QA': {'MAX_ZP_OFF': [0.46679589006055267, 0],\n",
       "     'NSTARS_FIBER': 12,\n",
       "     'RMS_ZP': 0.14446527967674802,\n",
       "     'ZP': 25.420884471125603}},\n",
       "   'SKYSUB': {'PARAM': {'PCHI_RESID': 0.05, 'PER_RESID': 95.0},\n",
       "    'QA': {'MED_RESID': 0.48260498046875,\n",
       "     'NBAD_PCHI': 38,\n",
       "     'NREJ': 0,\n",
       "     'NSKY_FIB': 38,\n",
       "     'RESID_PER': [-68.66947860717772, 72.949688720703]}}},\n",
       "  'z1': {'FLUXCALIB': {'PARAM': {'MAX_ZP_OFF': 0.2, 'ZP_WAVE': 8250.0},\n",
       "    'QA': {'MAX_ZP_OFF': [0.473581729721424, 0],\n",
       "     'NSTARS_FIBER': 13,\n",
       "     'RMS_ZP': 0.13706811678757105,\n",
       "     'ZP': 25.429825809028927}},\n",
       "   'SKYSUB': {'PARAM': {'PCHI_RESID': 0.05, 'PER_RESID': 95.0},\n",
       "    'QA': {'MED_RESID': 0.5413665771484375,\n",
       "     'NBAD_PCHI': 36,\n",
       "     'NREJ': 0,\n",
       "     'NSKY_FIB': 36,\n",
       "     'RESID_PER': [-69.9621726989746, 73.98566360473627]}}}},\n",
       " 'night': '20160607'}"
      ]
     },
     "execution_count": 4,
     "metadata": {},
     "output_type": "execute_result"
    }
   ],
   "source": [
    "qaexp.data"
   ]
  },
  {
   "cell_type": "markdown",
   "metadata": {},
   "source": [
    "## FluxCalib QA"
   ]
  },
  {
   "cell_type": "code",
   "execution_count": 5,
   "metadata": {
    "collapsed": false
   },
   "outputs": [
    {
     "name": "stderr",
     "output_type": "stream",
     "text": [
      "/Users/xavier/anaconda/lib/python2.7/site-packages/matplotlib/__init__.py:1350: UserWarning:  This call to matplotlib.use() has no effect\n",
      "because the backend has already been chosen;\n",
      "matplotlib.use() must be called *before* pylab, matplotlib.pyplot,\n",
      "or matplotlib.backends is imported for the first time.\n",
      "\n",
      "  warnings.warn(_use_error_msg)\n"
     ]
    },
    {
     "name": "stdout",
     "output_type": "stream",
     "text": [
      "Wrote QA FluxCalib Exposure file: qa-00000006-flux.pdf\n"
     ]
    }
   ],
   "source": [
    "outfil = 'qa-00000006-flux.pdf'\n",
    "qaexp.fluxcalib(outfil)"
   ]
  },
  {
   "cell_type": "code",
   "execution_count": 18,
   "metadata": {
    "collapsed": false
   },
   "outputs": [
    {
     "data": {
      "text/plain": [
       "{u'FLUXCALIB': {u'b': {u'ZP_RMS': 0.0}, u'r': {}, u'z': {}},\n",
       " 'expid': 2,\n",
       " 'flavor': 'dark',\n",
       " 'frames': {'b0': {u'FIBERFLAT': {u'PARAM': {'MAX_MEAN_OFF': 0.05,\n",
       "     'MAX_N_MASK': 20000,\n",
       "     'MAX_OFF': 0.15,\n",
       "     'MAX_RMS': 0.02,\n",
       "     'MAX_SCALE_OFF': 0.05},\n",
       "    u'QA': {'MAX_MEANSPEC': 20036.989142187947,\n",
       "     'MAX_MEAN_OFF': 11.95263722228059,\n",
       "     'MAX_OFF': 31.86232340755261,\n",
       "     'MAX_RMS': 4.606179058912466,\n",
       "     'MAX_SCALE_OFF': 17.14729933910587,\n",
       "     'N_MASK': 141167}},\n",
       "   u'FLUXCALIB': {u'PARAM': {'MAX_ZP_OFF': 0.2, 'ZP_WAVE': 4800.0},\n",
       "    u'QA': {'MAX_ZP_OFF': [0.03162147678992966, 119],\n",
       "     'NSTARS_FIBER': 5,\n",
       "     'RMS_ZP': 0.010376131442290066,\n",
       "     'ZP': 25.234761071013523}},\n",
       "   u'SKYSUB': {u'PARAM': {'PCHI_RESID': 0.05},\n",
       "    u'QA': {'MED_RESID': 0.7486787818569205, 'NBAD_PCHI': 38, 'NSKY_FIB': 45}},\n",
       "   'camera': 'b0',\n",
       "   u'file': '/Users/xavier/DESI/TST/dogwood/exposures/20150211/00000002/qa-b0-00000002.yaml',\n",
       "   'flavor': 'science'}},\n",
       " 'night': '20150211'}"
      ]
     },
     "execution_count": 18,
     "metadata": {},
     "output_type": "execute_result"
    }
   ],
   "source": [
    "qaexp.data"
   ]
  },
  {
   "cell_type": "code",
   "execution_count": null,
   "metadata": {
    "collapsed": true
   },
   "outputs": [],
   "source": []
  }
 ],
 "metadata": {
  "kernelspec": {
   "display_name": "Python 2",
   "language": "python",
   "name": "python2"
  },
  "language_info": {
   "codemirror_mode": {
    "name": "ipython",
    "version": 2
   },
   "file_extension": ".py",
   "mimetype": "text/x-python",
   "name": "python",
   "nbconvert_exporter": "python",
   "pygments_lexer": "ipython2",
   "version": "2.7.11"
  }
 },
 "nbformat": 4,
 "nbformat_minor": 0
}
