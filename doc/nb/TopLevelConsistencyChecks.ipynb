{
 "cells": [
  {
   "cell_type": "markdown",
   "id": "172352fa-cb01-4562-a27a-7784e31c0ef4",
   "metadata": {},
   "source": [
    "# Top-Level Consistency Checks\n",
    "\n",
    "This notebook checks the top-level `tiles-SPECPROD.(fits|csv)` and `exposures-SPECPROD.(fits|csv)` files for self-consistency in prepartion for loading these files into a database.\n",
    "\n",
    "## Imports"
   ]
  },
  {
   "cell_type": "code",
   "execution_count": 1,
   "id": "b086e33a-fe1f-485d-97ae-18adad96dc2f",
   "metadata": {},
   "outputs": [
    {
     "name": "stdout",
     "output_type": "stream",
     "text": [
      "INFO:iers.py:82:freeze_iers: Freezing IERS table used by astropy time, coordinates.\n"
     ]
    }
   ],
   "source": [
    "import os\n",
    "import glob\n",
    "from pytz import utc\n",
    "import numpy as np\n",
    "from astropy.io import fits\n",
    "from astropy.table import Table, Column\n",
    "from astropy.time import Time\n",
    "from desiutil.iers import freeze_iers\n",
    "from desiutil.log import get_logger, DEBUG, INFO\n",
    "from desispec.io.meta import faflavor2program\n",
    "from desispec.io.util import checkgzip\n",
    "import desispec.database.redshift as dsr\n",
    "from desispec.database.util import targetphotid\n",
    "from desitarget.targets import decode_targetid\n",
    "freeze_iers()"
   ]
  },
  {
   "cell_type": "markdown",
   "id": "a0245ef2-fc2e-458d-bfb2-9a89c8183aab",
   "metadata": {},
   "source": [
    "## Important Setup"
   ]
  },
  {
   "cell_type": "code",
   "execution_count": 2,
   "id": "3187f15b-83c3-42de-a00d-6872b62ebdd5",
   "metadata": {},
   "outputs": [],
   "source": [
    "specprod = os.environ['SPECPROD'] = 'fuji'\n",
    "overwrite = True"
   ]
  },
  {
   "cell_type": "code",
   "execution_count": 3,
   "id": "03c054b6-539f-4896-a8f8-aa00c07c4323",
   "metadata": {},
   "outputs": [],
   "source": [
    "os.environ['DESI_SPECTRO_REDUX'] = os.path.join(os.environ['DESI_ROOT'], 'public', 'edr', 'spectro', 'redux')"
   ]
  },
  {
   "cell_type": "markdown",
   "id": "beb40bd8-b3ce-4596-91dc-c0a559161f67",
   "metadata": {},
   "source": [
    "## Examine ztile files."
   ]
  },
  {
   "cell_type": "code",
   "execution_count": 12,
   "id": "8f218bde-87b2-4017-a318-f37ec0dd5905",
   "metadata": {},
   "outputs": [],
   "source": [
    "all_targetphotid = list()\n",
    "ztile_files = glob.glob(os.path.join(os.environ['DESI_SPECTRO_REDUX'], specprod, 'zcatalog', 'ztile-*.fits'))\n",
    "for f in ztile_files:\n",
    "    survey = os.path.basename(f).split('-')[1]\n",
    "    if 'cumulative' in f:\n",
    "        key = 'LASTNIGHT'\n",
    "    elif 'perexp' in f:\n",
    "        key = 'EXPID'\n",
    "    elif 'pernight' in f:\n",
    "        key = 'NIGHT'\n",
    "    else:\n",
    "        key = 'SPGRPVAL'\n",
    "    t = Table.read(f, format='fits', hdu='ZCATALOG')\n",
    "    objid, brickid, release, mock, sky, gaiadr = decode_targetid(t['TARGETID'])\n",
    "    # print(sky)\n",
    "    assert (t[key] == t['SPGRPVAL']).all()\n",
    "    w = (t['TARGETID'] > 0) & (sky == 0)\n",
    "    all_targetphotid += [targetphotid(x, y, survey) for x, y in zip(t['TARGETID'][w], t['TILEID'][w])]"
   ]
  },
  {
   "cell_type": "markdown",
   "id": "9be9a2d1-7295-4018-98ec-888a1a6ee1ae",
   "metadata": {},
   "source": [
    "## Test loading targeting data"
   ]
  },
  {
   "cell_type": "code",
   "execution_count": 5,
   "id": "4e31238a-af74-44e1-b9ca-0056cd7f20a9",
   "metadata": {},
   "outputs": [],
   "source": [
    "release = 'edr'\n",
    "targetphot_version = 'v1.0'\n",
    "os.environ['DESI_SPECTRO_REDUX'] = os.path.join(os.environ['DESI_ROOT'], 'public', release, 'spectro', 'redux')\n",
    "targetphot_potential_file = os.path.join(os.environ['DESI_ROOT'], 'public', release, 'vac', 'lsdr9-photometry', os.environ['SPECPROD'], targetphot_version, 'potential-targets', f\"targetphot-potential-{os.environ['SPECPROD']}.fits\")\n",
    "targetphot_potential = Table.read(targetphot_potential_file, hdu=1)"
   ]
  },
  {
   "cell_type": "code",
   "execution_count": 6,
   "id": "ae6669a0-4816-4d75-b955-7922542a8070",
   "metadata": {},
   "outputs": [],
   "source": [
    "targetphot_file = os.path.join(os.environ['DESI_ROOT'], 'public', release, 'vac', 'lsdr9-photometry', os.environ['SPECPROD'], targetphot_version, 'observed-targets', f\"targetphot-{os.environ['SPECPROD']}.fits\")\n",
    "targetphot = Table.read(targetphot_file, hdu=1)"
   ]
  },
  {
   "cell_type": "markdown",
   "id": "000b2c01-ba5b-48e2-8729-29c5f3fbdcec",
   "metadata": {},
   "source": [
    "### Check for uniqueness."
   ]
  },
  {
   "cell_type": "code",
   "execution_count": 7,
   "id": "d7f0cf47-0cf3-4e9d-adb3-71724b95d0e9",
   "metadata": {},
   "outputs": [],
   "source": [
    "targetphot_potential_id = [targetphotid(x, y, z) for x, y, z in zip(targetphot_potential['TARGETID'], targetphot_potential['TILEID'], targetphot_potential['SURVEY'])]"
   ]
  },
  {
   "cell_type": "code",
   "execution_count": 8,
   "id": "8a160f2a-da66-4443-92c0-860cbf461770",
   "metadata": {},
   "outputs": [],
   "source": [
    "targetphot_id = [targetphotid(x, y, z) for x, y, z in zip(targetphot['TARGETID'], targetphot['TILEID'], targetphot['SURVEY'])]"
   ]
  },
  {
   "cell_type": "code",
   "execution_count": null,
   "id": "38c56213-8671-4196-9544-1eb78662cd3c",
   "metadata": {},
   "outputs": [],
   "source": [
    "for t in targetphot_id:\n",
    "    assert t in targetphot_potential_id"
   ]
  },
  {
   "cell_type": "code",
   "execution_count": 16,
   "id": "2fbb1f33-8509-45a5-ba2c-82ba7789e3f7",
   "metadata": {},
   "outputs": [
    {
     "ename": "KeyboardInterrupt",
     "evalue": "",
     "output_type": "error",
     "traceback": [
      "\u001b[0;31m---------------------------------------------------------------------------\u001b[0m",
      "\u001b[0;31mKeyboardInterrupt\u001b[0m                         Traceback (most recent call last)",
      "Input \u001b[0;32mIn [16]\u001b[0m, in \u001b[0;36m<module>\u001b[0;34m\u001b[0m\n\u001b[0;32m----> 1\u001b[0m \u001b[38;5;28;01mfor\u001b[39;00m a \u001b[38;5;129;01min\u001b[39;00m all_targetphotid:\n\u001b[1;32m      2\u001b[0m     \u001b[38;5;28;01massert\u001b[39;00m a \u001b[38;5;129;01min\u001b[39;00m targetphot_id\n",
      "\u001b[0;31mKeyboardInterrupt\u001b[0m: "
     ]
    }
   ],
   "source": [
    "for a in all_targetphotid:\n",
    "    assert a in targetphot_id"
   ]
  },
  {
   "cell_type": "markdown",
   "id": "a91250a4-3385-4817-8cbc-44f2895abe7d",
   "metadata": {},
   "source": [
    "### Do ztile files contain extraneous targets?"
   ]
  },
  {
   "cell_type": "code",
   "execution_count": null,
   "id": "7c9f9789-e1a0-446f-96c0-7708ccf55c7a",
   "metadata": {},
   "outputs": [],
   "source": [
    "ztile = Table.read(os.path.join(os.environ['DESI_SPECTRO_REDUX'], specprod, 'zcatalog', 'ztile-special-dark-cumulative.fits'), hdu='ZCATALOG')"
   ]
  },
  {
   "cell_type": "code",
   "execution_count": null,
   "id": "b5c7814b-22d4-451a-880f-ced9cd379334",
   "metadata": {},
   "outputs": [],
   "source": [
    "w = ztile['TARGETID'] > 0"
   ]
  },
  {
   "cell_type": "code",
   "execution_count": null,
   "id": "ba7b5478-cbb6-4621-8074-8b38847c4f45",
   "metadata": {},
   "outputs": [],
   "source": [
    "np.unique(ztile['TILEID'])"
   ]
  },
  {
   "cell_type": "code",
   "execution_count": null,
   "id": "6275cea2-7122-4250-9c98-45d0dee97307",
   "metadata": {},
   "outputs": [],
   "source": [
    "tid = [targetphotid(x, y, 'special') for x, y in zip(ztile['TARGETID'][w], ztile['TILEID'][w])]"
   ]
  },
  {
   "cell_type": "code",
   "execution_count": 13,
   "id": "172f3812-c26c-42af-9877-a5968569e963",
   "metadata": {},
   "outputs": [
    {
     "data": {
      "text/plain": [
       "81101"
      ]
     },
     "execution_count": 13,
     "metadata": {},
     "output_type": "execute_result"
    }
   ],
   "source": [
    "(158457821078535886096914448642 >> 64) & (2**32 - 1)"
   ]
  },
  {
   "cell_type": "code",
   "execution_count": 14,
   "id": "295a16f2-9e2c-47ec-9842-50af07fa8559",
   "metadata": {},
   "outputs": [
    {
     "data": {
      "text/plain": [
       "2"
      ]
     },
     "execution_count": 14,
     "metadata": {},
     "output_type": "execute_result"
    }
   ],
   "source": [
    "(158457821078535886096914448642 >> 64) >> 32"
   ]
  },
  {
   "cell_type": "code",
   "execution_count": 15,
   "id": "9a7cda0c-b80a-41ef-af3e-2dcf16f85512",
   "metadata": {},
   "outputs": [
    {
     "data": {
      "text/plain": [
       "616088991480938754"
      ]
     },
     "execution_count": 15,
     "metadata": {},
     "output_type": "execute_result"
    }
   ],
   "source": [
    "(158457821078535886096914448642) & (2**64 - 1)"
   ]
  },
  {
   "cell_type": "code",
   "execution_count": null,
   "id": "76550142-089d-4b31-8701-96a5db4f3d30",
   "metadata": {},
   "outputs": [],
   "source": [
    "ztile[ztile['TARGETID'] == 616088991480938754]"
   ]
  },
  {
   "cell_type": "code",
   "execution_count": null,
   "id": "6e62b331-a767-4798-a1b3-f20f083cfffe",
   "metadata": {},
   "outputs": [],
   "source": [
    "targetphot[targetphot['TARGETID'] == 616088991480938754]"
   ]
  },
  {
   "cell_type": "code",
   "execution_count": null,
   "id": "853c9acd-f59a-4c9e-96a0-293e0625c2c5",
   "metadata": {},
   "outputs": [],
   "source": [
    "targetphot_potential[targetphot_potential['TARGETID'] == 616088991480938754]"
   ]
  },
  {
   "cell_type": "code",
   "execution_count": null,
   "id": "ba61fadf-d3f1-482b-93b0-625781e5f8a4",
   "metadata": {},
   "outputs": [],
   "source": [
    "targetphot[targetphot['TILEID'] == 81101]"
   ]
  },
  {
   "cell_type": "markdown",
   "id": "c9add988-dfff-42fd-aa7f-c76ed271aa8f",
   "metadata": {},
   "source": [
    "### Test load targetphot files."
   ]
  },
  {
   "cell_type": "code",
   "execution_count": null,
   "id": "8f84400f-1b52-46fb-8d94-6de4ec925083",
   "metadata": {},
   "outputs": [],
   "source": [
    "os.environ['DESI_LOGLEVEL'] = 'DEBUG'\n",
    "dsr.log = get_logger()\n",
    "postgresql = dsr.setup_db(schema=specprod+'_target', overwrite=overwrite, hostname='nerscdb03.nersc.gov', verbose=True)"
   ]
  },
  {
   "cell_type": "code",
   "execution_count": null,
   "id": "52a969ba-08b9-4263-974a-c3a9c347f3df",
   "metadata": {},
   "outputs": [],
   "source": [
    "loader = [{'filepaths': [os.path.join('/global/cscratch1/sd/ioannis/photocatalog', os.environ['SPECPROD'], 'targetphot-{specprod}.fits'.format(specprod=os.environ['SPECPROD'])),\n",
    "                         os.path.join('/global/cscratch1/sd/ioannis/photocatalog', os.environ['SPECPROD'], 'targetphot-potential-targets-{specprod}.fits'.format(specprod=os.environ['SPECPROD'])),\n",
    "                         os.path.join('/global/cscratch1/sd/ioannis/photocatalog', os.environ['SPECPROD'], 'targetphot-missing-{specprod}.fits'.format(specprod=os.environ['SPECPROD']))],\n",
    "           'tcls': dsr.Target,\n",
    "           'hdu': 'TARGETPHOT',\n",
    "           'expand': {'DCHISQ': ('dchisq_psf', 'dchisq_rex', 'dchisq_dev', 'dchisq_exp', 'dchisq_ser',)},\n",
    "           'q3c': 'ra',\n",
    "           'chunksize': 100000,\n",
    "           'maxrows': 0\n",
    "           },]\n"
   ]
  },
  {
   "cell_type": "code",
   "execution_count": null,
   "id": "052fcea4-b3d1-4b7e-bfd3-d1b83c373545",
   "metadata": {},
   "outputs": [],
   "source": [
    "dsr.load_file(**(loader[0]))"
   ]
  },
  {
   "cell_type": "markdown",
   "id": "efa8d4e9-e175-4c3a-8565-1b0666fbb00f",
   "metadata": {},
   "source": [
    "## Consistency checks on exposures, frames and tiles\n",
    "\n",
    "### Load two versions of tiles file"
   ]
  },
  {
   "cell_type": "code",
   "execution_count": null,
   "id": "2e830b1d-5977-4bca-a9a0-6abdbd67e455",
   "metadata": {},
   "outputs": [],
   "source": [
    "tiles_fits = Table.read(os.path.join(os.environ['DESI_SPECTRO_REDUX'], specprod, f'tiles-{specprod}.fits'), hdu='TILE_COMPLETENESS')"
   ]
  },
  {
   "cell_type": "code",
   "execution_count": null,
   "id": "12acbace-7abc-4c5c-812e-457c51a1b425",
   "metadata": {},
   "outputs": [],
   "source": [
    "tiles_fits"
   ]
  },
  {
   "cell_type": "code",
   "execution_count": null,
   "id": "343d4c9b-c526-41ac-bcd0-e9ae7d45b843",
   "metadata": {},
   "outputs": [],
   "source": [
    "tiles_csv = Table.read(os.path.join(os.environ['DESI_SPECTRO_REDUX'], specprod, f'tiles-{specprod}.csv'), format='ascii.csv')"
   ]
  },
  {
   "cell_type": "code",
   "execution_count": null,
   "id": "92b98046-936f-47ea-b31b-f359529e5314",
   "metadata": {},
   "outputs": [],
   "source": [
    "tiles_csv"
   ]
  },
  {
   "cell_type": "markdown",
   "id": "f573580f-4f3e-4c3a-805e-260e45475a74",
   "metadata": {},
   "source": [
    "### Are the two tiles files self-consistent?"
   ]
  },
  {
   "cell_type": "code",
   "execution_count": null,
   "id": "f686e391-684c-4eea-bbed-362d483a55cf",
   "metadata": {},
   "outputs": [],
   "source": [
    "for row in range(len(tiles_fits)):\n",
    "    for col in tiles_fits.colnames:\n",
    "        try:\n",
    "            assert tiles_fits[row][col] == tiles_csv[row][col]\n",
    "        except AssertionError:\n",
    "            print(tiles_fits[row]['TILEID'], col, tiles_fits[row][col], tiles_csv[row][col])"
   ]
  },
  {
   "cell_type": "markdown",
   "id": "6a96ab51-8a1f-4999-a963-93271238fdbe",
   "metadata": {},
   "source": [
    "### Load two versions of exposures file"
   ]
  },
  {
   "cell_type": "code",
   "execution_count": null,
   "id": "3e6b75c5-c6c4-437c-b067-aabccbc428b7",
   "metadata": {},
   "outputs": [],
   "source": [
    "exposures_fits = Table.read(os.path.join(os.environ['DESI_SPECTRO_REDUX'], specprod, f'exposures-{specprod}.fits'), hdu='EXPOSURES')\n",
    "frames = Table.read(os.path.join(os.environ['DESI_SPECTRO_REDUX'], specprod, f'exposures-{specprod}.fits'), hdu='FRAMES')"
   ]
  },
  {
   "cell_type": "code",
   "execution_count": null,
   "id": "6755781c-9489-40ee-94ea-84b1d2262f18",
   "metadata": {},
   "outputs": [],
   "source": [
    "exposures_fits"
   ]
  },
  {
   "cell_type": "code",
   "execution_count": null,
   "id": "f5ea1dd7-06b3-459d-9470-63bdaecfd2b8",
   "metadata": {},
   "outputs": [],
   "source": [
    "exposures_csv = Table.read(os.path.join(os.environ['DESI_SPECTRO_REDUX'], specprod, f'exposures-{specprod}.csv'), format='ascii.csv')"
   ]
  },
  {
   "cell_type": "code",
   "execution_count": null,
   "id": "3e64da96-c685-40b0-ac89-d4e43fc8b00c",
   "metadata": {},
   "outputs": [],
   "source": [
    "exposures_csv"
   ]
  },
  {
   "cell_type": "markdown",
   "id": "8fc8ca4d-5819-489c-9516-1483c11feace",
   "metadata": {},
   "source": [
    "### Are the two exposures files self-consistent?"
   ]
  },
  {
   "cell_type": "code",
   "execution_count": null,
   "id": "f27603c5-7863-4988-a3c6-e6989217db23",
   "metadata": {},
   "outputs": [],
   "source": [
    "for row in range(len(exposures_fits)):\n",
    "    for col in exposures_fits.colnames:\n",
    "        try:\n",
    "            assert exposures_fits[row][col] == exposures_csv[row][col]\n",
    "        except AssertionError:\n",
    "            try:\n",
    "                assert np.around(exposures_fits[row][col].astype(float), 1) == exposures_csv[row][col]\n",
    "            except AssertionError:\n",
    "                try:\n",
    "                    assert np.around(exposures_fits[row][col].astype(float), 2) == exposures_csv[row][col]\n",
    "                except AssertionError:\n",
    "                    try:\n",
    "                        assert np.around(exposures_fits[row][col].astype(float), 3) == exposures_csv[row][col]\n",
    "                    except AssertionError:\n",
    "                        print(exposures_fits[row]['TILEID'], col, exposures_fits[row][col], exposures_csv[row][col])"
   ]
  },
  {
   "cell_type": "markdown",
   "id": "a91ba1ab-7b13-4694-b062-0b0a27e36527",
   "metadata": {},
   "source": [
    "### What programs are present?"
   ]
  },
  {
   "cell_type": "code",
   "execution_count": null,
   "id": "74b5f559-6653-4430-8e66-e9547fc412d6",
   "metadata": {},
   "outputs": [],
   "source": [
    "np.unique(faflavor2program(exposures_fits['FAFLAVOR']))"
   ]
  },
  {
   "cell_type": "code",
   "execution_count": null,
   "id": "11a4b3c9-6247-47d0-bf4e-803c01872ed4",
   "metadata": {},
   "outputs": [],
   "source": [
    "np.unique(exposures_fits['PROGRAM'])"
   ]
  },
  {
   "cell_type": "code",
   "execution_count": null,
   "id": "0121a508-0f11-4ba4-8522-0e67cc989df3",
   "metadata": {},
   "outputs": [],
   "source": [
    "np.unique(exposures_fits['GOALTYPE'])"
   ]
  },
  {
   "cell_type": "code",
   "execution_count": null,
   "id": "272e572f-549a-4bc7-935c-7b0bbd2c35e3",
   "metadata": {},
   "outputs": [],
   "source": [
    "np.unique(faflavor2program(tiles_fits['FAFLAVOR']))"
   ]
  },
  {
   "cell_type": "code",
   "execution_count": null,
   "id": "ff11d5ab-6d7c-4492-aa1c-01c16739f918",
   "metadata": {},
   "outputs": [],
   "source": [
    "np.unique(tiles_fits['PROGRAM'])"
   ]
  },
  {
   "cell_type": "code",
   "execution_count": null,
   "id": "76cf758a-1cdf-43c3-bf69-30149cdaf14d",
   "metadata": {},
   "outputs": [],
   "source": [
    "assert (faflavor2program(tiles_fits['FAFLAVOR']) == tiles_fits['PROGRAM']).all"
   ]
  },
  {
   "cell_type": "code",
   "execution_count": null,
   "id": "4f95a003-b240-4b4a-b909-66780a1fd323",
   "metadata": {},
   "outputs": [],
   "source": [
    "program = faflavor2program(exposures_fits['FAFLAVOR'])\n",
    "assert (exposures_fits['PROGRAM'] == program).all()"
   ]
  },
  {
   "cell_type": "code",
   "execution_count": null,
   "id": "8b50131c-661c-40e2-b9fd-4ee92f49cf02",
   "metadata": {},
   "outputs": [],
   "source": [
    "for survey in np.unique(exposures_fits['SURVEY']):\n",
    "    print(f\"'{survey}': \", np.unique(program[exposures_fits['SURVEY'] == survey]).tolist(), ',', sep='')"
   ]
  },
  {
   "cell_type": "markdown",
   "id": "1fe04bdc-88d9-45e1-9e16-a97d179b0c10",
   "metadata": {},
   "source": [
    "### Compare frames to exposures"
   ]
  },
  {
   "cell_type": "code",
   "execution_count": null,
   "id": "83e4b603-fab5-4efe-ba5a-1dabbd3bb986",
   "metadata": {},
   "outputs": [],
   "source": [
    "for expid in frames['EXPID']:\n",
    "    assert expid in exposures_fits['EXPID']"
   ]
  },
  {
   "cell_type": "code",
   "execution_count": null,
   "id": "54804170-12ad-4ca2-b941-b95b397fc960",
   "metadata": {},
   "outputs": [],
   "source": [
    "for k, expid in enumerate(exposures_fits['EXPID']):\n",
    "    assert (frames['NIGHT'][frames['EXPID'] == expid] == exposures_fits[k]['NIGHT']).all()\n",
    "    assert (frames['TILEID'][frames['EXPID'] == expid] == exposures_fits[k]['TILEID']).all()\n",
    "    assert (frames['TILERA'][frames['EXPID'] == expid] == exposures_fits[k]['TILERA']).all()\n",
    "    assert (frames['TILEDEC'][frames['EXPID'] == expid] == exposures_fits[k]['TILEDEC']).all()\n",
    "    assert (frames['AIRMASS'][frames['EXPID'] == expid] == exposures_fits[k]['AIRMASS']).all()\n",
    "    assert (frames['SEEING_ETC'][frames['EXPID'] == expid] == exposures_fits[k]['SEEING_ETC']).all()\n",
    "    try:\n",
    "        assert (frames['EFFTIME_ETC'][frames['EXPID'] == expid] == exposures_fits[k]['EFFTIME_ETC']).all()\n",
    "    except AssertionError:\n",
    "        print('EFFTIME_ETC', expid, exposures_fits[k]['TILEID'], exposures_fits[k]['EFFTIME_ETC'], frames[column][frames['EFFTIME_ETC'] == expid].tolist())\n",
    "    # assert (frames['TSNR2_GPBDARK'][frames['EXPID'] == expid] == exposures_fits[k]['TSNR2_GPBDARK']).all()\n",
    "    # assert (frames['TSNR2_ELG'][frames['EXPID'] == expid] == exposures_fits[k]['TSNR2_ELG']).all()\n",
    "    # assert (frames['TSNR2_GPBBRIGHT'][frames['EXPID'] == expid] == exposures_fits[k]['TSNR2_GPBBRIGHT']).all()\n",
    "    # assert (frames['TSNR2_LYA'][frames['EXPID'] == expid] == exposures_fits[k]['TSNR2_LYA']).all()\n",
    "    # assert (frames['TSNR2_BGS'][frames['EXPID'] == expid] == exposures_fits[k]['TSNR2_BGS']).all()\n",
    "    # assert (frames['TSNR2_GPBBACKUP'][frames['EXPID'] == expid] == exposures_fits[k]['TSNR2_GPBBACKUP']).all()\n",
    "    # assert (frames['TSNR2_QSO'][frames['EXPID'] == expid] == exposures_fits[k]['TSNR2_QSO']).all()\n",
    "    # assert (frames['TSNR2_LRG'][frames['EXPID'] == expid] == exposures_fits[k]['TSNR2_LRG']).all()\n",
    "    assert (frames['SURVEY'][frames['EXPID'] == expid] == exposures_fits[k]['SURVEY']).all()\n",
    "    assert (frames['GOALTYPE'][frames['EXPID'] == expid] == exposures_fits[k]['GOALTYPE']).all()\n",
    "    assert (frames['FAPRGRM'][frames['EXPID'] == expid] == exposures_fits[k]['FAPRGRM']).all()\n",
    "    assert (frames['FAFLAVOR'][frames['EXPID'] == expid] == exposures_fits[k]['FAFLAVOR']).all()\n",
    "    assert (frames['MINTFRAC'][frames['EXPID'] == expid] == exposures_fits[k]['MINTFRAC']).all()\n",
    "    for column in ('MJD', 'EXPTIME', 'GOALTIME'):\n",
    "        if column == 'GOALTIME' and (frames[column][frames['EXPID'] == expid] == 0).all():\n",
    "            print(f\"GOALTIME discrepancy for {expid}.\")\n",
    "        else:\n",
    "            try:\n",
    "                assert (np.around(frames[column][frames['EXPID'] == expid], 2) == np.around(exposures_fits[k][column], 2)).all()\n",
    "            except AssertionError:\n",
    "                try:\n",
    "                    assert (np.around(frames[column][frames['EXPID'] == expid], 3) == np.around(exposures_fits[k][column], 3)).all()\n",
    "                except AssertionError:\n",
    "                    try:\n",
    "                        assert (np.around(frames[column][frames['EXPID'] == expid], 4) == np.around(exposures_fits[k][column], 4)).all()\n",
    "                    except AssertionError:\n",
    "                        pass\n",
    "                        # print(column, expid, exposures_fits[k][column], frames[column][frames['EXPID'] == expid].tolist())"
   ]
  },
  {
   "cell_type": "markdown",
   "id": "b92b7ec3-bc0e-4877-aea5-d39c20c61cb8",
   "metadata": {},
   "source": [
    "### Compare tiles to exposures"
   ]
  },
  {
   "cell_type": "code",
   "execution_count": null,
   "id": "d6ae2ed6-597f-43e1-886b-109d632edbc4",
   "metadata": {},
   "outputs": [],
   "source": [
    "for row in tiles_fits:\n",
    "    w = exposures_fits['TILEID'] == row['TILEID']\n",
    "    assert len(exposures_fits[w]) == row['NEXP']\n",
    "    for column in ('SURVEY', 'FAPRGRM', 'FAFLAVOR', 'GOALTYPE'):\n",
    "        try:\n",
    "            assert (exposures_fits[w][column] == row[column]).all()\n",
    "        except AssertionError:\n",
    "            print(row['TILEID'], row[column])\n",
    "            print(exposures_fits[w][column])\n",
    "    for column in ('TILERA', 'TILEDEC'):\n",
    "        try:\n",
    "            assert (np.around(exposures_fits[w][column], 2) == row[column]).all()\n",
    "        except AssertionError:\n",
    "            try:\n",
    "                assert (np.around(exposures_fits[w][column], 3) == row[column]).all()\n",
    "            except AssertionError:\n",
    "                assert (np.around(exposures_fits[w][column], 4) == row[column]).all()\n",
    "    for column in ('EXPTIME', 'EFFTIME_SPEC', 'LRG_EFFTIME_DARK', 'ELG_EFFTIME_DARK', 'BGS_EFFTIME_BRIGHT', 'LYA_EFFTIME_DARK'):\n",
    "        try:\n",
    "            assert np.allclose(np.around(exposures_fits[w][column].sum(), 1), row[column])\n",
    "        except AssertionError:\n",
    "            print(row['TILEID'], row[column])\n",
    "            print(column, np.around(exposures_fits[w][column].sum(), 1))\n",
    "    for column in ('EFFTIME_ETC', 'EFFTIME_GFA'):\n",
    "        if (exposures_fits[w][column] == 0).any():\n",
    "            assert row[column] == 0\n",
    "        else:\n",
    "            try:\n",
    "                assert np.allclose(np.around(exposures_fits[w][column].sum(), 1), row[column])\n",
    "            except AssertionError:\n",
    "                print(row['TILEID'], row[column])\n",
    "                print(column, np.around(exposures_fits[w][column].sum(), 1))\n",
    "    for column in ('GOALTIME', 'MINTFRAC'):\n",
    "        try:\n",
    "            assert np.allclose(np.around(exposures_fits[w][column], 1), row[column])\n",
    "        except AssertionError:\n",
    "            try:\n",
    "                assert np.allclose(np.around(exposures_fits[w][column], 2), row[column])\n",
    "            except AssertionError:\n",
    "                print(row['TILEID'], row[column])\n",
    "                print(column, np.round(exposures_fits[w][column], decimals=1))\n",
    "    \n",
    "    assert exposures_fits[w]['NIGHT'].max() == row['LASTNIGHT']"
   ]
  },
  {
   "cell_type": "code",
   "execution_count": null,
   "id": "1d04e4f9-32a4-442b-bd29-7047e1c2a3a3",
   "metadata": {},
   "outputs": [],
   "source": []
  }
 ],
 "metadata": {
  "kernelspec": {
   "display_name": "DESI custom",
   "language": "python",
   "name": "desi-custom"
  },
  "language_info": {
   "codemirror_mode": {
    "name": "ipython",
    "version": 3
   },
   "file_extension": ".py",
   "mimetype": "text/x-python",
   "name": "python",
   "nbconvert_exporter": "python",
   "pygments_lexer": "ipython3",
   "version": "3.9.7"
  }
 },
 "nbformat": 4,
 "nbformat_minor": 5
}
