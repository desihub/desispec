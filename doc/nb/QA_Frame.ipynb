{
 "cells": [
  {
   "cell_type": "markdown",
   "metadata": {},
   "source": [
    "# Developing/Testing QA Frame Class (v1.1)"
   ]
  },
  {
   "cell_type": "code",
   "execution_count": 1,
   "metadata": {
    "collapsed": false
   },
   "outputs": [],
   "source": [
    "# imports\n",
    "from desispec.qa import qa_exposure as qa_exp\n",
    "from desispec.io import qa as desio_qa"
   ]
  },
  {
   "cell_type": "markdown",
   "metadata": {},
   "source": [
    "## Instantiate"
   ]
  },
  {
   "cell_type": "code",
   "execution_count": 3,
   "metadata": {
    "collapsed": false
   },
   "outputs": [
    {
     "name": "stdout",
     "output_type": "stream",
     "text": [
      "QA_Frame: camera=none, flavor=arc\n"
     ]
    }
   ],
   "source": [
    "reload(qa_exp)\n",
    "qaframe = qa_exp.QA_Frame(flavor='arc')\n",
    "print(qaframe)"
   ]
  },
  {
   "cell_type": "markdown",
   "metadata": {},
   "source": [
    "## Init SkySub"
   ]
  },
  {
   "cell_type": "code",
   "execution_count": 5,
   "metadata": {
    "collapsed": false
   },
   "outputs": [
    {
     "name": "stdout",
     "output_type": "stream",
     "text": [
      "{u'SKYSUB': {u'PARAM': {'PCHI_RESID': 0.05}}, 'flavor': 'science', 'camera': u'none'}\n"
     ]
    }
   ],
   "source": [
    "reload(qa_exp)\n",
    "qaframe = qa_exp.QA_Frame(flavor='science')\n",
    "qaframe.init_skysub()\n",
    "print(qaframe.data)"
   ]
  },
  {
   "cell_type": "markdown",
   "metadata": {},
   "source": [
    "## I/O"
   ]
  },
  {
   "cell_type": "code",
   "execution_count": 6,
   "metadata": {
    "collapsed": true
   },
   "outputs": [],
   "source": [
    "from desispec.io import read_qa_frame"
   ]
  },
  {
   "cell_type": "code",
   "execution_count": 7,
   "metadata": {
    "collapsed": false
   },
   "outputs": [
    {
     "data": {
      "text/plain": [
       "<module 'desispec.io.qa' from '/Users/xavier/DESI/desispec/py/desispec/io/qa.pyc'>"
      ]
     },
     "execution_count": 7,
     "metadata": {},
     "output_type": "execute_result"
    }
   ],
   "source": [
    "reload(desio_qa)"
   ]
  },
  {
   "cell_type": "code",
   "execution_count": 8,
   "metadata": {
    "collapsed": false
   },
   "outputs": [
    {
     "data": {
      "text/plain": [
       "'tmp.yaml'"
      ]
     },
     "execution_count": 8,
     "metadata": {},
     "output_type": "execute_result"
    }
   ],
   "source": [
    "desio_qa.write_qa_frame('tmp.yaml', qaframe)"
   ]
  },
  {
   "cell_type": "code",
   "execution_count": 9,
   "metadata": {
    "collapsed": false
   },
   "outputs": [],
   "source": [
    "qaframe = desio_qa.read_qa_frame('tmp.yaml')"
   ]
  },
  {
   "cell_type": "code",
   "execution_count": 10,
   "metadata": {
    "collapsed": false
   },
   "outputs": [
    {
     "data": {
      "text/plain": [
       "QA_Frame: camera=none, flavor=science"
      ]
     },
     "execution_count": 10,
     "metadata": {},
     "output_type": "execute_result"
    }
   ],
   "source": [
    "qaframe"
   ]
  },
  {
   "cell_type": "markdown",
   "metadata": {},
   "source": [
    "## Test FiberFlat QA"
   ]
  },
  {
   "cell_type": "markdown",
   "metadata": {},
   "source": [
    "### On JXP laptop first\n",
    "\n",
    "    desi_compute_fiberflat.py \\\n",
    "        --infile /Users/xavier/DESI/TST/dogwood/exposures/20150211/00000001/frame-b0-00000001.fits \\\n",
    "        --outfile /Users/xavier/DESI/TST/dogwood/calib2d/20150211/jxp-fflat-b0-00000001.fits \\\n",
    "        --fibermap /Users/xavier/DESI/TST/data/20150211/fibermap-00000002.fits \\\n",
    "        --qafile /Users/xavier/DESI/TST/dogwood/exposures/20150211/00000001/qa-b0-00000001.yaml \\\n",
    "        --qafig /Users/xavier/DESI/TST/dogwood/exposures/20150211/00000001/qa-fflat-b0-00000001.pdf"
   ]
  },
  {
   "cell_type": "markdown",
   "metadata": {},
   "source": [
    "### Now Edison (see below for setup)"
   ]
  },
  {
   "cell_type": "code",
   "execution_count": null,
   "metadata": {
    "collapsed": true
   },
   "outputs": [],
   "source": []
  },
  {
   "cell_type": "markdown",
   "metadata": {},
   "source": [
    "## Test SkySub QA"
   ]
  },
  {
   "cell_type": "markdown",
   "metadata": {},
   "source": [
    "### On JXP laptop first\n",
    "\n",
    "    desi_compute_sky.py \\\n",
    "        --infile /Users/xavier/DESI/TST/dogwood/exposures/20150211/00000002/frame-b0-00000002.fits \\\n",
    "        --fibermap /Users/xavier/DESI/TST/data/20150211/fibermap-00000002.fits \\\n",
    "        --fiberflat /Users/xavier/DESI/TST/dogwood/calib2d/20150211/fiberflat-b0-00000001.fits \\\n",
    "        --outfile /Users/xavier/DESI/TST/dogwood/exposures/20150211/00000002/sky2-b0-00000002.fits \\\n",
    "        --qafile /Users/xavier/DESI/TST/dogwood/exposures/20150211/00000002/qa-b0-00000002.yaml \\\n",
    "        --qafig /Users/xavier/DESI/TST/dogwood/exposures/20150211/00000002/qa-b0-00000002.pdf \\\n",
    "        > tmp.log"
   ]
  },
  {
   "cell_type": "code",
   "execution_count": 11,
   "metadata": {
    "collapsed": false
   },
   "outputs": [
    {
     "data": {
      "text/plain": [
       "{u'SKYSUB': {u'PARAM': {'PCHI_RESID': 0.05},\n",
       "  u'QA': {'MED_RESID': 0.7486834745211439, 'NBAD_PCHI': 38, 'NSKY_FIB': 45}},\n",
       " 'camera': 'b0',\n",
       " 'flavor': 'science'}"
      ]
     },
     "execution_count": 11,
     "metadata": {},
     "output_type": "execute_result"
    }
   ],
   "source": [
    "# Read and print\n",
    "qaframe = desio_qa.read_qa_frame('/Users/xavier/DESI/TST/dogwood/exposures/20150211/00000002/qa-b0-00000002.yaml')\n",
    "qaframe.data"
   ]
  },
  {
   "cell_type": "markdown",
   "metadata": {},
   "source": [
    "### Now Edison\n",
    "    [edison ~] source env.sh\n",
    "    [edison ~] cd Python/desispec\n",
    "    [edison ~] git pull\n",
    "    [edison ~] cd\n",
    "    [edison ~] module use ~xavier/modules\n",
    "    [edison ~] module switch desispec/qa_exposure\n",
    "    [edison ~] cd qa_test\n",
    "\n",
    "    desi_compute_sky.py \\\n",
    "        --infile /project/projectdirs/desi/spectro/redux/sjb/dogwood/exposures/20150211/00000002/frame-b0-00000002.fits \\\n",
    "        --fibermap /project/projectdirs/desi/spectro/sim/alpha-5/20150211/fibermap-00000002.fits \\\n",
    "        --fiberflat /project/projectdirs/desi/spectro/redux/sjb/dogwood/calib2d/20150211/fiberflat-b0-00000001.fits \\\n",
    "        --outfile sky-b0-00000002.fits \\\n",
    "        --qafile qa-b0-00000002.yaml \\\n",
    "        --qafig qa-b0-00000002.pdf \\        \n",
    "        > qa_tst.log\n"
   ]
  },
  {
   "cell_type": "code",
   "execution_count": null,
   "metadata": {
    "collapsed": true
   },
   "outputs": [],
   "source": []
  }
 ],
 "metadata": {
  "kernelspec": {
   "display_name": "Python 2",
   "language": "python",
   "name": "python2"
  },
  "language_info": {
   "codemirror_mode": {
    "name": "ipython",
    "version": 2
   },
   "file_extension": ".py",
   "mimetype": "text/x-python",
   "name": "python",
   "nbconvert_exporter": "python",
   "pygments_lexer": "ipython2",
   "version": "2.7.11"
  }
 },
 "nbformat": 4,
 "nbformat_minor": 0
}
