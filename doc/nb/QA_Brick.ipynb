{
 "cells": [
  {
   "cell_type": "markdown",
   "metadata": {},
   "source": [
    "# QA_Brick"
   ]
  },
  {
   "cell_type": "code",
   "execution_count": 1,
   "metadata": {
    "collapsed": false
   },
   "outputs": [
    {
     "name": "stderr",
     "output_type": "stream",
     "text": [
      "/Users/xavier/anaconda/lib/python2.7/site-packages/matplotlib/__init__.py:1350: UserWarning:  This call to matplotlib.use() has no effect\n",
      "because the backend has already been chosen;\n",
      "matplotlib.use() must be called *before* pylab, matplotlib.pyplot,\n",
      "or matplotlib.backends is imported for the first time.\n",
      "\n",
      "  warnings.warn(_use_error_msg)\n"
     ]
    }
   ],
   "source": [
    "# imports\n",
    "from desispec import io\n",
    "from desispec.io import zfind as io_zfind\n",
    "from desispec.io.qa import load_qa_brick, write_qa_brick\n",
    "from desispec.qa import qa_plots as qap"
   ]
  },
  {
   "cell_type": "markdown",
   "metadata": {},
   "source": [
    "## ZBest"
   ]
  },
  {
   "cell_type": "markdown",
   "metadata": {},
   "source": [
    "### Load"
   ]
  },
  {
   "cell_type": "code",
   "execution_count": 2,
   "metadata": {
    "collapsed": true
   },
   "outputs": [],
   "source": [
    "zb_file = '/Users/xavier/DESI/TST/dogwood/bricks/3587p000/zbest-3587p000.fits'"
   ]
  },
  {
   "cell_type": "code",
   "execution_count": 3,
   "metadata": {
    "collapsed": false
   },
   "outputs": [
    {
     "data": {
      "text/plain": [
       "172"
      ]
     },
     "execution_count": 3,
     "metadata": {},
     "output_type": "execute_result"
    }
   ],
   "source": [
    "zbest = io_zfind.read_zbest(zb_file)\n",
    "zbest.nspec"
   ]
  },
  {
   "cell_type": "code",
   "execution_count": 4,
   "metadata": {
    "collapsed": false
   },
   "outputs": [
    {
     "name": "stderr",
     "output_type": "stream",
     "text": [
      "/Users/xavier/DESI/desispec/py/desispec/io/brick.py:29: UserWarning: Deriving channel and brickname from filename brick-b-3587p000.fits instead of contents\n",
      "  warnings.warn('Deriving channel and brickname from filename {} instead of contents'.format(filename))\n",
      "/Users/xavier/DESI/desispec/py/desispec/io/brick.py:29: UserWarning: Deriving channel and brickname from filename brick-r-3587p000.fits instead of contents\n",
      "  warnings.warn('Deriving channel and brickname from filename {} instead of contents'.format(filename))\n",
      "/Users/xavier/DESI/desispec/py/desispec/io/brick.py:29: UserWarning: Deriving channel and brickname from filename brick-z-3587p000.fits instead of contents\n",
      "  warnings.warn('Deriving channel and brickname from filename {} instead of contents'.format(filename))\n"
     ]
    }
   ],
   "source": [
    "# bricks\n",
    "brick = {}\n",
    "bb_file = '/Users/xavier/DESI/TST/dogwood/bricks/3587p000/brick-b-3587p000.fits'\n",
    "br_file = '/Users/xavier/DESI/TST/dogwood/bricks/3587p000/brick-r-3587p000.fits'\n",
    "bz_file = '/Users/xavier/DESI/TST/dogwood/bricks/3587p000/brick-z-3587p000.fits'\n",
    "brick['b'] = io.Brick(bb_file)\n",
    "brick['r'] = io.Brick(br_file)\n",
    "brick['z'] = io.Brick(bz_file)"
   ]
  },
  {
   "cell_type": "markdown",
   "metadata": {},
   "source": [
    "#### YAML"
   ]
  },
  {
   "cell_type": "code",
   "execution_count": 5,
   "metadata": {
    "collapsed": true
   },
   "outputs": [],
   "source": [
    "qafile = '/Users/xavier/DESI/TST/dogwood/bricks/3587p000/qa_3587p000.yaml'"
   ]
  },
  {
   "cell_type": "code",
   "execution_count": 6,
   "metadata": {
    "collapsed": false
   },
   "outputs": [
    {
     "name": "stdout",
     "output_type": "stream",
     "text": [
      "INFO:qa.py:98:load_qa_brick: Loaded QA file /Users/xavier/DESI/TST/dogwood/bricks/3587p000/qa_3587p000.yaml\n"
     ]
    },
    {
     "name": "stderr",
     "output_type": "stream",
     "text": [
      "INFO:DESI:Loaded QA file /Users/xavier/DESI/TST/dogwood/bricks/3587p000/qa_3587p000.yaml\n"
     ]
    },
    {
     "data": {
      "text/plain": [
       "QA_Brick: name=None"
      ]
     },
     "execution_count": 6,
     "metadata": {},
     "output_type": "execute_result"
    }
   ],
   "source": [
    "qabrick = load_qa_brick(qafile)\n",
    "qabrick"
   ]
  },
  {
   "cell_type": "code",
   "execution_count": 7,
   "metadata": {
    "collapsed": false
   },
   "outputs": [
    {
     "name": "stdout",
     "output_type": "stream",
     "text": [
      "WARNING:zfind.py:95:qa_zbest: High number of failed redshifts\n"
     ]
    },
    {
     "name": "stderr",
     "output_type": "stream",
     "text": [
      "WARNING:DESI:High number of failed redshifts\n"
     ]
    },
    {
     "name": "stdout",
     "output_type": "stream",
     "text": [
      "> /Users/xavier/DESI/desispec/py/desispec/zfind/zfind.py(132)qa_zbest()\n",
      "-> return qadict\n",
      "(Pdb) qadit\n",
      "*** NameError: name 'qadit' is not defined\n",
      "(Pdb) qadict\n",
      "{'MEDIAN_Z': 1.2417498717011353, 'NTYPE': {'STAR': 2, 'UNKWN': 0, 'LRG': 0, 'QSO': 26, 'ELG': 144, 'MATCH': 16}, 'NFAIL': 48, 'MEAN_Z': 1.2631667271401863}\n",
      "(Pdb) zf.type\n",
      "chararray(['ssp_em_galaxy', 'ssp_em_galaxy', 'ssp_em_galaxy', 'ssp_em_galaxy',\n",
      "       'ssp_em_galaxy', 'ssp_em_galaxy', 'ssp_em_galaxy', 'ssp_em_galaxy',\n",
      "       'ssp_em_galaxy', 'ssp_em_galaxy', 'ssp_em_galaxy', 'ssp_em_galaxy',\n",
      "       'ssp_em_galaxy', 'ssp_em_galaxy', 'ssp_em_galaxy', 'ssp_em_galaxy',\n",
      "       'ssp_em_galaxy', 'ssp_em_galaxy', 'ssp_em_galaxy', 'ssp_em_galaxy',\n",
      "       'ssp_em_galaxy', 'ssp_em_galaxy', 'ssp_em_galaxy', 'ssp_em_galaxy',\n",
      "       'QSO', 'ssp_em_galaxy', 'ssp_em_galaxy', 'ssp_em_galaxy',\n",
      "       'ssp_em_galaxy', 'ssp_em_galaxy', 'QSO', 'ssp_em_galaxy', 'QSO',\n",
      "       'ssp_em_galaxy', 'ssp_em_galaxy', 'ssp_em_galaxy', 'ssp_em_galaxy',\n",
      "       'ssp_em_galaxy', 'ssp_em_galaxy', 'ssp_em_galaxy', 'ssp_em_galaxy',\n",
      "       'QSO', 'ssp_em_galaxy', 'ssp_em_galaxy', 'ssp_em_galaxy',\n",
      "       'ssp_em_galaxy', 'ssp_em_galaxy', 'ssp_em_galaxy', 'QSO',\n",
      "       'ssp_em_galaxy', 'ssp_em_galaxy', 'ssp_em_galaxy', 'ssp_em_galaxy',\n",
      "       'ssp_em_galaxy', 'QSO', 'ssp_em_galaxy', 'ssp_em_galaxy',\n",
      "       'ssp_em_galaxy', 'ssp_em_galaxy', 'QSO', 'ssp_em_galaxy',\n",
      "       'ssp_em_galaxy', 'ssp_em_galaxy', 'ssp_em_galaxy', 'ssp_em_galaxy',\n",
      "       'ssp_em_galaxy', 'ssp_em_galaxy', 'ssp_em_galaxy', 'ssp_em_galaxy',\n",
      "       'ssp_em_galaxy', 'ssp_em_galaxy', 'ssp_em_galaxy', 'ssp_em_galaxy',\n",
      "       'QSO', 'ssp_em_galaxy', 'ssp_em_galaxy', 'ssp_em_galaxy',\n",
      "       'ssp_em_galaxy', 'ssp_em_galaxy', 'ssp_em_galaxy', 'ssp_em_galaxy',\n",
      "       'QSO', 'spEigenStar', 'QSO', 'ssp_em_galaxy', 'ssp_em_galaxy',\n",
      "       'QSO', 'QSO', 'ssp_em_galaxy', 'ssp_em_galaxy', 'ssp_em_galaxy',\n",
      "       'QSO', 'QSO', 'ssp_em_galaxy', 'ssp_em_galaxy', 'ssp_em_galaxy',\n",
      "       'ssp_em_galaxy', 'ssp_em_galaxy', 'QSO', 'ssp_em_galaxy',\n",
      "       'ssp_em_galaxy', 'ssp_em_galaxy', 'ssp_em_galaxy', 'ssp_em_galaxy',\n",
      "       'ssp_em_galaxy', 'QSO', 'ssp_em_galaxy', 'ssp_em_galaxy',\n",
      "       'ssp_em_galaxy', 'ssp_em_galaxy', 'ssp_em_galaxy', 'ssp_em_galaxy',\n",
      "       'QSO', 'QSO', 'ssp_em_galaxy', 'ssp_em_galaxy', 'spEigenStar',\n",
      "       'ssp_em_galaxy', 'ssp_em_galaxy', 'ssp_em_galaxy', 'ssp_em_galaxy',\n",
      "       'ssp_em_galaxy', 'QSO', 'ssp_em_galaxy', 'QSO', 'ssp_em_galaxy',\n",
      "       'ssp_em_galaxy', 'QSO', 'QSO', 'ssp_em_galaxy', 'ssp_em_galaxy',\n",
      "       'ssp_em_galaxy', 'ssp_em_galaxy', 'ssp_em_galaxy', 'ssp_em_galaxy',\n",
      "       'ssp_em_galaxy', 'QSO', 'ssp_em_galaxy', 'ssp_em_galaxy',\n",
      "       'ssp_em_galaxy', 'ssp_em_galaxy', 'QSO', 'ssp_em_galaxy',\n",
      "       'ssp_em_galaxy', 'ssp_em_galaxy', 'ssp_em_galaxy', 'QSO',\n",
      "       'ssp_em_galaxy', 'ssp_em_galaxy', 'ssp_em_galaxy', 'ssp_em_galaxy',\n",
      "       'ssp_em_galaxy', 'ssp_em_galaxy', 'ssp_em_galaxy', 'ssp_em_galaxy',\n",
      "       'ssp_em_galaxy', 'ssp_em_galaxy', 'ssp_em_galaxy', 'ssp_em_galaxy',\n",
      "       'ssp_em_galaxy', 'ssp_em_galaxy', 'ssp_em_galaxy', 'ssp_em_galaxy',\n",
      "       'QSO', 'ssp_em_galaxy', 'ssp_em_galaxy', 'ssp_em_galaxy',\n",
      "       'ssp_em_galaxy', 'ssp_em_galaxy', 'ssp_em_galaxy', 'ssp_em_galaxy',\n",
      "       'ssp_em_galaxy'], \n",
      "      dtype='|S20')\n",
      "(Pdb) btbl['OBJTYPE']\n",
      "chararray(['ELG', 'SKY', 'ELG', 'ELG', 'ELG', 'ELG', 'ELG', 'ELG', 'LRG',\n",
      "       'ELG', 'QSO', 'SKY', 'ELG', 'ELG', 'ELG', 'ELG', 'LRG', 'QSO',\n",
      "       'ELG', 'ELG', 'SKY', 'LRG', 'ELG', 'SKY', 'ELG', 'ELG', 'ELG',\n",
      "       'ELG', 'ELG', 'ELG', 'QSO', 'ELG', 'ELG', 'SKY', 'ELG', 'ELG',\n",
      "       'ELG', 'ELG', 'SKY', 'QSO', 'ELG', 'ELG', 'SKY', 'ELG', 'ELG',\n",
      "       'LRG', 'ELG', 'ELG', 'ELG', 'LRG', 'ELG', 'SKY', 'ELG', 'QSO',\n",
      "       'ELG', 'ELG', 'ELG', 'ELG', 'ELG', 'ELG', 'ELG', 'ELG', 'ELG',\n",
      "       'LRG', 'ELG', 'QSO', 'ELG', 'QSO', 'ELG', 'ELG', 'QSO', 'ELG',\n",
      "       'ELG', 'ELG', 'ELG', 'ELG', 'ELG', 'ELG', 'ELG', 'QSO', 'SKY',\n",
      "       'SKY', 'STD', 'ELG', 'ELG', 'LRG', 'ELG', 'SKY', 'ELG', 'ELG',\n",
      "       'ELG', 'ELG', 'ELG', 'ELG', 'LRG', 'ELG', 'QSO', 'SKY', 'ELG',\n",
      "       'ELG', 'ELG', 'ELG', 'LRG', 'QSO', 'ELG', 'ELG', 'SKY', 'LRG',\n",
      "       'ELG', 'SKY', 'ELG', 'ELG', 'ELG', 'ELG', 'ELG', 'ELG', 'QSO',\n",
      "       'ELG', 'ELG', 'SKY', 'ELG', 'ELG', 'ELG', 'ELG', 'SKY', 'QSO',\n",
      "       'ELG', 'ELG', 'SKY', 'ELG', 'ELG', 'LRG', 'ELG', 'ELG', 'ELG',\n",
      "       'LRG', 'ELG', 'SKY', 'ELG', 'QSO', 'ELG', 'ELG', 'ELG', 'ELG',\n",
      "       'ELG', 'ELG', 'ELG', 'ELG', 'ELG', 'LRG', 'ELG', 'QSO', 'ELG',\n",
      "       'QSO', 'ELG', 'ELG', 'QSO', 'ELG', 'ELG', 'ELG', 'ELG', 'ELG',\n",
      "       'ELG', 'ELG', 'ELG', 'QSO', 'SKY', 'SKY', 'STD', 'ELG', 'ELG',\n",
      "       'LRG', 'ELG', 'ELG', 'ELG', 'ELG', 'ELG', 'LRG', 'SKY', 'ELG',\n",
      "       'SKY', 'LRG', 'QSO', 'SKY', 'ELG', 'ELG', 'ELG', 'ELG', 'QSO',\n",
      "       'SKY', 'ELG', 'QSO', 'ELG', 'LRG', 'LRG', 'ELG', 'STD', 'ELG',\n",
      "       'QSO', 'ELG', 'ELG', 'ELG', 'ELG', 'ELG', 'LRG', 'ELG', 'QSO',\n",
      "       'ELG', 'QSO', 'ELG', 'ELG', 'ELG', 'LRG', 'LRG', 'ELG', 'ELG',\n",
      "       'ELG', 'ELG', 'ELG', 'ELG', 'ELG', 'SKY', 'QSO', 'SKY', 'ELG',\n",
      "       'LRG', 'ELG', 'QSO', 'ELG', 'QSO', 'SKY', 'SKY', 'SKY', 'ELG',\n",
      "       'ELG', 'ELG', 'ELG', 'LRG', 'ELG', 'ELG', 'ELG', 'ELG', 'ELG',\n",
      "       'ELG', 'ELG', 'ELG', 'ELG', 'ELG', 'ELG', 'SKY', 'QSO', 'ELG',\n",
      "       'ELG', 'SKY', 'ELG', 'LRG', 'ELG', 'ELG'], \n",
      "      dtype='|S10')\n",
      "(Pdb) exit\n"
     ]
    },
    {
     "ename": "BdbQuit",
     "evalue": "",
     "output_type": "error",
     "traceback": [
      "\u001b[0;31m---------------------------------------------------------------------------\u001b[0m",
      "\u001b[0;31mBdbQuit\u001b[0m                                   Traceback (most recent call last)",
      "\u001b[0;32m<ipython-input-7-a5950de9cb2c>\u001b[0m in \u001b[0;36m<module>\u001b[0;34m()\u001b[0m\n\u001b[0;32m----> 1\u001b[0;31m \u001b[0mqabrick\u001b[0m\u001b[0;34m.\u001b[0m\u001b[0mrun_qa\u001b[0m\u001b[0;34m(\u001b[0m\u001b[0;34m'ZBEST'\u001b[0m\u001b[0;34m,\u001b[0m \u001b[0;34m(\u001b[0m\u001b[0mzbest\u001b[0m\u001b[0;34m,\u001b[0m\u001b[0mbrick\u001b[0m\u001b[0;34m)\u001b[0m\u001b[0;34m)\u001b[0m\u001b[0;34m\u001b[0m\u001b[0m\n\u001b[0m",
      "\u001b[0;32m/Users/xavier/DESI/desispec/py/desispec/qa/qa_brick.py\u001b[0m in \u001b[0;36mrun_qa\u001b[0;34m(self, qatype, inputs, clobber)\u001b[0m\n\u001b[1;32m    104\u001b[0m             \u001b[0;31m# Run\u001b[0m\u001b[0;34m\u001b[0m\u001b[0;34m\u001b[0m\u001b[0m\n\u001b[1;32m    105\u001b[0m             \u001b[0mreload\u001b[0m\u001b[0;34m(\u001b[0m\u001b[0mzfind\u001b[0m\u001b[0;34m)\u001b[0m\u001b[0;34m\u001b[0m\u001b[0m\n\u001b[0;32m--> 106\u001b[0;31m             \u001b[0mqadict\u001b[0m \u001b[0;34m=\u001b[0m \u001b[0mzfind\u001b[0m\u001b[0;34m.\u001b[0m\u001b[0mqa_zbest\u001b[0m\u001b[0;34m(\u001b[0m\u001b[0mself\u001b[0m\u001b[0;34m.\u001b[0m\u001b[0mdata\u001b[0m\u001b[0;34m[\u001b[0m\u001b[0mqatype\u001b[0m\u001b[0;34m]\u001b[0m\u001b[0;34m[\u001b[0m\u001b[0;34m'PARAM'\u001b[0m\u001b[0;34m]\u001b[0m\u001b[0;34m,\u001b[0m \u001b[0minputs\u001b[0m\u001b[0;34m[\u001b[0m\u001b[0;36m0\u001b[0m\u001b[0;34m]\u001b[0m\u001b[0;34m,\u001b[0m \u001b[0minputs\u001b[0m\u001b[0;34m[\u001b[0m\u001b[0;36m1\u001b[0m\u001b[0;34m]\u001b[0m\u001b[0;34m)\u001b[0m\u001b[0;34m\u001b[0m\u001b[0m\n\u001b[0m\u001b[1;32m    107\u001b[0m         \u001b[0;32melse\u001b[0m\u001b[0;34m:\u001b[0m\u001b[0;34m\u001b[0m\u001b[0m\n\u001b[1;32m    108\u001b[0m             \u001b[0;32mraise\u001b[0m \u001b[0mValueError\u001b[0m\u001b[0;34m(\u001b[0m\u001b[0;34m'Not ready to perform {:s} QA'\u001b[0m\u001b[0;34m.\u001b[0m\u001b[0mformat\u001b[0m\u001b[0;34m(\u001b[0m\u001b[0mqatype\u001b[0m\u001b[0;34m)\u001b[0m\u001b[0;34m)\u001b[0m\u001b[0;34m\u001b[0m\u001b[0m\n",
      "\u001b[0;32m/Users/xavier/DESI/desispec/py/desispec/zfind/zfind.pyc\u001b[0m in \u001b[0;36mqa_zbest\u001b[0;34m(param, zf, brick)\u001b[0m\n\u001b[1;32m    130\u001b[0m     \u001b[0mpdb\u001b[0m\u001b[0;34m.\u001b[0m\u001b[0mset_trace\u001b[0m\u001b[0;34m(\u001b[0m\u001b[0;34m)\u001b[0m\u001b[0;34m\u001b[0m\u001b[0m\n\u001b[1;32m    131\u001b[0m     \u001b[0;31m# Return\u001b[0m\u001b[0;34m\u001b[0m\u001b[0;34m\u001b[0m\u001b[0m\n\u001b[0;32m--> 132\u001b[0;31m     \u001b[0;32mreturn\u001b[0m \u001b[0mqadict\u001b[0m\u001b[0;34m\u001b[0m\u001b[0m\n\u001b[0m",
      "\u001b[0;32m/Users/xavier/DESI/desispec/py/desispec/zfind/zfind.pyc\u001b[0m in \u001b[0;36mqa_zbest\u001b[0;34m(param, zf, brick)\u001b[0m\n\u001b[1;32m    130\u001b[0m     \u001b[0mpdb\u001b[0m\u001b[0;34m.\u001b[0m\u001b[0mset_trace\u001b[0m\u001b[0;34m(\u001b[0m\u001b[0;34m)\u001b[0m\u001b[0;34m\u001b[0m\u001b[0m\n\u001b[1;32m    131\u001b[0m     \u001b[0;31m# Return\u001b[0m\u001b[0;34m\u001b[0m\u001b[0;34m\u001b[0m\u001b[0m\n\u001b[0;32m--> 132\u001b[0;31m     \u001b[0;32mreturn\u001b[0m \u001b[0mqadict\u001b[0m\u001b[0;34m\u001b[0m\u001b[0m\n\u001b[0m",
      "\u001b[0;32m/Users/xavier/anaconda/lib/python2.7/bdb.pyc\u001b[0m in \u001b[0;36mtrace_dispatch\u001b[0;34m(self, frame, event, arg)\u001b[0m\n\u001b[1;32m     47\u001b[0m             \u001b[0;32mreturn\u001b[0m \u001b[0;31m# None\u001b[0m\u001b[0;34m\u001b[0m\u001b[0m\n\u001b[1;32m     48\u001b[0m         \u001b[0;32mif\u001b[0m \u001b[0mevent\u001b[0m \u001b[0;34m==\u001b[0m \u001b[0;34m'line'\u001b[0m\u001b[0;34m:\u001b[0m\u001b[0;34m\u001b[0m\u001b[0m\n\u001b[0;32m---> 49\u001b[0;31m             \u001b[0;32mreturn\u001b[0m \u001b[0mself\u001b[0m\u001b[0;34m.\u001b[0m\u001b[0mdispatch_line\u001b[0m\u001b[0;34m(\u001b[0m\u001b[0mframe\u001b[0m\u001b[0;34m)\u001b[0m\u001b[0;34m\u001b[0m\u001b[0m\n\u001b[0m\u001b[1;32m     50\u001b[0m         \u001b[0;32mif\u001b[0m \u001b[0mevent\u001b[0m \u001b[0;34m==\u001b[0m \u001b[0;34m'call'\u001b[0m\u001b[0;34m:\u001b[0m\u001b[0;34m\u001b[0m\u001b[0m\n\u001b[1;32m     51\u001b[0m             \u001b[0;32mreturn\u001b[0m \u001b[0mself\u001b[0m\u001b[0;34m.\u001b[0m\u001b[0mdispatch_call\u001b[0m\u001b[0;34m(\u001b[0m\u001b[0mframe\u001b[0m\u001b[0;34m,\u001b[0m \u001b[0marg\u001b[0m\u001b[0;34m)\u001b[0m\u001b[0;34m\u001b[0m\u001b[0m\n",
      "\u001b[0;32m/Users/xavier/anaconda/lib/python2.7/bdb.pyc\u001b[0m in \u001b[0;36mdispatch_line\u001b[0;34m(self, frame)\u001b[0m\n\u001b[1;32m     66\u001b[0m         \u001b[0;32mif\u001b[0m \u001b[0mself\u001b[0m\u001b[0;34m.\u001b[0m\u001b[0mstop_here\u001b[0m\u001b[0;34m(\u001b[0m\u001b[0mframe\u001b[0m\u001b[0;34m)\u001b[0m \u001b[0;32mor\u001b[0m \u001b[0mself\u001b[0m\u001b[0;34m.\u001b[0m\u001b[0mbreak_here\u001b[0m\u001b[0;34m(\u001b[0m\u001b[0mframe\u001b[0m\u001b[0;34m)\u001b[0m\u001b[0;34m:\u001b[0m\u001b[0;34m\u001b[0m\u001b[0m\n\u001b[1;32m     67\u001b[0m             \u001b[0mself\u001b[0m\u001b[0;34m.\u001b[0m\u001b[0muser_line\u001b[0m\u001b[0;34m(\u001b[0m\u001b[0mframe\u001b[0m\u001b[0;34m)\u001b[0m\u001b[0;34m\u001b[0m\u001b[0m\n\u001b[0;32m---> 68\u001b[0;31m             \u001b[0;32mif\u001b[0m \u001b[0mself\u001b[0m\u001b[0;34m.\u001b[0m\u001b[0mquitting\u001b[0m\u001b[0;34m:\u001b[0m \u001b[0;32mraise\u001b[0m \u001b[0mBdbQuit\u001b[0m\u001b[0;34m\u001b[0m\u001b[0m\n\u001b[0m\u001b[1;32m     69\u001b[0m         \u001b[0;32mreturn\u001b[0m \u001b[0mself\u001b[0m\u001b[0;34m.\u001b[0m\u001b[0mtrace_dispatch\u001b[0m\u001b[0;34m\u001b[0m\u001b[0m\n\u001b[1;32m     70\u001b[0m \u001b[0;34m\u001b[0m\u001b[0m\n",
      "\u001b[0;31mBdbQuit\u001b[0m: "
     ]
    }
   ],
   "source": [
    "qabrick.run_qa('ZBEST', (zbest,brick))"
   ]
  },
  {
   "cell_type": "code",
   "execution_count": 7,
   "metadata": {
    "collapsed": false
   },
   "outputs": [
    {
     "data": {
      "text/plain": [
       "{u'ZBEST': {u'PARAM': {'ELG_TYPES': [u'ssp_em_galaxy'],\n",
       "   'MAX_NFAIL': 10,\n",
       "   'QSO_TYPES': [u'QSO'],\n",
       "   'STAR_TYPES': [u'spEigenStar']},\n",
       "  u'QA': {'NFAIL': 48,\n",
       "   'NTYPE': {'ELG': 144, 'LRG': 0, 'QSO': 26, 'Star': 2, 'UNKWN': 0}}},\n",
       " 'name': u''}"
      ]
     },
     "execution_count": 7,
     "metadata": {},
     "output_type": "execute_result"
    }
   ],
   "source": [
    "qabrick.data"
   ]
  },
  {
   "cell_type": "code",
   "execution_count": 8,
   "metadata": {
    "collapsed": false
   },
   "outputs": [
    {
     "data": {
      "text/plain": [
       "'/Users/xavier/DESI/TST/dogwood/bricks/3587p000/qa_3587p000.yaml'"
      ]
     },
     "execution_count": 8,
     "metadata": {},
     "output_type": "execute_result"
    }
   ],
   "source": [
    "# Write\n",
    "write_qa_brick(qafile, qabrick)"
   ]
  },
  {
   "cell_type": "markdown",
   "metadata": {},
   "source": [
    "#### Plot"
   ]
  },
  {
   "cell_type": "code",
   "execution_count": 11,
   "metadata": {
    "collapsed": true
   },
   "outputs": [],
   "source": [
    "qafig = '/Users/xavier/DESI/TST/dogwood/bricks/3587p000/qa-zbest_3587p000.pdf'"
   ]
  },
  {
   "cell_type": "code",
   "execution_count": 17,
   "metadata": {
    "collapsed": false
   },
   "outputs": [
    {
     "name": "stdout",
     "output_type": "stream",
     "text": [
      "Wrote QA ZBEST file: /Users/xavier/DESI/TST/dogwood/bricks/3587p000/qa-zbest_3587p000.pdf\n"
     ]
    }
   ],
   "source": [
    "reload(qap)\n",
    "qap.brick_zbest(qafig, zbest, qabrick)"
   ]
  },
  {
   "cell_type": "code",
   "execution_count": null,
   "metadata": {
    "collapsed": true
   },
   "outputs": [],
   "source": []
  }
 ],
 "metadata": {
  "kernelspec": {
   "display_name": "Python 2",
   "language": "python",
   "name": "python2"
  },
  "language_info": {
   "codemirror_mode": {
    "name": "ipython",
    "version": 2
   },
   "file_extension": ".py",
   "mimetype": "text/x-python",
   "name": "python",
   "nbconvert_exporter": "python",
   "pygments_lexer": "ipython2",
   "version": "2.7.11"
  }
 },
 "nbformat": 4,
 "nbformat_minor": 0
}
