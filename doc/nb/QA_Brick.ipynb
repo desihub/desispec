{
 "cells": [
  {
   "cell_type": "markdown",
   "metadata": {},
   "source": [
    "# QA_Brick"
   ]
  },
  {
   "cell_type": "code",
   "execution_count": 1,
   "metadata": {
    "collapsed": false
   },
   "outputs": [
    {
     "name": "stderr",
     "output_type": "stream",
     "text": [
      "/Users/xavier/anaconda/lib/python2.7/site-packages/matplotlib/__init__.py:1350: UserWarning:  This call to matplotlib.use() has no effect\n",
      "because the backend has already been chosen;\n",
      "matplotlib.use() must be called *before* pylab, matplotlib.pyplot,\n",
      "or matplotlib.backends is imported for the first time.\n",
      "\n",
      "  warnings.warn(_use_error_msg)\n"
     ]
    }
   ],
   "source": [
    "# imports\n",
    "from desispec import io\n",
    "from desispec.io import zfind as io_zfind\n",
    "from desispec.io.qa import load_qa_brick, write_qa_brick\n",
    "from desispec.qa import qa_plots as qap"
   ]
  },
  {
   "cell_type": "markdown",
   "metadata": {},
   "source": [
    "## ZBest"
   ]
  },
  {
   "cell_type": "markdown",
   "metadata": {},
   "source": [
    "### Load"
   ]
  },
  {
   "cell_type": "code",
   "execution_count": 2,
   "metadata": {
    "collapsed": true
   },
   "outputs": [],
   "source": [
    "zb_file = '/Users/xavier/DESI/TST/dogwood/bricks/3587p000/zbest-3587p000.fits'"
   ]
  },
  {
   "cell_type": "code",
   "execution_count": 3,
   "metadata": {
    "collapsed": false
   },
   "outputs": [
    {
     "data": {
      "text/plain": [
       "172"
      ]
     },
     "execution_count": 3,
     "metadata": {},
     "output_type": "execute_result"
    }
   ],
   "source": [
    "zbest = io_zfind.read_zbest(zb_file)\n",
    "zbest.nspec"
   ]
  },
  {
   "cell_type": "code",
   "execution_count": 4,
   "metadata": {
    "collapsed": false
   },
   "outputs": [
    {
     "name": "stderr",
     "output_type": "stream",
     "text": [
      "/Users/xavier/DESI/desispec/py/desispec/io/brick.py:29: UserWarning: Deriving channel and brickname from filename brick-b-3587p000.fits instead of contents\n",
      "  warnings.warn('Deriving channel and brickname from filename {} instead of contents'.format(filename))\n",
      "/Users/xavier/DESI/desispec/py/desispec/io/brick.py:29: UserWarning: Deriving channel and brickname from filename brick-r-3587p000.fits instead of contents\n",
      "  warnings.warn('Deriving channel and brickname from filename {} instead of contents'.format(filename))\n",
      "/Users/xavier/DESI/desispec/py/desispec/io/brick.py:29: UserWarning: Deriving channel and brickname from filename brick-z-3587p000.fits instead of contents\n",
      "  warnings.warn('Deriving channel and brickname from filename {} instead of contents'.format(filename))\n"
     ]
    }
   ],
   "source": [
    "# bricks\n",
    "brick = {}\n",
    "bb_file = '/Users/xavier/DESI/TST/dogwood/bricks/3587p000/brick-b-3587p000.fits'\n",
    "br_file = '/Users/xavier/DESI/TST/dogwood/bricks/3587p000/brick-r-3587p000.fits'\n",
    "bz_file = '/Users/xavier/DESI/TST/dogwood/bricks/3587p000/brick-z-3587p000.fits'\n",
    "brick['b'] = io.Brick(bb_file)\n",
    "brick['r'] = io.Brick(br_file)\n",
    "brick['z'] = io.Brick(bz_file)"
   ]
  },
  {
   "cell_type": "markdown",
   "metadata": {},
   "source": [
    "#### YAML"
   ]
  },
  {
   "cell_type": "code",
   "execution_count": 5,
   "metadata": {
    "collapsed": true
   },
   "outputs": [],
   "source": [
    "qafile = '/Users/xavier/DESI/TST/dogwood/bricks/3587p000/qa_3587p000.yaml'"
   ]
  },
  {
   "cell_type": "code",
   "execution_count": 6,
   "metadata": {
    "collapsed": false
   },
   "outputs": [
    {
     "name": "stdout",
     "output_type": "stream",
     "text": [
      "INFO:qa.py:98:load_qa_brick: Loaded QA file /Users/xavier/DESI/TST/dogwood/bricks/3587p000/qa_3587p000.yaml\n"
     ]
    },
    {
     "name": "stderr",
     "output_type": "stream",
     "text": [
      "INFO:DESI:Loaded QA file /Users/xavier/DESI/TST/dogwood/bricks/3587p000/qa_3587p000.yaml\n"
     ]
    },
    {
     "data": {
      "text/plain": [
       "QA_Brick: name=None"
      ]
     },
     "execution_count": 6,
     "metadata": {},
     "output_type": "execute_result"
    }
   ],
   "source": [
    "qabrick = load_qa_brick(qafile)\n",
    "qabrick"
   ]
  },
  {
   "cell_type": "code",
   "execution_count": 7,
   "metadata": {
    "collapsed": false
   },
   "outputs": [
    {
     "name": "stdout",
     "output_type": "stream",
     "text": [
      "WARNING:zfind.py:93:qa_zbest: High number of failed redshifts 48\n"
     ]
    },
    {
     "name": "stderr",
     "output_type": "stream",
     "text": [
      "WARNING:DESI:High number of failed redshifts 48\n"
     ]
    }
   ],
   "source": [
    "qabrick.run_qa('ZBEST', (zbest,brick))"
   ]
  },
  {
   "cell_type": "code",
   "execution_count": 8,
   "metadata": {
    "collapsed": false
   },
   "outputs": [
    {
     "data": {
      "text/plain": [
       "{u'ZBEST': {u'PARAM': {'ELG_TYPES': [u'ssp_em_galaxy'],\n",
       "   'LRG_TYPES': [u'LRG'],\n",
       "   'MAX_NFAIL': 10,\n",
       "   'QSO_TYPES': [u'QSO'],\n",
       "   'STAR_TYPES': [u'spEigenStar']},\n",
       "  u'QA': {'MEAN_Z': 1.2631667271401863,\n",
       "   'MEDIAN_Z': 1.2417498717011353,\n",
       "   'NFAIL': 48,\n",
       "   'NTYPE': {'ELG': 144,\n",
       "    'LRG': 0,\n",
       "    'MATCH': 16,\n",
       "    'QSO': 26,\n",
       "    'STAR': 2,\n",
       "    'UNKWN': 0},\n",
       "   'RMS_Z': 0.498536172043196}},\n",
       " 'name': u''}"
      ]
     },
     "execution_count": 8,
     "metadata": {},
     "output_type": "execute_result"
    }
   ],
   "source": [
    "qabrick.data"
   ]
  },
  {
   "cell_type": "code",
   "execution_count": 9,
   "metadata": {
    "collapsed": false
   },
   "outputs": [
    {
     "data": {
      "text/plain": [
       "'/Users/xavier/DESI/TST/dogwood/bricks/3587p000/qa_3587p000.yaml'"
      ]
     },
     "execution_count": 9,
     "metadata": {},
     "output_type": "execute_result"
    }
   ],
   "source": [
    "# Write\n",
    "write_qa_brick(qafile, qabrick)"
   ]
  },
  {
   "cell_type": "markdown",
   "metadata": {},
   "source": [
    "#### Plot"
   ]
  },
  {
   "cell_type": "code",
   "execution_count": 10,
   "metadata": {
    "collapsed": true
   },
   "outputs": [],
   "source": [
    "qafig = '/Users/xavier/DESI/TST/dogwood/bricks/3587p000/qa-zbest_3587p000.pdf'"
   ]
  },
  {
   "cell_type": "code",
   "execution_count": 11,
   "metadata": {
    "collapsed": false
   },
   "outputs": [
    {
     "name": "stdout",
     "output_type": "stream",
     "text": [
      "Wrote QA ZBEST file: /Users/xavier/DESI/TST/dogwood/bricks/3587p000/qa-zbest_3587p000.pdf\n"
     ]
    }
   ],
   "source": [
    "reload(qap)\n",
    "qap.brick_zbest(qafig, zbest, qabrick)"
   ]
  },
  {
   "cell_type": "code",
   "execution_count": null,
   "metadata": {
    "collapsed": true
   },
   "outputs": [],
   "source": []
  }
 ],
 "metadata": {
  "kernelspec": {
   "display_name": "Python 2",
   "language": "python",
   "name": "python2"
  },
  "language_info": {
   "codemirror_mode": {
    "name": "ipython",
    "version": 2
   },
   "file_extension": ".py",
   "mimetype": "text/x-python",
   "name": "python",
   "nbconvert_exporter": "python",
   "pygments_lexer": "ipython2",
   "version": "2.7.11"
  }
 },
 "nbformat": 4,
 "nbformat_minor": 0
}
