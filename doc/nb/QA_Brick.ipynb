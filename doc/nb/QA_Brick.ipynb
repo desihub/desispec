{
 "cells": [
  {
   "cell_type": "markdown",
   "metadata": {},
   "source": [
    "# QA_Brick"
   ]
  },
  {
   "cell_type": "code",
   "execution_count": 13,
   "metadata": {
    "collapsed": false
   },
   "outputs": [],
   "source": [
    "# imports\n",
    "from desispec.io import zfind as io_zfind\n",
    "from desispec.io.qa import load_qa_brick, write_qa_brick\n",
    "from desispec.qa import qa_plots as qap"
   ]
  },
  {
   "cell_type": "markdown",
   "metadata": {},
   "source": [
    "## ZBest"
   ]
  },
  {
   "cell_type": "markdown",
   "metadata": {},
   "source": [
    "### Load"
   ]
  },
  {
   "cell_type": "code",
   "execution_count": 2,
   "metadata": {
    "collapsed": true
   },
   "outputs": [],
   "source": [
    "zb_file = '/Users/xavier/DESI/TST/dogwood/bricks/3587p000/zbest-3587p000.fits'"
   ]
  },
  {
   "cell_type": "code",
   "execution_count": 3,
   "metadata": {
    "collapsed": false
   },
   "outputs": [
    {
     "data": {
      "text/plain": [
       "172"
      ]
     },
     "execution_count": 3,
     "metadata": {},
     "output_type": "execute_result"
    }
   ],
   "source": [
    "zbest = io_zfind.read_zbest(zb_file)\n",
    "zbest.nspec"
   ]
  },
  {
   "cell_type": "markdown",
   "metadata": {},
   "source": [
    "### QA"
   ]
  },
  {
   "cell_type": "markdown",
   "metadata": {},
   "source": [
    "#### YAML"
   ]
  },
  {
   "cell_type": "code",
   "execution_count": 4,
   "metadata": {
    "collapsed": true
   },
   "outputs": [],
   "source": [
    "qafile = '/Users/xavier/DESI/TST/dogwood/bricks/3587p000/qa_3587p000.yaml'"
   ]
  },
  {
   "cell_type": "code",
   "execution_count": 5,
   "metadata": {
    "collapsed": false
   },
   "outputs": [
    {
     "name": "stdout",
     "output_type": "stream",
     "text": [
      "INFO:qa.py:98:load_qa_brick: Loaded QA file /Users/xavier/DESI/TST/dogwood/bricks/3587p000/qa_3587p000.yaml\n"
     ]
    },
    {
     "name": "stderr",
     "output_type": "stream",
     "text": [
      "INFO:DESI:Loaded QA file /Users/xavier/DESI/TST/dogwood/bricks/3587p000/qa_3587p000.yaml\n"
     ]
    },
    {
     "data": {
      "text/plain": [
       "QA_Brick: name=None"
      ]
     },
     "execution_count": 5,
     "metadata": {},
     "output_type": "execute_result"
    }
   ],
   "source": [
    "qabrick = load_qa_brick(qafile)\n",
    "qabrick"
   ]
  },
  {
   "cell_type": "code",
   "execution_count": 6,
   "metadata": {
    "collapsed": false
   },
   "outputs": [
    {
     "name": "stdout",
     "output_type": "stream",
     "text": [
      "WARNING:zfind.py:90:qa_zbest: High number of failed redshifts\n"
     ]
    },
    {
     "name": "stderr",
     "output_type": "stream",
     "text": [
      "WARNING:DESI:High number of failed redshifts\n"
     ]
    }
   ],
   "source": [
    "qabrick.run_qa('ZBEST', (zbest,))"
   ]
  },
  {
   "cell_type": "code",
   "execution_count": 7,
   "metadata": {
    "collapsed": false
   },
   "outputs": [
    {
     "data": {
      "text/plain": [
       "{u'ZBEST': {u'PARAM': {'ELG_TYPES': [u'ssp_em_galaxy'],\n",
       "   'MAX_NFAIL': 10,\n",
       "   'QSO_TYPES': [u'QSO'],\n",
       "   'STAR_TYPES': [u'spEigenStar']},\n",
       "  u'QA': {'NFAIL': 48,\n",
       "   'NTYPE': {'ELG': 144, 'LRG': 0, 'QSO': 26, 'Star': 2, 'UNKWN': 0}}},\n",
       " 'name': u''}"
      ]
     },
     "execution_count": 7,
     "metadata": {},
     "output_type": "execute_result"
    }
   ],
   "source": [
    "qabrick.data"
   ]
  },
  {
   "cell_type": "code",
   "execution_count": 8,
   "metadata": {
    "collapsed": false
   },
   "outputs": [
    {
     "data": {
      "text/plain": [
       "'/Users/xavier/DESI/TST/dogwood/bricks/3587p000/qa_3587p000.yaml'"
      ]
     },
     "execution_count": 8,
     "metadata": {},
     "output_type": "execute_result"
    }
   ],
   "source": [
    "# Write\n",
    "write_qa_brick(qafile, qabrick)"
   ]
  },
  {
   "cell_type": "markdown",
   "metadata": {},
   "source": [
    "#### Plot"
   ]
  },
  {
   "cell_type": "code",
   "execution_count": 11,
   "metadata": {
    "collapsed": true
   },
   "outputs": [],
   "source": [
    "qafig = '/Users/xavier/DESI/TST/dogwood/bricks/3587p000/qa-zbest_3587p000.pdf'"
   ]
  },
  {
   "cell_type": "code",
   "execution_count": 17,
   "metadata": {
    "collapsed": false
   },
   "outputs": [
    {
     "name": "stdout",
     "output_type": "stream",
     "text": [
      "Wrote QA ZBEST file: /Users/xavier/DESI/TST/dogwood/bricks/3587p000/qa-zbest_3587p000.pdf\n"
     ]
    }
   ],
   "source": [
    "reload(qap)\n",
    "qap.brick_zbest(qafig, zbest, qabrick)"
   ]
  },
  {
   "cell_type": "code",
   "execution_count": null,
   "metadata": {
    "collapsed": true
   },
   "outputs": [],
   "source": []
  }
 ],
 "metadata": {
  "kernelspec": {
   "display_name": "Python 2",
   "language": "python",
   "name": "python2"
  },
  "language_info": {
   "codemirror_mode": {
    "name": "ipython",
    "version": 2
   },
   "file_extension": ".py",
   "mimetype": "text/x-python",
   "name": "python",
   "nbconvert_exporter": "python",
   "pygments_lexer": "ipython2",
   "version": "2.7.11"
  }
 },
 "nbformat": 4,
 "nbformat_minor": 0
}
