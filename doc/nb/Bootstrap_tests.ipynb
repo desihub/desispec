{
 "cells": [
  {
   "cell_type": "markdown",
   "metadata": {},
   "source": [
    "# Tests for the Bootstrap code"
   ]
  },
  {
   "cell_type": "code",
   "execution_count": null,
   "metadata": {
    "collapsed": true
   },
   "outputs": [],
   "source": [
    "# import"
   ]
  },
  {
   "cell_type": "markdown",
   "metadata": {},
   "source": [
    "## Generate test files"
   ]
  },
  {
   "cell_type": "code",
   "execution_count": 6,
   "metadata": {
    "collapsed": true
   },
   "outputs": [],
   "source": [
    "def pix_sub(infil, outfil, rows=(80,310)):\n",
    "    hdu = fits.open(infil)\n",
    "    # Trim\n",
    "    img = hdu[0].data\n",
    "    sub_img = img[:,rows[0]:rows[1]]\n",
    "    # New\n",
    "    newhdu = fits.PrimaryHDU(sub_img)\n",
    "    # Header\n",
    "    for key in ['CAMERA','VSPECTER','RDNOISE','EXPTIME']:\n",
    "        newhdu.header[key] = hdu[0].header[key]\n",
    "    # Write\n",
    "    newhdulist = fits.HDUList([newhdu])\n",
    "    newhdulist.writeto(outfil,clobber=True)\n",
    "    print('Wrote: {:s}'.format(outfil))"
   ]
  },
  {
   "cell_type": "markdown",
   "metadata": {},
   "source": [
    "### b camera"
   ]
  },
  {
   "cell_type": "markdown",
   "metadata": {},
   "source": [
    "#### Arcs"
   ]
  },
  {
   "cell_type": "code",
   "execution_count": 2,
   "metadata": {
    "collapsed": true
   },
   "outputs": [],
   "source": [
    "arc_fil = '/u/xavier/DESI/Wavelengths/pix-b0-00000000.fits'"
   ]
  },
  {
   "cell_type": "code",
   "execution_count": 3,
   "metadata": {
    "collapsed": true
   },
   "outputs": [],
   "source": [
    "out_arc = '/u/xavier/DESI/Wavelengths/pix-sub_b0-00000000.fits'"
   ]
  },
  {
   "cell_type": "code",
   "execution_count": null,
   "metadata": {
    "collapsed": false
   },
   "outputs": [],
   "source": [
    "pix_sub(arc_fil, out_arc)"
   ]
  },
  {
   "cell_type": "markdown",
   "metadata": {},
   "source": [
    "#### Flats"
   ]
  },
  {
   "cell_type": "code",
   "execution_count": 4,
   "metadata": {
    "collapsed": true
   },
   "outputs": [],
   "source": [
    "flat_fil = '/u/xavier/DESI/Wavelengths/pix-b0-00000001.fits'\n",
    "out_flat = '/u/xavier/DESI/Wavelengths/pix-sub_b0-00000001.fits'"
   ]
  },
  {
   "cell_type": "code",
   "execution_count": 7,
   "metadata": {
    "collapsed": false
   },
   "outputs": [
    {
     "name": "stdout",
     "output_type": "stream",
     "text": [
      "Wrote: /u/xavier/DESI/Wavelengths/pix-sub_b0-00000001.fits\n"
     ]
    }
   ],
   "source": [
    "pix_sub(flat_fil, out_flat)"
   ]
  },
  {
   "cell_type": "markdown",
   "metadata": {},
   "source": [
    "## Test via script"
   ]
  },
  {
   "cell_type": "markdown",
   "metadata": {},
   "source": [
    "    desi_bootcalib.py \\\n",
    "        --fiberflat /Users/xavier/DESI/Wavelengths/pix-sub_b0-00000001.fits \\\n",
    "        --arcfile /Users/xavier/DESI/Wavelengths/pix-sub_b0-00000000.fits \\\n",
    "        --outfile /Users/xavier/DESI/Wavelengths/boot_psf-sub_b0.fits \\\n",
    "        --qafile /Users/xavier/DESI/Wavelengths/qa_boot-sub_b0.pdf"
   ]
  },
  {
   "cell_type": "markdown",
   "metadata": {},
   "source": [
    "### Success"
   ]
  },
  {
   "cell_type": "markdown",
   "metadata": {},
   "source": [
    "## Setting up for unit tests"
   ]
  },
  {
   "cell_type": "markdown",
   "metadata": {},
   "source": [
    "### Pushing files to NERSC"
   ]
  },
  {
   "cell_type": "markdown",
   "metadata": {},
   "source": [
    "        scp pix-sub_b0-00000000.fits.gz hopper.nersc.gov:/project/projectdirs/desi/www/data/spectest\n",
    "        scp pix-sub_b0-00000001.fits.gz hopper.nersc.gov:/project/projectdirs/desi/www/data/spectest"
   ]
  },
  {
   "cell_type": "markdown",
   "metadata": {},
   "source": [
    "### Testing the read"
   ]
  },
  {
   "cell_type": "code",
   "execution_count": 9,
   "metadata": {
    "collapsed": true
   },
   "outputs": [],
   "source": [
    "import urllib2"
   ]
  },
  {
   "cell_type": "code",
   "execution_count": 14,
   "metadata": {
    "collapsed": true
   },
   "outputs": [],
   "source": [
    "url_arc = 'https://portal.nersc.gov/project/desi/data/spectest/pix-sub_b0-00000000.fits.gz'"
   ]
  },
  {
   "cell_type": "code",
   "execution_count": 15,
   "metadata": {
    "collapsed": false
   },
   "outputs": [],
   "source": [
    "f = urllib2.urlopen(url_arc)\n",
    "tst_fil = 'tmp_arc.fits.gz'\n",
    "with open(tst_fil, \"wb\") as code:\n",
    "    code.write(f.read())"
   ]
  },
  {
   "cell_type": "code",
   "execution_count": 16,
   "metadata": {
    "collapsed": false
   },
   "outputs": [],
   "source": [
    "url_flat = 'https://portal.nersc.gov/project/desi/data/spectest/pix-sub_b0-00000001.fits.gz'"
   ]
  },
  {
   "cell_type": "code",
   "execution_count": 17,
   "metadata": {
    "collapsed": true
   },
   "outputs": [],
   "source": [
    "f = urllib2.urlopen(url_flat)\n",
    "tst_fil = 'tmp_flat.fits.gz'\n",
    "with open(tst_fil, \"wb\") as code:\n",
    "    code.write(f.read())"
   ]
  },
  {
   "cell_type": "markdown",
   "metadata": {},
   "source": [
    "### Now a unit test"
   ]
  },
  {
   "cell_type": "code",
   "execution_count": null,
   "metadata": {
    "collapsed": true
   },
   "outputs": [],
   "source": []
  }
 ],
 "metadata": {
  "kernelspec": {
   "display_name": "Python 2",
   "language": "python",
   "name": "python2"
  },
  "language_info": {
   "codemirror_mode": {
    "name": "ipython",
    "version": 2
   },
   "file_extension": ".py",
   "mimetype": "text/x-python",
   "name": "python",
   "nbconvert_exporter": "python",
   "pygments_lexer": "ipython2",
   "version": "2.7.10"
  }
 },
 "nbformat": 4,
 "nbformat_minor": 0
}
