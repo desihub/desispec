{
 "cells": [
  {
   "cell_type": "code",
   "execution_count": 283,
   "metadata": {},
   "outputs": [],
   "source": [
    "import os\n",
    "\n",
    "import glob\n",
    "import fitsio\n",
    "\n",
    "import numpy as np\n",
    "import pylab as pl\n",
    "\n",
    "import desisim.templates\n",
    "import astropy.io.fits as fits\n",
    "\n",
    "import desispec.io\n",
    "import redrock.templates\n",
    "import matplotlib.pyplot as plt\n",
    "\n",
    "from   desisim.specsim          import  get_simulator\n",
    "from   astropy.convolution      import  convolve, Box1DKernel\n",
    "from   desispec.spectra         import  Spectra\n",
    "from   desispec.resolution      import  Resolution\n",
    "\n",
    "from   desispec.interpolation   import  resample_flux\n",
    "\n",
    "from   astropy.table            import  Table\n",
    "from   desispec.io.image        import  read_image\n",
    "\n",
    "from   specter.psf.gausshermite import GaussHermitePSF\n",
    "from   scipy.signal             import medfilt"
   ]
  },
  {
   "cell_type": "markdown",
   "metadata": {},
   "source": [
    "# Foundations to 1004 desispec ticket:  Template SNR and LSS rad. weights."
   ]
  },
  {
   "cell_type": "markdown",
   "metadata": {},
   "source": [
    "Template SNR:"
   ]
  },
  {
   "cell_type": "markdown",
   "metadata": {},
   "source": [
    "https://desi.lbl.gov/DocDB/cgi-bin/private/RetrieveFile?docid=4723;filename=sky-monitor-mc-study-v1.pdf;version=2"
   ]
  },
  {
   "cell_type": "code",
   "execution_count": 339,
   "metadata": {},
   "outputs": [],
   "source": [
    "#  andes                  = '/global/cfs/cdirs/desi/spectro/redux/andes/'\n",
    "andes                     = '/global/scratch/mjwilson/desi-data.dm.noao.edu/desi/spectro/redux/andes'\n",
    "\n",
    "os.environ['SPEC_PROD']   = andes\n",
    "\n",
    "# os.environ['DESIMODEL'] = '/global/common/software/desi/cori/desiconda/20200801-1.4.0-spec/code/desimodel/0.13.0' \n",
    "os.environ['DESIMODEL']   = '/global/scratch/mjwilson/miniconda3/envs/desi/code/desimodel'\n",
    "\n",
    "os.environ['DESI_BASIS_TEMPLATES'] = '/global/scratch/mjwilson/desi-data.dm.noao.edu/desi/spectro/templates/basis_templates/v3.1/'\n",
    "\n",
    "os.environ['RESULTS']     = '/global/scratch/mjwilson'"
   ]
  },
  {
   "cell_type": "markdown",
   "metadata": {},
   "source": [
    "# Get a cframe for ELG SV0 tile (67230)"
   ]
  },
  {
   "cell_type": "markdown",
   "metadata": {},
   "source": [
    "https://desi.lbl.gov/trac/wiki/TargetSelectionWG/SV0"
   ]
  },
  {
   "cell_type": "code",
   "execution_count": 243,
   "metadata": {},
   "outputs": [],
   "source": [
    "night      = '20200314'\n",
    "\n",
    "tile       = 67230\n",
    "petal      = 0\n",
    "\n",
    "# 0th fiber in the petal.\n",
    "fiber      = 0"
   ]
  },
  {
   "cell_type": "markdown",
   "metadata": {},
   "source": [
    "# Get (calibrated) spectra and calibration data "
   ]
  },
  {
   "cell_type": "code",
   "execution_count": 244,
   "metadata": {},
   "outputs": [],
   "source": [
    "# For each camera.\n",
    "frames     = {}\n",
    "cframes    = {}\n",
    "\n",
    "psfs       = {}\n",
    "skies      = {} \n",
    "\n",
    "fluxcalibs = {}\n",
    "\n",
    "for cam in ['g', 'r', 'z']:\n",
    "  # E.g.  /global/cfs/cdirs/desi/spectro/redux/andes/tiles/67230/20200314/cframe-z9-00055382.fits  \n",
    "  specpaths    = glob.glob('{}/tiles/{}/{}/cframe-{}{}-*.fits'.format(andes, tile, night, cam, petal))\n",
    "\n",
    "  expids       = [x.split('-')[-1].replace('.fits', '') for x in specpaths]\n",
    "        \n",
    "  # E.g.  /global/cfs/cdirs/desi/spectro/redux/andes/exposures/20200315/00055590/sky-r8-00055590.fits\n",
    "  # skies_path   = glob.glob('{}/exposures/{}/{}/sky-{}{}-{}.fits'.format(andes, tile, night, cam, petal))\n",
    "    \n",
    "  mjd_obs      = 0.0\n",
    "    \n",
    "  for i, specpath in enumerate(specpaths):\n",
    "    dat        = fits.open(specpath)\n",
    "    \n",
    "    _          = dat[0].header['MJD-OBS']\n",
    "\n",
    "    # Get the last in the night, for example.      \n",
    "    if _ > mjd_obs:          \n",
    "        cframes[cam]    = fitsio.FITS(specpath)\n",
    "                \n",
    "        expid           = expids[i]\n",
    "        exptime         = dat[0].header['EXPTIME']\n",
    "        \n",
    "        fiberid         = cframes[cam]['FIBERMAP']['FIBER'][fiber]\n",
    "        \n",
    "        psfs[cam]       = fitsio.FITS('{}/exposures/{}/{}/psf-{}{}-{}.fits'.format(andes, night, expid, cam, petal, expid))\n",
    "        \n",
    "        skies[cam]      = fitsio.FITS('{}/exposures/{}/{}/sky-{}{}-{}.fits'.format(andes, night, expid, cam, petal, expid))\n",
    "        \n",
    "        # https://desidatamodel.readthedocs.io/en/latest/DESI_SPECTRO_CALIB/fluxcalib-CAMERA.html\n",
    "        fluxcalibs[cam] = fitsio.FITS('{}/exposures/{}/{}/fluxcalib-{}{}-{}.fits'.format(andes, night, expid, cam, petal, expid))\n",
    "        \n",
    "        frames[cam]     = fitsio.FITS('{}/exposures/{}/{}/frame-{}{}-{}.fits'.format(andes, night, expid, cam, petal, expid))\n",
    "        \n",
    "        mjd_obs         = dat[0].header['MJD-OBS']"
   ]
  },
  {
   "cell_type": "code",
   "execution_count": 245,
   "metadata": {},
   "outputs": [
    {
     "name": "stdout",
     "output_type": "stream",
     "text": [
      "20200314 67230 00055382 900.0 0\n"
     ]
    }
   ],
   "source": [
    "print(night, tile, expid, exptime, fiberid)"
   ]
  },
  {
   "cell_type": "markdown",
   "metadata": {},
   "source": [
    "# Get GFA data"
   ]
  },
  {
   "cell_type": "code",
   "execution_count": 246,
   "metadata": {},
   "outputs": [],
   "source": [
    "def get_med_gfa(printit=False, root='/global/scratch/mjwilson'):\n",
    "  gfa = Table.read(root + '/offline_all_guide_ccds_SV0.fits')\n",
    "    \n",
    "  gfa = gfa[gfa['SPECTRO_EXPID'] > -1]\n",
    "  gfa = gfa[gfa['N_SOURCES_FOR_PSF'] > 2]\n",
    "  gfa = gfa[gfa['CONTRAST'] > 2]\n",
    "  gfa = gfa[gfa['NPIX_BAD_TOTAL'] < 10]\n",
    "\n",
    "  gfa.sort('SPECTRO_EXPID')\n",
    "\n",
    "  gfa = gfa['SPECTRO_EXPID', 'FWHM_ASEC', 'TRANSPARENCY', 'FIBER_FRACFLUX', 'SKY_MAG_AB', 'MJD']\n",
    "    \n",
    "  by_spectro_expid = gfa.group_by('SPECTRO_EXPID')\n",
    "\n",
    "  # gfa_mean = by_spectro_expid.groups.aggregate(np.mean)\n",
    "  gfa_median = by_spectro_expid.groups.aggregate(np.median)\n",
    " \n",
    "  if printit:\n",
    "    print(gfa_median)\n",
    "\n",
    "  return  gfa_median"
   ]
  },
  {
   "cell_type": "code",
   "execution_count": 247,
   "metadata": {},
   "outputs": [],
   "source": [
    "med_gfa    = get_med_gfa()"
   ]
  },
  {
   "cell_type": "code",
   "execution_count": 248,
   "metadata": {},
   "outputs": [
    {
     "data": {
      "text/html": [
       "<i>Table length=82</i>\n",
       "<table id=\"table47007744952136\" class=\"table-striped table-bordered table-condensed\">\n",
       "<thead><tr><th>SPECTRO_EXPID</th><th>FWHM_ASEC</th><th>TRANSPARENCY</th><th>FIBER_FRACFLUX</th><th>SKY_MAG_AB</th><th>MJD</th></tr></thead>\n",
       "<thead><tr><th>int32</th><th>float64</th><th>float64</th><th>float64</th><th>float64</th><th>float64</th></tr></thead>\n",
       "<tr><td>55353</td><td>1.3556690883636473</td><td>0.9491531856658579</td><td>0.42902994928339766</td><td>20.13257532857953</td><td>58923.105804845</td></tr>\n",
       "<tr><td>55354</td><td>1.0842609405517578</td><td>0.9306584084094406</td><td>0.5758220848678852</td><td>20.716475970074487</td><td>58923.11684792</td></tr>\n",
       "<tr><td>55355</td><td>1.1528374147415161</td><td>0.9287752724595781</td><td>0.5266150665431396</td><td>20.751343417592672</td><td>58923.12406566</td></tr>\n",
       "<tr><td>55356</td><td>1.124827275276184</td><td>0.9291547576080916</td><td>0.5513398270660941</td><td>20.78339337676281</td><td>58923.1282444</td></tr>\n",
       "<tr><td>55357</td><td>1.1412470054626465</td><td>0.9324662058076588</td><td>0.5494354959155627</td><td>20.736887796902987</td><td>58923.13247917</td></tr>\n",
       "<tr><td>55358</td><td>1.0398310708999634</td><td>0.926993168397129</td><td>0.6079540155317155</td><td>20.732981448479244</td><td>58923.13667283</td></tr>\n",
       "<tr><td>55359</td><td>1.3305566978454588</td><td>0.8911601509977743</td><td>0.42628248906121285</td><td>20.784752835872254</td><td>58923.14101085</td></tr>\n",
       "<tr><td>55360</td><td>1.248458046913147</td><td>0.9177696043867326</td><td>0.47084553982027816</td><td>20.80443171895309</td><td>58923.14525603</td></tr>\n",
       "<tr><td>55361</td><td>1.1383494520187378</td><td>0.8861931873134048</td><td>0.5298523127713594</td><td>20.773264489657137</td><td>58923.14950753</td></tr>\n",
       "<tr><td>55362</td><td>1.2238284516334534</td><td>0.9034252271677183</td><td>0.49734093803071555</td><td>20.807978443570086</td><td>58923.153674945</td></tr>\n",
       "<tr><td>...</td><td>...</td><td>...</td><td>...</td><td>...</td><td>...</td></tr>\n",
       "<tr><td>55674</td><td>1.1113050985336304</td><td>0.964350490252501</td><td>0.5460385873940345</td><td>20.51628562350199</td><td>58924.48173386</td></tr>\n",
       "<tr><td>55676</td><td>1.220447907447815</td><td>0.9618748846546804</td><td>0.4769327158491101</td><td>20.51656622266724</td><td>58924.485957255005</td></tr>\n",
       "<tr><td>55678</td><td>1.1808475542068482</td><td>0.9521870510136358</td><td>0.4965423898112948</td><td>20.483182601889357</td><td>58924.49020096</td></tr>\n",
       "<tr><td>55680</td><td>1.2315554237365722</td><td>0.9498727144977854</td><td>0.474162015963733</td><td>20.469658065724868</td><td>58924.49430702</td></tr>\n",
       "<tr><td>55682</td><td>1.150905647277832</td><td>0.961819112604408</td><td>0.5058066154829663</td><td>20.44293089935006</td><td>58924.49863134</td></tr>\n",
       "<tr><td>55684</td><td>1.3556690883636473</td><td>0.9492307534996669</td><td>0.4075430968446988</td><td>20.45222303599205</td><td>58924.50285695</td></tr>\n",
       "<tr><td>55686</td><td>1.3286249303817748</td><td>0.9327544683907377</td><td>0.4382493893040137</td><td>20.391286718029715</td><td>58924.50719792</td></tr>\n",
       "<tr><td>55688</td><td>1.1779498052597046</td><td>0.9595012693791285</td><td>0.4834739526883711</td><td>20.34339653595935</td><td>58924.511309765</td></tr>\n",
       "<tr><td>55690</td><td>1.2378335213661193</td><td>0.9443942552643484</td><td>0.4495081831668003</td><td>20.304621746446408</td><td>58924.51548036</td></tr>\n",
       "<tr><td>55692</td><td>1.319932074546814</td><td>0.9607678418031806</td><td>0.4017382671685154</td><td>20.04634733803951</td><td>58924.51965154</td></tr>\n",
       "</table>"
      ],
      "text/plain": [
       "<Table length=82>\n",
       "SPECTRO_EXPID     FWHM_ASEC      ...     SKY_MAG_AB            MJD        \n",
       "    int32          float64       ...      float64            float64      \n",
       "------------- ------------------ ... ------------------ ------------------\n",
       "        55353 1.3556690883636473 ...  20.13257532857953    58923.105804845\n",
       "        55354 1.0842609405517578 ... 20.716475970074487     58923.11684792\n",
       "        55355 1.1528374147415161 ... 20.751343417592672     58923.12406566\n",
       "        55356  1.124827275276184 ...  20.78339337676281      58923.1282444\n",
       "        55357 1.1412470054626465 ... 20.736887796902987     58923.13247917\n",
       "        55358 1.0398310708999634 ... 20.732981448479244     58923.13667283\n",
       "        55359 1.3305566978454588 ... 20.784752835872254     58923.14101085\n",
       "        55360  1.248458046913147 ...  20.80443171895309     58923.14525603\n",
       "        55361 1.1383494520187378 ... 20.773264489657137     58923.14950753\n",
       "        55362 1.2238284516334534 ... 20.807978443570086    58923.153674945\n",
       "          ...                ... ...                ...                ...\n",
       "        55674 1.1113050985336304 ...  20.51628562350199     58924.48173386\n",
       "        55676  1.220447907447815 ...  20.51656622266724 58924.485957255005\n",
       "        55678 1.1808475542068482 ... 20.483182601889357     58924.49020096\n",
       "        55680 1.2315554237365722 ... 20.469658065724868     58924.49430702\n",
       "        55682  1.150905647277832 ...  20.44293089935006     58924.49863134\n",
       "        55684 1.3556690883636473 ...  20.45222303599205     58924.50285695\n",
       "        55686 1.3286249303817748 ... 20.391286718029715     58924.50719792\n",
       "        55688 1.1779498052597046 ...  20.34339653595935    58924.511309765\n",
       "        55690 1.2378335213661193 ... 20.304621746446408     58924.51548036\n",
       "        55692  1.319932074546814 ...  20.04634733803951     58924.51965154"
      ]
     },
     "execution_count": 248,
     "metadata": {},
     "output_type": "execute_result"
    }
   ],
   "source": [
    "med_gfa"
   ]
  },
  {
   "cell_type": "code",
   "execution_count": 249,
   "metadata": {},
   "outputs": [],
   "source": [
    "exp_gfa = med_gfa[med_gfa['SPECTRO_EXPID'] == expid]"
   ]
  },
  {
   "cell_type": "code",
   "execution_count": 250,
   "metadata": {},
   "outputs": [
    {
     "data": {
      "text/html": [
       "<i>Row index=0</i>\n",
       "<table id=\"table47007744952136\">\n",
       "<thead><tr><th>SPECTRO_EXPID</th><th>FWHM_ASEC</th><th>TRANSPARENCY</th><th>FIBER_FRACFLUX</th><th>SKY_MAG_AB</th><th>MJD</th></tr></thead>\n",
       "<thead><tr><th>int32</th><th>float64</th><th>float64</th><th>float64</th><th>float64</th><th>float64</th></tr></thead>\n",
       "<tr><td>55353</td><td>1.3556690883636473</td><td>0.9491531856658579</td><td>0.42902994928339766</td><td>20.13257532857953</td><td>58923.105804845</td></tr>\n",
       "</table>"
      ],
      "text/plain": [
       "<Row index=0>\n",
       "SPECTRO_EXPID     FWHM_ASEC         TRANSPARENCY       FIBER_FRACFLUX       SKY_MAG_AB          MJD      \n",
       "    int32          float64            float64             float64            float64          float64    \n",
       "------------- ------------------ ------------------ ------------------- ----------------- ---------------\n",
       "        55353 1.3556690883636473 0.9491531856658579 0.42902994928339766 20.13257532857953 58923.105804845"
      ]
     },
     "execution_count": 250,
     "metadata": {},
     "output_type": "execute_result"
    }
   ],
   "source": [
    "exp_gfa"
   ]
  },
  {
   "cell_type": "code",
   "execution_count": 251,
   "metadata": {},
   "outputs": [],
   "source": [
    "FIBERLOSS = exp_gfa['FIBER_FRACFLUX']"
   ]
  },
  {
   "cell_type": "markdown",
   "metadata": {},
   "source": [
    "# Get 2D PSF and define NPIX"
   ]
  },
  {
   "cell_type": "markdown",
   "metadata": {},
   "source": [
    "Expectation of 3.44 for PSF size in pixel units (spectro paper)."
   ]
  },
  {
   "cell_type": "code",
   "execution_count": 252,
   "metadata": {},
   "outputs": [],
   "source": [
    "fname = andes + '/calibnight/{}/psfnight-{}{}-{}.fits'.format(night, camera, petal, night)"
   ]
  },
  {
   "cell_type": "code",
   "execution_count": 253,
   "metadata": {},
   "outputs": [],
   "source": [
    "psf = GaussHermitePSF(fname)"
   ]
  },
  {
   "cell_type": "code",
   "execution_count": 254,
   "metadata": {},
   "outputs": [
    {
     "data": {
      "text/plain": [
       "(500, 4114, 4128)"
      ]
     },
     "execution_count": 254,
     "metadata": {},
     "output_type": "execute_result"
    }
   ],
   "source": [
    "# One petal, one arm to a CCD.\n",
    "psf.nspec, psf.npix_x, psf.npix_y"
   ]
  },
  {
   "cell_type": "code",
   "execution_count": 255,
   "metadata": {},
   "outputs": [],
   "source": [
    "# Representative wavelength. \n",
    "wave  = 3727. * (1. + 1.1)"
   ]
  },
  {
   "cell_type": "code",
   "execution_count": 256,
   "metadata": {},
   "outputs": [
    {
     "data": {
      "text/plain": [
       "(106.5136658758136, 752.9673119771362)"
      ]
     },
     "execution_count": 256,
     "metadata": {},
     "output_type": "execute_result"
    }
   ],
   "source": [
    "# Fiber centroid position on CCD.\n",
    "# https://github.com/desihub/specter/blob/f242a3d707c4cba549030af6df8cf5bb12e2b47c/py/specter/psf/psf.py#L467\n",
    "x,y = psf.xy(fiberid, wave)\n",
    "x,y"
   ]
  },
  {
   "cell_type": "code",
   "execution_count": 257,
   "metadata": {},
   "outputs": [
    {
     "data": {
      "text/plain": [
       "(99, 116, 747, 759)"
      ]
     },
     "execution_count": 257,
     "metadata": {},
     "output_type": "execute_result"
    }
   ],
   "source": [
    "# https://github.com/desihub/specter/blob/f242a3d707c4cba549030af6df8cf5bb12e2b47c/py/specter/psf/psf.py#L300\n",
    "# Range that boxes in fiber 'trace':  (xmin, xmax, ymin, ymax)\n",
    "psf.xyrange(fiberid, wave)"
   ]
  },
  {
   "cell_type": "code",
   "execution_count": 258,
   "metadata": {},
   "outputs": [
    {
     "data": {
      "text/plain": [
       "4.148481944894554"
      ]
     },
     "execution_count": 258,
     "metadata": {},
     "output_type": "execute_result"
    }
   ],
   "source": [
    "# Return Gaussian sigma of PSF spot in cross-dispersion direction in CCD pixel units.\n",
    "#  Gaussian PSF, radius R that maximizes S/N for a faint source in the sky-limited case is 1.7σ\n",
    "#  http://www.ucolick.org/~bolte/AY257/s_n.pdf\n",
    "2. * 1.7 * psf.xsigma(ispec=fiberid, wavelength=wave)"
   ]
  },
  {
   "cell_type": "code",
   "execution_count": 259,
   "metadata": {},
   "outputs": [
    {
     "data": {
      "text/plain": [
       "4.220916150012472"
      ]
     },
     "execution_count": 259,
     "metadata": {},
     "output_type": "execute_result"
    }
   ],
   "source": [
    "#  Gaussian sigma of PSF spot in dispersion direction in CCD pixel units.\n",
    "#  Gaussian PSF, radius R that maximizes S/N for a faint source in the sky-limited case is 1.7σ\n",
    "#  http://www.ucolick.org/~bolte/AY257/s_n.pdf\n",
    "2. * 1.7 * psf.ysigma(ispec=fiberid, wavelength=wave)"
   ]
  },
  {
   "cell_type": "code",
   "execution_count": 260,
   "metadata": {},
   "outputs": [
    {
     "data": {
      "text/plain": [
       "(11, 17)"
      ]
     },
     "execution_count": 260,
     "metadata": {},
     "output_type": "execute_result"
    }
   ],
   "source": [
    "psf_2d = psf.pix(ispec=fiberid, wavelength=wave)\n",
    "psf_2d.shape"
   ]
  },
  {
   "cell_type": "code",
   "execution_count": 261,
   "metadata": {},
   "outputs": [
    {
     "data": {
      "text/plain": [
       "0.9999999999999999"
      ]
     },
     "execution_count": 261,
     "metadata": {},
     "output_type": "execute_result"
    }
   ],
   "source": [
    "norm = np.sum(psf_2d); norm"
   ]
  },
  {
   "cell_type": "code",
   "execution_count": 262,
   "metadata": {},
   "outputs": [
    {
     "name": "stdout",
     "output_type": "stream",
     "text": [
      "For 20200314, fiber 0 on camera z for tile 67230, NPIX is 19.960498391945666\n"
     ]
    }
   ],
   "source": [
    "# http://articles.adsabs.harvard.edu/pdf/1983PASP...95..163K\n",
    "NEA  = 1. / np.sum(psf_2d ** 2.) # [pixel units].\n",
    "NPIX = NEA; \n",
    "\n",
    "print('For {}, fiber {} on camera {} for tile {}, NPIX is {}'.format(night, fiberid, camera, tile, NPIX))"
   ]
  },
  {
   "cell_type": "code",
   "execution_count": 263,
   "metadata": {},
   "outputs": [
    {
     "data": {
      "text/plain": [
       "0.6344665864382577"
      ]
     },
     "execution_count": 263,
     "metadata": {},
     "output_type": "execute_result"
    }
   ],
   "source": [
    "ANGSTROMS_PER_PIXEL = psf.angstroms_per_pixel(fiber, wave); ANGSTROMS_PER_PIXEL"
   ]
  },
  {
   "cell_type": "markdown",
   "metadata": {},
   "source": [
    "# Get (fiber local) READNOISE for this exposure."
   ]
  },
  {
   "cell_type": "code",
   "execution_count": 154,
   "metadata": {},
   "outputs": [],
   "source": [
    "image = read_image(andes + '/preproc/{}/{}/preproc-{}{}-{}.fits'.format(night, expid, camera, petal, expid))"
   ]
  },
  {
   "cell_type": "code",
   "execution_count": 155,
   "metadata": {},
   "outputs": [
    {
     "data": {
      "text/plain": [
       "'z0'"
      ]
     },
     "execution_count": 155,
     "metadata": {},
     "output_type": "execute_result"
    }
   ],
   "source": [
    "image.camera"
   ]
  },
  {
   "cell_type": "code",
   "execution_count": 156,
   "metadata": {},
   "outputs": [],
   "source": [
    "(xmin, xmax, ymin, ymax) = psf.xyrange(fiber, wave)"
   ]
  },
  {
   "cell_type": "code",
   "execution_count": 157,
   "metadata": {},
   "outputs": [],
   "source": [
    "# electrons/pixel (float).\n",
    "rd_cutout = image.readnoise[ymin:ymax, xmin:xmax]"
   ]
  },
  {
   "cell_type": "code",
   "execution_count": 158,
   "metadata": {},
   "outputs": [
    {
     "data": {
      "text/plain": [
       "(11, 17)"
      ]
     },
     "execution_count": 158,
     "metadata": {},
     "output_type": "execute_result"
    }
   ],
   "source": [
    "rd_cutout.shape"
   ]
  },
  {
   "cell_type": "code",
   "execution_count": 159,
   "metadata": {},
   "outputs": [
    {
     "data": {
      "text/plain": [
       "array([[2.6038661 , 2.61328077, 2.63635802, 2.62130785, 2.61548781,\n",
       "        2.61725259, 2.61492872, 2.6206522 , 2.62121773, 2.59954309,\n",
       "        2.62513161, 2.62209105, 2.6048317 , 2.6248343 , 2.61661053,\n",
       "        2.61507368, 2.61460853],\n",
       "       [2.63990784, 2.61200142, 2.62542319, 2.61179233, 2.59656262,\n",
       "        2.62181544, 2.62189126, 2.61664772, 2.61373973, 2.61161304,\n",
       "        2.60422587, 2.5987072 , 2.62767267, 2.61586118, 2.59803391,\n",
       "        2.63251328, 2.60625792],\n",
       "       [2.62200999, 2.61430717, 2.6329391 , 2.59141302, 2.61721706,\n",
       "        2.62079883, 2.63420963, 2.58886099, 2.5689137 , 2.62649059,\n",
       "        2.60988116, 2.58939624, 2.61174393, 2.60072064, 2.64164734,\n",
       "        2.60800791, 2.60744572],\n",
       "       [2.59281731, 2.63852024, 2.60270619, 2.61711478, 2.6382699 ,\n",
       "        2.62645698, 2.61299372, 2.6017983 , 2.61044908, 2.62449098,\n",
       "        2.62200904, 2.6257422 , 2.64349651, 2.67025661, 2.63041782,\n",
       "        2.62693477, 2.63257837],\n",
       "       [2.63035536, 2.60361147, 2.59951758, 2.61910629, 2.61240602,\n",
       "        2.62371325, 2.59882212, 2.63476562, 2.58839154, 2.60730386,\n",
       "        2.63935399, 2.62416172, 2.60970354, 2.61044955, 2.61678743,\n",
       "        2.62664628, 2.62059355],\n",
       "       [2.60889697, 2.61224723, 2.61285114, 2.59717846, 2.60788512,\n",
       "        2.61797643, 2.60203576, 2.6206429 , 2.61416268, 2.63475585,\n",
       "        2.60525513, 2.60675216, 2.63175774, 2.6153264 , 2.61619473,\n",
       "        2.66187716, 2.65912652],\n",
       "       [2.61514616, 2.62615085, 2.59246778, 2.61310029, 2.64041448,\n",
       "        2.61203432, 2.60949922, 2.61477137, 2.618716  , 2.61654925,\n",
       "        2.60076046, 2.61860085, 2.61088347, 2.62343693, 2.59040046,\n",
       "        2.60067582, 2.58099866],\n",
       "       [2.59350204, 2.58211064, 2.63134241, 2.64983106, 2.65032434,\n",
       "        2.61847878, 2.63628387, 2.60870481, 2.60379648, 2.60587335,\n",
       "        2.63234234, 2.61282158, 2.61238551, 2.6251626 , 2.61682272,\n",
       "        2.60545921, 2.59446096],\n",
       "       [2.62606907, 2.60065293, 2.63509083, 2.63111925, 2.63250852,\n",
       "        2.60210896, 2.61362481, 2.61597061, 2.62356877, 2.61818385,\n",
       "        2.59802938, 2.62541556, 2.59472418, 2.6149137 , 2.60712695,\n",
       "        2.62272739, 2.64518332],\n",
       "       [2.62844849, 2.61946821, 2.64465261, 2.65838432, 2.62015152,\n",
       "        2.63247824, 2.62603593, 2.60204983, 2.63510752, 2.60832262,\n",
       "        2.59883165, 2.61112761, 2.61738968, 2.6048069 , 2.58306766,\n",
       "        2.6181643 , 2.62505221],\n",
       "       [2.62967229, 2.64063811, 2.60906506, 2.60860562, 2.61458468,\n",
       "        2.64399672, 2.63299608, 2.59539557, 2.62703037, 2.59218931,\n",
       "        2.61453938, 2.63041472, 2.61396599, 2.63683987, 2.61403394,\n",
       "        2.61583805, 2.60804248]])"
      ]
     },
     "execution_count": 159,
     "metadata": {},
     "output_type": "execute_result"
    }
   ],
   "source": [
    "rd_cutout"
   ]
  },
  {
   "cell_type": "code",
   "execution_count": 160,
   "metadata": {},
   "outputs": [
    {
     "data": {
      "text/plain": [
       "(2.615861177444458, 2.48201847076416)"
      ]
     },
     "execution_count": 160,
     "metadata": {},
     "output_type": "execute_result"
    }
   ],
   "source": [
    "# electrons/pixel\n",
    "np.median(rd_cutout), np.median(image.readnoise)"
   ]
  },
  {
   "cell_type": "code",
   "execution_count": 161,
   "metadata": {},
   "outputs": [],
   "source": [
    "RDNOISE = np.median(rd_cutout)"
   ]
  },
  {
   "cell_type": "markdown",
   "metadata": {},
   "source": [
    "# Sky flux"
   ]
  },
  {
   "cell_type": "markdown",
   "metadata": {},
   "source": [
    "_Counts is the same as electrons, or is there a gain factor?_"
   ]
  },
  {
   "cell_type": "code",
   "execution_count": 265,
   "metadata": {},
   "outputs": [
    {
     "data": {
      "text/plain": [
       "Text(0, 0.5, 'Counts per Angstrom')"
      ]
     },
     "execution_count": 265,
     "metadata": {},
     "output_type": "execute_result"
    },
    {
     "data": {
      "image/png": "[encoded data removed]",
      "text/plain": [
       "<Figure size 432x288 with 1 Axes>"
      ]
     },
     "metadata": {
      "needs_background": "light"
     },
     "output_type": "display_data"
    }
   ],
   "source": [
    "pl.plot(skies[camera]['WAVELENGTH'][:], skies[camera]['SKY'][0, :].T)\n",
    "\n",
    "pl.xlabel('Wavelength [Angstroms]')\n",
    "pl.ylabel('Counts per Angstrom')"
   ]
  },
  {
   "cell_type": "code",
   "execution_count": 231,
   "metadata": {},
   "outputs": [
    {
     "data": {
      "text/plain": [
       "Text(0.5, 1.0, 'Sky continuum (116.0A median filter)')"
      ]
     },
     "execution_count": 231,
     "metadata": {},
     "output_type": "execute_result"
    },
    {
     "data": {
      "image/png": "[encoded data removed]",
      "text/plain": [
       "<Figure size 432x288 with 1 Axes>"
      ]
     },
     "metadata": {
      "needs_background": "light"
     },
     "output_type": "display_data"
    }
   ],
   "source": [
    "kernel_N      = 145\n",
    "sky_continuum = medfilt(skies[camera]['SKY'][0, :][0], kernel_N)\n",
    "\n",
    "pl.plot(skies[camera]['WAVELENGTH'][:], sky_continuum)\n",
    "\n",
    "pl.xlabel('Wavelength [Angstroms]')\n",
    "pl.ylabel('Counts per Angstrom')\n",
    "\n",
    "pl.title('Sky continuum ({}A median filter)'.format(kernel_N * 0.8))"
   ]
  },
  {
   "cell_type": "markdown",
   "metadata": {},
   "source": [
    "# Flux calibration"
   ]
  },
  {
   "cell_type": "code",
   "execution_count": 232,
   "metadata": {},
   "outputs": [],
   "source": [
    "# Includes seeing and airmass terms (therefore fiberloss).\n",
    "fluxcalib          = fluxcalibs[camera]['FLUXCALIB'][0,:]\n",
    "\n",
    "# Calibration for no fiber loss; nominally we need this for the sky flux calib, but it's already in e/A.\n",
    "lossless_fluxcalib = fluxcalib / FIBERLOSS"
   ]
  },
  {
   "cell_type": "code",
   "execution_count": 233,
   "metadata": {},
   "outputs": [
    {
     "data": {
      "text/plain": [
       "<matplotlib.legend.Legend at 0x2ac0d8146e80>"
      ]
     },
     "execution_count": 233,
     "metadata": {},
     "output_type": "execute_result"
    },
    {
     "data": {
      "image/png": "[encoded data removed]",
      "text/plain": [
       "<Figure size 432x288 with 1 Axes>"
      ]
     },
     "metadata": {
      "needs_background": "light"
     },
     "output_type": "display_data"
    }
   ],
   "source": [
    "pl.plot(wave, fluxcalib[0],          label='Flux calib.')\n",
    "pl.plot(wave, lossless_fluxcalib[0], label='Lossless flux calib.')\n",
    "\n",
    "pl.title('FIBERLOSS of {}'.format(FIBERLOSS))\n",
    "\n",
    "pl.legend(loc=0, frameon=False)"
   ]
  },
  {
   "cell_type": "markdown",
   "metadata": {},
   "source": [
    "# Template SNR"
   ]
  },
  {
   "cell_type": "code",
   "execution_count": 235,
   "metadata": {},
   "outputs": [
    {
     "name": "stdout",
     "output_type": "stream",
     "text": [
      "67230 00055382 0 672300000\n"
     ]
    }
   ],
   "source": [
    "FIBERTILEID = 10000 * tile + fiberid\n",
    "\n",
    "print(tile, expid, fiberid, FIBERTILEID)"
   ]
  },
  {
   "cell_type": "markdown",
   "metadata": {},
   "source": [
    "$\\Huge \\langle tSNR^2 \\rangle = \\sum_{grz} \\sum_{\\lambda \\in grz} \\frac{\\tau^2 T^2 \\langle \\Delta F^2 \\rangle}{\\sigma_e^2 \\cdot {\\rm NPIX} + \\tau T_{\\rm sky}  F_{\\rm sky}}$"
   ]
  },
  {
   "cell_type": "markdown",
   "metadata": {},
   "source": [
    "_\"We choose to normalize it such that zSNR = 3 for a 1000 sec dark time exposure in\n",
    "nominal conditions.\"_"
   ]
  },
  {
   "cell_type": "markdown",
   "metadata": {},
   "source": [
    "Here:  \n",
    "- $\\sigma_e$ is the READNOISE in units of ELECTRONS / PIXEL. \n",
    "- NPIX is the projected fiber area in units of PIXELS for a width of **ONE ANGSTROM**.  \n",
    "- $\\Delta F$ is the residual (template) flux from a 100A filtered equivalent.\n",
    "- $\\tau$ is the exposure time, already included in the flux calib.\n",
    "- $T_{\\rm sky} F_{\\rm sky}$ is the estimated fiber sky flux in units of ELECTRONS PER ANGSTROM."
   ]
  },
  {
   "cell_type": "code",
   "execution_count": 422,
   "metadata": {},
   "outputs": [],
   "source": [
    "def templateSNR(template_flux, sky_flux, flux_calib=None, flux_ivar=None):\n",
    "    # dlambda per pixel = 0.8; 100A / dlambda per pixel = 125. \n",
    "    sflux  = convolve(template_flux, Box1DKernel(125)) \n",
    " \n",
    "    dflux  = template_flux - sflux \n",
    " \n",
    "    if flux_calib is None:\n",
    "        # Work in calibrated flux units.\n",
    "        # Assumes Poisson Variance from source is negligible.\n",
    "        assert  flux_ivar is not None\n",
    "        \n",
    "        return  np.sum(flux_ivar * dflux ** 2.)\n",
    "\n",
    "    else: \n",
    "        # Work in uncalibrated flux units; flux_calib includes exptime. tau.\n",
    "        dflux  *= flux_calib\n",
    " \n",
    "        result  = dflux * dflux\n",
    "\n",
    "        # RDNOISE & NPIX assumed wavelength independent\n",
    "        denom   = RDNOISE * NPIX / ANGSTROMS_PER_PIXEL + sky_flux\n",
    "        \n",
    "        result /= denom\n",
    "        \n",
    "        # Eqn. (1) of https://desi.lbl.gov/DocDB/cgi-bin/private/RetrieveFile?docid=4723;filename=sky-monitor-mc-study-v1.pdf;version=2\n",
    "        return  np.sum(result)"
   ]
  },
  {
   "cell_type": "markdown",
   "metadata": {},
   "source": [
    "# DESI sim. galaxy spectral templates "
   ]
  },
  {
   "cell_type": "markdown",
   "metadata": {},
   "source": [
    "TODO:  figure out fiber / fiberid indexing of arrays."
   ]
  },
  {
   "cell_type": "code",
   "execution_count": 423,
   "metadata": {},
   "outputs": [],
   "source": [
    "def tracer_maker(wave=None, tracer='ELG', nmodel=1):\n",
    "    if tracer == 'ELG':\n",
    "        maker = desisim.templates.ELG(wave=wave)\n",
    "                \n",
    "    elif tracer == 'QSO':\n",
    "        maker = desisim.templates.QSO(wave=wave)\n",
    "    \n",
    "    else:\n",
    "        raise  ValueError('{} is not an available tracer.'.format(tracer))\n",
    "\n",
    "    flux, wave, meta, objmeta = maker.make_templates(nmodel=nmodel)\n",
    "        \n",
    "    return  wave, flux, meta, objmeta     "
   ]
  },
  {
   "cell_type": "code",
   "execution_count": 424,
   "metadata": {},
   "outputs": [
    {
     "name": "stdout",
     "output_type": "stream",
     "text": [
      "INFO:io.py:971:read_basis_templates: Reading /global/scratch/mjwilson/desi-data.dm.noao.edu/desi/spectro/templates/basis_templates/v3.1/elg_templates_v2.2.fits\n"
     ]
    },
    {
     "name": "stderr",
     "output_type": "stream",
     "text": [
      "/global/scratch/mjwilson/miniconda3/envs/desi/lib/python3.6/site-packages/speclite/filters.py:1466: FutureWarning: Using a non-tuple sequence for multidimensional indexing is deprecated; use `arr[tuple(seq)]` instead of `arr[seq]`. In the future this will be interpreted as an array index, `arr[np.array(seq)]`, which will result either in an error or a different result.\n",
      "  values_no_units = values_no_units[values_slice]\n"
     ]
    }
   ],
   "source": [
    "wave                   = cframes[camera]['WAVELENGTH'][:]\n",
    "_, flux, meta, objmeta = tracer_maker(wave=wave, tracer='ELG', nmodel=10)"
   ]
  },
  {
   "cell_type": "code",
   "execution_count": 425,
   "metadata": {},
   "outputs": [],
   "source": [
    "meta['MAG_G']          = 22.5 - 2.5 * np.log10(meta['FLUX_G'])\n",
    "meta['MAG_R']          = 22.5 - 2.5 * np.log10(meta['FLUX_R'])\n",
    "meta['MAG_Z']          = 22.5 - 2.5 * np.log10(meta['FLUX_Z'])"
   ]
  },
  {
   "cell_type": "code",
   "execution_count": 426,
   "metadata": {},
   "outputs": [
    {
     "data": {
      "image/png": "[encoded data removed]",
      "text/plain": [
       "<Figure size 1440x360 with 3 Axes>"
      ]
     },
     "metadata": {
      "needs_background": "light"
     },
     "output_type": "display_data"
    }
   ],
   "source": [
    "fig, axes              = plt.subplots(1, 3, figsize=(20, 5))\n",
    "\n",
    "for i, (band, color) in enumerate(zip(['MAG_G', 'MAG_R', 'MAG_Z'], ['b', 'g', 'r'])):\n",
    "  axes[i].plot(meta[band], meta['REDSHIFT'], marker='.', c=color, lw=0.0)\n",
    "\n",
    "  axes[i].set_xlabel('$REDSHIFT$')\n",
    "  axes[i].set_ylabel('$' + band + '$')  "
   ]
  },
  {
   "cell_type": "code",
   "execution_count": 427,
   "metadata": {},
   "outputs": [],
   "source": [
    "fflux                  = flux[:, :]\n",
    "flux_ivar              = np.tile(cframes[camera]['IVAR'][0, :], (len(fflux), 1))\n",
    "\n",
    "res                    = np.tile(cframes[camera]['RESOLUTION'][0,:,:], (len(fflux), 1, 1))\n",
    "mask                   = np.tile(cframes[camera]['MASK'][0,:], (len(fflux), 1))\n",
    "\n",
    "fibermap               = desispec.io.empty_fibermap(len(fflux)) "
   ]
  },
  {
   "cell_type": "code",
   "execution_count": 428,
   "metadata": {},
   "outputs": [
    {
     "data": {
      "text/html": [
       "<i>Table length=10</i>\n",
       "<table id=\"table47007769553384\" class=\"table-striped table-bordered table-condensed\">\n",
       "<thead><tr><th>TARGETID</th><th>DESI_TARGET</th><th>BGS_TARGET</th><th>MWS_TARGET</th><th>SECONDARY_TARGET</th><th>TARGET_RA</th><th>TARGET_DEC</th><th>TARGET_RA_IVAR</th><th>TARGET_DEC_IVAR</th><th>BRICKID</th><th>BRICK_OBJID</th><th>MORPHTYPE</th><th>PRIORITY</th><th>SUBPRIORITY</th><th>REF_ID</th><th>PMRA</th><th>PMDEC</th><th>REF_EPOCH</th><th>PMRA_IVAR</th><th>PMDEC_IVAR</th><th>RELEASE</th><th>FLUX_G</th><th>FLUX_R</th><th>FLUX_Z</th><th>FLUX_W1</th><th>FLUX_W2</th><th>FLUX_IVAR_G</th><th>FLUX_IVAR_R</th><th>FLUX_IVAR_Z</th><th>FLUX_IVAR_W1</th><th>FLUX_IVAR_W2</th><th>FIBERFLUX_G</th><th>FIBERFLUX_R</th><th>FIBERFLUX_Z</th><th>FIBERFLUX_W1</th><th>FIBERFLUX_W2</th><th>FIBERTOTFLUX_G</th><th>FIBERTOTFLUX_R</th><th>FIBERTOTFLUX_Z</th><th>FIBERTOTFLUX_W1</th><th>FIBERTOTFLUX_W2</th><th>MW_TRANSMISSION_G</th><th>MW_TRANSMISSION_R</th><th>MW_TRANSMISSION_Z</th><th>EBV</th><th>PHOTSYS</th><th>OBSCONDITIONS</th><th>NUMOBS_INIT</th><th>PRIORITY_INIT</th><th>NUMOBS_MORE</th><th>HPXPIXEL</th><th>FIBER</th><th>PETAL_LOC</th><th>DEVICE_LOC</th><th>LOCATION</th><th>FIBERSTATUS</th><th>OBJTYPE</th><th>LAMBDA_REF</th><th>FIBERASSIGN_X</th><th>FIBERASSIGN_Y</th><th>FA_TARGET</th><th>FA_TYPE</th><th>NUMTARGET</th><th>FIBER_RA</th><th>FIBER_DEC</th><th>FIBER_RA_IVAR</th><th>FIBER_DEC_IVAR</th><th>PLATEMAKER_X</th><th>PLATEMAKER_Y</th><th>PLATEMAKER_RA</th><th>PLATEMAKER_DEC</th><th>NUM_ITER</th><th>SPECTROID</th></tr></thead>\n",
       "<thead><tr><th></th><th></th><th></th><th></th><th></th><th>deg</th><th>deg</th><th>1 / deg2</th><th>1 / deg2</th><th></th><th></th><th></th><th></th><th></th><th></th><th>marcsec / yr</th><th>marcsec / yr</th><th></th><th>yr2 / marcsec2</th><th>yr2 / marcsec2</th><th></th><th>nanomaggies</th><th>nanomaggies</th><th>nanomaggies</th><th>nanomaggies</th><th>nanomaggies</th><th>1/nanomaggies**2</th><th>1/nanomaggies**2</th><th>1/nanomaggies**2</th><th>1/nanomaggies**2</th><th>1/nanomaggies**2</th><th>nanomaggies</th><th>nanomaggies</th><th>nanomaggies</th><th>nanomaggies</th><th>nanomaggies</th><th>nanomaggies</th><th>nanomaggies</th><th>nanomaggies</th><th>nanomaggies</th><th>nanomaggies</th><th></th><th></th><th></th><th></th><th></th><th></th><th></th><th></th><th></th><th></th><th></th><th></th><th></th><th></th><th></th><th></th><th>Angstrom</th><th>mm</th><th>mm</th><th></th><th></th><th></th><th>deg</th><th>deg</th><th>1 / deg2</th><th>1 / deg2</th><th>mm</th><th>mm</th><th>deg</th><th>deg</th><th></th><th></th></tr></thead>\n",
       "<thead><tr><th>int64</th><th>int64</th><th>int64</th><th>int64</th><th>int64</th><th>float64</th><th>float64</th><th>float64</th><th>float64</th><th>int64</th><th>int64</th><th>str4</th><th>int32</th><th>float64</th><th>int64</th><th>float32</th><th>float32</th><th>float32</th><th>float32</th><th>float32</th><th>int16</th><th>float32</th><th>float32</th><th>float32</th><th>float32</th><th>float32</th><th>float32</th><th>float32</th><th>float32</th><th>float32</th><th>float32</th><th>float32</th><th>float32</th><th>float32</th><th>float32</th><th>float32</th><th>float32</th><th>float32</th><th>float32</th><th>float32</th><th>float32</th><th>float32</th><th>float32</th><th>float32</th><th>float32</th><th>str1</th><th>int32</th><th>int64</th><th>int64</th><th>int32</th><th>int64</th><th>int32</th><th>int32</th><th>int32</th><th>int32</th><th>int32</th><th>str3</th><th>float32</th><th>float32</th><th>float32</th><th>int64</th><th>uint8</th><th>int16</th><th>float64</th><th>float64</th><th>float32</th><th>float32</th><th>float32</th><th>float32</th><th>float32</th><th>float32</th><th>int32</th><th>int32</th></tr></thead>\n",
       "<tr><td>0</td><td>0</td><td>0</td><td>0</td><td>0</td><td>0.0</td><td>0.0</td><td>0.0</td><td>0.0</td><td>0</td><td>0</td><td></td><td>0</td><td>0.0</td><td>0</td><td>0.0</td><td>0.0</td><td>0.0</td><td>0.0</td><td>0.0</td><td>0</td><td>0.0</td><td>0.0</td><td>0.0</td><td>0.0</td><td>0.0</td><td>0.0</td><td>0.0</td><td>0.0</td><td>0.0</td><td>0.0</td><td>0.0</td><td>0.0</td><td>0.0</td><td>0.0</td><td>0.0</td><td>0.0</td><td>0.0</td><td>0.0</td><td>0.0</td><td>0.0</td><td>0.999</td><td>0.999</td><td>0.999</td><td>0.001</td><td>S</td><td>0</td><td>0</td><td>0</td><td>0</td><td>0</td><td>0</td><td>0</td><td>311</td><td>311</td><td>0</td><td></td><td>5400.0</td><td>83.21898</td><td>-286.66373</td><td>0</td><td>0</td><td>0</td><td>0.0</td><td>0.0</td><td>0.0</td><td>0.0</td><td>0.0</td><td>0.0</td><td>0.0</td><td>0.0</td><td>2</td><td>0</td></tr>\n",
       "<tr><td>1</td><td>0</td><td>0</td><td>0</td><td>0</td><td>0.0</td><td>0.0</td><td>0.0</td><td>0.0</td><td>0</td><td>0</td><td></td><td>0</td><td>0.0</td><td>0</td><td>0.0</td><td>0.0</td><td>0.0</td><td>0.0</td><td>0.0</td><td>0</td><td>0.0</td><td>0.0</td><td>0.0</td><td>0.0</td><td>0.0</td><td>0.0</td><td>0.0</td><td>0.0</td><td>0.0</td><td>0.0</td><td>0.0</td><td>0.0</td><td>0.0</td><td>0.0</td><td>0.0</td><td>0.0</td><td>0.0</td><td>0.0</td><td>0.0</td><td>0.0</td><td>0.999</td><td>0.999</td><td>0.999</td><td>0.001</td><td>S</td><td>0</td><td>0</td><td>0</td><td>0</td><td>0</td><td>1</td><td>0</td><td>272</td><td>272</td><td>0</td><td></td><td>5400.0</td><td>59.109577</td><td>-273.27396</td><td>0</td><td>0</td><td>0</td><td>0.0</td><td>0.0</td><td>0.0</td><td>0.0</td><td>0.0</td><td>0.0</td><td>0.0</td><td>0.0</td><td>2</td><td>0</td></tr>\n",
       "<tr><td>2</td><td>0</td><td>0</td><td>0</td><td>0</td><td>0.0</td><td>0.0</td><td>0.0</td><td>0.0</td><td>0</td><td>0</td><td></td><td>0</td><td>0.0</td><td>0</td><td>0.0</td><td>0.0</td><td>0.0</td><td>0.0</td><td>0.0</td><td>0</td><td>0.0</td><td>0.0</td><td>0.0</td><td>0.0</td><td>0.0</td><td>0.0</td><td>0.0</td><td>0.0</td><td>0.0</td><td>0.0</td><td>0.0</td><td>0.0</td><td>0.0</td><td>0.0</td><td>0.0</td><td>0.0</td><td>0.0</td><td>0.0</td><td>0.0</td><td>0.0</td><td>0.999</td><td>0.999</td><td>0.999</td><td>0.001</td><td>S</td><td>0</td><td>0</td><td>0</td><td>0</td><td>0</td><td>2</td><td>0</td><td>252</td><td>252</td><td>0</td><td></td><td>5400.0</td><td>31.751867</td><td>-269.80435</td><td>0</td><td>0</td><td>0</td><td>0.0</td><td>0.0</td><td>0.0</td><td>0.0</td><td>0.0</td><td>0.0</td><td>0.0</td><td>0.0</td><td>2</td><td>0</td></tr>\n",
       "<tr><td>3</td><td>0</td><td>0</td><td>0</td><td>0</td><td>0.0</td><td>0.0</td><td>0.0</td><td>0.0</td><td>0</td><td>0</td><td></td><td>0</td><td>0.0</td><td>0</td><td>0.0</td><td>0.0</td><td>0.0</td><td>0.0</td><td>0.0</td><td>0</td><td>0.0</td><td>0.0</td><td>0.0</td><td>0.0</td><td>0.0</td><td>0.0</td><td>0.0</td><td>0.0</td><td>0.0</td><td>0.0</td><td>0.0</td><td>0.0</td><td>0.0</td><td>0.0</td><td>0.0</td><td>0.0</td><td>0.0</td><td>0.0</td><td>0.0</td><td>0.0</td><td>0.999</td><td>0.999</td><td>0.999</td><td>0.001</td><td>S</td><td>0</td><td>0</td><td>0</td><td>0</td><td>0</td><td>3</td><td>0</td><td>156</td><td>156</td><td>0</td><td></td><td>5400.0</td><td>0.18432418</td><td>-221.17873</td><td>0</td><td>0</td><td>0</td><td>0.0</td><td>0.0</td><td>0.0</td><td>0.0</td><td>0.0</td><td>0.0</td><td>0.0</td><td>0.0</td><td>2</td><td>0</td></tr>\n",
       "<tr><td>4</td><td>0</td><td>0</td><td>0</td><td>0</td><td>0.0</td><td>0.0</td><td>0.0</td><td>0.0</td><td>0</td><td>0</td><td></td><td>0</td><td>0.0</td><td>0</td><td>0.0</td><td>0.0</td><td>0.0</td><td>0.0</td><td>0.0</td><td>0</td><td>0.0</td><td>0.0</td><td>0.0</td><td>0.0</td><td>0.0</td><td>0.0</td><td>0.0</td><td>0.0</td><td>0.0</td><td>0.0</td><td>0.0</td><td>0.0</td><td>0.0</td><td>0.0</td><td>0.0</td><td>0.0</td><td>0.0</td><td>0.0</td><td>0.0</td><td>0.0</td><td>0.999</td><td>0.999</td><td>0.999</td><td>0.001</td><td>S</td><td>0</td><td>0</td><td>0</td><td>0</td><td>0</td><td>4</td><td>0</td><td>198</td><td>198</td><td>0</td><td></td><td>5400.0</td><td>-19.776659</td><td>-253.03535</td><td>0</td><td>0</td><td>0</td><td>0.0</td><td>0.0</td><td>0.0</td><td>0.0</td><td>0.0</td><td>0.0</td><td>0.0</td><td>0.0</td><td>2</td><td>0</td></tr>\n",
       "<tr><td>5</td><td>0</td><td>0</td><td>0</td><td>0</td><td>0.0</td><td>0.0</td><td>0.0</td><td>0.0</td><td>0</td><td>0</td><td></td><td>0</td><td>0.0</td><td>0</td><td>0.0</td><td>0.0</td><td>0.0</td><td>0.0</td><td>0.0</td><td>0</td><td>0.0</td><td>0.0</td><td>0.0</td><td>0.0</td><td>0.0</td><td>0.0</td><td>0.0</td><td>0.0</td><td>0.0</td><td>0.0</td><td>0.0</td><td>0.0</td><td>0.0</td><td>0.0</td><td>0.0</td><td>0.0</td><td>0.0</td><td>0.0</td><td>0.0</td><td>0.0</td><td>0.999</td><td>0.999</td><td>0.999</td><td>0.001</td><td>S</td><td>0</td><td>0</td><td>0</td><td>0</td><td>0</td><td>5</td><td>0</td><td>204</td><td>204</td><td>0</td><td></td><td>5400.0</td><td>41.488995</td><td>-240.11723</td><td>0</td><td>0</td><td>0</td><td>0.0</td><td>0.0</td><td>0.0</td><td>0.0</td><td>0.0</td><td>0.0</td><td>0.0</td><td>0.0</td><td>2</td><td>0</td></tr>\n",
       "<tr><td>6</td><td>0</td><td>0</td><td>0</td><td>0</td><td>0.0</td><td>0.0</td><td>0.0</td><td>0.0</td><td>0</td><td>0</td><td></td><td>0</td><td>0.0</td><td>0</td><td>0.0</td><td>0.0</td><td>0.0</td><td>0.0</td><td>0.0</td><td>0</td><td>0.0</td><td>0.0</td><td>0.0</td><td>0.0</td><td>0.0</td><td>0.0</td><td>0.0</td><td>0.0</td><td>0.0</td><td>0.0</td><td>0.0</td><td>0.0</td><td>0.0</td><td>0.0</td><td>0.0</td><td>0.0</td><td>0.0</td><td>0.0</td><td>0.0</td><td>0.0</td><td>0.999</td><td>0.999</td><td>0.999</td><td>0.001</td><td>S</td><td>0</td><td>0</td><td>0</td><td>0</td><td>0</td><td>6</td><td>0</td><td>233</td><td>233</td><td>0</td><td></td><td>5400.0</td><td>14.601016</td><td>-264.20517</td><td>0</td><td>0</td><td>0</td><td>0.0</td><td>0.0</td><td>0.0</td><td>0.0</td><td>0.0</td><td>0.0</td><td>0.0</td><td>0.0</td><td>2</td><td>0</td></tr>\n",
       "<tr><td>7</td><td>0</td><td>0</td><td>0</td><td>0</td><td>0.0</td><td>0.0</td><td>0.0</td><td>0.0</td><td>0</td><td>0</td><td></td><td>0</td><td>0.0</td><td>0</td><td>0.0</td><td>0.0</td><td>0.0</td><td>0.0</td><td>0.0</td><td>0</td><td>0.0</td><td>0.0</td><td>0.0</td><td>0.0</td><td>0.0</td><td>0.0</td><td>0.0</td><td>0.0</td><td>0.0</td><td>0.0</td><td>0.0</td><td>0.0</td><td>0.0</td><td>0.0</td><td>0.0</td><td>0.0</td><td>0.0</td><td>0.0</td><td>0.0</td><td>0.0</td><td>0.999</td><td>0.999</td><td>0.999</td><td>0.001</td><td>S</td><td>0</td><td>0</td><td>0</td><td>0</td><td>0</td><td>7</td><td>0</td><td>172</td><td>172</td><td>0</td><td></td><td>5400.0</td><td>17.358227</td><td>-226.7752</td><td>0</td><td>0</td><td>0</td><td>0.0</td><td>0.0</td><td>0.0</td><td>0.0</td><td>0.0</td><td>0.0</td><td>0.0</td><td>0.0</td><td>2</td><td>0</td></tr>\n",
       "<tr><td>8</td><td>0</td><td>0</td><td>0</td><td>0</td><td>0.0</td><td>0.0</td><td>0.0</td><td>0.0</td><td>0</td><td>0</td><td></td><td>0</td><td>0.0</td><td>0</td><td>0.0</td><td>0.0</td><td>0.0</td><td>0.0</td><td>0.0</td><td>0</td><td>0.0</td><td>0.0</td><td>0.0</td><td>0.0</td><td>0.0</td><td>0.0</td><td>0.0</td><td>0.0</td><td>0.0</td><td>0.0</td><td>0.0</td><td>0.0</td><td>0.0</td><td>0.0</td><td>0.0</td><td>0.0</td><td>0.0</td><td>0.0</td><td>0.0</td><td>0.0</td><td>0.999</td><td>0.999</td><td>0.999</td><td>0.001</td><td>S</td><td>0</td><td>0</td><td>0</td><td>0</td><td>0</td><td>8</td><td>0</td><td>310</td><td>310</td><td>0</td><td></td><td>5400.0</td><td>73.0176</td><td>-288.79773</td><td>0</td><td>0</td><td>0</td><td>0.0</td><td>0.0</td><td>0.0</td><td>0.0</td><td>0.0</td><td>0.0</td><td>0.0</td><td>0.0</td><td>2</td><td>0</td></tr>\n",
       "<tr><td>9</td><td>0</td><td>0</td><td>0</td><td>0</td><td>0.0</td><td>0.0</td><td>0.0</td><td>0.0</td><td>0</td><td>0</td><td></td><td>0</td><td>0.0</td><td>0</td><td>0.0</td><td>0.0</td><td>0.0</td><td>0.0</td><td>0.0</td><td>0</td><td>0.0</td><td>0.0</td><td>0.0</td><td>0.0</td><td>0.0</td><td>0.0</td><td>0.0</td><td>0.0</td><td>0.0</td><td>0.0</td><td>0.0</td><td>0.0</td><td>0.0</td><td>0.0</td><td>0.0</td><td>0.0</td><td>0.0</td><td>0.0</td><td>0.0</td><td>0.0</td><td>0.999</td><td>0.999</td><td>0.999</td><td>0.001</td><td>S</td><td>0</td><td>0</td><td>0</td><td>0</td><td>0</td><td>9</td><td>0</td><td>290</td><td>290</td><td>0</td><td></td><td>5400.0</td><td>55.85053</td><td>-283.17615</td><td>0</td><td>0</td><td>0</td><td>0.0</td><td>0.0</td><td>0.0</td><td>0.0</td><td>0.0</td><td>0.0</td><td>0.0</td><td>0.0</td><td>2</td><td>0</td></tr>\n",
       "</table>"
      ],
      "text/plain": [
       "<Table length=10>\n",
       "TARGETID DESI_TARGET BGS_TARGET MWS_TARGET ... PLATEMAKER_DEC NUM_ITER SPECTROID\n",
       "                                           ...      deg                         \n",
       " int64      int64      int64      int64    ...    float32      int32     int32  \n",
       "-------- ----------- ---------- ---------- ... -------------- -------- ---------\n",
       "       0           0          0          0 ...            0.0        2         0\n",
       "       1           0          0          0 ...            0.0        2         0\n",
       "       2           0          0          0 ...            0.0        2         0\n",
       "       3           0          0          0 ...            0.0        2         0\n",
       "       4           0          0          0 ...            0.0        2         0\n",
       "       5           0          0          0 ...            0.0        2         0\n",
       "       6           0          0          0 ...            0.0        2         0\n",
       "       7           0          0          0 ...            0.0        2         0\n",
       "       8           0          0          0 ...            0.0        2         0\n",
       "       9           0          0          0 ...            0.0        2         0"
      ]
     },
     "execution_count": 428,
     "metadata": {},
     "output_type": "execute_result"
    }
   ],
   "source": [
    "fibermap['TARGETID']   = np.arange(len(fibermap))\n",
    "fibermap"
   ]
  },
  {
   "cell_type": "code",
   "execution_count": 429,
   "metadata": {},
   "outputs": [
    {
     "data": {
      "text/plain": [
       "10"
      ]
     },
     "execution_count": 429,
     "metadata": {},
     "output_type": "execute_result"
    }
   ],
   "source": [
    "nspec                  = len(fflux)\n",
    "nspec"
   ]
  },
  {
   "cell_type": "code",
   "execution_count": 431,
   "metadata": {},
   "outputs": [
    {
     "data": {
      "text/plain": [
       "Text(0, 0.5, 'Observed flux [$10^{-17}$ erg/s/cm2/A)]')"
      ]
     },
     "execution_count": 431,
     "metadata": {},
     "output_type": "execute_result"
    },
    {
     "data": {
      "image/png": "[encoded data removed]",
      "text/plain": [
       "<Figure size 432x288 with 1 Axes>"
      ]
     },
     "metadata": {
      "needs_background": "light"
     },
     "output_type": "display_data"
    }
   ],
   "source": [
    "pl.plot(wave, fflux[0,:], c='b',    alpha=0.5)\n",
    "\n",
    "pl.axvline(3727. * (1. + meta['REDSHIFT'][0]), c='gold', alpha=0.2, lw=10.)\n",
    "\n",
    "pl.xlabel('Wavelength [Angstroms]')\n",
    "pl.ylabel('Observed flux [$10^{-17}$ erg/s/cm2/A)]')"
   ]
  },
  {
   "cell_type": "code",
   "execution_count": 432,
   "metadata": {},
   "outputs": [],
   "source": [
    "uflux = fflux * fluxcalib   # Uncalibrated flux [counts/Angstrom] "
   ]
  },
  {
   "cell_type": "code",
   "execution_count": 433,
   "metadata": {},
   "outputs": [
    {
     "data": {
      "text/plain": [
       "Text(0, 0.5, 'Observed flux [Counts/A)]')"
      ]
     },
     "execution_count": 433,
     "metadata": {},
     "output_type": "execute_result"
    },
    {
     "data": {
      "image/png": "[encoded data removed]",
      "text/plain": [
       "<Figure size 432x288 with 1 Axes>"
      ]
     },
     "metadata": {
      "needs_background": "light"
     },
     "output_type": "display_data"
    }
   ],
   "source": [
    "pl.plot(wave, uflux[0,:].T, c='green', alpha=0.9)\n",
    "\n",
    "pl.plot(skies[camera]['WAVELENGTH'][:], skies[camera]['SKY'][0, :].T, alpha=1.0, lw=0.1)\n",
    "\n",
    "pl.axvline(3727. * (1. + meta['REDSHIFT'][0]), c='gold', alpha=0.2, lw=10.)\n",
    "\n",
    "pl.ylim(-10., 1100.)\n",
    "\n",
    "pl.xlabel('Wavelength [Angstroms]')\n",
    "pl.ylabel('Observed flux [Counts/A)]')"
   ]
  },
  {
   "cell_type": "markdown",
   "metadata": {},
   "source": [
    "## Calculate 'templateSNR' for an ensemble of DESI-like targets"
   ]
  },
  {
   "cell_type": "code",
   "execution_count": 442,
   "metadata": {},
   "outputs": [],
   "source": [
    "sky_flux = skies[camera]['SKY'][0, :].T"
   ]
  },
  {
   "cell_type": "code",
   "execution_count": 443,
   "metadata": {},
   "outputs": [
    {
     "name": "stdout",
     "output_type": "stream",
     "text": [
      "Template SNR for the z band is 4186.4345703125.]\n",
      "Template SNR for the z band is 1162.79638671875.]\n",
      "Template SNR for the z band is 551.5596923828125.]\n",
      "Template SNR for the z band is 825.501220703125.]\n",
      "Template SNR for the z band is 265.2255859375.]\n",
      "Template SNR for the z band is 961.2539672851562.]\n",
      "Template SNR for the z band is 5603.70947265625.]\n",
      "Template SNR for the z band is 66.00599670410156.]\n",
      "Template SNR for the z band is 2369.867431640625.]\n",
      "Template SNR for the z band is 1159.997802734375.]\n"
     ]
    }
   ],
   "source": [
    "meta['TEMPLATESNR'] = np.zeros_like(meta['REDSHIFT'])\n",
    "\n",
    "for i, template_flux in enumerate(fflux):\n",
    "    meta['TEMPLATESNR'][i] = templateSNR(template_flux, sky_flux[0], fluxcalib[0])\n",
    "    \n",
    "    print('Template SNR for the {} band is {}.]'.format(camera, meta['TEMPLATESNR'][i]))"
   ]
  },
  {
   "cell_type": "code",
   "execution_count": 444,
   "metadata": {},
   "outputs": [
    {
     "data": {
      "text/html": [
       "<i>Table length=10</i>\n",
       "<table id=\"table47007768886072\" class=\"table-striped table-bordered table-condensed\">\n",
       "<thead><tr><th>TARGETID</th><th>OBJTYPE</th><th>SUBTYPE</th><th>TEMPLATEID</th><th>SEED</th><th>REDSHIFT</th><th>MAG</th><th>MAGFILTER</th><th>FLUX_G</th><th>FLUX_R</th><th>FLUX_Z</th><th>FLUX_W1</th><th>FLUX_W2</th><th>MAG_G</th><th>MAG_R</th><th>MAG_Z</th><th>TEMPLATESNR</th></tr></thead>\n",
       "<thead><tr><th></th><th></th><th></th><th></th><th></th><th></th><th>mag</th><th></th><th>nanomaggies</th><th>nanomaggies</th><th>nanomaggies</th><th>nanomaggies</th><th>nanomaggies</th><th>nanomaggies</th><th>nanomaggies</th><th>nanomaggies</th><th></th></tr></thead>\n",
       "<thead><tr><th>int64</th><th>str10</th><th>str10</th><th>int16</th><th>int64</th><th>float32</th><th>float32</th><th>str15</th><th>float32</th><th>float32</th><th>float32</th><th>float32</th><th>float32</th><th>float32</th><th>float32</th><th>float32</th><th>float32</th></tr></thead>\n",
       "<tr><td>0</td><td>ELG</td><td></td><td>1501</td><td>37978649</td><td>1.3973327</td><td>21.143538</td><td>decam2014-g</td><td>3.4880683</td><td>4.331747</td><td>7.5806108</td><td>14.664615</td><td>14.090468</td><td>21.143538</td><td>20.908342</td><td>20.30074</td><td>4186.4346</td></tr>\n",
       "<tr><td>1</td><td>ELG</td><td></td><td>5796</td><td>1531825680</td><td>0.91115135</td><td>21.053633</td><td>decam2014-g</td><td>3.7891946</td><td>4.2492356</td><td>9.476098</td><td>21.184353</td><td>14.82427</td><td>21.053633</td><td>20.929222</td><td>20.058426</td><td>1162.7964</td></tr>\n",
       "<tr><td>2</td><td>ELG</td><td></td><td>4833</td><td>1062122751</td><td>1.0242573</td><td>21.11597</td><td>decam2014-g</td><td>3.5777645</td><td>3.9406073</td><td>7.858354</td><td>27.88119</td><td>20.869534</td><td>21.11597</td><td>21.011091</td><td>20.261671</td><td>551.5597</td></tr>\n",
       "<tr><td>3</td><td>ELG</td><td></td><td>3384</td><td>3764169279</td><td>1.5762113</td><td>22.8048</td><td>decam2014-g</td><td>0.7552313</td><td>1.0821304</td><td>1.7585948</td><td>5.4686937</td><td>6.20978</td><td>22.8048</td><td>22.4143</td><td>21.887085</td><td>825.5012</td></tr>\n",
       "<tr><td>4</td><td>ELG</td><td></td><td>5748</td><td>1691890573</td><td>1.4741949</td><td>23.213535</td><td>decam2014-g</td><td>0.5183056</td><td>0.704265</td><td>1.3843595</td><td>3.2476637</td><td>3.133984</td><td>23.213535</td><td>22.88066</td><td>22.146877</td><td>265.2256</td></tr>\n",
       "<tr><td>5</td><td>ELG</td><td></td><td>4772</td><td>997461941</td><td>1.031699</td><td>21.503859</td><td>decam2014-g</td><td>2.5029755</td><td>2.7795439</td><td>6.6488905</td><td>15.906907</td><td>12.153696</td><td>21.503859</td><td>21.390066</td><td>20.443127</td><td>961.25397</td></tr>\n",
       "<tr><td>6</td><td>ELG</td><td></td><td>2607</td><td>1469546315</td><td>0.6990802</td><td>21.490032</td><td>decam2014-g</td><td>2.5350535</td><td>3.9882565</td><td>8.58287</td><td>21.133049</td><td>13.112067</td><td>21.490032</td><td>20.998043</td><td>20.165918</td><td>5603.7095</td></tr>\n",
       "<tr><td>7</td><td>ELG</td><td></td><td>3837</td><td>924121918</td><td>1.5292765</td><td>21.820658</td><td>decam2014-g</td><td>1.8695493</td><td>2.0828574</td><td>2.8105333</td><td>6.825107</td><td>7.128939</td><td>21.820658</td><td>21.703352</td><td>21.378029</td><td>66.006</td></tr>\n",
       "<tr><td>8</td><td>ELG</td><td></td><td>7572</td><td>2355893999</td><td>1.4088154</td><td>21.089424</td><td>decam2014-g</td><td>3.6663198</td><td>4.763507</td><td>9.945064</td><td>24.248974</td><td>23.755026</td><td>21.089424</td><td>20.805183</td><td>20.005981</td><td>2369.8674</td></tr>\n",
       "<tr><td>9</td><td>ELG</td><td></td><td>5496</td><td>2737818470</td><td>1.2765722</td><td>22.660927</td><td>decam2014-g</td><td>0.8622422</td><td>1.0306556</td><td>2.8832822</td><td>8.085474</td><td>7.4984956</td><td>22.660927</td><td>22.467216</td><td>21.350283</td><td>1159.9978</td></tr>\n",
       "</table>"
      ],
      "text/plain": [
       "<Table length=10>\n",
       "TARGETID OBJTYPE SUBTYPE TEMPLATEID ...    MAG_R       MAG_Z    TEMPLATESNR\n",
       "                                    ... nanomaggies nanomaggies            \n",
       " int64    str10   str10    int16    ...   float32     float32     float32  \n",
       "-------- ------- ------- ---------- ... ----------- ----------- -----------\n",
       "       0     ELG               1501 ...   20.908342    20.30074   4186.4346\n",
       "       1     ELG               5796 ...   20.929222   20.058426   1162.7964\n",
       "       2     ELG               4833 ...   21.011091   20.261671    551.5597\n",
       "       3     ELG               3384 ...     22.4143   21.887085    825.5012\n",
       "       4     ELG               5748 ...    22.88066   22.146877    265.2256\n",
       "       5     ELG               4772 ...   21.390066   20.443127   961.25397\n",
       "       6     ELG               2607 ...   20.998043   20.165918   5603.7095\n",
       "       7     ELG               3837 ...   21.703352   21.378029      66.006\n",
       "       8     ELG               7572 ...   20.805183   20.005981   2369.8674\n",
       "       9     ELG               5496 ...   22.467216   21.350283   1159.9978"
      ]
     },
     "execution_count": 444,
     "metadata": {},
     "output_type": "execute_result"
    }
   ],
   "source": [
    "meta"
   ]
  },
  {
   "cell_type": "markdown",
   "metadata": {},
   "source": [
    "##  Post-process spectra post redrock, calculate templateSNR for the redrock best-fit template."
   ]
  },
  {
   "cell_type": "markdown",
   "metadata": {},
   "source": [
    "First, run redshift fitting. "
   ]
  },
  {
   "cell_type": "code",
   "execution_count": 384,
   "metadata": {},
   "outputs": [],
   "source": [
    "# https://github.com/desihub/desisim/blob/c64ad6c14f36409833ad8616cb8ce180b1af54c1/py/desisim/scripts/quickspectra.py#L248"
   ]
  },
  {
   "cell_type": "code",
   "execution_count": 410,
   "metadata": {},
   "outputs": [],
   "source": [
    "spec = Spectra([camera], {camera: wave}, {camera: fflux}, {camera: flux_ivar}, \n",
    "               resolution_data={camera: res}, \n",
    "               mask={camera: mask}, \n",
    "               fibermap=fibermap, \n",
    "               meta=None,\n",
    "               single=False)"
   ]
  },
  {
   "cell_type": "code",
   "execution_count": 475,
   "metadata": {},
   "outputs": [
    {
     "data": {
      "text/plain": [
       "'/global/scratch/mjwilson/spec_test.fits'"
      ]
     },
     "execution_count": 475,
     "metadata": {},
     "output_type": "execute_result"
    }
   ],
   "source": [
    "desispec.io.write_spectra(os.environ['RESULTS'] + '/spec_test.fits', spec)  "
   ]
  },
  {
   "cell_type": "code",
   "execution_count": 412,
   "metadata": {},
   "outputs": [
    {
     "data": {
      "text/plain": [
       "'/global/scratch/mjwilson/test-zbest.fits'"
      ]
     },
     "execution_count": 412,
     "metadata": {},
     "output_type": "execute_result"
    }
   ],
   "source": [
    "# https://github.com/desihub/tutorials/blob/master/simulating-desi-spectra.ipynb\n",
    "zbest_file = os.path.join(os.environ['RESULTS'], 'test-zbest.fits')\n",
    "zbest_file"
   ]
  },
  {
   "cell_type": "code",
   "execution_count": 413,
   "metadata": {},
   "outputs": [
    {
     "name": "stdout",
     "output_type": "stream",
     "text": [
      "srun -A desi -N 1 -t 00:10:00 -C haswell --qos interactive rrdesi /global/scratch/mjwilson/spec_test.fits --zbest /global/scratch/mjwilson/test-zbest.fits --mp 32\n"
     ]
    }
   ],
   "source": [
    "cmd  = 'rrdesi {} --zbest {}'.format(os.environ['RESULTS'] + '/spec_test.fits', zbest_file)\n",
    "srun = 'srun -A desi -N 1 -t 00:10:00 -C haswell --qos interactive'\n",
    "cmd  = '{} {} --mp 32'.format(srun, cmd)\n",
    "\n",
    "print(cmd)"
   ]
  },
  {
   "cell_type": "markdown",
   "metadata": {},
   "source": [
    "Run on Cori Linux.  Finished?  Get the results."
   ]
  },
  {
   "cell_type": "code",
   "execution_count": 476,
   "metadata": {},
   "outputs": [],
   "source": [
    "zbest = Table.read(zbest_file, 'ZBEST')"
   ]
  },
  {
   "cell_type": "code",
   "execution_count": 477,
   "metadata": {},
   "outputs": [
    {
     "data": {
      "text/html": [
       "<i>Table length=10</i>\n",
       "<table id=\"table47007855771432\" class=\"table-striped table-bordered table-condensed\">\n",
       "<thead><tr><th>TARGETID</th><th>CHI2</th><th>COEFF [10]</th><th>Z</th><th>ZERR</th><th>ZWARN</th><th>NPIXELS</th><th>SPECTYPE</th><th>SUBTYPE</th><th>NCOEFF</th><th>DELTACHI2</th><th>NUMEXP</th><th>NUMTILE</th></tr></thead>\n",
       "<thead><tr><th>int64</th><th>float64</th><th>float64</th><th>float64</th><th>float64</th><th>int64</th><th>int64</th><th>bytes6</th><th>bytes20</th><th>int64</th><th>float64</th><th>int32</th><th>int32</th></tr></thead>\n",
       "<tr><td>0</td><td>22.580081939697266</td><td>653.0876369931988 .. 6.37568758664233</td><td>1.3100869702177393</td><td>8.935011994166372e-06</td><td>0</td><td>2824</td><td>GALAXY</td><td></td><td>10</td><td>2045.5821437835693</td><td>0</td><td>0</td></tr>\n",
       "<tr><td>1</td><td>0.013298578560352325</td><td>43.12104837085008 .. -1.5108435448653719</td><td>0.8230366115658144</td><td>0.00010897921340766428</td><td>4</td><td>2824</td><td>GALAXY</td><td></td><td>10</td><td>6.702164076268673</td><td>0</td><td>0</td></tr>\n",
       "<tr><td>2</td><td>-0.00795450434088707</td><td>38.11455486767964 .. -1.4692348064930858</td><td>1.2281861099328213</td><td>0.0003424531986663416</td><td>1028</td><td>2824</td><td>GALAXY</td><td></td><td>10</td><td>3.3046575833577663</td><td>0</td><td>0</td></tr>\n",
       "<tr><td>3</td><td>2.5816218852996826</td><td>197.52951261674428 .. -9.890955349036696</td><td>1.046448947286915</td><td>2.854876922255824e-05</td><td>0</td><td>2824</td><td>GALAXY</td><td></td><td>10</td><td>454.6912048757076</td><td>0</td><td>0</td></tr>\n",
       "<tr><td>4</td><td>0.05220744013786316</td><td>88.60492928685976 .. -1.426798932314001</td><td>1.3435528176830518</td><td>0.0003021439294831344</td><td>0</td><td>2824</td><td>GALAXY</td><td></td><td>10</td><td>9.584243047982454</td><td>0</td><td>0</td></tr>\n",
       "<tr><td>5</td><td>0.09166119992733002</td><td>249.2181060045753 .. 4.701102916107816</td><td>0.6056865549147086</td><td>0.00011787602616745535</td><td>0</td><td>2824</td><td>GALAXY</td><td></td><td>10</td><td>16.530208059120923</td><td>0</td><td>0</td></tr>\n",
       "<tr><td>6</td><td>0.024365562945604324</td><td>48.015515409492096 .. -0.5698022286219572</td><td>1.3425152967433178</td><td>0.0002767394375020456</td><td>4</td><td>2824</td><td>GALAXY</td><td></td><td>10</td><td>2.3092080084607005</td><td>0</td><td>0</td></tr>\n",
       "<tr><td>7</td><td>2.0550081729888916</td><td>504.399757282469 .. 6.483042340220722</td><td>1.446052038444662</td><td>3.2132671850207165e-05</td><td>0</td><td>2824</td><td>GALAXY</td><td></td><td>10</td><td>258.90633994340897</td><td>0</td><td>0</td></tr>\n",
       "<tr><td>8</td><td>0.011965177953243256</td><td>99.01840175390069 .. 1.5474871552137806</td><td>1.2515139360852061</td><td>0.00021295196321123288</td><td>0</td><td>2824</td><td>GALAXY</td><td></td><td>10</td><td>16.26281007193029</td><td>0</td><td>0</td></tr>\n",
       "<tr><td>9</td><td>0.009179279208183289</td><td>74.15070783794762 .. 1.0092785000088476</td><td>0.7733689723744485</td><td>8.289696497501113e-05</td><td>0</td><td>2824</td><td>GALAXY</td><td></td><td>10</td><td>13.211052767932415</td><td>0</td><td>0</td></tr>\n",
       "</table>"
      ],
      "text/plain": [
       "<Table length=10>\n",
       "TARGETID         CHI2         ... NUMEXP NUMTILE\n",
       " int64         float64        ... int32   int32 \n",
       "-------- -------------------- ... ------ -------\n",
       "       0   22.580081939697266 ...      0       0\n",
       "       1 0.013298578560352325 ...      0       0\n",
       "       2 -0.00795450434088707 ...      0       0\n",
       "       3   2.5816218852996826 ...      0       0\n",
       "       4  0.05220744013786316 ...      0       0\n",
       "       5  0.09166119992733002 ...      0       0\n",
       "       6 0.024365562945604324 ...      0       0\n",
       "       7   2.0550081729888916 ...      0       0\n",
       "       8 0.011965177953243256 ...      0       0\n",
       "       9 0.009179279208183289 ...      0       0"
      ]
     },
     "execution_count": 477,
     "metadata": {},
     "output_type": "execute_result"
    }
   ],
   "source": [
    "zbest"
   ]
  },
  {
   "cell_type": "code",
   "execution_count": 480,
   "metadata": {},
   "outputs": [
    {
     "data": {
      "text/html": [
       "<i>Table length=10</i>\n",
       "<table id=\"table47007768886072\" class=\"table-striped table-bordered table-condensed\">\n",
       "<thead><tr><th>TARGETID</th><th>OBJTYPE</th><th>SUBTYPE</th><th>TEMPLATEID</th><th>SEED</th><th>REDSHIFT</th><th>MAG</th><th>MAGFILTER</th><th>FLUX_G</th><th>FLUX_R</th><th>FLUX_Z</th><th>FLUX_W1</th><th>FLUX_W2</th><th>MAG_G</th><th>MAG_R</th><th>MAG_Z</th><th>TEMPLATESNR</th></tr></thead>\n",
       "<thead><tr><th></th><th></th><th></th><th></th><th></th><th></th><th>mag</th><th></th><th>nanomaggies</th><th>nanomaggies</th><th>nanomaggies</th><th>nanomaggies</th><th>nanomaggies</th><th>nanomaggies</th><th>nanomaggies</th><th>nanomaggies</th><th></th></tr></thead>\n",
       "<thead><tr><th>int64</th><th>str10</th><th>str10</th><th>int16</th><th>int64</th><th>float32</th><th>float32</th><th>str15</th><th>float32</th><th>float32</th><th>float32</th><th>float32</th><th>float32</th><th>float32</th><th>float32</th><th>float32</th><th>float32</th></tr></thead>\n",
       "<tr><td>0</td><td>ELG</td><td></td><td>1501</td><td>37978649</td><td>1.3973327</td><td>21.143538</td><td>decam2014-g</td><td>3.4880683</td><td>4.331747</td><td>7.5806108</td><td>14.664615</td><td>14.090468</td><td>21.143538</td><td>20.908342</td><td>20.30074</td><td>4186.4346</td></tr>\n",
       "<tr><td>1</td><td>ELG</td><td></td><td>5796</td><td>1531825680</td><td>0.91115135</td><td>21.053633</td><td>decam2014-g</td><td>3.7891946</td><td>4.2492356</td><td>9.476098</td><td>21.184353</td><td>14.82427</td><td>21.053633</td><td>20.929222</td><td>20.058426</td><td>1162.7964</td></tr>\n",
       "<tr><td>2</td><td>ELG</td><td></td><td>4833</td><td>1062122751</td><td>1.0242573</td><td>21.11597</td><td>decam2014-g</td><td>3.5777645</td><td>3.9406073</td><td>7.858354</td><td>27.88119</td><td>20.869534</td><td>21.11597</td><td>21.011091</td><td>20.261671</td><td>551.5597</td></tr>\n",
       "<tr><td>3</td><td>ELG</td><td></td><td>3384</td><td>3764169279</td><td>1.5762113</td><td>22.8048</td><td>decam2014-g</td><td>0.7552313</td><td>1.0821304</td><td>1.7585948</td><td>5.4686937</td><td>6.20978</td><td>22.8048</td><td>22.4143</td><td>21.887085</td><td>825.5012</td></tr>\n",
       "<tr><td>4</td><td>ELG</td><td></td><td>5748</td><td>1691890573</td><td>1.4741949</td><td>23.213535</td><td>decam2014-g</td><td>0.5183056</td><td>0.704265</td><td>1.3843595</td><td>3.2476637</td><td>3.133984</td><td>23.213535</td><td>22.88066</td><td>22.146877</td><td>265.2256</td></tr>\n",
       "<tr><td>5</td><td>ELG</td><td></td><td>4772</td><td>997461941</td><td>1.031699</td><td>21.503859</td><td>decam2014-g</td><td>2.5029755</td><td>2.7795439</td><td>6.6488905</td><td>15.906907</td><td>12.153696</td><td>21.503859</td><td>21.390066</td><td>20.443127</td><td>961.25397</td></tr>\n",
       "<tr><td>6</td><td>ELG</td><td></td><td>2607</td><td>1469546315</td><td>0.6990802</td><td>21.490032</td><td>decam2014-g</td><td>2.5350535</td><td>3.9882565</td><td>8.58287</td><td>21.133049</td><td>13.112067</td><td>21.490032</td><td>20.998043</td><td>20.165918</td><td>5603.7095</td></tr>\n",
       "<tr><td>7</td><td>ELG</td><td></td><td>3837</td><td>924121918</td><td>1.5292765</td><td>21.820658</td><td>decam2014-g</td><td>1.8695493</td><td>2.0828574</td><td>2.8105333</td><td>6.825107</td><td>7.128939</td><td>21.820658</td><td>21.703352</td><td>21.378029</td><td>66.006</td></tr>\n",
       "<tr><td>8</td><td>ELG</td><td></td><td>7572</td><td>2355893999</td><td>1.4088154</td><td>21.089424</td><td>decam2014-g</td><td>3.6663198</td><td>4.763507</td><td>9.945064</td><td>24.248974</td><td>23.755026</td><td>21.089424</td><td>20.805183</td><td>20.005981</td><td>2369.8674</td></tr>\n",
       "<tr><td>9</td><td>ELG</td><td></td><td>5496</td><td>2737818470</td><td>1.2765722</td><td>22.660927</td><td>decam2014-g</td><td>0.8622422</td><td>1.0306556</td><td>2.8832822</td><td>8.085474</td><td>7.4984956</td><td>22.660927</td><td>22.467216</td><td>21.350283</td><td>1159.9978</td></tr>\n",
       "</table>"
      ],
      "text/plain": [
       "<Table length=10>\n",
       "TARGETID OBJTYPE SUBTYPE TEMPLATEID ...    MAG_R       MAG_Z    TEMPLATESNR\n",
       "                                    ... nanomaggies nanomaggies            \n",
       " int64    str10   str10    int16    ...   float32     float32     float32  \n",
       "-------- ------- ------- ---------- ... ----------- ----------- -----------\n",
       "       0     ELG               1501 ...   20.908342    20.30074   4186.4346\n",
       "       1     ELG               5796 ...   20.929222   20.058426   1162.7964\n",
       "       2     ELG               4833 ...   21.011091   20.261671    551.5597\n",
       "       3     ELG               3384 ...     22.4143   21.887085    825.5012\n",
       "       4     ELG               5748 ...    22.88066   22.146877    265.2256\n",
       "       5     ELG               4772 ...   21.390066   20.443127   961.25397\n",
       "       6     ELG               2607 ...   20.998043   20.165918   5603.7095\n",
       "       7     ELG               3837 ...   21.703352   21.378029      66.006\n",
       "       8     ELG               7572 ...   20.805183   20.005981   2369.8674\n",
       "       9     ELG               5496 ...   22.467216   21.350283   1159.9978"
      ]
     },
     "execution_count": 480,
     "metadata": {},
     "output_type": "execute_result"
    }
   ],
   "source": [
    "meta"
   ]
  },
  {
   "cell_type": "code",
   "execution_count": 481,
   "metadata": {},
   "outputs": [
    {
     "data": {
      "text/plain": [
       "Text(0, 0.5, 'REDROCK REDSHIFT')"
      ]
     },
     "execution_count": 481,
     "metadata": {},
     "output_type": "execute_result"
    },
    {
     "data": {
      "image/png": "[encoded data removed]",
      "text/plain": [
       "<Figure size 432x288 with 1 Axes>"
      ]
     },
     "metadata": {
      "needs_background": "light"
     },
     "output_type": "display_data"
    }
   ],
   "source": [
    "pl.plot(meta['REDSHIFT'], zbest['Z'], marker='.', lw=0.0)\n",
    "\n",
    "pl.xlabel('TRUE    REDSHIFT')\n",
    "pl.ylabel('REDROCK REDSHIFT')"
   ]
  },
  {
   "cell_type": "code",
   "execution_count": 482,
   "metadata": {},
   "outputs": [
    {
     "data": {
      "text/plain": [
       "Text(0, 0.5, '$\\\\log_{10}|\\\\Delta \\\\chi^2|$')"
      ]
     },
     "execution_count": 482,
     "metadata": {},
     "output_type": "execute_result"
    },
    {
     "data": {
      "image/png": "[encoded data removed]",
      "text/plain": [
       "<Figure size 432x288 with 1 Axes>"
      ]
     },
     "metadata": {
      "needs_background": "light"
     },
     "output_type": "display_data"
    }
   ],
   "source": [
    "pl.plot(np.log10(meta['TEMPLATESNR']), np.log10(zbest['DELTACHI2']), marker='.', lw=0.0, c='k')\n",
    "\n",
    "pl.xlabel('$\\log_{10}$|TEMPLATE SNR|')\n",
    "pl.ylabel('$\\log_{10}|\\Delta \\chi^2|$')"
   ]
  },
  {
   "cell_type": "code",
   "execution_count": 458,
   "metadata": {},
   "outputs": [
    {
     "name": "stdout",
     "output_type": "stream",
     "text": [
      "DEBUG: Read templates from /global/scratch/mjwilson/miniconda3/envs/desi/code/redrock-templates\n",
      "DEBUG: Using default redshift range -0.0050-1.6997 for rrtemplate-galaxy.fits\n",
      "DEBUG: Using default redshift range 0.0500-5.9934 for rrtemplate-qso.fits\n",
      "DEBUG: Using default redshift range -0.0020-0.0020 for rrtemplate-star-A.fits\n",
      "DEBUG: Using default redshift range -0.0020-0.0020 for rrtemplate-star-B.fits\n",
      "DEBUG: Using default redshift range -0.0020-0.0020 for rrtemplate-star-CV.fits\n",
      "DEBUG: Using default redshift range -0.0020-0.0020 for rrtemplate-star-F.fits\n",
      "DEBUG: Using default redshift range -0.0020-0.0020 for rrtemplate-star-G.fits\n",
      "DEBUG: Using default redshift range -0.0020-0.0020 for rrtemplate-star-K.fits\n",
      "DEBUG: Using default redshift range -0.0020-0.0020 for rrtemplate-star-M.fits\n",
      "DEBUG: Using default redshift range -0.0020-0.0020 for rrtemplate-star-WD.fits\n"
     ]
    }
   ],
   "source": [
    "# Import redrock templates\n",
    "templates = dict()\n",
    "\n",
    "for filename in redrock.templates.find_templates():\n",
    "    t = redrock.templates.Template(filename)\n",
    "    templates[(t.template_type, t.sub_type)] = t"
   ]
  },
  {
   "cell_type": "code",
   "execution_count": 483,
   "metadata": {},
   "outputs": [],
   "source": [
    "rr_z     = zbest['Z'][0]\n",
    "\n",
    "spectype = zbest['SPECTYPE'][0].strip()\n",
    "subtype  = zbest['SUBTYPE'][0].strip()\n",
    "\n",
    "fulltype = (spectype, subtype)\n",
    "ncoeff   = templates[fulltype].flux.shape[0]\n",
    "\n",
    "coeff    = zbest['COEFF'][0][0:ncoeff]"
   ]
  },
  {
   "cell_type": "code",
   "execution_count": 484,
   "metadata": {},
   "outputs": [
    {
     "data": {
      "text/plain": [
       "(1.3973327, 1.3100869702177393)"
      ]
     },
     "execution_count": 484,
     "metadata": {},
     "output_type": "execute_result"
    }
   ],
   "source": [
    "meta['REDSHIFT'][0], zbest['Z'][0]"
   ]
  },
  {
   "cell_type": "code",
   "execution_count": 485,
   "metadata": {},
   "outputs": [
    {
     "data": {
      "text/plain": [
       "(1.3100869702177393, ('GALAXY', ''))"
      ]
     },
     "execution_count": 485,
     "metadata": {},
     "output_type": "execute_result"
    }
   ],
   "source": [
    "rr_z, fulltype"
   ]
  },
  {
   "cell_type": "code",
   "execution_count": 486,
   "metadata": {},
   "outputs": [],
   "source": [
    "tflux    = templates[fulltype].flux.T.dot(coeff)\n",
    "twave    = templates[fulltype].wave * (1. + rr_z)"
   ]
  },
  {
   "cell_type": "code",
   "execution_count": 487,
   "metadata": {},
   "outputs": [],
   "source": [
    "R        = Resolution(res[0])\n",
    "txflux   = R.dot(resample_flux(wave, twave, tflux))"
   ]
  },
  {
   "cell_type": "code",
   "execution_count": 488,
   "metadata": {},
   "outputs": [
    {
     "data": {
      "text/plain": [
       "Text(0, 0.5, 'Observed flux [$10^{-17}$ erg/s/cm2/A)]')"
      ]
     },
     "execution_count": 488,
     "metadata": {},
     "output_type": "execute_result"
    },
    {
     "data": {
      "image/png": "[encoded data removed]",
      "text/plain": [
       "<Figure size 432x288 with 1 Axes>"
      ]
     },
     "metadata": {
      "needs_background": "light"
     },
     "output_type": "display_data"
    }
   ],
   "source": [
    "pl.plot(wave, fflux[0,:].T,  c='blue', alpha=0.9)\n",
    "pl.plot(wave, txflux,        c='gold', alpha=1.0)\n",
    "\n",
    "pl.xlim(wave[0], wave[-1])\n",
    "\n",
    "pl.xlabel('Wavelength [Angstroms]')\n",
    "pl.ylabel('Observed flux [$10^{-17}$ erg/s/cm2/A)]')"
   ]
  },
  {
   "cell_type": "code",
   "execution_count": 490,
   "metadata": {},
   "outputs": [
    {
     "name": "stdout",
     "output_type": "stream",
     "text": [
      "Template SNR for the z band is 4186.434542978441.]\n"
     ]
    }
   ],
   "source": [
    "print('Template SNR for the {} band is {}.]'.format(camera, templateSNR(fflux[0,:], sky_flux[0], fluxcalib[0])))"
   ]
  },
  {
   "cell_type": "code",
   "execution_count": 491,
   "metadata": {},
   "outputs": [
    {
     "name": "stdout",
     "output_type": "stream",
     "text": [
      "RRTemplate SNR for the z band is 61176.32170418853.]\n"
     ]
    }
   ],
   "source": [
    "print('RRTemplate SNR for the {} band is {}.]'.format(camera, templateSNR(txflux, sky_flux[0], fluxcalib[0])))"
   ]
  },
  {
   "cell_type": "markdown",
   "metadata": {},
   "source": [
    "##  Rad. weights"
   ]
  },
  {
   "cell_type": "markdown",
   "metadata": {},
   "source": [
    "_Each tile, each fiber, a redshift efficiency as a function of redshift and target magnitude, per target class. This could be\n",
    "for instance in the form of fits images in 3D (fiber x redshift x magnitude), with one HDU per target class, and one fits\n",
    "file per tile_"
   ]
  },
  {
   "cell_type": "code",
   "execution_count": 511,
   "metadata": {},
   "outputs": [],
   "source": [
    "hdr             = fits.open(specpath)[0].header\n",
    "\n",
    "hdr['EXTNAME']  = 'RADWEIGHT'\n",
    "\n",
    "primary         = fits.PrimaryHDU(header=hdr)\n",
    "\n",
    "# LRG\n",
    "lrg_radweight   = fits.ImageHDU(np.zeros((1, 25, 25)), name='LRG')\n",
    "\n",
    "# ELG\n",
    "elg_radweight   = fits.ImageHDU(np.zeros((1, 25, 25)), name='ELG')\n",
    "\n",
    "# QSO\n",
    "qso_radweight   = fits.ImageHDU(np.zeros((1, 25, 25)), name='QSO')\n",
    "\n",
    "# List\n",
    "all_hdus        = fits.HDUList([primary, lrg_radweight, elg_radweight, qso_radweight])\n",
    "\n",
    "all_hdus.writeto('/global/cscratch1/sd/mjwilson/desi/radweights/lss_radweights.fits', overwrite=True)"
   ]
  },
  {
   "cell_type": "code",
   "execution_count": 512,
   "metadata": {},
   "outputs": [
    {
     "data": {
      "text/plain": [
       "SIMPLE  =                    T / conforms to FITS standard                      \n",
       "BITPIX  =                  -32 / array data type                                \n",
       "NAXIS   =                    2 / number of array dimensions                     \n",
       "NAXIS1  =                 2881                                                  \n",
       "NAXIS2  =                  500                                                  \n",
       "EXTEND  =                    T                                                  \n",
       "EXTNAME = 'RADWEIGHT'                                                           \n",
       "OBSERVAT= 'KPNO    '           / Observatory name                               \n",
       "OBS-LAT = '31.96403'           / [deg] Observatory latitude                     \n",
       "OBS-LONG= '-111.59989'         / [deg] Observatory east longitude               \n",
       "OBS-ELEV=                2097. / [m] Observatory elevation                      \n",
       "TELESCOP= 'KPNO 4.0-m telescope' / Telescope name                               \n",
       "INSTRUME= 'DESI    '           / Instrument name                                \n",
       "CORRCTOR= 'DESI Corrector'     / Corrector Identification                       \n",
       "PROCTYPE= 'RAW     '           / Data processing level                          \n",
       "PRODTYPE= 'image   '           / Data product type                              \n",
       "PROGRAM = 'Mini SV ELG Tile 67230' / Program name                               \n",
       "OBSERVER= 'DESIObserver'       / Names of observers                             \n",
       "LEAD    = 'Luke Tyas'          / Lead observer                                  \n",
       "PROPID  = '2019B-5000'         / Proposal ID                                    \n",
       "TILEID  =                67230 / DESI Tile ID                                   \n",
       "EXPID   =                55381 / Exposure number                                \n",
       "EXPFRAME=                    0 / Frame number                                   \n",
       "FILENAME= '/exposures/desi/specs/20200314/00055381/sp5-00055381.fits.fz' / Name \n",
       "FLAVOR  = 'science '           / Observation type                               \n",
       "REQTIME =                 900. / [s] Requested exposure time                    \n",
       "EXPTIME =                 900. / [s] Actual exposure time                       \n",
       "OBSID   = 'kp4m20200315t050220' / Unique observation identifier                 \n",
       "FOCUS   = '1070.4,-272.6,597.6,-19.2,22.4,204.6' / Telescope focus settings     \n",
       "TIMESYS = 'UTC     '           / Time system used for date-obs                  \n",
       "RADESYS = 'FK5     '           / Coordinate reference frame of major/minor axes \n",
       "EPOCH   =                2000. / Epoch of observation                           \n",
       "NIGHT   = '20200314'           / Observing night                                \n",
       "DATE-OBS= '2020-03-15T05:02:20.536518' / [UTC] Observation data and start time  \n",
       "TIME-OBS= '05:02:20.536518'    / [UTC] Observation start time                   \n",
       "MJD-OBS =       58923.20995991 / Modified Julian Date of observation            \n",
       "ST      = '09:08:59.660'       / Local Sidereal time at observation start (HH:MM\n",
       "REQRA   =     138.997356099811 / [deg] Requested right ascension (observer input\n",
       "REQDEC  =    0.574227370375913 / [deg] Requested declination (observer input)   \n",
       "TARGTRA =           138.997958 / [deg] Target right ascension (to TCS)          \n",
       "TARGTDEC=              0.56765 / [deg] Target declination (to TCS)              \n",
       "SKYRA   =           138.997958 / [deg] Telescope right ascension (pointing on sk\n",
       "SKYDEC  =              0.56765 / [deg] Telescope declination (pointing on sky)  \n",
       "SPECGRPH=                    0 / Spectrograph logical name (SP)                 \n",
       "SPECID  =                    4 / Spectrograph serial number (SM)                \n",
       "DETECTOR= 'M1-53   '           / Detector (ccd) identification                  \n",
       "CAMERA  = 'z0      '           / Camera name                                    \n",
       "CCDNAME = 'CCDSM4Z '           / CCD name                                       \n",
       "CCDPREP = 'purge,clear'        / CCD prep actions                               \n",
       "CCDSIZE = '4194,4256'          / CCD size in pixels (rows, columns)             \n",
       "CCDTEMP =            -137.7093 / [deg C] CCD controller CCD temperature         \n",
       "CPUTEMP =              59.9472 / [deg C] CCD controller CPU temperature         \n",
       "CASETEMP=              60.3064 / [deg C] CCD controller case temperature        \n",
       "CCDTMING= 'default_lbnl_timing_20180905.txt' / CCD timing file                  \n",
       "CCDCFG  = 'default_lbnl_20190717.cfg' / CCD configuration file                  \n",
       "SETTINGS= 'detectors_sm_20191211.json' / Name of DESI CCD settings file         \n",
       "VESSEL  =                   17 / Cryostat serial number                         \n",
       "FEEVER  = 'v20160312'          / CCD Controller version                         \n",
       "FEEBOX  = 'lbnl082 '           / CCD Controller serial number                   \n",
       "PRESECA = '[1:7, 2:2065]'      / Prescan section for quadrant A                 \n",
       "PRRSECA = '[8:2064, 1:1]'      / Row prescan section for quadrant A             \n",
       "DATASECA= '[8:2064, 2:2065]'   / Data section for quadrant A                    \n",
       "TRIMSECA= '[8:2064, 2:2065]'   / Trim section for quadrant A                    \n",
       "BIASSECA= '[2065:2128, 2:2065]' / Bias section for quadrant A                   \n",
       "ORSECA  = '[8:2064, 2066:2097]' / Row overscan section for quadrant A           \n",
       "CCDSECA = '[1:2057, 1:2064]'   / CCD section for quadrant A                     \n",
       "DETSECA = '[1:2057, 1:2064]'   / Detector section for quadrant A                \n",
       "AMPSECA = '[1:2057, 1:2064]'   / AMP section for quadrant A                     \n",
       "PRESECB = '[4250:4256, 2:2065]' / Prescan section for quadrant B                \n",
       "PRRSECB = '[2193:4249, 1:1]'   / Row prescan section for quadrant B             \n",
       "DATASECB= '[2193:4249, 2:2065]' / Data section for quadrant B                   \n",
       "TRIMSECB= '[2193:4249, 2:2065]' / Trim section for quadrant B                   \n",
       "BIASSECB= '[2129:2192, 2:2065]' / Bias section for quadrant B                   \n",
       "ORSECB  = '[2193:4249, 2066:2097]' / Row overscan section for quadrant B        \n",
       "CCDSECB = '[2058:4114, 1:2064]' / CCD section for quadrant B                    \n",
       "DETSECB = '[2058:4114, 1:2064]' / Detector section for quadrant B               \n",
       "AMPSECB = '[4114:2058, 1:2064]' / AMP section for quadrant B                    \n",
       "PRESECC = '[1:7, 2130:4193]'   / Prescan section for quadrant C                 \n",
       "PRRSECC = '[8:2064, 4194:4194]' / Row prescan section for quadrant C            \n",
       "DATASECC= '[8:2064, 2130:4193]' / Data section for quadrant C                   \n",
       "TRIMSECC= '[8:2064, 2130:4193]' / Trim section for quadrant C                   \n",
       "BIASSECC= '[2065:2128, 2130:4193]' / Bias section for quadrant C                \n",
       "ORSECC  = '[8:2064, 2098:2129]' / Row overscan section for quadrant C           \n",
       "CCDSECC = '[1:2057, 2065:4128]' / CCD section for quadrant C                    \n",
       "DETSECC = '[1:2057, 2065:4128]' / Detector section for quadrant C               \n",
       "AMPSECC = '[1:2057, 4128:2065]' / AMP section for quadrant C                    \n",
       "PRESECD = '[4250:4256, 2130:4193]' / Prescan section for quadrant D             \n",
       "PRRSECD = '[2193:4249, 4194:4194]' / Row prescan section for quadrant D         \n",
       "DATASECD= '[2193:4249, 2130:4193]' / Data section for quadrant D                \n",
       "TRIMSECD= '[2193:4249, 2130:4193]' / Trim section for quadrant D                \n",
       "BIASSECD= '[2129:2192, 2130:4193]' / Bias section for quadrant D                \n",
       "ORSECD  = '[2193:4249, 2098:2129]' / Row bias section for quadrant D            \n",
       "CCDSECD = '[2058:4114, 2065:4128]' / CCD section for quadrant D                 \n",
       "DETSECD = '[2058:4114, 2065:4128]' / Detector section for quadrant D            \n",
       "AMPSECD = '[4114:2058, 4128:2065]' / AMP section for quadrant D                 \n",
       "DAC0    = '-9.0002,-8.7962'    / [V] set value, measured value                  \n",
       "DAC1    = '-9.0002,-8.8786'    / [V] set value, measured value                  \n",
       "DAC2    = '-9.0002,-8.8271'    / [V] set value, measured value                  \n",
       "DAC3    = '-9.0002,-8.8786'    / [V] set value, measured value                  \n",
       "DAC4    = '5.9998,6.0648'      / [V] set value, measured value                  \n",
       "DAC5    = '5.9998,6.0806'      / [V] set value, measured value                  \n",
       "DAC6    = '5.9998,6.0911'      / [V] set value, measured value                  \n",
       "DAC7    = '5.9998,5.9964'      / [V] set value, measured value                  \n",
       "DAC8    = '-25.0003,-24.8273'  / [V] set value, measured value                  \n",
       "DAC9    = '-25.0003,-24.946'   / [V] set value, measured value                  \n",
       "DAC10   = '-25.0003,-24.8125'  / [V] set value, measured value                  \n",
       "DAC11   = '-25.0003,-24.0556'  / [V] set value, measured value                  \n",
       "DAC12   = '0.0,0.089'          / [V] set value, measured value                  \n",
       "DAC13   = '0.0,0.1039'         / [V] set value, measured value                  \n",
       "DAC14   = '0.0,0.089'          / [V] set value, measured value                  \n",
       "DAC15   = '0.0,0.089'          / [V] set value, measured value                  \n",
       "DAC16   = '39.9961,39.039'     / [V] set value, measured value                  \n",
       "DAC17   = '20.0008,11.8096'    / [V] set value, measured value                  \n",
       "CLOCK0  = '9.9999,0.0'         / [V] high rail, low rail                        \n",
       "CLOCK1  = '9.9999,0.0'         / [V] high rail, low rail                        \n",
       "CLOCK2  = '9.9999,0.0'         / [V] high rail, low rail                        \n",
       "CLOCK3  = '-2.0001,3.9999'     / [V] high rail, low rail                        \n",
       "CLOCK4  = '9.9999,0.0'         / [V] high rail, low rail                        \n",
       "CLOCK5  = '9.9999,0.0'         / [V] high rail, low rail                        \n",
       "CLOCK6  = '9.9999,0.0'         / [V] high rail, low rail                        \n",
       "CLOCK7  = '-2.0001,3.9999'     / [V] high rail, low rail                        \n",
       "CLOCK8  = '9.9992,2.9993'      / [V] high rail, low rail                        \n",
       "CLOCK9  = '9.9992,2.9993'      / [V] high rail, low rail                        \n",
       "CLOCK10 = '9.9992,2.9993'      / [V] high rail, low rail                        \n",
       "CLOCK11 = '9.9992,2.9993'      / [V] high rail, low rail                        \n",
       "CLOCK12 = '9.9992,2.9993'      / [V] high rail, low rail                        \n",
       "CLOCK13 = '9.9992,2.9993'      / [V] high rail, low rail                        \n",
       "CLOCK14 = '9.9992,2.9993'      / [V] high rail, low rail                        \n",
       "CLOCK15 = '9.9992,2.9993'      / [V] high rail, low rail                        \n",
       "CLOCK16 = '9.9999,3.0'         / [V] high rail, low rail                        \n",
       "CLOCK17 = '9.0,0.9999'         / [V] high rail, low rail                        \n",
       "CLOCK18 = '9.0,0.9999'         / [V] high rail, low rail                        \n",
       "OFFSET0 = '0.4000000059604645,-8.7962' / [V] set value, measured value          \n",
       "OFFSET1 = '0.4000000059604645,-8.8786' / [V] set value, measured value          \n",
       "OFFSET2 = '0.4000000059604645,-8.8271' / [V] set value, measured value          \n",
       "OFFSET3 = '0.4000000059604645,-8.8683' / [V] set value, measured value          \n",
       "OFFSET4 = '2.0,6.0595'         / [V] set value, measured value                  \n",
       "OFFSET5 = '2.0,6.0858'         / [V] set value, measured value                  \n",
       "OFFSET6 = '2.0,6.0911'         / [V] set value, measured value                  \n",
       "OFFSET7 = '2.0,5.9964'         / [V] set value, measured value                  \n",
       "DELAYS  = '20, 20, 25, 40, 7, 3000, 7, 7, 7, 7' / [10] Delay settings           \n",
       "CDSPARMS= '400, 400, 8, 2000'  / CDS parameters                                 \n",
       "PGAGAIN =                    3 / Controller gain                                \n",
       "OCSVER  =                  1.2 / OCS software version                           \n",
       "DOSVER  = 'trunk   '           / DOS software version                           \n",
       "CONSTVER= 'DESI:CURRENT'       / Constants version                              \n",
       "BLDTIME =               0.3347 / [s] Time to build image                        \n",
       "DIGITIME=              47.5379 / [s] Time to digitize image                     \n",
       "HIERARCH FIBERASSIGN = '/data/tiles/SVN_tiles/067/fiberassign-067230.fits'      \n",
       "INIFILE = '/data/msdos/dos_home/architectures/kpno/desi.ini'                    \n",
       "CHECKSUM= 'fYociYlZfYlafYlY'   / HDU checksum updated 2020-04-23T13:39:11       \n",
       "DATASUM = '1976647047'         / data unit checksum updated 2020-04-23T13:39:11 \n",
       "OVERSCNA=    1963.083919045188 / ADUs (gain not applied)                        \n",
       "OBSRDNA =    2.620827793645367 / electrons (gain is applied)                    \n",
       "GAINA   =                1.614 / e/ADU (gain applied to image)                  \n",
       "OVERSCNB=    1995.238844172171 / ADUs (gain not applied)                        \n",
       "OBSRDNB =    2.285459705384519 / electrons (gain is applied)                    \n",
       "GAINB   =                1.519 / e/ADU (gain applied to image)                  \n",
       "OVERSCNC=    1978.300921146347 / ADUs (gain not applied)                        \n",
       "OBSRDNC =    2.691667386628784 / electrons (gain is applied)                    \n",
       "GAINC   =                1.673 / e/ADU (gain applied to image)                  \n",
       "OVERSCND=    1980.140072188775 / ADUs (gain not applied)                        \n",
       "OBSRDND =    2.328341002534765 / electrons (gain is applied)                    \n",
       "GAIND   =                1.491 / e/ADU (gain applied to image)                  \n",
       "TILERA  =     138.997356099811                                                  \n",
       "TILEDEC =    0.574227370375913                                                  \n",
       "DEPNAM00= 'python  '                                                            \n",
       "DEPVER00= '3.6.6   '                                                            \n",
       "DEPNAM01= 'numpy   '                                                            \n",
       "DEPVER01= '1.16.4  '                                                            \n",
       "DEPNAM02= 'scipy   '                                                            \n",
       "DEPVER02= '1.3.0   '                                                            \n",
       "DEPNAM03= 'astropy '                                                            \n",
       "DEPVER03= '2.0.14  '                                                            \n",
       "DEPNAM04= 'yaml    '                                                            \n",
       "DEPVER04= '5.1.1   '                                                            \n",
       "DEPNAM05= 'matplotlib'                                                          \n",
       "DEPVER05= '2.1.2   '                                                            \n",
       "DEPNAM06= 'desiutil'                                                            \n",
       "DEPVER06= '3.0.0   '                                                            \n",
       "DEPNAM07= 'desispec'                                                            \n",
       "DEPVER07= '0.34.4  '                                                            \n",
       "DEPNAM08= 'desitarget'                                                          \n",
       "DEPVER08= '0.37.3  '                                                            \n",
       "DEPNAM09= 'speclite'                                                            \n",
       "DEPVER09= '0.9dev514'                                                           \n",
       "HELIOCOR=   0.9999479588860473                                                  \n",
       "NSPEC   =                  500 / Number of spectra                              \n",
       "WAVEMIN =               7520.0 / First wavelength [Angstroms]                   \n",
       "WAVEMAX =               9824.0 / Last wavelength [Angstroms]                    \n",
       "WAVESTEP=                  0.8 / Wavelength step size [Angstroms]               \n",
       "SPECTER = '0.9.3   '           / https://github.com/desihub/specter             \n",
       "IN_PSF  = '...s/20200314/00055381/psf-z0-00055381.fits' / Input spectral PSF    \n",
       "IN_IMG  = '...200314/00055381/preproc-z0-00055381.fits' / Input image           \n",
       "FIBERMIN=                    0                                                  \n",
       "BUNIT   = '10**-17 erg/(s cm2 Angstrom)'                                        \n",
       "DEPNAM10= 'fitsio  '                                                            \n",
       "DEPVER10= '0.9.11  '                                                            \n",
       "DEPNAM11= 'mpi4py  '                                                            \n",
       "DEPVER11= '3.0.1   '                                                            \n",
       "DEPNAM12= 'specter '                                                            \n",
       "DEPVER12= '0.9.3   '                                                            \n",
       "DEPNAM13= 'h5py    '                                                            \n",
       "DEPVER13= '2.9.0   '                                                            \n",
       "DEPNAM14= 'healpy  '                                                            \n",
       "DEPVER14= '1.12.9  '                                                            "
      ]
     },
     "execution_count": 512,
     "metadata": {},
     "output_type": "execute_result"
    }
   ],
   "source": [
    "hdr"
   ]
  },
  {
   "cell_type": "markdown",
   "metadata": {},
   "source": [
    "# Appendix A:  Fiberloss correction on Flux Calibration Vector"
   ]
  },
  {
   "cell_type": "code",
   "execution_count": 80,
   "metadata": {},
   "outputs": [],
   "source": [
    "# https://github.com/desihub/desispec/blob/6c9810df3929b8518d49bad14356d35137d25a89/py/desispec/fluxcalibration.py#L809"
   ]
  },
  {
   "cell_type": "code",
   "execution_count": 81,
   "metadata": {},
   "outputs": [],
   "source": [
    "from desimodel.io import load_desiparams, load_fiberpos, load_platescale, load_tiles, load_deviceloc"
   ]
  },
  {
   "cell_type": "code",
   "execution_count": 82,
   "metadata": {},
   "outputs": [],
   "source": [
    "def fiber_area_arcsec2(x, y):\n",
    "  params       = load_desiparams()\n",
    "\n",
    "  fiber_dia    = params['fibers']['diameter_um']\n",
    "    \n",
    "  x            = np.asarray(x)\n",
    "  y            = np.asarray(y)\n",
    "\n",
    "  r            = np.sqrt(x**2 + y**2)\n",
    "\n",
    "  #- Platescales in um/arcsec\n",
    "  ps           = load_platescale()\n",
    "\n",
    "  # ps['radius'] in mm.\n",
    "  radial_scale = np.interp(r, ps['radius'], ps['radial_platescale'])\n",
    "  az_scale     = np.interp(r, ps['radius'], ps['az_platescale'])\n",
    " \n",
    "  #- radial and azimuthal fiber radii in arcsec\n",
    "  rr           = 0.5 * fiber_dia / radial_scale\n",
    "  raz          = 0.5 * fiber_dia / az_scale\n",
    "\n",
    "  fiber_area = (np.pi * rr * raz)\n",
    "\n",
    "  return rr, raz, fiber_area "
   ]
  },
  {
   "cell_type": "code",
   "execution_count": 83,
   "metadata": {},
   "outputs": [
    {
     "data": {
      "text/plain": [
       "(0.7927738217452752, 0.7927738209229515, 1.9744606092121348)"
      ]
     },
     "execution_count": 83,
     "metadata": {},
     "output_type": "execute_result"
    }
   ],
   "source": [
    "fiber_area_arcsec2(0.0, 0.0)"
   ]
  },
  {
   "cell_type": "code",
   "execution_count": 84,
   "metadata": {},
   "outputs": [],
   "source": [
    "def moffatt(r, fwhm, beta=3.5):\n",
    "  ##  Apparent radial profile of star-light due to buffeting by the atmosphere.  \n",
    "  ##  Sec. 4 of https://iopscience.iop.org/article/10.1086/675808/pdf;  [arcsecond].                                                                                                                                                         \n",
    "  alpha    = fwhm / 2. / (2.**(1./beta) - 1.)**0.5\n",
    "\n",
    "  return  (2. * (beta - 1.) / alpha / alpha) * (1. + (r/alpha)**2.)**-beta"
   ]
  },
  {
   "cell_type": "code",
   "execution_count": 85,
   "metadata": {},
   "outputs": [],
   "source": [
    "fwhm       = 2.0\n",
    "dr         = 0.01\n",
    "\n",
    "rs         = np.arange(0.0, 15., dr)  ## [arcseconds].        \n",
    "ms         = moffatt(rs, fwhm)"
   ]
  },
  {
   "cell_type": "code",
   "execution_count": 86,
   "metadata": {},
   "outputs": [],
   "source": [
    "theta      = 0.7927738217452752"
   ]
  },
  {
   "cell_type": "code",
   "execution_count": 87,
   "metadata": {},
   "outputs": [
    {
     "data": {
      "text/plain": [
       "(-0.1, 6.0)"
      ]
     },
     "execution_count": 87,
     "metadata": {},
     "output_type": "execute_result"
    },
    {
     "data": {
      "image/png": "[encoded data removed]",
      "text/plain": [
       "<Figure size 432x288 with 1 Axes>"
      ]
     },
     "metadata": {
      "needs_background": "light"
     },
     "output_type": "display_data"
    }
   ],
   "source": [
    "pl.axvline(theta, alpha=0.25, c='k')\n",
    "\n",
    "pl.plot(rs, ms, c='k')\n",
    "pl.xlabel('Distance from center of star [arcseconds]')\n",
    "pl.ylabel('Relative apparent brightness of star')\n",
    "pl.xlim(left=-0.1, right=6.0)"
   ]
  },
  {
   "cell_type": "code",
   "execution_count": 88,
   "metadata": {},
   "outputs": [
    {
     "data": {
      "text/plain": [
       "Text(0, 0.5, 'FIBER FRAC.')"
      ]
     },
     "execution_count": 88,
     "metadata": {},
     "output_type": "execute_result"
    },
    {
     "data": {
      "image/png": "[encoded data removed]",
      "text/plain": [
       "<Figure size 432x288 with 1 Axes>"
      ]
     },
     "metadata": {
      "needs_background": "light"
     },
     "output_type": "display_data"
    }
   ],
   "source": [
    "# A range of full-width @ half max. values for the seeing.  \n",
    "fwhms      = np.arange(0.5, 3.5, 0.1)\n",
    "\n",
    "# Find the index in our distance grid closest to the size of a fiber. \n",
    "indx       = np.abs(rs - theta).argmin()\n",
    "\n",
    "# A list to collect the fraction of light down a fiber for each value of the seeing. \n",
    "fiberfracs = []\n",
    "\n",
    "# Loop over the seeing values. \n",
    "for i, fwhm in enumerate(fwhms):\n",
    "  # Work out the radial profile of the star.\n",
    "  ms       = moffatt(rs, fwhm)\n",
    "  \n",
    "  # Integrate this to get the total light within a radius\n",
    "  Is       = 2. * np.pi * dr * np.cumsum(rs * ms)\n",
    "\n",
    "  # Calculate the fiber fraction for each r value we as for. \n",
    "  ffrac    = Is / Is[-1]\n",
    "  \n",
    "  # Save the fiber fraction for the radius corresponding to the fiber size. \n",
    "  fiberfracs.append(ffrac[indx])\n",
    "\n",
    "fiberfracs = np.array(fiberfracs)\n",
    "\n",
    "pl.plot(fwhms, fiberfracs)\n",
    "\n",
    "pl.xlim(0.5, 3.0)\n",
    "\n",
    "pl.xlabel(r'$(FWHM) \\ Seeing \\ [{\\rm arcseconds}]$')\n",
    "pl.ylabel(r'FIBER FRAC.')"
   ]
  },
  {
   "cell_type": "markdown",
   "metadata": {},
   "source": [
    "## Done."
   ]
  }
 ],
 "metadata": {
  "kernelspec": {
   "display_name": "DESI",
   "language": "python",
   "name": "desi"
  },
  "language_info": {
   "codemirror_mode": {
    "name": "ipython",
    "version": 3
   },
   "file_extension": ".py",
   "mimetype": "text/x-python",
   "name": "python",
   "nbconvert_exporter": "python",
   "pygments_lexer": "ipython3",
   "version": "3.6.12"
  },
  "latex_envs": {
   "LaTeX_envs_menu_present": true,
   "autoclose": false,
   "autocomplete": true,
   "bibliofile": "biblio.bib",
   "cite_by": "apalike",
   "current_citInitial": 1,
   "eqLabelWithNumbers": true,
   "eqNumInitial": 1,
   "hotkeys": {
    "equation": "Ctrl-E",
    "itemize": "Ctrl-I"
   },
   "labels_anchors": false,
   "latex_user_defs": false,
   "report_style_numbering": false,
   "user_envs_cfg": false
  },
  "nbTranslate": {
   "displayLangs": [
    "*"
   ],
   "hotkey": "alt-t",
   "langInMainMenu": true,
   "sourceLang": "en",
   "targetLang": "fr",
   "useGoogleTranslate": true
  }
 },
 "nbformat": 4,
 "nbformat_minor": 4
}
