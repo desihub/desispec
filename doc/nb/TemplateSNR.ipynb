{
 "cells": [
  {
   "cell_type": "code",
   "execution_count": 1,
   "metadata": {},
   "outputs": [],
   "source": [
    "import os\n",
    "import sys\n",
    "\n",
    "sys.path.append('/global/project/projectdirs/desi/users/mjwilson/repos/desispec/py/desispec/radlss/')"
   ]
  },
  {
   "cell_type": "code",
   "execution_count": 2,
   "metadata": {},
   "outputs": [],
   "source": [
    "# import jax"
   ]
  },
  {
   "cell_type": "code",
   "execution_count": 3,
   "metadata": {},
   "outputs": [],
   "source": [
    "os.environ['PYTHONPATH'] = '/global/homes/m/mjwilson/.local/lib/python3.8/site-packages/corner/:' + os.environ['PYTHONPATH']"
   ]
  },
  {
   "cell_type": "code",
   "execution_count": 4,
   "metadata": {},
   "outputs": [],
   "source": [
    "import time\n",
    "import glob\n",
    "import scipy\n",
    "import corner\n",
    "import fitsio\n",
    "\n",
    "import itertools\n",
    "import warnings\n",
    "\n",
    "import numpy as np\n",
    "import pylab as pl\n",
    "\n",
    "import desisim.templates\n",
    "import astropy.io.fits              as      fits\n",
    "\n",
    "import desispec.io\n",
    "import redrock.templates\n",
    "import matplotlib.pyplot            as      plt\n",
    "\n",
    "from   os                           import  path\n",
    "from   astropy.convolution          import  convolve, Box1DKernel\n",
    "from   desispec.spectra             import  Spectra\n",
    "from   desispec.frame               import  Frame\n",
    "from   desispec.resolution          import  Resolution\n",
    "from   desispec.io.meta             import  findfile\n",
    "from   desispec.io                  import  read_frame, read_fiberflat, read_flux_calibration, read_sky, read_fibermap\n",
    "from   desispec.interpolation       import  resample_flux\n",
    "from   astropy.table                import  Table\n",
    "from   desispec.io.image            import  read_image\n",
    "from   specter.psf.gausshermite     import  GaussHermitePSF\n",
    "from   scipy.signal                 import  medfilt\n",
    "from   desispec.calibfinder         import  CalibFinder\n",
    "from   astropy.utils.exceptions     import  AstropyWarning\n",
    "from   scipy                        import  stats\n",
    "from   pathlib                      import  Path\n",
    "from   templateSNR                  import  templateSNR\n",
    "from   RadLSS                       import  RadLSS\n",
    "from   scipy.optimize               import  Bounds"
   ]
  },
  {
   "cell_type": "code",
   "execution_count": 5,
   "metadata": {},
   "outputs": [],
   "source": [
    "# warnings.simplefilter('ignore', category=AstropyWarning)"
   ]
  },
  {
   "cell_type": "markdown",
   "metadata": {},
   "source": [
    "# Foundations to desispec ticket 1004:  Template SNR and LSS rad. weights."
   ]
  },
  {
   "cell_type": "markdown",
   "metadata": {},
   "source": [
    "Template SNR:"
   ]
  },
  {
   "cell_type": "markdown",
   "metadata": {},
   "source": [
    "https://desi.lbl.gov/DocDB/cgi-bin/private/RetrieveFile?docid=4723;filename=sky-monitor-mc-study-v1.pdf;version=2"
   ]
  },
  {
   "cell_type": "markdown",
   "metadata": {},
   "source": [
    "applied to SV0 dataset:"
   ]
  },
  {
   "cell_type": "markdown",
   "metadata": {},
   "source": [
    "https://desi.lbl.gov/trac/wiki/TargetSelectionWG/SV0"
   ]
  },
  {
   "cell_type": "markdown",
   "metadata": {},
   "source": [
    "# Template SNR"
   ]
  },
  {
   "cell_type": "markdown",
   "metadata": {},
   "source": [
    "$\\Huge \\langle tSNR^2 \\rangle = \\sum_{grz} \\sum_{\\lambda \\in grz} \\left ( \\frac{\\tau^2 T^2 \\langle \\Delta F^2 \\rangle}{\\sigma_e^2 \\cdot {\\rm NPIX/A} + \\tau T_{\\rm sky}  F_{\\rm sky}} \\right ) $"
   ]
  },
  {
   "cell_type": "markdown",
   "metadata": {},
   "source": [
    "_\"We choose to normalize it such that zSNR = 3 for a 1000 sec dark time exposure in\n",
    "nominal conditions.\"_"
   ]
  },
  {
   "cell_type": "markdown",
   "metadata": {},
   "source": [
    "Here:  \n",
    "- $\\sigma_e$ is the READNOISE in units of ELECTRONS / PIXEL. \n",
    "- NPIX/A is the projected fiber area in units of PIXELS for a width of **ONE ANGSTROM**.  \n",
    "- $\\Delta F$ is the residual (template) flux from a 100A filtered equivalent.\n",
    "- $\\tau$ is the exposure time, already included in the flux calib.\n",
    "- $T_{\\rm sky} F_{\\rm sky}$ is the estimated fiber sky flux in units of ELECTRONS PER ANGSTROM."
   ]
  },
  {
   "cell_type": "code",
   "execution_count": 6,
   "metadata": {},
   "outputs": [],
   "source": [
    "def get_expids(night, andes='/global/cfs/cdirs/desi/spectro/redux/andes'):\n",
    "    tiles  = np.unique(np.array([x.split('/')[-3] for x in glob.glob(andes + '/tiles/*/{}/cframe-*'.format(night))]).astype(np.int))\n",
    "\n",
    "    # np.sort(np.array([x.split('/')[-1] for x in glob.glob(andes + '/exposures/{}/*'.format(night))]).astype(np.int))                                                                                  \n",
    "    expids = np.unique(np.array([x.split('/')[-1].split('-')[2].replace('.fits','') for x in glob.glob(andes + '/tiles/*/{}/cframe-*'.format(night))]).astype(np.int))\n",
    "\n",
    "    return  expids, tiles"
   ]
  },
  {
   "cell_type": "code",
   "execution_count": 7,
   "metadata": {},
   "outputs": [],
   "source": [
    "nmax          = 1\n",
    "night         = '20200315'\n",
    "tracers       = ['ELG']\n",
    "\n",
    "expids, tiles = get_expids(night)\n",
    "\n",
    "cameras       = ['b5', 'r5', 'z5']"
   ]
  },
  {
   "cell_type": "code",
   "execution_count": 8,
   "metadata": {},
   "outputs": [],
   "source": [
    "expids        = expids[1:2]"
   ]
  },
  {
   "cell_type": "code",
   "execution_count": 9,
   "metadata": {},
   "outputs": [
    {
     "data": {
      "text/plain": [
       "array([55589])"
      ]
     },
     "execution_count": 9,
     "metadata": {},
     "output_type": "execute_result"
    }
   ],
   "source": [
    "expids "
   ]
  },
  {
   "cell_type": "code",
   "execution_count": 10,
   "metadata": {},
   "outputs": [
    {
     "name": "stdout",
     "output_type": "stream",
     "text": [
      "Solving for EXPID 00055589\n",
      "Rank 0:  Grabbing camera b5\n",
      "Rank 0:  Grabbing camera r5\n",
      "Rank 0:  Grabbing camera z5\n",
      "Rank 0:  Retrieved pipeline data in 0.095 mins.\n",
      "Rank 0:  Successfully retrieved pre-written ensemble files at: /global/cscratch1/sd/mjwilson/radlss/test//ensemble/ (nmodel: 360)\n",
      "Rank 0:  Grabbed deepfield ensemble (nmodel: 360) in 0.002 mins.\n"
     ]
    }
   ],
   "source": [
    "for nexp, expid in enumerate(expids):\n",
    "    print('Solving for EXPID {:08d}'.format(expid))\n",
    "    \n",
    "    rads = RadLSS(night, expid, cameras=cameras)\n",
    "    \n",
    "    rads.compute(tracers=tracers, templates=False)\n",
    "\n",
    "    if nexp == nmax:\n",
    "        break"
   ]
  },
  {
   "cell_type": "code",
   "execution_count": 13,
   "metadata": {},
   "outputs": [],
   "source": [
    "# ! ls /global/cscratch1/sd/mjwilson/radlss/test//ensemble/"
   ]
  },
  {
   "cell_type": "code",
   "execution_count": 15,
   "metadata": {},
   "outputs": [],
   "source": [
    "# sample             = rads.ensemble_meta['ELG']['REDSHIFT', 'MAG_G', 'MAG_R', 'MAG_Z', 'OIIFLUX']\n",
    "# sample['OIIFLUX'] *= 1.e17\n",
    "# sample['r-z']      = sample['MAG_R'] - sample['MAG_Z'] \n",
    "# sample['g-r']      = sample['MAG_G'] - sample['MAG_R'] \n",
    "\n",
    "# del sample['MAG_G']\n",
    "# del sample['MAG_R']\n",
    "# del sample['MAG_Z']\n",
    "\n",
    "# sample"
   ]
  },
  {
   "cell_type": "code",
   "execution_count": 17,
   "metadata": {},
   "outputs": [],
   "source": [
    "# ndim, nsamples = 5, len(sample)\n",
    "\n",
    "# data_kwargs    = {'markersize': 2, 'alpha': 1.0}\n",
    "\n",
    "# figure         = corner.corner(np.array(np.array(sample).tolist()), labels=sample.dtype.names,\n",
    "#                                quantiles=[0.16, 0.5, 0.84], plot_contours=False,\n",
    "#                                show_titles=True, title_kwargs={\"fontsize\": 12},\n",
    "#                                plot_datapoints=True, plot_density=False, no_fill_contours=True, data_kwargs=data_kwargs)"
   ]
  },
  {
   "cell_type": "code",
   "execution_count": 989,
   "metadata": {},
   "outputs": [],
   "source": [
    "def oii(index, petal='5'):\n",
    "    isin           = (rads.zbests[petal]['DELTACHI2'] > 80.) & (rads.zbests[petal]['Z'] > 0.8) & (rads.zbests[petal]['Z'] < 1.3)\n",
    "        \n",
    "    sample         = rads.zbests[petal][isin]\n",
    "\n",
    "    oiia           = 3727.092 * (1. + sample[index]['Z'])\n",
    "    oiib           = 3729.875 * (1. + sample[index]['Z'])\n",
    "    \n",
    "    if oiia > 7620.:\n",
    "        arm        = 'z'\n",
    "        \n",
    "    else:\n",
    "        arm        = 'r'\n",
    "    \n",
    "    cframe         = rads.cframes['{}{}'.format(arm, petal)][isin]\n",
    "            \n",
    "    rr             = rads.rr_cframes['{}{}'.format(arm, petal)].flux[isin][index,:]\n",
    "    \n",
    "    pl.plot(cframe.wave, cframe.flux[index,:])\n",
    "    pl.plot(cframe.wave, convolve(cframe.flux[index,:], Box1DKernel(2. / 0.8), boundary='extend'))\n",
    "    pl.plot(cframe.wave, rr)\n",
    "    \n",
    "    pl.axvline(oiia, c='k', alpha=0.4)\n",
    "    pl.axvline(oiib, c='k', alpha=0.4)\n",
    "    \n",
    "    pl.title('z:  {:.2f}, oii:  {:.1f}A'.format(sample[index]['Z'], oiia))\n",
    "    \n",
    "    pl.xlim(oiia - 25., oiia + 25.)\n",
    "    \n",
    "    pl.ylim(-5., 5.)"
   ]
  },
  {
   "cell_type": "code",
   "execution_count": 990,
   "metadata": {},
   "outputs": [],
   "source": [
    "# R      = Resolution(spectra.resolution_data['r'][i])\n",
    "# txflux = R.dot(resample_flux(spectra.wave['r'], twave, tflux))"
   ]
  },
  {
   "cell_type": "code",
   "execution_count": 994,
   "metadata": {},
   "outputs": [],
   "source": [
    "def doublet_model(z, sigma=10., r=0.1, linea=3727.092, lineb=3729.875, twave=np.arange(3100., 10400., 0.1)):\n",
    "      '''\n",
    "      See https://arxiv.org/pdf/2007.14484.pdf\n",
    "      \n",
    "      sigma:  velocity term, later convolved for resolution. \n",
    "      '''  \n",
    "\n",
    "      lightspeed = 2.9979e5 # [km/s].      \n",
    "      sigma      = sigma * (1. + z) * linea / lightspeed    \n",
    "        \n",
    "      # Unit amplitude, sigma is the width of the line, z is the redshift and r is the relative amplitudes of the lines in the doublet. \n",
    "      # [ergs/s/cm2/Angstrom].\n",
    "        \n",
    "      return  1. / (1. + r) / np.sqrt(2. * np.pi) / sigma * (r * np.exp(- ((twave - linea * (1. + z)) / np.sqrt(2.) / sigma)**2.) + np.exp(- ((twave - lineb * (1. + z)) / np.sqrt(2.) / sigma)**2.))"
   ]
  },
  {
   "cell_type": "code",
   "execution_count": 995,
   "metadata": {},
   "outputs": [],
   "source": [
    "def line_fit(z, wave, Res, flux, continuum=0.0, sigma=5., r=0.1, line_flux=None, linea=3727.092, lineb=3729.875, twave=np.arange(3100., 10400., 0.1)):    \n",
    "    tflux         = doublet_model(z=z, sigma=sigma, r=r, linea=linea, lineb=lineb, twave=twave)\n",
    "    Rflux         = Res.dot(resample_flux(wave, twave, tflux))\n",
    "\n",
    "    if line_flux == None:\n",
    "      line_flux   = np.sum( flux * Rflux * ivar)\n",
    "      line_flux  /= np.sum(Rflux * Rflux * ivar)\n",
    "    \n",
    "      line_flux_err = np.sum(Rflux * Rflux * ivar)\n",
    "      line_flux_err = 1. / np.sqrt(line_flux_err)\n",
    " \n",
    "    Rflux        *= line_flux\n",
    "    # Rflux      += continuum\n",
    "\n",
    "    X2            = np.sum((flux - Rflux)**2. * ivar)\n",
    "    \n",
    "    return  Rflux, X2, line_flux # line_flux_err"
   ]
  },
  {
   "cell_type": "code",
   "execution_count": 996,
   "metadata": {},
   "outputs": [],
   "source": [
    "def X2(params, z, wave, Res, flux, continuum, linea, lineb, twave):\n",
    "    [line_flux, r, sigma]               = params\n",
    "    Rflux, X2, line_flux                = line_fit(z, wave, Res, flux, continuum, sigma, r, line_flux, linea, lineb, twave)\n",
    "    \n",
    "    return  X2"
   ]
  },
  {
   "cell_type": "code",
   "execution_count": 1205,
   "metadata": {},
   "outputs": [],
   "source": [
    "index                               =  5\n",
    "petal                               = '5'\n",
    "band                                = 'r'\n",
    "  \n",
    "zz                                  = rads.zbests[petal]['Z'][index]\n",
    "oii_truth                           = rads.ensemble_meta['ELG']['OIIFLUX'][index] \n",
    "\n",
    "wave                                = rads.cframes['{}5'.format(band)].wave\n",
    "flux                                = rads.cframes['{}5'.format(band)].flux[index,:]\n",
    "ivar                                = rads.cframes['{}5'.format(band)].ivar[index,:]\n",
    "\n",
    "Res                                 = Resolution(rads.cframes['{}5'.format(band)].resolution_data[index])\n",
    "\n",
    "zz                                  = rads.ensemble_meta['ELG']['REDSHIFT'][index]\n",
    "flux                                = rads.ensemble_flux['ELG'][band][index]\n",
    "\n",
    "twave                               = np.arange(3100., 10400., 0.1)"
   ]
  },
  {
   "cell_type": "code",
   "execution_count": 1207,
   "metadata": {},
   "outputs": [],
   "source": [
    "window                              = np.arange((3727. * (1. + zz)) - 50., (3727. * (1. + zz)) + 50., 0.8)\n",
    "xmin, xmax                          = window.min(), window.max()\n",
    "\n",
    "continuum                           = ((wave > window.min()) & (wave < window.max())) & ((wave < (window.min() + 20.)) | (wave > (window.max() - 20.)))\n",
    "continuum                           = np.median(flux[continuum])"
   ]
  },
  {
   "cell_type": "code",
   "execution_count": 1208,
   "metadata": {},
   "outputs": [],
   "source": [
    "flux                                = np.array(flux, copy=True)\n",
    "flux                               -= continuum"
   ]
  },
  {
   "cell_type": "code",
   "execution_count": 1209,
   "metadata": {},
   "outputs": [],
   "source": [
    "args                                = (zz, wave, Res, flux, 0.0, 3727.092, 3729.875, twave)"
   ]
  },
  {
   "cell_type": "code",
   "execution_count": 1210,
   "metadata": {},
   "outputs": [],
   "source": [
    "linea                               = 3727.092\n",
    "lineb                               = 3729.875"
   ]
  },
  {
   "cell_type": "code",
   "execution_count": 1211,
   "metadata": {},
   "outputs": [],
   "source": [
    "bounds                              = Bounds([0.0, 0.0, 0.0], [50., 1.0, 100.])"
   ]
  },
  {
   "cell_type": "code",
   "execution_count": 1222,
   "metadata": {},
   "outputs": [
    {
     "ename": "TypeError",
     "evalue": "X2() takes 1 positional argument but 9 were given",
     "output_type": "error",
     "traceback": [
      "\u001b[0;31m---------------------------------------------------------------------------\u001b[0m",
      "\u001b[0;31mTypeError\u001b[0m                                 Traceback (most recent call last)",
      "\u001b[0;32m<ipython-input-1222-a3edd7bce9fc>\u001b[0m in \u001b[0;36m<module>\u001b[0;34m\u001b[0m\n\u001b[1;32m      1\u001b[0m \u001b[0mx0\u001b[0m                                  \u001b[0;34m=\u001b[0m \u001b[0mnp\u001b[0m\u001b[0;34m.\u001b[0m\u001b[0marray\u001b[0m\u001b[0;34m(\u001b[0m\u001b[0;34m[\u001b[0m\u001b[0;36m28.\u001b[0m\u001b[0;34m,\u001b[0m \u001b[0;36m0.7\u001b[0m\u001b[0;34m,\u001b[0m \u001b[0;36m30.\u001b[0m\u001b[0;34m]\u001b[0m\u001b[0;34m)\u001b[0m\u001b[0;34m\u001b[0m\u001b[0;34m\u001b[0m\u001b[0m\n\u001b[0;32m----> 2\u001b[0;31m \u001b[0mresult\u001b[0m                              \u001b[0;34m=\u001b[0m \u001b[0mscipy\u001b[0m\u001b[0;34m.\u001b[0m\u001b[0moptimize\u001b[0m\u001b[0;34m.\u001b[0m\u001b[0mminimize\u001b[0m\u001b[0;34m(\u001b[0m\u001b[0mX2\u001b[0m\u001b[0;34m,\u001b[0m \u001b[0mx0\u001b[0m\u001b[0;34m,\u001b[0m \u001b[0margs\u001b[0m\u001b[0;34m,\u001b[0m \u001b[0mmethod\u001b[0m\u001b[0;34m=\u001b[0m\u001b[0;34m'CG'\u001b[0m\u001b[0;34m)\u001b[0m\u001b[0;34m\u001b[0m\u001b[0;34m\u001b[0m\u001b[0m\n\u001b[0m\u001b[1;32m      3\u001b[0m \u001b[0;34m\u001b[0m\u001b[0m\n\u001b[1;32m      4\u001b[0m \u001b[0;34m[\u001b[0m\u001b[0mline_flux\u001b[0m\u001b[0;34m,\u001b[0m \u001b[0mr\u001b[0m\u001b[0;34m,\u001b[0m \u001b[0msigma\u001b[0m\u001b[0;34m]\u001b[0m               \u001b[0;34m=\u001b[0m \u001b[0mresult\u001b[0m\u001b[0;34m.\u001b[0m\u001b[0mx\u001b[0m\u001b[0;34m\u001b[0m\u001b[0;34m\u001b[0m\u001b[0m\n",
      "\u001b[0;32m/global/common/software/desi/cori/desiconda/20200801-1.4.0-spec/conda/lib/python3.8/site-packages/scipy/optimize/_minimize.py\u001b[0m in \u001b[0;36mminimize\u001b[0;34m(fun, x0, args, method, jac, hess, hessp, bounds, constraints, tol, callback, options)\u001b[0m\n\u001b[1;32m    608\u001b[0m         \u001b[0;32mreturn\u001b[0m \u001b[0m_minimize_powell\u001b[0m\u001b[0;34m(\u001b[0m\u001b[0mfun\u001b[0m\u001b[0;34m,\u001b[0m \u001b[0mx0\u001b[0m\u001b[0;34m,\u001b[0m \u001b[0margs\u001b[0m\u001b[0;34m,\u001b[0m \u001b[0mcallback\u001b[0m\u001b[0;34m,\u001b[0m \u001b[0mbounds\u001b[0m\u001b[0;34m,\u001b[0m \u001b[0;34m**\u001b[0m\u001b[0moptions\u001b[0m\u001b[0;34m)\u001b[0m\u001b[0;34m\u001b[0m\u001b[0;34m\u001b[0m\u001b[0m\n\u001b[1;32m    609\u001b[0m     \u001b[0;32melif\u001b[0m \u001b[0mmeth\u001b[0m \u001b[0;34m==\u001b[0m \u001b[0;34m'cg'\u001b[0m\u001b[0;34m:\u001b[0m\u001b[0;34m\u001b[0m\u001b[0;34m\u001b[0m\u001b[0m\n\u001b[0;32m--> 610\u001b[0;31m         \u001b[0;32mreturn\u001b[0m \u001b[0m_minimize_cg\u001b[0m\u001b[0;34m(\u001b[0m\u001b[0mfun\u001b[0m\u001b[0;34m,\u001b[0m \u001b[0mx0\u001b[0m\u001b[0;34m,\u001b[0m \u001b[0margs\u001b[0m\u001b[0;34m,\u001b[0m \u001b[0mjac\u001b[0m\u001b[0;34m,\u001b[0m \u001b[0mcallback\u001b[0m\u001b[0;34m,\u001b[0m \u001b[0;34m**\u001b[0m\u001b[0moptions\u001b[0m\u001b[0;34m)\u001b[0m\u001b[0;34m\u001b[0m\u001b[0;34m\u001b[0m\u001b[0m\n\u001b[0m\u001b[1;32m    611\u001b[0m     \u001b[0;32melif\u001b[0m \u001b[0mmeth\u001b[0m \u001b[0;34m==\u001b[0m \u001b[0;34m'bfgs'\u001b[0m\u001b[0;34m:\u001b[0m\u001b[0;34m\u001b[0m\u001b[0;34m\u001b[0m\u001b[0m\n\u001b[1;32m    612\u001b[0m         \u001b[0;32mreturn\u001b[0m \u001b[0m_minimize_bfgs\u001b[0m\u001b[0;34m(\u001b[0m\u001b[0mfun\u001b[0m\u001b[0;34m,\u001b[0m \u001b[0mx0\u001b[0m\u001b[0;34m,\u001b[0m \u001b[0margs\u001b[0m\u001b[0;34m,\u001b[0m \u001b[0mjac\u001b[0m\u001b[0;34m,\u001b[0m \u001b[0mcallback\u001b[0m\u001b[0;34m,\u001b[0m \u001b[0;34m**\u001b[0m\u001b[0moptions\u001b[0m\u001b[0;34m)\u001b[0m\u001b[0;34m\u001b[0m\u001b[0;34m\u001b[0m\u001b[0m\n",
      "\u001b[0;32m/global/common/software/desi/cori/desiconda/20200801-1.4.0-spec/conda/lib/python3.8/site-packages/scipy/optimize/optimize.py\u001b[0m in \u001b[0;36m_minimize_cg\u001b[0;34m(fun, x0, args, jac, callback, gtol, norm, eps, maxiter, disp, return_all, finite_diff_rel_step, **unknown_options)\u001b[0m\n\u001b[1;32m   1421\u001b[0m         \u001b[0mmaxiter\u001b[0m \u001b[0;34m=\u001b[0m \u001b[0mlen\u001b[0m\u001b[0;34m(\u001b[0m\u001b[0mx0\u001b[0m\u001b[0;34m)\u001b[0m \u001b[0;34m*\u001b[0m \u001b[0;36m200\u001b[0m\u001b[0;34m\u001b[0m\u001b[0;34m\u001b[0m\u001b[0m\n\u001b[1;32m   1422\u001b[0m \u001b[0;34m\u001b[0m\u001b[0m\n\u001b[0;32m-> 1423\u001b[0;31m     sf = _prepare_scalar_function(fun, x0, jac=jac, args=args, epsilon=eps,\n\u001b[0m\u001b[1;32m   1424\u001b[0m                                   finite_diff_rel_step=finite_diff_rel_step)\n\u001b[1;32m   1425\u001b[0m \u001b[0;34m\u001b[0m\u001b[0m\n",
      "\u001b[0;32m/global/common/software/desi/cori/desiconda/20200801-1.4.0-spec/conda/lib/python3.8/site-packages/scipy/optimize/optimize.py\u001b[0m in \u001b[0;36m_prepare_scalar_function\u001b[0;34m(fun, x0, jac, args, bounds, epsilon, finite_diff_rel_step, hess)\u001b[0m\n\u001b[1;32m    259\u001b[0m     \u001b[0;31m# ScalarFunction caches. Reuse of fun(x) during grad\u001b[0m\u001b[0;34m\u001b[0m\u001b[0;34m\u001b[0m\u001b[0;34m\u001b[0m\u001b[0m\n\u001b[1;32m    260\u001b[0m     \u001b[0;31m# calculation reduces overall function evaluations.\u001b[0m\u001b[0;34m\u001b[0m\u001b[0;34m\u001b[0m\u001b[0;34m\u001b[0m\u001b[0m\n\u001b[0;32m--> 261\u001b[0;31m     sf = ScalarFunction(fun, x0, args, grad, hess,\n\u001b[0m\u001b[1;32m    262\u001b[0m                         finite_diff_rel_step, bounds, epsilon=epsilon)\n\u001b[1;32m    263\u001b[0m \u001b[0;34m\u001b[0m\u001b[0m\n",
      "\u001b[0;32m/global/common/software/desi/cori/desiconda/20200801-1.4.0-spec/conda/lib/python3.8/site-packages/scipy/optimize/_differentiable_functions.py\u001b[0m in \u001b[0;36m__init__\u001b[0;34m(self, fun, x0, args, grad, hess, finite_diff_rel_step, finite_diff_bounds, epsilon)\u001b[0m\n\u001b[1;32m     74\u001b[0m \u001b[0;34m\u001b[0m\u001b[0m\n\u001b[1;32m     75\u001b[0m         \u001b[0mself\u001b[0m\u001b[0;34m.\u001b[0m\u001b[0m_update_fun_impl\u001b[0m \u001b[0;34m=\u001b[0m \u001b[0mupdate_fun\u001b[0m\u001b[0;34m\u001b[0m\u001b[0;34m\u001b[0m\u001b[0m\n\u001b[0;32m---> 76\u001b[0;31m         \u001b[0mself\u001b[0m\u001b[0;34m.\u001b[0m\u001b[0m_update_fun\u001b[0m\u001b[0;34m(\u001b[0m\u001b[0;34m)\u001b[0m\u001b[0;34m\u001b[0m\u001b[0;34m\u001b[0m\u001b[0m\n\u001b[0m\u001b[1;32m     77\u001b[0m \u001b[0;34m\u001b[0m\u001b[0m\n\u001b[1;32m     78\u001b[0m         \u001b[0;31m# Gradient evaluation\u001b[0m\u001b[0;34m\u001b[0m\u001b[0;34m\u001b[0m\u001b[0;34m\u001b[0m\u001b[0m\n",
      "\u001b[0;32m/global/common/software/desi/cori/desiconda/20200801-1.4.0-spec/conda/lib/python3.8/site-packages/scipy/optimize/_differentiable_functions.py\u001b[0m in \u001b[0;36m_update_fun\u001b[0;34m(self)\u001b[0m\n\u001b[1;32m    164\u001b[0m     \u001b[0;32mdef\u001b[0m \u001b[0m_update_fun\u001b[0m\u001b[0;34m(\u001b[0m\u001b[0mself\u001b[0m\u001b[0;34m)\u001b[0m\u001b[0;34m:\u001b[0m\u001b[0;34m\u001b[0m\u001b[0;34m\u001b[0m\u001b[0m\n\u001b[1;32m    165\u001b[0m         \u001b[0;32mif\u001b[0m \u001b[0;32mnot\u001b[0m \u001b[0mself\u001b[0m\u001b[0;34m.\u001b[0m\u001b[0mf_updated\u001b[0m\u001b[0;34m:\u001b[0m\u001b[0;34m\u001b[0m\u001b[0;34m\u001b[0m\u001b[0m\n\u001b[0;32m--> 166\u001b[0;31m             \u001b[0mself\u001b[0m\u001b[0;34m.\u001b[0m\u001b[0m_update_fun_impl\u001b[0m\u001b[0;34m(\u001b[0m\u001b[0;34m)\u001b[0m\u001b[0;34m\u001b[0m\u001b[0;34m\u001b[0m\u001b[0m\n\u001b[0m\u001b[1;32m    167\u001b[0m             \u001b[0mself\u001b[0m\u001b[0;34m.\u001b[0m\u001b[0mf_updated\u001b[0m \u001b[0;34m=\u001b[0m \u001b[0;32mTrue\u001b[0m\u001b[0;34m\u001b[0m\u001b[0;34m\u001b[0m\u001b[0m\n\u001b[1;32m    168\u001b[0m \u001b[0;34m\u001b[0m\u001b[0m\n",
      "\u001b[0;32m/global/common/software/desi/cori/desiconda/20200801-1.4.0-spec/conda/lib/python3.8/site-packages/scipy/optimize/_differentiable_functions.py\u001b[0m in \u001b[0;36mupdate_fun\u001b[0;34m()\u001b[0m\n\u001b[1;32m     71\u001b[0m \u001b[0;34m\u001b[0m\u001b[0m\n\u001b[1;32m     72\u001b[0m         \u001b[0;32mdef\u001b[0m \u001b[0mupdate_fun\u001b[0m\u001b[0;34m(\u001b[0m\u001b[0;34m)\u001b[0m\u001b[0;34m:\u001b[0m\u001b[0;34m\u001b[0m\u001b[0;34m\u001b[0m\u001b[0m\n\u001b[0;32m---> 73\u001b[0;31m             \u001b[0mself\u001b[0m\u001b[0;34m.\u001b[0m\u001b[0mf\u001b[0m \u001b[0;34m=\u001b[0m \u001b[0mfun_wrapped\u001b[0m\u001b[0;34m(\u001b[0m\u001b[0mself\u001b[0m\u001b[0;34m.\u001b[0m\u001b[0mx\u001b[0m\u001b[0;34m)\u001b[0m\u001b[0;34m\u001b[0m\u001b[0;34m\u001b[0m\u001b[0m\n\u001b[0m\u001b[1;32m     74\u001b[0m \u001b[0;34m\u001b[0m\u001b[0m\n\u001b[1;32m     75\u001b[0m         \u001b[0mself\u001b[0m\u001b[0;34m.\u001b[0m\u001b[0m_update_fun_impl\u001b[0m \u001b[0;34m=\u001b[0m \u001b[0mupdate_fun\u001b[0m\u001b[0;34m\u001b[0m\u001b[0;34m\u001b[0m\u001b[0m\n",
      "\u001b[0;32m/global/common/software/desi/cori/desiconda/20200801-1.4.0-spec/conda/lib/python3.8/site-packages/scipy/optimize/_differentiable_functions.py\u001b[0m in \u001b[0;36mfun_wrapped\u001b[0;34m(x)\u001b[0m\n\u001b[1;32m     68\u001b[0m         \u001b[0;32mdef\u001b[0m \u001b[0mfun_wrapped\u001b[0m\u001b[0;34m(\u001b[0m\u001b[0mx\u001b[0m\u001b[0;34m)\u001b[0m\u001b[0;34m:\u001b[0m\u001b[0;34m\u001b[0m\u001b[0;34m\u001b[0m\u001b[0m\n\u001b[1;32m     69\u001b[0m             \u001b[0mself\u001b[0m\u001b[0;34m.\u001b[0m\u001b[0mnfev\u001b[0m \u001b[0;34m+=\u001b[0m \u001b[0;36m1\u001b[0m\u001b[0;34m\u001b[0m\u001b[0;34m\u001b[0m\u001b[0m\n\u001b[0;32m---> 70\u001b[0;31m             \u001b[0;32mreturn\u001b[0m \u001b[0mfun\u001b[0m\u001b[0;34m(\u001b[0m\u001b[0mx\u001b[0m\u001b[0;34m,\u001b[0m \u001b[0;34m*\u001b[0m\u001b[0margs\u001b[0m\u001b[0;34m)\u001b[0m\u001b[0;34m\u001b[0m\u001b[0;34m\u001b[0m\u001b[0m\n\u001b[0m\u001b[1;32m     71\u001b[0m \u001b[0;34m\u001b[0m\u001b[0m\n\u001b[1;32m     72\u001b[0m         \u001b[0;32mdef\u001b[0m \u001b[0mupdate_fun\u001b[0m\u001b[0;34m(\u001b[0m\u001b[0;34m)\u001b[0m\u001b[0;34m:\u001b[0m\u001b[0;34m\u001b[0m\u001b[0;34m\u001b[0m\u001b[0m\n",
      "\u001b[0;31mTypeError\u001b[0m: X2() takes 1 positional argument but 9 were given"
     ]
    }
   ],
   "source": [
    "x0                                  = np.array([28., 0.7, 30.])\n",
    "result                              = scipy.optimize.minimize(X2, x0, args, method='CG')\n",
    "\n",
    "[line_flux, r, sigma]               = result.x"
   ]
  },
  {
   "cell_type": "code",
   "execution_count": 1103,
   "metadata": {},
   "outputs": [
    {
     "data": {
      "text/plain": [
       "(29.295299938070418, 0.8399221293192556, 74.82173195275278)"
      ]
     },
     "execution_count": 1103,
     "metadata": {},
     "output_type": "execute_result"
    }
   ],
   "source": [
    "line_flux, r, sigma"
   ]
  },
  {
   "cell_type": "code",
   "execution_count": 1104,
   "metadata": {},
   "outputs": [],
   "source": [
    "Rflux, _, _                         = line_fit(zz, wave, Res, flux, sigma=sigma, r=r, line_flux=line_flux)"
   ]
  },
  {
   "cell_type": "code",
   "execution_count": 1108,
   "metadata": {},
   "outputs": [
    {
     "data": {
      "text/plain": [
       "(5989.275494456291, 6088.475494456314)"
      ]
     },
     "execution_count": 1108,
     "metadata": {},
     "output_type": "execute_result"
    },
    {
     "data": {
      "image/png": "[encoded data removed]",
      "text/plain": [
       "<Figure size 432x288 with 1 Axes>"
      ]
     },
     "metadata": {
      "needs_background": "light"
     },
     "output_type": "display_data"
    }
   ],
   "source": [
    "pl.plot(wave, flux,  c='k', label='OIIFLUX: {:.2e}'.format(oii_truth))\n",
    "pl.plot(wave, Rflux, c='r')\n",
    "\n",
    "pl.axhline(continuum, alpha=0.4, c='k')\n",
    "\n",
    "pl.legend(frameon=False)\n",
    "\n",
    "pl.title('Fitted OII: {:.2e} [1.e-17 ergs/s/cm2]'.format(line_flux))\n",
    "\n",
    "pl.xlabel('Wavlength [Angstroms]')\n",
    "pl.ylabel('Flux')\n",
    "\n",
    "pl.xlim(xmin, xmax)"
   ]
  },
  {
   "cell_type": "code",
   "execution_count": 1109,
   "metadata": {},
   "outputs": [
    {
     "data": {
      "text/plain": [
       "     fun: 312.28049599663206\n",
       "     jac: array([-2.28881836e-05,  5.72204590e-05,  3.43322754e-05])\n",
       " message: 'Desired error not necessarily achieved due to precision loss.'\n",
       "    nfev: 725\n",
       "     nit: 50\n",
       "    njev: 179\n",
       "  status: 2\n",
       " success: False\n",
       "       x: array([29.29529994,  0.83992213, 74.82173195])"
      ]
     },
     "execution_count": 1109,
     "metadata": {},
     "output_type": "execute_result"
    }
   ],
   "source": [
    "result"
   ]
  },
  {
   "cell_type": "code",
   "execution_count": 1213,
   "metadata": {},
   "outputs": [],
   "source": [
    "import jax.numpy      as     jnp\n",
    " \n",
    "from   jax            import hessian, grad\n",
    "from   scipy.stats    import multivariate_normal\n",
    "from   scipy.optimize import minimize"
   ]
  },
  {
   "cell_type": "code",
   "execution_count": 1214,
   "metadata": {},
   "outputs": [],
   "source": [
    "sigma     = jnp.array([(1.0, 0.5), (0.5, 1.0)])\n",
    "mu        = jnp.array([0.5, 2.0])\n",
    "nu        = jnp.array([7])\n",
    "\n",
    "sigma_inv = jnp.linalg.inv(sigma)"
   ]
  },
  {
   "cell_type": "code",
   "execution_count": 1215,
   "metadata": {},
   "outputs": [],
   "source": [
    "def negative_log_posterior(theta):\n",
    "    return (-jnp.log(\n",
    "        1.0 + nu ** -1.0 * jnp.dot((theta - mu), jnp.dot(sigma_inv, (theta - mu).T).T)\n",
    "    ) * (0.5  * -(nu + theta.shape[0])))[0]"
   ]
  },
  {
   "cell_type": "code",
   "execution_count": 1216,
   "metadata": {},
   "outputs": [],
   "source": [
    "def grad_negative_log_posterior(theta):\n",
    "    return grad(negative_log_posterior)(theta)"
   ]
  },
  {
   "cell_type": "code",
   "execution_count": 1217,
   "metadata": {},
   "outputs": [],
   "source": [
    "def approx_covariance_matrix(theta):\n",
    "    return jnp.linalg.inv(hessian(negative_log_posterior)(theta))"
   ]
  },
  {
   "cell_type": "code",
   "execution_count": 1219,
   "metadata": {},
   "outputs": [],
   "source": [
    "theta_star = minimize(\n",
    "    negative_log_posterior, \n",
    "    jnp.array([0.0, 0.0]), \n",
    "    jac=grad_negative_log_posterior, \n",
    "    method=\"BFGS\"\n",
    ").x"
   ]
  },
  {
   "cell_type": "code",
   "execution_count": 1220,
   "metadata": {},
   "outputs": [
    {
     "data": {
      "text/plain": [
       "array([0.49996502, 2.0000122 ])"
      ]
     },
     "execution_count": 1220,
     "metadata": {},
     "output_type": "execute_result"
    }
   ],
   "source": [
    "theta_star"
   ]
  },
  {
   "cell_type": "code",
   "execution_count": 1223,
   "metadata": {},
   "outputs": [
    {
     "data": {
      "text/plain": [
       "DeviceArray([[0.77777773, 0.38888887],\n",
       "             [0.38888887, 0.77777773]], dtype=float32)"
      ]
     },
     "execution_count": 1223,
     "metadata": {},
     "output_type": "execute_result"
    }
   ],
   "source": [
    "sigma_approx = sigma_approx = approx_covariance_matrix(theta_star)\n",
    "sigma_approx"
   ]
  },
  {
   "cell_type": "code",
   "execution_count": 1225,
   "metadata": {},
   "outputs": [
    {
     "data": {
      "text/plain": [
       "DeviceArray([0.5, 2. ], dtype=float32)"
      ]
     },
     "execution_count": 1225,
     "metadata": {},
     "output_type": "execute_result"
    }
   ],
   "source": [
    "mu"
   ]
  },
  {
   "cell_type": "code",
   "execution_count": 1224,
   "metadata": {},
   "outputs": [
    {
     "data": {
      "text/plain": [
       "DeviceArray([[1. , 0.5],\n",
       "             [0.5, 1. ]], dtype=float32)"
      ]
     },
     "execution_count": 1224,
     "metadata": {},
     "output_type": "execute_result"
    }
   ],
   "source": [
    "sigma"
   ]
  },
  {
   "cell_type": "code",
   "execution_count": null,
   "metadata": {},
   "outputs": [],
   "source": []
  },
  {
   "cell_type": "code",
   "execution_count": null,
   "metadata": {},
   "outputs": [],
   "source": []
  },
  {
   "cell_type": "markdown",
   "metadata": {},
   "source": [
    "# Done."
   ]
  }
 ],
 "metadata": {
  "kernelspec": {
   "display_name": "DESI master",
   "language": "python",
   "name": "desi-master"
  },
  "language_info": {
   "codemirror_mode": {
    "name": "ipython",
    "version": 3
   },
   "file_extension": ".py",
   "mimetype": "text/x-python",
   "name": "python",
   "nbconvert_exporter": "python",
   "pygments_lexer": "ipython3",
   "version": "3.8.3"
  },
  "latex_envs": {
   "LaTeX_envs_menu_present": true,
   "autoclose": false,
   "autocomplete": true,
   "bibliofile": "biblio.bib",
   "cite_by": "apalike",
   "current_citInitial": 1,
   "eqLabelWithNumbers": true,
   "eqNumInitial": 1,
   "hotkeys": {
    "equation": "Ctrl-E",
    "itemize": "Ctrl-I"
   },
   "labels_anchors": false,
   "latex_user_defs": false,
   "report_style_numbering": false,
   "user_envs_cfg": false
  },
  "nbTranslate": {
   "displayLangs": [
    "*"
   ],
   "hotkey": "alt-t",
   "langInMainMenu": true,
   "sourceLang": "en",
   "targetLang": "fr",
   "useGoogleTranslate": true
  }
 },
 "nbformat": 4,
 "nbformat_minor": 4
}
