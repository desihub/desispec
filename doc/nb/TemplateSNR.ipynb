{
 "cells": [
  {
   "cell_type": "code",
   "execution_count": 1,
   "metadata": {},
   "outputs": [],
   "source": [
    "import os\n",
    "import sys\n",
    "\n",
    "sys.path.append('/global/project/projectdirs/desi/users/mjwilson/repos/desispec/py/desispec/radlss/')"
   ]
  },
  {
   "cell_type": "code",
   "execution_count": 2,
   "metadata": {},
   "outputs": [],
   "source": [
    "# import jax"
   ]
  },
  {
   "cell_type": "code",
   "execution_count": 3,
   "metadata": {},
   "outputs": [],
   "source": [
    "os.environ['PYTHONPATH'] = '/global/homes/m/mjwilson/.local/lib/python3.8/site-packages/corner/:' + os.environ['PYTHONPATH']"
   ]
  },
  {
   "cell_type": "code",
   "execution_count": 4,
   "metadata": {},
   "outputs": [],
   "source": [
    "import time\n",
    "import glob\n",
    "import scipy\n",
    "import corner\n",
    "import fitsio\n",
    "\n",
    "import itertools\n",
    "import warnings\n",
    "\n",
    "import numpy as np\n",
    "import pylab as pl\n",
    "\n",
    "import desisim.templates\n",
    "import astropy.io.fits              as      fits\n",
    "\n",
    "import desispec.io\n",
    "import redrock.templates\n",
    "import matplotlib.pyplot            as      plt\n",
    "\n",
    "from   os                           import  path\n",
    "from   astropy.convolution          import  convolve, Box1DKernel\n",
    "from   desispec.spectra             import  Spectra\n",
    "from   desispec.frame               import  Frame\n",
    "from   desispec.resolution          import  Resolution\n",
    "from   desispec.io.meta             import  findfile\n",
    "from   desispec.io                  import  read_frame, read_fiberflat, read_flux_calibration, read_sky, read_fibermap\n",
    "from   desispec.interpolation       import  resample_flux\n",
    "from   astropy.table                import  Table\n",
    "from   desispec.io.image            import  read_image\n",
    "from   specter.psf.gausshermite     import  GaussHermitePSF\n",
    "from   scipy.signal                 import  medfilt\n",
    "from   desispec.calibfinder         import  CalibFinder\n",
    "from   astropy.utils.exceptions     import  AstropyWarning\n",
    "from   scipy                        import  stats\n",
    "from   pathlib                      import  Path\n",
    "from   templateSNR                  import  templateSNR\n",
    "from   RadLSS                       import  RadLSS\n",
    "from   scipy.optimize               import  Bounds"
   ]
  },
  {
   "cell_type": "markdown",
   "metadata": {},
   "source": [
    "# Foundations to desispec ticket 1004:  Template SNR and LSS rad. weights."
   ]
  },
  {
   "cell_type": "markdown",
   "metadata": {},
   "source": [
    "Template SNR:"
   ]
  },
  {
   "cell_type": "markdown",
   "metadata": {},
   "source": [
    "https://desi.lbl.gov/DocDB/cgi-bin/private/RetrieveFile?docid=4723;filename=sky-monitor-mc-study-v1.pdf;version=2"
   ]
  },
  {
   "cell_type": "markdown",
   "metadata": {},
   "source": [
    "applied to SV0 dataset:"
   ]
  },
  {
   "cell_type": "markdown",
   "metadata": {},
   "source": [
    "https://desi.lbl.gov/trac/wiki/TargetSelectionWG/SV0"
   ]
  },
  {
   "cell_type": "markdown",
   "metadata": {},
   "source": [
    "# Template SNR"
   ]
  },
  {
   "cell_type": "markdown",
   "metadata": {},
   "source": [
    "$\\Huge \\langle tSNR^2 \\rangle = \\sum_{grz} \\sum_{\\lambda \\in grz} \\left ( \\frac{\\tau^2 T^2 \\langle \\Delta F^2 \\rangle}{\\sigma_e^2 \\cdot {\\rm NPIX/A} + \\tau T_{\\rm sky}  F_{\\rm sky}} \\right ) $"
   ]
  },
  {
   "cell_type": "markdown",
   "metadata": {},
   "source": [
    "_\"We choose to normalize it such that zSNR = 3 for a 1000 sec dark time exposure in\n",
    "nominal conditions.\"_"
   ]
  },
  {
   "cell_type": "markdown",
   "metadata": {},
   "source": [
    "Here:  \n",
    "- $\\sigma_e$ is the READNOISE in units of ELECTRONS / PIXEL. \n",
    "- NPIX/A is the projected fiber area in units of PIXELS for a width of **ONE ANGSTROM**.  \n",
    "- $\\Delta F$ is the residual (template) flux from a 100A filtered equivalent.\n",
    "- $\\tau$ is the exposure time, already included in the flux calib.\n",
    "- $T_{\\rm sky} F_{\\rm sky}$ is the estimated fiber sky flux in units of ELECTRONS PER ANGSTROM."
   ]
  },
  {
   "cell_type": "code",
   "execution_count": 5,
   "metadata": {},
   "outputs": [],
   "source": [
    "def get_expids(night, andes='/global/cfs/cdirs/desi/spectro/redux/andes'):\n",
    "    tiles  = np.unique(np.array([x.split('/')[-3] for x in glob.glob(andes + '/tiles/*/{}/cframe-*'.format(night))]).astype(np.int))\n",
    "\n",
    "    # np.sort(np.array([x.split('/')[-1] for x in glob.glob(andes + '/exposures/{}/*'.format(night))]).astype(np.int))                                                                                  \n",
    "    expids = np.unique(np.array([x.split('/')[-1].split('-')[2].replace('.fits','') for x in glob.glob(andes + '/tiles/*/{}/cframe-*'.format(night))]).astype(np.int))\n",
    "\n",
    "    return  expids, tiles"
   ]
  },
  {
   "cell_type": "code",
   "execution_count": 6,
   "metadata": {},
   "outputs": [],
   "source": [
    "nmax          = 1\n",
    "night         = '20200315'\n",
    "tracers       = ['ELG']\n",
    "\n",
    "expids, tiles = get_expids(night)\n",
    "\n",
    "cameras       = ['b5', 'r5', 'z5']"
   ]
  },
  {
   "cell_type": "code",
   "execution_count": 7,
   "metadata": {},
   "outputs": [],
   "source": [
    "expids        = expids[1:2]"
   ]
  },
  {
   "cell_type": "code",
   "execution_count": 8,
   "metadata": {},
   "outputs": [
    {
     "data": {
      "text/plain": [
       "array([55589])"
      ]
     },
     "execution_count": 8,
     "metadata": {},
     "output_type": "execute_result"
    }
   ],
   "source": [
    "expids "
   ]
  },
  {
   "cell_type": "code",
   "execution_count": 9,
   "metadata": {},
   "outputs": [
    {
     "name": "stdout",
     "output_type": "stream",
     "text": [
      "Solving for EXPID 00055589\n",
      "Rank 0:  Grabbing camera b5\n",
      "Rank 0:  Grabbing camera r5\n",
      "Rank 0:  Grabbing camera z5\n",
      "Rank 0:  Retrieved pipeline data in 0.143 mins.\n",
      "Rank 0:  Grabbing camera b5\n",
      "Rank 0:  Grabbing camera r5\n",
      "Rank 0:  Grabbing camera z5\n",
      "Rank 0:  Retrieved pipeline data in 0.093 mins.\n",
      "Rank 0:  Calculated NEA in 0.079 mins.\n",
      "Rank 0:  Calculated psf-local readnoise in 0.154 mins.\n",
      "DEBUG: Read templates from /global/common/software/desi/cori/desiconda/20190804-1.3.0-spec/code/redrock-templates/master\n",
      "DEBUG: Using default redshift range -0.0050-1.6997 for rrtemplate-galaxy.fits\n",
      "DEBUG: Using default redshift range 0.0500-5.9934 for rrtemplate-qso.fits\n",
      "DEBUG: Using default redshift range -0.0020-0.0020 for rrtemplate-star-A.fits\n",
      "DEBUG: Using default redshift range -0.0020-0.0020 for rrtemplate-star-B.fits\n",
      "DEBUG: Using default redshift range -0.0020-0.0020 for rrtemplate-star-CV.fits\n",
      "DEBUG: Using default redshift range -0.0020-0.0020 for rrtemplate-star-F.fits\n",
      "DEBUG: Using default redshift range -0.0020-0.0020 for rrtemplate-star-G.fits\n",
      "DEBUG: Using default redshift range -0.0020-0.0020 for rrtemplate-star-K.fits\n",
      "DEBUG: Using default redshift range -0.0020-0.0020 for rrtemplate-star-M.fits\n",
      "DEBUG: Using default redshift range -0.0020-0.0020 for rrtemplate-star-WD.fits\n",
      "Updated rr templates.\n",
      "Rank 0:  Calculated redrock cframe in 0.766 mins.\n"
     ]
    }
   ],
   "source": [
    "for nexp, expid in enumerate(expids):\n",
    "    print('Solving for EXPID {:08d}'.format(expid))\n",
    "    \n",
    "    rads      = RadLSS(night, expid, cameras=cameras)\n",
    "    \n",
    "    rads.compute(tracers=tracers, templates=False)\n",
    "\n",
    "    if nexp == nmax:\n",
    "        break"
   ]
  },
  {
   "cell_type": "code",
   "execution_count": 18,
   "metadata": {},
   "outputs": [],
   "source": [
    "zbest = Table.read(rads.data_zbest_file, 'ZBEST')"
   ]
  },
  {
   "cell_type": "code",
   "execution_count": 19,
   "metadata": {},
   "outputs": [],
   "source": [
    "rr_z       = zbest['Z']"
   ]
  },
  {
   "cell_type": "code",
   "execution_count": 20,
   "metadata": {},
   "outputs": [],
   "source": [
    " spectype   = [x.strip() for x in zbest['SPECTYPE']]"
   ]
  },
  {
   "cell_type": "code",
   "execution_count": 21,
   "metadata": {},
   "outputs": [],
   "source": [
    "subtype   = [x.strip() for x in zbest['SUBTYPE']]"
   ]
  },
  {
   "cell_type": "code",
   "execution_count": 22,
   "metadata": {},
   "outputs": [],
   "source": [
    "fulltype   = list(zip(spectype, subtype))"
   ]
  },
  {
   "cell_type": "code",
   "execution_count": 26,
   "metadata": {},
   "outputs": [],
   "source": [
    "ncoeff     = [rads.templates[ft].flux.shape[0] for ft in fulltype]"
   ]
  },
  {
   "cell_type": "code",
   "execution_count": 27,
   "metadata": {},
   "outputs": [],
   "source": [
    "coeff      = [x[0:y] for (x,y) in zip(zbest['COEFF'], ncoeff)]"
   ]
  },
  {
   "cell_type": "code",
   "execution_count": 29,
   "metadata": {},
   "outputs": [],
   "source": [
    "tfluxs     = [rads.templates[ft].flux.T.dot(cf).tolist()     for (ft, cf) in zip(fulltype, coeff)]"
   ]
  },
  {
   "cell_type": "code",
   "execution_count": 37,
   "metadata": {},
   "outputs": [],
   "source": [
    "stfluxs    = [tfluxs[x] for x in rads.indx]"
   ]
  },
  {
   "cell_type": "code",
   "execution_count": null,
   "metadata": {},
   "outputs": [],
   "source": []
  },
  {
   "cell_type": "code",
   "execution_count": null,
   "metadata": {},
   "outputs": [],
   "source": []
  },
  {
   "cell_type": "code",
   "execution_count": null,
   "metadata": {},
   "outputs": [],
   "source": [
    "rads.cframes['b5'].flux[np.argsort(rads.zbests_fib['5']['FIBER']), :]"
   ]
  },
  {
   "cell_type": "code",
   "execution_count": null,
   "metadata": {},
   "outputs": [
    {
     "name": "stdout",
     "output_type": "stream",
     "text": [
      "Warning: Desired error not necessarily achieved due to precision loss.\n",
      "         Current function value: 483.863368\n",
      "         Iterations: 47\n",
      "         Function evaluations: 789\n",
      "         Gradient evaluations: 111\n"
     ]
    }
   ],
   "source": [
    "rads.line_fit(fiber=4)"
   ]
  },
  {
   "cell_type": "code",
   "execution_count": 19,
   "metadata": {},
   "outputs": [
    {
     "data": {
      "text/plain": [
       "(-0.5, 5.0)"
      ]
     },
     "execution_count": 19,
     "metadata": {},
     "output_type": "execute_result"
    },
    {
     "data": {
      "image/png": "[encoded data removed]",
      "text/plain": [
       "<Figure size 432x288 with 1 Axes>"
      ]
     },
     "metadata": {
      "needs_background": "light"
     },
     "output_type": "display_data"
    }
   ],
   "source": [
    "index = 4\n",
    "\n",
    "for band in ['b', 'r', 'z']:\n",
    "    pl.plot(rads.cframes['{}5'.format(band)].wave, convolve(rads.cframes['{}5'.format(band)].flux[index, :], Box1DKernel(30), boundary='extend'))\n",
    "    pl.plot(rads.rr_cframes['{}5'.format(band)].wave, rads.rr_cframes['{}5'.format(band)].flux[index, :], c='k', alpha=0.25)\n",
    "        \n",
    "pl.xlim(6500., 9600.)\n",
    "pl.ylim(-0.5, 5.)"
   ]
  },
  {
   "cell_type": "code",
   "execution_count": 13,
   "metadata": {},
   "outputs": [],
   "source": [
    "rads.zbests_fib['5'] = Table.read(rads.data_zbest_file, 'FIBERMAP')"
   ]
  },
  {
   "cell_type": "code",
   "execution_count": 15,
   "metadata": {},
   "outputs": [],
   "source": [
    "rads.zbests_fib['5'] = rads.zbests_fib['5'][rads.zbests_fib['5']['EXPID'] == rads.expid]"
   ]
  },
  {
   "cell_type": "code",
   "execution_count": 16,
   "metadata": {},
   "outputs": [],
   "source": [
    "rads.zbests_fib['5'].sort('TARGETID')"
   ]
  },
  {
   "cell_type": "code",
   "execution_count": 37,
   "metadata": {},
   "outputs": [
    {
     "data": {
      "text/html": [
       "&lt;Column name=&apos;DELTACHI2&apos; dtype=&apos;float64&apos; length=500&gt;\n",
       "<table>\n",
       "<tr><td>34.98541857302189</td></tr>\n",
       "<tr><td>33.35675486922264</td></tr>\n",
       "<tr><td>1954.7615637164563</td></tr>\n",
       "<tr><td>533.7973711490631</td></tr>\n",
       "<tr><td>2.505560301244259</td></tr>\n",
       "<tr><td>574.3106331080198</td></tr>\n",
       "<tr><td>0.17507775127887726</td></tr>\n",
       "<tr><td>103443.48394789209</td></tr>\n",
       "<tr><td>88.6074578166008</td></tr>\n",
       "<tr><td>264.86041563749313</td></tr>\n",
       "<tr><td>5.248475730419159</td></tr>\n",
       "<tr><td>375.20855627954006</td></tr>\n",
       "<tr><td>...</td></tr>\n",
       "<tr><td>196.3941945694387</td></tr>\n",
       "<tr><td>1.942668892225729e+84</td></tr>\n",
       "<tr><td>1.942668892225729e+84</td></tr>\n",
       "<tr><td>10.31527403742075</td></tr>\n",
       "<tr><td>1.942668892225729e+84</td></tr>\n",
       "<tr><td>2.9015170335769653</td></tr>\n",
       "<tr><td>17.334974013268948</td></tr>\n",
       "<tr><td>18.154949188232422</td></tr>\n",
       "<tr><td>75.98928681015968</td></tr>\n",
       "<tr><td>1.942668892225729e+84</td></tr>\n",
       "<tr><td>6.473973363637924</td></tr>\n",
       "<tr><td>3.205614570528269</td></tr>\n",
       "</table>"
      ],
      "text/plain": [
       "<Column name='DELTACHI2' dtype='float64' length=500>\n",
       "    34.98541857302189\n",
       "    33.35675486922264\n",
       "   1954.7615637164563\n",
       "    533.7973711490631\n",
       "    2.505560301244259\n",
       "    574.3106331080198\n",
       "  0.17507775127887726\n",
       "   103443.48394789209\n",
       "     88.6074578166008\n",
       "   264.86041563749313\n",
       "    5.248475730419159\n",
       "   375.20855627954006\n",
       "                  ...\n",
       "    196.3941945694387\n",
       "1.942668892225729e+84\n",
       "1.942668892225729e+84\n",
       "    10.31527403742075\n",
       "1.942668892225729e+84\n",
       "   2.9015170335769653\n",
       "   17.334974013268948\n",
       "   18.154949188232422\n",
       "    75.98928681015968\n",
       "1.942668892225729e+84\n",
       "    6.473973363637924\n",
       "    3.205614570528269"
      ]
     },
     "execution_count": 37,
     "metadata": {},
     "output_type": "execute_result"
    }
   ],
   "source": [
    "rads.zbests['5']['DELTACHI2']"
   ]
  },
  {
   "cell_type": "code",
   "execution_count": 44,
   "metadata": {},
   "outputs": [
    {
     "data": {
      "text/plain": [
       "327"
      ]
     },
     "execution_count": 44,
     "metadata": {},
     "output_type": "execute_result"
    }
   ],
   "source": [
    "rads.zbests_fib['5']['FIBER'][5] - 2500"
   ]
  },
  {
   "cell_type": "code",
   "execution_count": 11,
   "metadata": {},
   "outputs": [],
   "source": [
    "# ! ls /global/cscratch1/sd/mjwilson/radlss/test//ensemble/"
   ]
  },
  {
   "cell_type": "code",
   "execution_count": 12,
   "metadata": {},
   "outputs": [],
   "source": [
    "# sample             = rads.ensemble_meta['ELG']['REDSHIFT', 'MAG_G', 'MAG_R', 'MAG_Z', 'OIIFLUX']\n",
    "# sample['OIIFLUX'] *= 1.e17\n",
    "# sample['r-z']      = sample['MAG_R'] - sample['MAG_Z'] \n",
    "# sample['g-r']      = sample['MAG_G'] - sample['MAG_R'] \n",
    "\n",
    "# del sample['MAG_G']\n",
    "# del sample['MAG_R']\n",
    "# del sample['MAG_Z']\n",
    "\n",
    "# sample"
   ]
  },
  {
   "cell_type": "code",
   "execution_count": 13,
   "metadata": {},
   "outputs": [],
   "source": [
    "# ndim, nsamples = 5, len(sample)\n",
    "\n",
    "# data_kwargs    = {'markersize': 2, 'alpha': 1.0}\n",
    "\n",
    "# figure         = corner.corner(np.array(np.array(sample).tolist()), labels=sample.dtype.names,\n",
    "#                                quantiles=[0.16, 0.5, 0.84], plot_contours=False,\n",
    "#                                show_titles=True, title_kwargs={\"fontsize\": 12},\n",
    "#                                plot_datapoints=True, plot_density=False, no_fill_contours=True, data_kwargs=data_kwargs)"
   ]
  },
  {
   "cell_type": "code",
   "execution_count": 10,
   "metadata": {},
   "outputs": [],
   "source": [
    "def X2(params, z, wave, Res, flux, continuum, linea, lineb, twave):\n",
    "    [lnline_flux, r, sigma]         = params\n",
    "    Rflux, X2, line_flux            = line_fit(z, wave, Res, flux, continuum, sigma, r, np.exp(lnline_flux), linea, lineb, twave)\n",
    "    \n",
    "    return  X2"
   ]
  },
  {
   "cell_type": "code",
   "execution_count": 12,
   "metadata": {},
   "outputs": [],
   "source": [
    "index                               =  404\n",
    "petal                               = '5'\n",
    "band                                = 'r'\n",
    "  \n",
    "# zz                                = rads.zbests[petal]['Z'][index]\n",
    "# oii_truth                         = rads.ensemble_objmeta['ELG']['OIIFLUX'][index] \n",
    "\n",
    "wave                                = rads.cframes['{}5'.format(band)].wave\n",
    "flux                                = rads.cframes['{}5'.format(band)].flux[index,:]\n",
    "ivar                                = rads.cframes['{}5'.format(band)].ivar[index,:]\n",
    "\n",
    "Res                                 = Resolution(rads.cframes['{}5'.format(band)].resolution_data[index])\n",
    "\n",
    "zz                                  = rads.ensemble_meta['ELG']['REDSHIFT'][index]\n",
    "zerr                                = 1.e-2\n",
    "flux                                = rads.ensemble_flux['ELG'][band][index]\n",
    "\n",
    "twave                               = np.arange(3100., 10400., 0.1)"
   ]
  },
  {
   "cell_type": "code",
   "execution_count": 13,
   "metadata": {},
   "outputs": [],
   "source": [
    "window                              = np.arange((3727. * (1. + zz)) - 50., (3727. * (1. + zz)) + 50., 0.8)\n",
    "xmin, xmax                          = window.min(), window.max()\n",
    "\n",
    "continuum                           = ((wave > window.min()) & (wave < window.max())) & ((wave < (window.min() + 20.)) | (wave > (window.max() - 20.)))\n",
    "continuum                           = np.median(flux[continuum])\n",
    "\n",
    "flux                                = np.array(flux, copy=True)\n",
    "flux                               -= continuum"
   ]
  },
  {
   "cell_type": "code",
   "execution_count": 14,
   "metadata": {},
   "outputs": [
    {
     "data": {
      "text/plain": [
       "(-0.5, 2.8757993668317794)"
      ]
     },
     "execution_count": 14,
     "metadata": {},
     "output_type": "execute_result"
    },
    {
     "data": {
      "image/png": "[encoded data removed]",
      "text/plain": [
       "<Figure size 432x288 with 1 Axes>"
      ]
     },
     "metadata": {
      "needs_background": "light"
     },
     "output_type": "display_data"
    }
   ],
   "source": [
    "pl.plot(wave, flux,  c='k', label='OIIFLUX: {:.2e}'.format(0.0))\n",
    "pl.legend(frameon=False)\n",
    "\n",
    "pl.xlabel('Wavlength [Angstroms]')\n",
    "pl.ylabel('Flux')\n",
    "\n",
    "pl.xlim(xmin, xmax)\n",
    "pl.ylim(bottom=-0.5)"
   ]
  },
  {
   "cell_type": "code",
   "execution_count": 27,
   "metadata": {},
   "outputs": [],
   "source": [
    "linea                               = 3727.092\n",
    "lineb                               = 3729.875"
   ]
  },
  {
   "cell_type": "code",
   "execution_count": 28,
   "metadata": {},
   "outputs": [],
   "source": [
    "args                                = (zz, wave, Res, flux, 0.0, 3727.092, 3729.875, twave)"
   ]
  },
  {
   "cell_type": "code",
   "execution_count": 29,
   "metadata": {},
   "outputs": [],
   "source": [
    "# bounds                            = Bounds([0.0, 0.0, 0.0], [50., 1.0, 100.])"
   ]
  },
  {
   "cell_type": "code",
   "execution_count": 32,
   "metadata": {},
   "outputs": [],
   "source": [
    "# lnline_flux, r, sigma\n",
    "x0                                  = np.array([np.log(5.), 0.7, 15.])\n",
    "result                              = scipy.optimize.minimize(X2, x0, args, method='CG')\n",
    "[lnline_flux, r, sigma]             = result.x"
   ]
  },
  {
   "cell_type": "code",
   "execution_count": 33,
   "metadata": {},
   "outputs": [
    {
     "data": {
      "text/plain": [
       "(2.6561889526370472, 0.7190404080093783, 41.93802194863647)"
      ]
     },
     "execution_count": 33,
     "metadata": {},
     "output_type": "execute_result"
    }
   ],
   "source": [
    "lnline_flux, r, sigma"
   ]
  },
  {
   "cell_type": "code",
   "execution_count": 34,
   "metadata": {},
   "outputs": [],
   "source": [
    "Rflux, _, _  = line_fit(zz, wave, Res, flux, sigma=sigma, r=r, line_flux=np.exp(line_flux))"
   ]
  },
  {
   "cell_type": "code",
   "execution_count": 35,
   "metadata": {},
   "outputs": [
    {
     "data": {
      "text/plain": [
       "(-0.5, 3.046496071777168)"
      ]
     },
     "execution_count": 35,
     "metadata": {},
     "output_type": "execute_result"
    },
    {
     "data": {
      "image/png": "[encoded data removed]",
      "text/plain": [
       "<Figure size 432x288 with 1 Axes>"
      ]
     },
     "metadata": {
      "needs_background": "light"
     },
     "output_type": "display_data"
    }
   ],
   "source": [
    "pl.plot(wave, flux,  c='k', label='OIIFLUX: {:.2e}'.format(0.0))\n",
    "pl.plot(wave, Rflux, c='r')\n",
    "\n",
    "pl.axhline(continuum, alpha=0.4, c='k')\n",
    "\n",
    "pl.legend(frameon=False)\n",
    "\n",
    "pl.title('Fitted OII: {:.2e} [1.e-17 ergs/s/cm2]'.format(line_flux))\n",
    "\n",
    "pl.xlabel('Wavlength [Angstroms]')\n",
    "pl.ylabel('Flux')\n",
    "\n",
    "pl.xlim(xmin, xmax)\n",
    "pl.ylim(bottom=-0.5)"
   ]
  },
  {
   "cell_type": "code",
   "execution_count": 36,
   "metadata": {},
   "outputs": [
    {
     "data": {
      "text/plain": [
       "     fun: 172.7775051520718\n",
       "     jac: array([0.00000000e+00, 0.00000000e+00, 7.62939453e-06])\n",
       " message: 'Optimization terminated successfully.'\n",
       "    nfev: 264\n",
       "     nit: 29\n",
       "    njev: 66\n",
       "  status: 0\n",
       " success: True\n",
       "       x: array([ 2.65618895,  0.71904041, 41.93802195])"
      ]
     },
     "execution_count": 36,
     "metadata": {},
     "output_type": "execute_result"
    }
   ],
   "source": [
    "result"
   ]
  },
  {
   "cell_type": "code",
   "execution_count": 37,
   "metadata": {},
   "outputs": [],
   "source": [
    "import scipy\n",
    "\n",
    "from   scipy             import optimize\n",
    "from   scipy.optimize    import approx_fprime, minimize, Bounds\n",
    "from   scipy.stats       import multivariate_normal"
   ]
  },
  {
   "cell_type": "code",
   "execution_count": 49,
   "metadata": {},
   "outputs": [],
   "source": [
    "def X2(x):  \n",
    "  z         = x[0]\n",
    "  v         = x[1]\n",
    "  r         = x[2] \n",
    "  lnA       = x[3]\n",
    "    \n",
    "  line_flux = np.exp(lnA)\n",
    "    \n",
    "  Rflux, X2, _  = line_fit(z, wave, Res, flux, sigma=v, r=r, line_flux=line_flux)\n",
    "    \n",
    "  return  X2"
   ]
  },
  {
   "cell_type": "code",
   "execution_count": 56,
   "metadata": {},
   "outputs": [
    {
     "data": {
      "text/plain": [
       "-94.98079476226442"
      ]
     },
     "execution_count": 56,
     "metadata": {},
     "output_type": "execute_result"
    }
   ],
   "source": [
    "mloglike([zz, 30., 0.8, 2.0])"
   ]
  },
  {
   "cell_type": "code",
   "execution_count": 58,
   "metadata": {},
   "outputs": [
    {
     "data": {
      "text/plain": [
       "-108.24173430154636"
      ]
     },
     "execution_count": 58,
     "metadata": {},
     "output_type": "execute_result"
    }
   ],
   "source": [
    "mloglike([zz, 150., 0.8, 2.0])"
   ]
  },
  {
   "cell_type": "code",
   "execution_count": 59,
   "metadata": {},
   "outputs": [],
   "source": [
    "def mloglike(x):\n",
    "    return X2(x) / 2."
   ]
  },
  {
   "cell_type": "code",
   "execution_count": 60,
   "metadata": {},
   "outputs": [],
   "source": [
    "def mlogpos(x):\n",
    "    return mloglike(x) + mlogprior(x)"
   ]
  },
  {
   "cell_type": "code",
   "execution_count": 61,
   "metadata": {},
   "outputs": [],
   "source": [
    "def gradient(x):\n",
    "  eps = 1.e-8\n",
    "    \n",
    "  return optimize.approx_fprime(x, mlogpos, eps)"
   ]
  },
  {
   "cell_type": "code",
   "execution_count": 62,
   "metadata": {},
   "outputs": [],
   "source": [
    "# [z, v, r, A]\n",
    "oo     = np.array([zz, 28., 0.7, 3.08])"
   ]
  },
  {
   "cell_type": "code",
   "execution_count": 63,
   "metadata": {},
   "outputs": [
    {
     "data": {
      "text/plain": [
       "0.7851922191932855"
      ]
     },
     "execution_count": 63,
     "metadata": {},
     "output_type": "execute_result"
    }
   ],
   "source": [
    "zz"
   ]
  },
  {
   "cell_type": "code",
   "execution_count": 64,
   "metadata": {},
   "outputs": [
    {
     "data": {
      "text/plain": [
       "250.22796236009427"
      ]
     },
     "execution_count": 64,
     "metadata": {},
     "output_type": "execute_result"
    }
   ],
   "source": [
    "mlogpos([0.78, 28., 0.7, 3.08])"
   ]
  },
  {
   "cell_type": "code",
   "execution_count": 65,
   "metadata": {},
   "outputs": [
    {
     "data": {
      "text/plain": [
       "147.22100982507726"
      ]
     },
     "execution_count": 65,
     "metadata": {},
     "output_type": "execute_result"
    }
   ],
   "source": [
    "mlogpos([0.78, 28., 0.7, 2.08])"
   ]
  },
  {
   "cell_type": "code",
   "execution_count": 66,
   "metadata": {},
   "outputs": [
    {
     "name": "stdout",
     "output_type": "stream",
     "text": [
      "Optimization terminated successfully.\n",
      "         Current function value: 88.297499\n",
      "         Iterations: 22\n",
      "         Function evaluations: 37\n",
      "         Gradient evaluations: 28\n"
     ]
    }
   ],
   "source": [
    "# https://docs.scipy.org/doc/scipy/reference/generated/scipy.optimize.fmin_bfgs.html\n",
    "result = scipy.optimize.fmin_bfgs(mlogpos, oo, fprime=gradient, gtol=1e-05, norm=-np.inf, epsilon=1.4901161193847656e-08, maxiter=None, full_output=True, disp=1, retall=1, callback=None)"
   ]
  },
  {
   "cell_type": "code",
   "execution_count": 67,
   "metadata": {},
   "outputs": [
    {
     "data": {
      "text/plain": [
       "array([ 0.78521647, 40.21359148,  0.71664804,  2.62414942])"
      ]
     },
     "execution_count": 67,
     "metadata": {},
     "output_type": "execute_result"
    }
   ],
   "source": [
    "# Parameters which minimize f, i.e., f(xopt) == fopt.\n",
    "# Minimum value.\n",
    "# Value of gradient at minimum, fprime(xopt), which should be near 0.\n",
    "# Value of 1/fdoubleprime(xopt), i.e., the inverse Hessian matrix.\n",
    "# Number of function_calls made.\n",
    "# Number of gradient calls made.\n",
    "# Maximum number of iterations exceeded. 2 : Gradient and/or function calls not changing. 3 : NaN result encountered. \n",
    "# The value of xopt at each iteration. Only returned if retall is True.\n",
    "result[0]"
   ]
  },
  {
   "cell_type": "code",
   "execution_count": 68,
   "metadata": {},
   "outputs": [
    {
     "data": {
      "text/plain": [
       "88.29749908675814"
      ]
     },
     "execution_count": 68,
     "metadata": {},
     "output_type": "execute_result"
    }
   ],
   "source": [
    "result[1]"
   ]
  },
  {
   "cell_type": "code",
   "execution_count": 69,
   "metadata": {},
   "outputs": [],
   "source": [
    "Rflux, _, _  = line_fit(result[0][0], wave, Res, flux, sigma=result[0][1], r=result[0][2], line_flux=np.exp(result[0][3]))\n",
    "# Rflux, _, _  = line_fit(zz, wave, Res, flux, sigma=50., r=0.8, line_flux=np.exp(2.))"
   ]
  },
  {
   "cell_type": "code",
   "execution_count": 70,
   "metadata": {},
   "outputs": [
    {
     "data": {
      "text/plain": [
       "(-0.5, 3.0)"
      ]
     },
     "execution_count": 70,
     "metadata": {},
     "output_type": "execute_result"
    },
    {
     "data": {
      "image/png": "[encoded data removed]",
      "text/plain": [
       "<Figure size 432x288 with 1 Axes>"
      ]
     },
     "metadata": {
      "needs_background": "light"
     },
     "output_type": "display_data"
    }
   ],
   "source": [
    "pl.plot(wave, flux,  c='k', label='OIIFLUX: {:.2e}'.format(0.0))\n",
    "pl.plot(wave, Rflux, c='r')\n",
    "\n",
    "pl.axhline(continuum, alpha=0.4, c='k')\n",
    "\n",
    "pl.legend(frameon=False)\n",
    "\n",
    "pl.title('Fitted OII: {:.2e} [1.e-17 ergs/s/cm2]'.format(np.exp(result[0][3])))\n",
    "\n",
    "pl.xlabel('Wavlength [Angstroms]')\n",
    "pl.ylabel('Flux')\n",
    "\n",
    "pl.xlim(xmin, xmax)\n",
    "pl.ylim(bottom=-0.5, top=3.0)"
   ]
  },
  {
   "cell_type": "code",
   "execution_count": 71,
   "metadata": {},
   "outputs": [],
   "source": [
    "ihess = result[3]"
   ]
  },
  {
   "cell_type": "code",
   "execution_count": 72,
   "metadata": {},
   "outputs": [
    {
     "name": "stdout",
     "output_type": "stream",
     "text": [
      "[ 1.23429295e-09 -5.02341168e-05  7.91233469e-07  3.76546810e-08]\n",
      "[-5.02341168e-05  9.03815367e+01 -1.34391154e-01  6.21418904e-01]\n",
      "[ 7.91233469e-07 -1.34391154e-01  1.95511160e-02  1.23341680e-03]\n",
      "[3.76546810e-08 6.21418904e-01 1.23341680e-03 1.56440221e-02]\n"
     ]
    }
   ],
   "source": [
    "for x in ihess:\n",
    "    print(x)"
   ]
  },
  {
   "cell_type": "code",
   "execution_count": 75,
   "metadata": {},
   "outputs": [
    {
     "data": {
      "text/plain": [
       "array([ 0.78521647, 40.21359148,  0.71664804,  2.62414942])"
      ]
     },
     "execution_count": 75,
     "metadata": {},
     "output_type": "execute_result"
    }
   ],
   "source": [
    "# [z, v, r, A]\n",
    "result[0]"
   ]
  },
  {
   "cell_type": "code",
   "execution_count": 76,
   "metadata": {},
   "outputs": [
    {
     "data": {
      "text/plain": [
       "array([3.51325056e-05, 9.50692046e+00, 1.39825305e-01, 1.25076065e-01])"
      ]
     },
     "execution_count": 76,
     "metadata": {},
     "output_type": "execute_result"
    }
   ],
   "source": [
    "# https://astrostatistics.psu.edu/su11scma5/HeavensLecturesSCMAVfull.pdf\n",
    "# Note:  marginal errors.\n",
    "merr = np.sqrt(np.diag(ihess))\n",
    "merr"
   ]
  },
  {
   "cell_type": "code",
   "execution_count": 77,
   "metadata": {},
   "outputs": [],
   "source": [
    "samples             = np.random.multivariate_normal(mean=result[0], cov=result[3], size=50000)"
   ]
  },
  {
   "cell_type": "code",
   "execution_count": 78,
   "metadata": {},
   "outputs": [
    {
     "data": {
      "image/png": "[encoded data removed]",
      "text/plain": [
       "<Figure size 698.4x698.4 with 16 Axes>"
      ]
     },
     "metadata": {
      "needs_background": "light"
     },
     "output_type": "display_data"
    }
   ],
   "source": [
    "ndim, nsamples      = 4, len(samples)\n",
    "data_kwargs         = {'markersize': 2, 'alpha': 1.0}\n",
    "\n",
    "figure              = corner.corner(samples, labels=['z', r'$\\sigma_v$', '$r$', 'ln(A)'],\n",
    "                                    quantiles=[0.16, 0.5, 0.84], plot_contours=True,\n",
    "                                    show_titles=True, title_kwargs={\"fontsize\": 12},\n",
    "                                    plot_datapoints=False, plot_density=False, no_fill_contours=False, data_kwargs=data_kwargs)"
   ]
  },
  {
   "cell_type": "code",
   "execution_count": 1213,
   "metadata": {},
   "outputs": [],
   "source": [
    "import jax.numpy      as     jnp\n",
    " \n",
    "from   jax            import hessian, grad\n",
    "from   scipy.stats    import multivariate_normal\n",
    "from   scipy.optimize import minimize"
   ]
  },
  {
   "cell_type": "code",
   "execution_count": 1214,
   "metadata": {},
   "outputs": [],
   "source": [
    "sigma     = jnp.array([(1.0, 0.5), (0.5, 1.0)])\n",
    "mu        = jnp.array([0.5, 2.0])\n",
    "nu        = jnp.array([7])\n",
    "\n",
    "sigma_inv = jnp.linalg.inv(sigma)"
   ]
  },
  {
   "cell_type": "code",
   "execution_count": 1215,
   "metadata": {},
   "outputs": [],
   "source": [
    "def negative_log_posterior(theta):\n",
    "    return (-jnp.log(\n",
    "        1.0 + nu ** -1.0 * jnp.dot((theta - mu), jnp.dot(sigma_inv, (theta - mu).T).T)\n",
    "    ) * (0.5  * -(nu + theta.shape[0])))[0]"
   ]
  },
  {
   "cell_type": "code",
   "execution_count": 1216,
   "metadata": {},
   "outputs": [],
   "source": [
    "def grad_negative_log_posterior(theta):\n",
    "    return grad(negative_log_posterior)(theta)"
   ]
  },
  {
   "cell_type": "code",
   "execution_count": 1217,
   "metadata": {},
   "outputs": [],
   "source": [
    "def approx_covariance_matrix(theta):\n",
    "    return jnp.linalg.inv(hessian(negative_log_posterior)(theta))"
   ]
  },
  {
   "cell_type": "code",
   "execution_count": 1219,
   "metadata": {},
   "outputs": [],
   "source": [
    "theta_star = minimize(\n",
    "    negative_log_posterior, \n",
    "    jnp.array([0.0, 0.0]), \n",
    "    jac=grad_negative_log_posterior, \n",
    "    method=\"BFGS\"\n",
    ").x"
   ]
  },
  {
   "cell_type": "code",
   "execution_count": 1220,
   "metadata": {},
   "outputs": [
    {
     "data": {
      "text/plain": [
       "array([0.49996502, 2.0000122 ])"
      ]
     },
     "execution_count": 1220,
     "metadata": {},
     "output_type": "execute_result"
    }
   ],
   "source": [
    "theta_star"
   ]
  },
  {
   "cell_type": "code",
   "execution_count": 1223,
   "metadata": {},
   "outputs": [
    {
     "data": {
      "text/plain": [
       "DeviceArray([[0.77777773, 0.38888887],\n",
       "             [0.38888887, 0.77777773]], dtype=float32)"
      ]
     },
     "execution_count": 1223,
     "metadata": {},
     "output_type": "execute_result"
    }
   ],
   "source": [
    "sigma_approx = sigma_approx = approx_covariance_matrix(theta_star)\n",
    "sigma_approx"
   ]
  },
  {
   "cell_type": "code",
   "execution_count": 1225,
   "metadata": {},
   "outputs": [
    {
     "data": {
      "text/plain": [
       "DeviceArray([0.5, 2. ], dtype=float32)"
      ]
     },
     "execution_count": 1225,
     "metadata": {},
     "output_type": "execute_result"
    }
   ],
   "source": [
    "mu"
   ]
  },
  {
   "cell_type": "code",
   "execution_count": 1224,
   "metadata": {},
   "outputs": [
    {
     "data": {
      "text/plain": [
       "DeviceArray([[1. , 0.5],\n",
       "             [0.5, 1. ]], dtype=float32)"
      ]
     },
     "execution_count": 1224,
     "metadata": {},
     "output_type": "execute_result"
    }
   ],
   "source": [
    "sigma"
   ]
  },
  {
   "cell_type": "markdown",
   "metadata": {},
   "source": [
    "# Done."
   ]
  }
 ],
 "metadata": {
  "kernelspec": {
   "display_name": "DESI master",
   "language": "python",
   "name": "desi-master"
  },
  "language_info": {
   "codemirror_mode": {
    "name": "ipython",
    "version": 3
   },
   "file_extension": ".py",
   "mimetype": "text/x-python",
   "name": "python",
   "nbconvert_exporter": "python",
   "pygments_lexer": "ipython3",
   "version": "3.8.3"
  },
  "latex_envs": {
   "LaTeX_envs_menu_present": true,
   "autoclose": false,
   "autocomplete": true,
   "bibliofile": "biblio.bib",
   "cite_by": "apalike",
   "current_citInitial": 1,
   "eqLabelWithNumbers": true,
   "eqNumInitial": 1,
   "hotkeys": {
    "equation": "Ctrl-E",
    "itemize": "Ctrl-I"
   },
   "labels_anchors": false,
   "latex_user_defs": false,
   "report_style_numbering": false,
   "user_envs_cfg": false
  },
  "nbTranslate": {
   "displayLangs": [
    "*"
   ],
   "hotkey": "alt-t",
   "langInMainMenu": true,
   "sourceLang": "en",
   "targetLang": "fr",
   "useGoogleTranslate": true
  }
 },
 "nbformat": 4,
 "nbformat_minor": 4
}
