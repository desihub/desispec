{
 "cells": [
  {
   "cell_type": "code",
   "execution_count": 1,
   "metadata": {},
   "outputs": [],
   "source": [
    "import os\n",
    "import sys\n",
    "\n",
    "sys.path.append('/global/project/projectdirs/desi/users/mjwilson/repos/desispec/py/desispec/radlss/')"
   ]
  },
  {
   "cell_type": "code",
   "execution_count": 2,
   "metadata": {},
   "outputs": [],
   "source": [
    "# import jax"
   ]
  },
  {
   "cell_type": "code",
   "execution_count": 3,
   "metadata": {},
   "outputs": [],
   "source": [
    "os.environ['PYTHONPATH'] = '/global/homes/m/mjwilson/.local/lib/python3.8/site-packages/corner/:' + os.environ['PYTHONPATH']"
   ]
  },
  {
   "cell_type": "code",
   "execution_count": 4,
   "metadata": {},
   "outputs": [],
   "source": [
    "import time\n",
    "import glob\n",
    "import scipy\n",
    "import corner\n",
    "import fitsio\n",
    "\n",
    "import itertools\n",
    "import warnings\n",
    "\n",
    "import numpy as np\n",
    "import pylab as pl\n",
    "\n",
    "import desisim.templates\n",
    "import astropy.io.fits              as      fits\n",
    "\n",
    "import desispec.io\n",
    "import redrock.templates\n",
    "import matplotlib.pyplot            as      plt\n",
    "\n",
    "from   os                           import  path\n",
    "from   astropy.convolution          import  convolve, Box1DKernel\n",
    "from   desispec.spectra             import  Spectra\n",
    "from   desispec.frame               import  Frame\n",
    "from   desispec.resolution          import  Resolution\n",
    "from   desispec.io.meta             import  findfile\n",
    "from   desispec.io                  import  read_frame, read_fiberflat, read_flux_calibration, read_sky, read_fibermap\n",
    "from   desispec.interpolation       import  resample_flux\n",
    "from   astropy.table                import  Table\n",
    "from   desispec.io.image            import  read_image\n",
    "from   specter.psf.gausshermite     import  GaussHermitePSF\n",
    "from   scipy.signal                 import  medfilt\n",
    "from   desispec.calibfinder         import  CalibFinder\n",
    "from   astropy.utils.exceptions     import  AstropyWarning\n",
    "from   scipy                        import  stats\n",
    "from   pathlib                      import  Path\n",
    "from   templateSNR                  import  templateSNR\n",
    "from   RadLSS                       import  RadLSS\n",
    "from   scipy.optimize               import  Bounds"
   ]
  },
  {
   "cell_type": "markdown",
   "metadata": {},
   "source": [
    "# Foundations to desispec ticket 1004:  Template SNR and LSS rad. weights."
   ]
  },
  {
   "cell_type": "markdown",
   "metadata": {},
   "source": [
    "Template SNR:"
   ]
  },
  {
   "cell_type": "markdown",
   "metadata": {},
   "source": [
    "https://desi.lbl.gov/DocDB/cgi-bin/private/RetrieveFile?docid=4723;filename=sky-monitor-mc-study-v1.pdf;version=2"
   ]
  },
  {
   "cell_type": "markdown",
   "metadata": {},
   "source": [
    "applied to SV0 dataset:"
   ]
  },
  {
   "cell_type": "markdown",
   "metadata": {},
   "source": [
    "https://desi.lbl.gov/trac/wiki/TargetSelectionWG/SV0"
   ]
  },
  {
   "cell_type": "markdown",
   "metadata": {},
   "source": [
    "# Template SNR"
   ]
  },
  {
   "cell_type": "markdown",
   "metadata": {},
   "source": [
    "$\\Huge \\langle tSNR^2 \\rangle = \\sum_{grz} \\sum_{\\lambda \\in grz} \\left ( \\frac{\\tau^2 T^2 \\langle \\Delta F^2 \\rangle}{\\sigma_e^2 \\cdot {\\rm NPIX/A} + \\tau T_{\\rm sky}  F_{\\rm sky}} \\right ) $"
   ]
  },
  {
   "cell_type": "markdown",
   "metadata": {},
   "source": [
    "_\"We choose to normalize it such that zSNR = 3 for a 1000 sec dark time exposure in\n",
    "nominal conditions.\"_"
   ]
  },
  {
   "cell_type": "markdown",
   "metadata": {},
   "source": [
    "Here:  \n",
    "- $\\sigma_e$ is the READNOISE in units of ELECTRONS / PIXEL. \n",
    "- NPIX/A is the projected fiber area in units of PIXELS for a width of **ONE ANGSTROM**.  \n",
    "- $\\Delta F$ is the residual (template) flux from a 100A filtered equivalent.\n",
    "- $\\tau$ is the exposure time, already included in the flux calib.\n",
    "- $T_{\\rm sky} F_{\\rm sky}$ is the estimated fiber sky flux in units of ELECTRONS PER ANGSTROM."
   ]
  },
  {
   "cell_type": "code",
   "execution_count": 5,
   "metadata": {},
   "outputs": [],
   "source": [
    "def get_expids(night, andes='/global/cfs/cdirs/desi/spectro/redux/andes'):\n",
    "    tiles  = np.unique(np.array([x.split('/')[-3] for x in glob.glob(andes + '/tiles/*/{}/cframe-*'.format(night))]).astype(np.int))\n",
    "\n",
    "    # np.sort(np.array([x.split('/')[-1] for x in glob.glob(andes + '/exposures/{}/*'.format(night))]).astype(np.int))                                                                                  \n",
    "    expids = np.unique(np.array([x.split('/')[-1].split('-')[2].replace('.fits','') for x in glob.glob(andes + '/tiles/*/{}/cframe-*'.format(night))]).astype(np.int))\n",
    "\n",
    "    return  expids, tiles"
   ]
  },
  {
   "cell_type": "code",
   "execution_count": 6,
   "metadata": {},
   "outputs": [],
   "source": [
    "nmax          = 1\n",
    "night         = '20200315'\n",
    "tracers       = ['ELG']\n",
    "\n",
    "expids, tiles = get_expids(night)\n",
    "\n",
    "cameras       = ['b5', 'r5', 'z5']"
   ]
  },
  {
   "cell_type": "code",
   "execution_count": 7,
   "metadata": {},
   "outputs": [],
   "source": [
    "expids        = expids[1:2]"
   ]
  },
  {
   "cell_type": "code",
   "execution_count": 8,
   "metadata": {},
   "outputs": [
    {
     "data": {
      "text/plain": [
       "array([55589])"
      ]
     },
     "execution_count": 8,
     "metadata": {},
     "output_type": "execute_result"
    }
   ],
   "source": [
    "expids "
   ]
  },
  {
   "cell_type": "code",
   "execution_count": 9,
   "metadata": {},
   "outputs": [
    {
     "name": "stdout",
     "output_type": "stream",
     "text": [
      "Solving for EXPID 00055589\n",
      "Rank 0:  Grabbing camera b5\n",
      "Rank 0:  Grabbing camera r5\n",
      "Rank 0:  Grabbing camera z5\n",
      "Rank 0:  Retrieved pipeline data in 0.120 mins.\n",
      "Rank 0:  Grabbing camera b5\n",
      "Rank 0:  Grabbing camera r5\n",
      "Rank 0:  Grabbing camera z5\n",
      "Rank 0:  Retrieved pipeline data in 0.082 mins.\n",
      "Rank 0:  Calculated NEA in 0.066 mins.\n",
      "Rank 0:  Calculated psf-local readnoise in 0.123 mins.\n",
      "DEBUG: Read templates from /global/common/software/desi/cori/desiconda/20190804-1.3.0-spec/code/redrock-templates/master\n",
      "DEBUG: Using default redshift range -0.0050-1.6997 for rrtemplate-galaxy.fits\n",
      "DEBUG: Using default redshift range 0.0500-5.9934 for rrtemplate-qso.fits\n",
      "DEBUG: Using default redshift range -0.0020-0.0020 for rrtemplate-star-A.fits\n",
      "DEBUG: Using default redshift range -0.0020-0.0020 for rrtemplate-star-B.fits\n",
      "DEBUG: Using default redshift range -0.0020-0.0020 for rrtemplate-star-CV.fits\n",
      "DEBUG: Using default redshift range -0.0020-0.0020 for rrtemplate-star-F.fits\n",
      "DEBUG: Using default redshift range -0.0020-0.0020 for rrtemplate-star-G.fits\n",
      "DEBUG: Using default redshift range -0.0020-0.0020 for rrtemplate-star-K.fits\n",
      "DEBUG: Using default redshift range -0.0020-0.0020 for rrtemplate-star-M.fits\n",
      "DEBUG: Using default redshift range -0.0020-0.0020 for rrtemplate-star-WD.fits\n",
      "Updated rr templates.\n",
      "Rank 0:  Calculated redrock cframe in 0.630 mins.\n"
     ]
    }
   ],
   "source": [
    "for nexp, expid in enumerate(expids):\n",
    "    print('Solving for EXPID {:08d}'.format(expid))\n",
    "    \n",
    "    rads      = RadLSS(night, expid, cameras=cameras)\n",
    "    \n",
    "    rads.compute(tracers=tracers, templates=False)\n",
    "\n",
    "    if nexp == nmax:\n",
    "        break"
   ]
  },
  {
   "cell_type": "code",
   "execution_count": 18,
   "metadata": {},
   "outputs": [],
   "source": [
    "zbest = Table.read(rads.data_zbest_file, 'ZBEST')"
   ]
  },
  {
   "cell_type": "code",
   "execution_count": 19,
   "metadata": {},
   "outputs": [],
   "source": [
    "rr_z       = zbest['Z']"
   ]
  },
  {
   "cell_type": "code",
   "execution_count": 20,
   "metadata": {},
   "outputs": [],
   "source": [
    " spectype   = [x.strip() for x in zbest['SPECTYPE']]"
   ]
  },
  {
   "cell_type": "code",
   "execution_count": 21,
   "metadata": {},
   "outputs": [],
   "source": [
    "subtype   = [x.strip() for x in zbest['SUBTYPE']]"
   ]
  },
  {
   "cell_type": "code",
   "execution_count": 22,
   "metadata": {},
   "outputs": [],
   "source": [
    "fulltype   = list(zip(spectype, subtype))"
   ]
  },
  {
   "cell_type": "code",
   "execution_count": 26,
   "metadata": {},
   "outputs": [],
   "source": [
    "ncoeff     = [rads.templates[ft].flux.shape[0] for ft in fulltype]"
   ]
  },
  {
   "cell_type": "code",
   "execution_count": 27,
   "metadata": {},
   "outputs": [],
   "source": [
    "coeff      = [x[0:y] for (x,y) in zip(zbest['COEFF'], ncoeff)]"
   ]
  },
  {
   "cell_type": "code",
   "execution_count": 29,
   "metadata": {},
   "outputs": [],
   "source": [
    "tfluxs     = [rads.templates[ft].flux.T.dot(cf).tolist()     for (ft, cf) in zip(fulltype, coeff)]"
   ]
  },
  {
   "cell_type": "code",
   "execution_count": 37,
   "metadata": {},
   "outputs": [],
   "source": [
    "stfluxs    = [tfluxs[x] for x in rads.indx]"
   ]
  },
  {
   "cell_type": "code",
   "execution_count": null,
   "metadata": {},
   "outputs": [],
   "source": [
    "rads.cframes['b5'].flux[np.argsort(rads.zbests_fib['5']['FIBER']), :]"
   ]
  },
  {
   "cell_type": "code",
   "execution_count": 10,
   "metadata": {},
   "outputs": [
    {
     "name": "stdout",
     "output_type": "stream",
     "text": [
      "Warning: Desired error not necessarily achieved due to precision loss.\n",
      "         Current function value: 217.109665\n",
      "         Iterations: 36\n",
      "         Function evaluations: 659\n",
      "         Gradient evaluations: 108\n",
      "Warning: Desired error not necessarily achieved due to precision loss.\n",
      "         Current function value: 315.783876\n",
      "         Iterations: 93\n",
      "         Function evaluations: 1353\n",
      "         Gradient evaluations: 123\n",
      "Rank 0:  Calculated line fluxes in 0.666 mins.\n"
     ]
    },
    {
     "data": {
      "image/png": "[encoded data removed]",
      "text/plain": [
       "<Figure size 720x720 with 40 Axes>"
      ]
     },
     "metadata": {
      "needs_background": "light"
     },
     "output_type": "display_data"
    }
   ],
   "source": [
    "rads.line_fit(fiber=11)"
   ]
  },
  {
   "cell_type": "code",
   "execution_count": 36,
   "metadata": {},
   "outputs": [
    {
     "data": {
      "text/plain": [
       "(-0.5, 5.0)"
      ]
     },
     "execution_count": 36,
     "metadata": {},
     "output_type": "execute_result"
    },
    {
     "data": {
      "image/png": "[encoded data removed]",
      "text/plain": [
       "<Figure size 432x288 with 1 Axes>"
      ]
     },
     "metadata": {
      "needs_background": "light"
     },
     "output_type": "display_data"
    }
   ],
   "source": [
    "index = 11\n",
    "\n",
    "for band in ['b', 'r', 'z']:\n",
    "    pl.plot(rads.cframes['{}5'.format(band)].wave, convolve(rads.cframes['{}5'.format(band)].flux[index, :], Box1DKernel(30), boundary='extend'))\n",
    "    pl.plot(rads.rr_cframes['{}5'.format(band)].wave, rads.rr_cframes['{}5'.format(band)].flux[index, :], c='k', alpha=0.25)\n",
    "        \n",
    "pl.xlim(4000., 7600.)\n",
    "pl.ylim(-0.5, 5.)"
   ]
  },
  {
   "cell_type": "code",
   "execution_count": 39,
   "metadata": {},
   "outputs": [
    {
     "data": {
      "text/html": [
       "<i>Row index=11</i>\n",
       "<table id=\"table46913423553104\">\n",
       "<thead><tr><th>TARGETID</th><th>PETAL_LOC</th><th>DEVICE_LOC</th><th>LOCATION</th><th>FIBER</th><th>FIBERSTATUS</th><th>TARGET_RA</th><th>TARGET_DEC</th><th>PMRA</th><th>PMDEC</th><th>PMRA_IVAR</th><th>PMDEC_IVAR</th><th>REF_EPOCH</th><th>LAMBDA_REF</th><th>FA_TARGET</th><th>FA_TYPE</th><th>OBJTYPE</th><th>FIBERASSIGN_X</th><th>FIBERASSIGN_Y</th><th>NUMTARGET</th><th>PRIORITY</th><th>SUBPRIORITY</th><th>OBSCONDITIONS</th><th>NUMOBS_MORE</th><th>RELEASE</th><th>BRICKID</th><th>BRICKNAME</th><th>BRICK_OBJID</th><th>MORPHTYPE</th><th>TARGET_RA_IVAR</th><th>TARGET_DEC_IVAR</th><th>EBV</th><th>FLUX_G</th><th>FLUX_R</th><th>FLUX_Z</th><th>FLUX_IVAR_G</th><th>FLUX_IVAR_R</th><th>FLUX_IVAR_Z</th><th>MW_TRANSMISSION_G</th><th>MW_TRANSMISSION_R</th><th>MW_TRANSMISSION_Z</th><th>FRACFLUX_G</th><th>FRACFLUX_R</th><th>FRACFLUX_Z</th><th>FRACMASKED_G</th><th>FRACMASKED_R</th><th>FRACMASKED_Z</th><th>FRACIN_G</th><th>FRACIN_R</th><th>FRACIN_Z</th><th>NOBS_G</th><th>NOBS_R</th><th>NOBS_Z</th><th>PSFDEPTH_G</th><th>PSFDEPTH_R</th><th>PSFDEPTH_Z</th><th>GALDEPTH_G</th><th>GALDEPTH_R</th><th>GALDEPTH_Z</th><th>FLUX_W1</th><th>FLUX_W2</th><th>FLUX_W3</th><th>FLUX_W4</th><th>FLUX_IVAR_W1</th><th>FLUX_IVAR_W2</th><th>FLUX_IVAR_W3</th><th>FLUX_IVAR_W4</th><th>MW_TRANSMISSION_W1</th><th>MW_TRANSMISSION_W2</th><th>MW_TRANSMISSION_W3</th><th>MW_TRANSMISSION_W4</th><th>ALLMASK_G</th><th>ALLMASK_R</th><th>ALLMASK_Z</th><th>FIBERFLUX_G</th><th>FIBERFLUX_R</th><th>FIBERFLUX_Z</th><th>FIBERTOTFLUX_G</th><th>FIBERTOTFLUX_R</th><th>FIBERTOTFLUX_Z</th><th>WISEMASK_W1</th><th>WISEMASK_W2</th><th>MASKBITS</th><th>FRACDEV</th><th>FRACDEV_IVAR</th><th>SHAPEDEV_R</th><th>SHAPEDEV_E1</th><th>SHAPEDEV_E2</th><th>SHAPEDEV_R_IVAR</th><th>SHAPEDEV_E1_IVAR</th><th>SHAPEDEV_E2_IVAR</th><th>SHAPEEXP_R</th><th>SHAPEEXP_E1</th><th>SHAPEEXP_E2</th><th>SHAPEEXP_R_IVAR</th><th>SHAPEEXP_E1_IVAR</th><th>SHAPEEXP_E2_IVAR</th><th>REF_ID</th><th>REF_CAT</th><th>GAIA_PHOT_G_MEAN_MAG</th><th>GAIA_PHOT_G_MEAN_FLUX_OVER_ERROR</th><th>GAIA_PHOT_BP_MEAN_MAG</th><th>GAIA_PHOT_BP_MEAN_FLUX_OVER_ERROR</th><th>GAIA_PHOT_RP_MEAN_MAG</th><th>GAIA_PHOT_RP_MEAN_FLUX_OVER_ERROR</th><th>GAIA_PHOT_BP_RP_EXCESS_FACTOR</th><th>GAIA_ASTROMETRIC_EXCESS_NOISE</th><th>GAIA_DUPLICATED_SOURCE</th><th>GAIA_ASTROMETRIC_SIGMA5D_MAX</th><th>GAIA_ASTROMETRIC_PARAMS_SOLVED</th><th>PARALLAX</th><th>PARALLAX_IVAR</th><th>PHOTSYS</th><th>CMX_TARGET</th><th>PRIORITY_INIT</th><th>NUMOBS_INIT</th><th>HPXPIXEL</th><th>BLOBDIST</th><th>FIBERFLUX_IVAR_G</th><th>FIBERFLUX_IVAR_R</th><th>FIBERFLUX_IVAR_Z</th><th>DESI_TARGET</th><th>BGS_TARGET</th><th>MWS_TARGET</th><th>NUM_ITER</th><th>FIBER_X</th><th>FIBER_Y</th><th>DELTA_X</th><th>DELTA_Y</th><th>FIBER_RA</th><th>FIBER_DEC</th><th>TILEFIBERID</th><th>NEA</th><th>ANGSTROMPERPIXEL</th><th>CCDX</th><th>CCDY</th><th>RDNOISE</th><th>QUAD</th><th>RDNOISE_QUAD</th><th>TSNR</th><th>TSNR_SLESS</th><th>TSNR_RRSLESS</th><th>TSNR_MODELIVAR</th></tr></thead>\n",
       "<thead><tr><th>int64</th><th>int16</th><th>int32</th><th>int64</th><th>int32</th><th>int32</th><th>float64</th><th>float64</th><th>float32</th><th>float32</th><th>float32</th><th>float32</th><th>float32</th><th>float32</th><th>int64</th><th>uint8</th><th>str3</th><th>float32</th><th>float32</th><th>int16</th><th>int32</th><th>float64</th><th>int32</th><th>int64</th><th>int16</th><th>int32</th><th>str8</th><th>int32</th><th>str4</th><th>float32</th><th>float32</th><th>float32</th><th>float32</th><th>float32</th><th>float32</th><th>float32</th><th>float32</th><th>float32</th><th>float32</th><th>float32</th><th>float32</th><th>float32</th><th>float32</th><th>float32</th><th>float32</th><th>float32</th><th>float32</th><th>float32</th><th>float32</th><th>float32</th><th>int16</th><th>int16</th><th>int16</th><th>float32</th><th>float32</th><th>float32</th><th>float32</th><th>float32</th><th>float32</th><th>float32</th><th>float32</th><th>float32</th><th>float32</th><th>float32</th><th>float32</th><th>float32</th><th>float32</th><th>float32</th><th>float32</th><th>float32</th><th>float32</th><th>int16</th><th>int16</th><th>int16</th><th>float32</th><th>float32</th><th>float32</th><th>float32</th><th>float32</th><th>float32</th><th>uint8</th><th>uint8</th><th>int16</th><th>float32</th><th>float32</th><th>float32</th><th>float32</th><th>float32</th><th>float32</th><th>float32</th><th>float32</th><th>float32</th><th>float32</th><th>float32</th><th>float32</th><th>float32</th><th>float32</th><th>int64</th><th>str2</th><th>float32</th><th>float32</th><th>float32</th><th>float32</th><th>float32</th><th>float32</th><th>float32</th><th>float32</th><th>bool</th><th>float32</th><th>bool</th><th>float32</th><th>float32</th><th>str1</th><th>int64</th><th>int64</th><th>int64</th><th>int64</th><th>float32</th><th>float32</th><th>float32</th><th>float32</th><th>int64</th><th>int64</th><th>int64</th><th>int64</th><th>float64</th><th>float64</th><th>float64</th><th>float64</th><th>float64</th><th>float64</th><th>int32</th><th>float64</th><th>float64</th><th>float64</th><th>float64</th><th>float64</th><th>str1</th><th>float64</th><th>float64</th><th>float64</th><th>float64</th><th>float64</th></tr></thead>\n",
       "<tr><td>35185790279488323</td><td>5</td><td>102</td><td>5102</td><td>2511</td><td>0</td><td>138.8110976988429</td><td>1.3705442314419627</td><td>0.0</td><td>0.0</td><td>0.0</td><td>0.0</td><td>0.0</td><td>5400.0</td><td>2048</td><td>1</td><td>TGT</td><td>45.48196</td><td>195.76076</td><td>0</td><td>10000</td><td>0.430852305245929</td><td>65535</td><td>100</td><td>8000</td><td>338123</td><td>1388p012</td><td>4931</td><td>REX</td><td>2146027900.0</td><td>2199195400.0</td><td>0.031845327</td><td>0.29927525</td><td>0.25617328</td><td>0.3003027</td><td>1303.0236</td><td>299.35632</td><td>49.027134</td><td>0.91003823</td><td>0.93847334</td><td>0.96510404</td><td>0.43096584</td><td>0.4770163</td><td>0.56422555</td><td>0.011696196</td><td>0.008612545</td><td>0.01328212</td><td>0.99989814</td><td>0.9998599</td><td>0.9997762</td><td>4</td><td>3</td><td>3</td><td>2216.0515</td><td>592.0405</td><td>87.86843</td><td>1309.7261</td><td>293.05807</td><td>47.49054</td><td>0.59907204</td><td>-4.1531606</td><td>81.02689</td><td>-206.26677</td><td>2.4867563</td><td>0.47601676</td><td>0.000798042</td><td>1.0462741e-05</td><td>0.9946177</td><td>0.9966911</td><td>0.9992934</td><td>0.99973315</td><td>0</td><td>0</td><td>0</td><td>0.16730398</td><td>0.14320867</td><td>0.16787837</td><td>0.17858624</td><td>0.15952821</td><td>0.18732002</td><td>0</td><td>0</td><td>0</td><td>0.0</td><td>0.0</td><td>0.0</td><td>0.0</td><td>0.0</td><td>0.0</td><td>0.0</td><td>0.0</td><td>0.43047324</td><td>0.0</td><td>0.0</td><td>182.28758</td><td>0.0</td><td>0.0</td><td>0</td><td></td><td>0.0</td><td>0.0</td><td>0.0</td><td>0.0</td><td>0.0</td><td>0.0</td><td>0.0</td><td>0.0</td><td>True</td><td>0.0</td><td>True</td><td>0.0</td><td>0.0</td><td>S</td><td>2048</td><td>3000</td><td>1</td><td>27309</td><td>0.0</td><td>0.0</td><td>0.0</td><td>0.0</td><td>0</td><td>0</td><td>0</td><td>3</td><td>45.435</td><td>195.658</td><td>0.002</td><td>-0.001</td><td>0.0</td><td>0.0</td><td>672302511</td><td>14.786461614833225</td><td>0.5964385700751212</td><td>209.11205404720963</td><td>1911.5133807049363</td><td>3.9413963556289673</td><td>A</td><td>3.943477957050238</td><td>87.71103051708091</td><td>124.98624376790707</td><td>116.02522753008031</td><td>52.87477096386773</td></tr>\n",
       "</table>"
      ],
      "text/plain": [
       "<Row index=11>\n",
       "     TARGETID     PETAL_LOC DEVICE_LOC LOCATION FIBER FIBERSTATUS     TARGET_RA         TARGET_DEC       PMRA   PMDEC  PMRA_IVAR PMDEC_IVAR REF_EPOCH LAMBDA_REF FA_TARGET FA_TYPE OBJTYPE FIBERASSIGN_X FIBERASSIGN_Y NUMTARGET PRIORITY    SUBPRIORITY    OBSCONDITIONS NUMOBS_MORE RELEASE BRICKID BRICKNAME BRICK_OBJID MORPHTYPE TARGET_RA_IVAR TARGET_DEC_IVAR     EBV       FLUX_G     FLUX_R     FLUX_Z  FLUX_IVAR_G FLUX_IVAR_R FLUX_IVAR_Z MW_TRANSMISSION_G MW_TRANSMISSION_R MW_TRANSMISSION_Z FRACFLUX_G FRACFLUX_R FRACFLUX_Z FRACMASKED_G FRACMASKED_R FRACMASKED_Z  FRACIN_G   FRACIN_R  FRACIN_Z NOBS_G NOBS_R NOBS_Z PSFDEPTH_G PSFDEPTH_R PSFDEPTH_Z GALDEPTH_G GALDEPTH_R GALDEPTH_Z  FLUX_W1    FLUX_W2   FLUX_W3   FLUX_W4   FLUX_IVAR_W1 FLUX_IVAR_W2 FLUX_IVAR_W3  FLUX_IVAR_W4 MW_TRANSMISSION_W1 MW_TRANSMISSION_W2 MW_TRANSMISSION_W3 MW_TRANSMISSION_W4 ALLMASK_G ALLMASK_R ALLMASK_Z FIBERFLUX_G FIBERFLUX_R FIBERFLUX_Z FIBERTOTFLUX_G FIBERTOTFLUX_R FIBERTOTFLUX_Z WISEMASK_W1 WISEMASK_W2 MASKBITS FRACDEV FRACDEV_IVAR SHAPEDEV_R SHAPEDEV_E1 SHAPEDEV_E2 SHAPEDEV_R_IVAR SHAPEDEV_E1_IVAR SHAPEDEV_E2_IVAR SHAPEEXP_R SHAPEEXP_E1 SHAPEEXP_E2 SHAPEEXP_R_IVAR SHAPEEXP_E1_IVAR SHAPEEXP_E2_IVAR REF_ID REF_CAT GAIA_PHOT_G_MEAN_MAG GAIA_PHOT_G_MEAN_FLUX_OVER_ERROR GAIA_PHOT_BP_MEAN_MAG GAIA_PHOT_BP_MEAN_FLUX_OVER_ERROR GAIA_PHOT_RP_MEAN_MAG GAIA_PHOT_RP_MEAN_FLUX_OVER_ERROR GAIA_PHOT_BP_RP_EXCESS_FACTOR GAIA_ASTROMETRIC_EXCESS_NOISE GAIA_DUPLICATED_SOURCE GAIA_ASTROMETRIC_SIGMA5D_MAX GAIA_ASTROMETRIC_PARAMS_SOLVED PARALLAX PARALLAX_IVAR PHOTSYS CMX_TARGET PRIORITY_INIT NUMOBS_INIT HPXPIXEL BLOBDIST FIBERFLUX_IVAR_G FIBERFLUX_IVAR_R FIBERFLUX_IVAR_Z DESI_TARGET BGS_TARGET MWS_TARGET NUM_ITER FIBER_X FIBER_Y DELTA_X DELTA_Y FIBER_RA FIBER_DEC TILEFIBERID        NEA          ANGSTROMPERPIXEL         CCDX               CCDY             RDNOISE       QUAD    RDNOISE_QUAD          TSNR           TSNR_SLESS        TSNR_RRSLESS      TSNR_MODELIVAR \n",
       "      int64         int16     int32     int64   int32    int32         float64           float64       float32 float32  float32   float32    float32   float32     int64    uint8    str3     float32       float32      int16    int32        float64          int32        int64     int16   int32     str8      int32       str4      float32         float32       float32    float32    float32    float32    float32     float32     float32        float32           float32           float32       float32    float32    float32     float32      float32      float32     float32    float32   float32  int16  int16  int16   float32    float32    float32    float32    float32    float32    float32    float32   float32   float32     float32      float32      float32       float32         float32            float32            float32            float32         int16     int16     int16     float32     float32     float32      float32        float32        float32        uint8       uint8     int16   float32   float32     float32     float32     float32       float32         float32          float32       float32     float32     float32       float32         float32          float32      int64    str2        float32                    float32                     float32                     float32                     float32                     float32                         float32                       float32                     bool                    float32                         bool              float32     float32      str1    int64        int64        int64     int64   float32      float32          float32          float32         int64      int64      int64     int64   float64 float64 float64 float64 float64   float64     int32         float64            float64            float64            float64            float64       str1      float64           float64           float64            float64            float64     \n",
       "----------------- --------- ---------- -------- ----- ----------- ----------------- ------------------ ------- ------- --------- ---------- --------- ---------- --------- ------- ------- ------------- ------------- --------- -------- ----------------- ------------- ----------- ------- ------- --------- ----------- --------- -------------- --------------- ----------- ---------- ---------- --------- ----------- ----------- ----------- ----------------- ----------------- ----------------- ---------- ---------- ---------- ------------ ------------ ------------ ---------- --------- --------- ------ ------ ------ ---------- ---------- ---------- ---------- ---------- ---------- ---------- ---------- -------- ---------- ------------ ------------ ------------ ------------- ------------------ ------------------ ------------------ ------------------ --------- --------- --------- ----------- ----------- ----------- -------------- -------------- -------------- ----------- ----------- -------- ------- ------------ ---------- ----------- ----------- --------------- ---------------- ---------------- ---------- ----------- ----------- --------------- ---------------- ---------------- ------ ------- -------------------- -------------------------------- --------------------- --------------------------------- --------------------- --------------------------------- ----------------------------- ----------------------------- ---------------------- ---------------------------- ------------------------------ -------- ------------- ------- ---------- ------------- ----------- -------- -------- ---------------- ---------------- ---------------- ----------- ---------- ---------- -------- ------- ------- ------- ------- -------- --------- ----------- ------------------ ------------------ ------------------ ------------------ ------------------ ---- ----------------- ----------------- ------------------ ------------------ -----------------\n",
       "35185790279488323         5        102     5102  2511           0 138.8110976988429 1.3705442314419627     0.0     0.0       0.0        0.0       0.0     5400.0      2048       1     TGT      45.48196     195.76076         0    10000 0.430852305245929         65535         100    8000  338123  1388p012        4931       REX   2146027900.0    2199195400.0 0.031845327 0.29927525 0.25617328 0.3003027   1303.0236   299.35632   49.027134        0.91003823        0.93847334        0.96510404 0.43096584  0.4770163 0.56422555  0.011696196  0.008612545   0.01328212 0.99989814 0.9998599 0.9997762      4      3      3  2216.0515   592.0405   87.86843  1309.7261  293.05807   47.49054 0.59907204 -4.1531606 81.02689 -206.26677    2.4867563   0.47601676  0.000798042 1.0462741e-05          0.9946177          0.9966911          0.9992934         0.99973315         0         0         0  0.16730398  0.14320867  0.16787837     0.17858624     0.15952821     0.18732002           0           0        0     0.0          0.0        0.0         0.0         0.0             0.0              0.0              0.0 0.43047324         0.0         0.0       182.28758              0.0              0.0      0                          0.0                              0.0                   0.0                               0.0                   0.0                               0.0                           0.0                           0.0                   True                          0.0                           True      0.0           0.0       S       2048          3000           1    27309      0.0              0.0              0.0              0.0           0          0          0        3  45.435 195.658   0.002  -0.001      0.0       0.0   672302511 14.786461614833225 0.5964385700751212 209.11205404720963 1911.5133807049363 3.9413963556289673    A 3.943477957050238 87.71103051708091 124.98624376790707 116.02522753008031 52.87477096386773"
      ]
     },
     "execution_count": 39,
     "metadata": {},
     "output_type": "execute_result"
    }
   ],
   "source": [
    "rads.fibermaps['b5'][11]"
   ]
  },
  {
   "cell_type": "code",
   "execution_count": 40,
   "metadata": {},
   "outputs": [],
   "source": [
    "tid = 35185790279488323"
   ]
  },
  {
   "cell_type": "code",
   "execution_count": 41,
   "metadata": {},
   "outputs": [
    {
     "data": {
      "text/html": [
       "<i>Table length=1</i>\n",
       "<table id=\"table46913503848144\" class=\"table-striped table-bordered table-condensed\">\n",
       "<thead><tr><th>TARGETID</th><th>CHI2</th><th>COEFF [10]</th><th>Z</th><th>ZERR</th><th>ZWARN</th><th>NPIXELS</th><th>SPECTYPE</th><th>SUBTYPE</th><th>NCOEFF</th><th>DELTACHI2</th><th>NUMEXP</th><th>NUMTILE</th></tr></thead>\n",
       "<thead><tr><th>int64</th><th>float64</th><th>float64</th><th>float64</th><th>float64</th><th>int64</th><th>int64</th><th>bytes6</th><th>bytes20</th><th>int64</th><th>float64</th><th>int32</th><th>int32</th></tr></thead>\n",
       "<tr><td>35185790279488323</td><td>12391.790185302496</td><td>293.3894105178371 .. 15.73074219736955</td><td>0.05205255687520906</td><td>3.518111832553649e-06</td><td>0</td><td>7927</td><td>GALAXY</td><td></td><td>10</td><td>1674.342764288187</td><td>0</td><td>1</td></tr>\n",
       "</table>"
      ],
      "text/plain": [
       "<Table length=1>\n",
       "     TARGETID            CHI2        ... NUMEXP NUMTILE\n",
       "      int64            float64       ... int32   int32 \n",
       "----------------- ------------------ ... ------ -------\n",
       "35185790279488323 12391.790185302496 ...      0       1"
      ]
     },
     "execution_count": 41,
     "metadata": {},
     "output_type": "execute_result"
    }
   ],
   "source": [
    "rads.zbests['5'][rads.zbests['5']['TARGETID'] == tid]"
   ]
  },
  {
   "cell_type": "code",
   "execution_count": 22,
   "metadata": {},
   "outputs": [],
   "source": [
    "from lines import lines"
   ]
  },
  {
   "cell_type": "code",
   "execution_count": 42,
   "metadata": {},
   "outputs": [
    {
     "data": {
      "text/plain": [
       "4083.4500000000003"
      ]
     },
     "execution_count": 42,
     "metadata": {},
     "output_type": "execute_result"
    }
   ],
   "source": [
    "3889 * (1. + 0.05)"
   ]
  },
  {
   "cell_type": "code",
   "execution_count": 13,
   "metadata": {},
   "outputs": [],
   "source": [
    "rads.zbests_fib['5'] = Table.read(rads.data_zbest_file, 'FIBERMAP')"
   ]
  },
  {
   "cell_type": "code",
   "execution_count": 15,
   "metadata": {},
   "outputs": [],
   "source": [
    "rads.zbests_fib['5'] = rads.zbests_fib['5'][rads.zbests_fib['5']['EXPID'] == rads.expid]"
   ]
  },
  {
   "cell_type": "code",
   "execution_count": 16,
   "metadata": {},
   "outputs": [],
   "source": [
    "rads.zbests_fib['5'].sort('TARGETID')"
   ]
  },
  {
   "cell_type": "code",
   "execution_count": 37,
   "metadata": {},
   "outputs": [
    {
     "data": {
      "text/html": [
       "&lt;Column name=&apos;DELTACHI2&apos; dtype=&apos;float64&apos; length=500&gt;\n",
       "<table>\n",
       "<tr><td>34.98541857302189</td></tr>\n",
       "<tr><td>33.35675486922264</td></tr>\n",
       "<tr><td>1954.7615637164563</td></tr>\n",
       "<tr><td>533.7973711490631</td></tr>\n",
       "<tr><td>2.505560301244259</td></tr>\n",
       "<tr><td>574.3106331080198</td></tr>\n",
       "<tr><td>0.17507775127887726</td></tr>\n",
       "<tr><td>103443.48394789209</td></tr>\n",
       "<tr><td>88.6074578166008</td></tr>\n",
       "<tr><td>264.86041563749313</td></tr>\n",
       "<tr><td>5.248475730419159</td></tr>\n",
       "<tr><td>375.20855627954006</td></tr>\n",
       "<tr><td>...</td></tr>\n",
       "<tr><td>196.3941945694387</td></tr>\n",
       "<tr><td>1.942668892225729e+84</td></tr>\n",
       "<tr><td>1.942668892225729e+84</td></tr>\n",
       "<tr><td>10.31527403742075</td></tr>\n",
       "<tr><td>1.942668892225729e+84</td></tr>\n",
       "<tr><td>2.9015170335769653</td></tr>\n",
       "<tr><td>17.334974013268948</td></tr>\n",
       "<tr><td>18.154949188232422</td></tr>\n",
       "<tr><td>75.98928681015968</td></tr>\n",
       "<tr><td>1.942668892225729e+84</td></tr>\n",
       "<tr><td>6.473973363637924</td></tr>\n",
       "<tr><td>3.205614570528269</td></tr>\n",
       "</table>"
      ],
      "text/plain": [
       "<Column name='DELTACHI2' dtype='float64' length=500>\n",
       "    34.98541857302189\n",
       "    33.35675486922264\n",
       "   1954.7615637164563\n",
       "    533.7973711490631\n",
       "    2.505560301244259\n",
       "    574.3106331080198\n",
       "  0.17507775127887726\n",
       "   103443.48394789209\n",
       "     88.6074578166008\n",
       "   264.86041563749313\n",
       "    5.248475730419159\n",
       "   375.20855627954006\n",
       "                  ...\n",
       "    196.3941945694387\n",
       "1.942668892225729e+84\n",
       "1.942668892225729e+84\n",
       "    10.31527403742075\n",
       "1.942668892225729e+84\n",
       "   2.9015170335769653\n",
       "   17.334974013268948\n",
       "   18.154949188232422\n",
       "    75.98928681015968\n",
       "1.942668892225729e+84\n",
       "    6.473973363637924\n",
       "    3.205614570528269"
      ]
     },
     "execution_count": 37,
     "metadata": {},
     "output_type": "execute_result"
    }
   ],
   "source": [
    "rads.zbests['5']['DELTACHI2']"
   ]
  },
  {
   "cell_type": "code",
   "execution_count": 44,
   "metadata": {},
   "outputs": [
    {
     "data": {
      "text/plain": [
       "327"
      ]
     },
     "execution_count": 44,
     "metadata": {},
     "output_type": "execute_result"
    }
   ],
   "source": [
    "rads.zbests_fib['5']['FIBER'][5] - 2500"
   ]
  },
  {
   "cell_type": "code",
   "execution_count": 11,
   "metadata": {},
   "outputs": [],
   "source": [
    "# ! ls /global/cscratch1/sd/mjwilson/radlss/test//ensemble/"
   ]
  },
  {
   "cell_type": "code",
   "execution_count": 12,
   "metadata": {},
   "outputs": [],
   "source": [
    "# sample             = rads.ensemble_meta['ELG']['REDSHIFT', 'MAG_G', 'MAG_R', 'MAG_Z', 'OIIFLUX']\n",
    "# sample['OIIFLUX'] *= 1.e17\n",
    "# sample['r-z']      = sample['MAG_R'] - sample['MAG_Z'] \n",
    "# sample['g-r']      = sample['MAG_G'] - sample['MAG_R'] \n",
    "\n",
    "# del sample['MAG_G']\n",
    "# del sample['MAG_R']\n",
    "# del sample['MAG_Z']\n",
    "\n",
    "# sample"
   ]
  },
  {
   "cell_type": "code",
   "execution_count": 13,
   "metadata": {},
   "outputs": [],
   "source": [
    "# ndim, nsamples = 5, len(sample)\n",
    "\n",
    "# data_kwargs    = {'markersize': 2, 'alpha': 1.0}\n",
    "\n",
    "# figure         = corner.corner(np.array(np.array(sample).tolist()), labels=sample.dtype.names,\n",
    "#                                quantiles=[0.16, 0.5, 0.84], plot_contours=False,\n",
    "#                                show_titles=True, title_kwargs={\"fontsize\": 12},\n",
    "#                                plot_datapoints=True, plot_density=False, no_fill_contours=True, data_kwargs=data_kwargs)"
   ]
  },
  {
   "cell_type": "code",
   "execution_count": 10,
   "metadata": {},
   "outputs": [],
   "source": [
    "def X2(params, z, wave, Res, flux, continuum, linea, lineb, twave):\n",
    "    [lnline_flux, r, sigma]         = params\n",
    "    Rflux, X2, line_flux            = line_fit(z, wave, Res, flux, continuum, sigma, r, np.exp(lnline_flux), linea, lineb, twave)\n",
    "    \n",
    "    return  X2"
   ]
  },
  {
   "cell_type": "code",
   "execution_count": 12,
   "metadata": {},
   "outputs": [],
   "source": [
    "index                               =  404\n",
    "petal                               = '5'\n",
    "band                                = 'r'\n",
    "  \n",
    "# zz                                = rads.zbests[petal]['Z'][index]\n",
    "# oii_truth                         = rads.ensemble_objmeta['ELG']['OIIFLUX'][index] \n",
    "\n",
    "wave                                = rads.cframes['{}5'.format(band)].wave\n",
    "flux                                = rads.cframes['{}5'.format(band)].flux[index,:]\n",
    "ivar                                = rads.cframes['{}5'.format(band)].ivar[index,:]\n",
    "\n",
    "Res                                 = Resolution(rads.cframes['{}5'.format(band)].resolution_data[index])\n",
    "\n",
    "zz                                  = rads.ensemble_meta['ELG']['REDSHIFT'][index]\n",
    "zerr                                = 1.e-2\n",
    "flux                                = rads.ensemble_flux['ELG'][band][index]\n",
    "\n",
    "twave                               = np.arange(3100., 10400., 0.1)"
   ]
  },
  {
   "cell_type": "code",
   "execution_count": 13,
   "metadata": {},
   "outputs": [],
   "source": [
    "window                              = np.arange((3727. * (1. + zz)) - 50., (3727. * (1. + zz)) + 50., 0.8)\n",
    "xmin, xmax                          = window.min(), window.max()\n",
    "\n",
    "continuum                           = ((wave > window.min()) & (wave < window.max())) & ((wave < (window.min() + 20.)) | (wave > (window.max() - 20.)))\n",
    "continuum                           = np.median(flux[continuum])\n",
    "\n",
    "flux                                = np.array(flux, copy=True)\n",
    "flux                               -= continuum"
   ]
  },
  {
   "cell_type": "code",
   "execution_count": 14,
   "metadata": {},
   "outputs": [
    {
     "data": {
      "text/plain": [
       "(-0.5, 2.8757993668317794)"
      ]
     },
     "execution_count": 14,
     "metadata": {},
     "output_type": "execute_result"
    },
    {
     "data": {
      "image/png": "[encoded data removed]",
      "text/plain": [
       "<Figure size 432x288 with 1 Axes>"
      ]
     },
     "metadata": {
      "needs_background": "light"
     },
     "output_type": "display_data"
    }
   ],
   "source": [
    "pl.plot(wave, flux,  c='k', label='OIIFLUX: {:.2e}'.format(0.0))\n",
    "pl.legend(frameon=False)\n",
    "\n",
    "pl.xlabel('Wavlength [Angstroms]')\n",
    "pl.ylabel('Flux')\n",
    "\n",
    "pl.xlim(xmin, xmax)\n",
    "pl.ylim(bottom=-0.5)"
   ]
  },
  {
   "cell_type": "code",
   "execution_count": 27,
   "metadata": {},
   "outputs": [],
   "source": [
    "linea                               = 3727.092\n",
    "lineb                               = 3729.875"
   ]
  },
  {
   "cell_type": "code",
   "execution_count": 28,
   "metadata": {},
   "outputs": [],
   "source": [
    "args                                = (zz, wave, Res, flux, 0.0, 3727.092, 3729.875, twave)"
   ]
  },
  {
   "cell_type": "code",
   "execution_count": 29,
   "metadata": {},
   "outputs": [],
   "source": [
    "# bounds                            = Bounds([0.0, 0.0, 0.0], [50., 1.0, 100.])"
   ]
  },
  {
   "cell_type": "code",
   "execution_count": 32,
   "metadata": {},
   "outputs": [],
   "source": [
    "# lnline_flux, r, sigma\n",
    "x0                                  = np.array([np.log(5.), 0.7, 15.])\n",
    "result                              = scipy.optimize.minimize(X2, x0, args, method='CG')\n",
    "[lnline_flux, r, sigma]             = result.x"
   ]
  },
  {
   "cell_type": "code",
   "execution_count": 33,
   "metadata": {},
   "outputs": [
    {
     "data": {
      "text/plain": [
       "(2.6561889526370472, 0.7190404080093783, 41.93802194863647)"
      ]
     },
     "execution_count": 33,
     "metadata": {},
     "output_type": "execute_result"
    }
   ],
   "source": [
    "lnline_flux, r, sigma"
   ]
  },
  {
   "cell_type": "code",
   "execution_count": 34,
   "metadata": {},
   "outputs": [],
   "source": [
    "Rflux, _, _  = line_fit(zz, wave, Res, flux, sigma=sigma, r=r, line_flux=np.exp(line_flux))"
   ]
  },
  {
   "cell_type": "code",
   "execution_count": 35,
   "metadata": {},
   "outputs": [
    {
     "data": {
      "text/plain": [
       "(-0.5, 3.046496071777168)"
      ]
     },
     "execution_count": 35,
     "metadata": {},
     "output_type": "execute_result"
    },
    {
     "data": {
      "image/png": "[encoded data removed]",
      "text/plain": [
       "<Figure size 432x288 with 1 Axes>"
      ]
     },
     "metadata": {
      "needs_background": "light"
     },
     "output_type": "display_data"
    }
   ],
   "source": [
    "pl.plot(wave, flux,  c='k', label='OIIFLUX: {:.2e}'.format(0.0))\n",
    "pl.plot(wave, Rflux, c='r')\n",
    "\n",
    "pl.axhline(continuum, alpha=0.4, c='k')\n",
    "\n",
    "pl.legend(frameon=False)\n",
    "\n",
    "pl.title('Fitted OII: {:.2e} [1.e-17 ergs/s/cm2]'.format(line_flux))\n",
    "\n",
    "pl.xlabel('Wavlength [Angstroms]')\n",
    "pl.ylabel('Flux')\n",
    "\n",
    "pl.xlim(xmin, xmax)\n",
    "pl.ylim(bottom=-0.5)"
   ]
  },
  {
   "cell_type": "code",
   "execution_count": 36,
   "metadata": {},
   "outputs": [
    {
     "data": {
      "text/plain": [
       "     fun: 172.7775051520718\n",
       "     jac: array([0.00000000e+00, 0.00000000e+00, 7.62939453e-06])\n",
       " message: 'Optimization terminated successfully.'\n",
       "    nfev: 264\n",
       "     nit: 29\n",
       "    njev: 66\n",
       "  status: 0\n",
       " success: True\n",
       "       x: array([ 2.65618895,  0.71904041, 41.93802195])"
      ]
     },
     "execution_count": 36,
     "metadata": {},
     "output_type": "execute_result"
    }
   ],
   "source": [
    "result"
   ]
  },
  {
   "cell_type": "code",
   "execution_count": 37,
   "metadata": {},
   "outputs": [],
   "source": [
    "import scipy\n",
    "\n",
    "from   scipy             import optimize\n",
    "from   scipy.optimize    import approx_fprime, minimize, Bounds\n",
    "from   scipy.stats       import multivariate_normal"
   ]
  },
  {
   "cell_type": "code",
   "execution_count": 49,
   "metadata": {},
   "outputs": [],
   "source": [
    "def X2(x):  \n",
    "  z         = x[0]\n",
    "  v         = x[1]\n",
    "  r         = x[2] \n",
    "  lnA       = x[3]\n",
    "    \n",
    "  line_flux = np.exp(lnA)\n",
    "    \n",
    "  Rflux, X2, _  = line_fit(z, wave, Res, flux, sigma=v, r=r, line_flux=line_flux)\n",
    "    \n",
    "  return  X2"
   ]
  },
  {
   "cell_type": "code",
   "execution_count": 56,
   "metadata": {},
   "outputs": [
    {
     "data": {
      "text/plain": [
       "-94.98079476226442"
      ]
     },
     "execution_count": 56,
     "metadata": {},
     "output_type": "execute_result"
    }
   ],
   "source": [
    "mloglike([zz, 30., 0.8, 2.0])"
   ]
  },
  {
   "cell_type": "code",
   "execution_count": 58,
   "metadata": {},
   "outputs": [
    {
     "data": {
      "text/plain": [
       "-108.24173430154636"
      ]
     },
     "execution_count": 58,
     "metadata": {},
     "output_type": "execute_result"
    }
   ],
   "source": [
    "mloglike([zz, 150., 0.8, 2.0])"
   ]
  },
  {
   "cell_type": "code",
   "execution_count": 59,
   "metadata": {},
   "outputs": [],
   "source": [
    "def mloglike(x):\n",
    "    return X2(x) / 2."
   ]
  },
  {
   "cell_type": "code",
   "execution_count": 60,
   "metadata": {},
   "outputs": [],
   "source": [
    "def mlogpos(x):\n",
    "    return mloglike(x) + mlogprior(x)"
   ]
  },
  {
   "cell_type": "code",
   "execution_count": 61,
   "metadata": {},
   "outputs": [],
   "source": [
    "def gradient(x):\n",
    "  eps = 1.e-8\n",
    "    \n",
    "  return optimize.approx_fprime(x, mlogpos, eps)"
   ]
  },
  {
   "cell_type": "code",
   "execution_count": 62,
   "metadata": {},
   "outputs": [],
   "source": [
    "# [z, v, r, A]\n",
    "oo     = np.array([zz, 28., 0.7, 3.08])"
   ]
  },
  {
   "cell_type": "code",
   "execution_count": 63,
   "metadata": {},
   "outputs": [
    {
     "data": {
      "text/plain": [
       "0.7851922191932855"
      ]
     },
     "execution_count": 63,
     "metadata": {},
     "output_type": "execute_result"
    }
   ],
   "source": [
    "zz"
   ]
  },
  {
   "cell_type": "code",
   "execution_count": 64,
   "metadata": {},
   "outputs": [
    {
     "data": {
      "text/plain": [
       "250.22796236009427"
      ]
     },
     "execution_count": 64,
     "metadata": {},
     "output_type": "execute_result"
    }
   ],
   "source": [
    "mlogpos([0.78, 28., 0.7, 3.08])"
   ]
  },
  {
   "cell_type": "code",
   "execution_count": 65,
   "metadata": {},
   "outputs": [
    {
     "data": {
      "text/plain": [
       "147.22100982507726"
      ]
     },
     "execution_count": 65,
     "metadata": {},
     "output_type": "execute_result"
    }
   ],
   "source": [
    "mlogpos([0.78, 28., 0.7, 2.08])"
   ]
  },
  {
   "cell_type": "code",
   "execution_count": 66,
   "metadata": {},
   "outputs": [
    {
     "name": "stdout",
     "output_type": "stream",
     "text": [
      "Optimization terminated successfully.\n",
      "         Current function value: 88.297499\n",
      "         Iterations: 22\n",
      "         Function evaluations: 37\n",
      "         Gradient evaluations: 28\n"
     ]
    }
   ],
   "source": [
    "# https://docs.scipy.org/doc/scipy/reference/generated/scipy.optimize.fmin_bfgs.html\n",
    "result = scipy.optimize.fmin_bfgs(mlogpos, oo, fprime=gradient, gtol=1e-05, norm=-np.inf, epsilon=1.4901161193847656e-08, maxiter=None, full_output=True, disp=1, retall=1, callback=None)"
   ]
  },
  {
   "cell_type": "code",
   "execution_count": 67,
   "metadata": {},
   "outputs": [
    {
     "data": {
      "text/plain": [
       "array([ 0.78521647, 40.21359148,  0.71664804,  2.62414942])"
      ]
     },
     "execution_count": 67,
     "metadata": {},
     "output_type": "execute_result"
    }
   ],
   "source": [
    "# Parameters which minimize f, i.e., f(xopt) == fopt.\n",
    "# Minimum value.\n",
    "# Value of gradient at minimum, fprime(xopt), which should be near 0.\n",
    "# Value of 1/fdoubleprime(xopt), i.e., the inverse Hessian matrix.\n",
    "# Number of function_calls made.\n",
    "# Number of gradient calls made.\n",
    "# Maximum number of iterations exceeded. 2 : Gradient and/or function calls not changing. 3 : NaN result encountered. \n",
    "# The value of xopt at each iteration. Only returned if retall is True.\n",
    "result[0]"
   ]
  },
  {
   "cell_type": "code",
   "execution_count": 68,
   "metadata": {},
   "outputs": [
    {
     "data": {
      "text/plain": [
       "88.29749908675814"
      ]
     },
     "execution_count": 68,
     "metadata": {},
     "output_type": "execute_result"
    }
   ],
   "source": [
    "result[1]"
   ]
  },
  {
   "cell_type": "code",
   "execution_count": 69,
   "metadata": {},
   "outputs": [],
   "source": [
    "Rflux, _, _  = line_fit(result[0][0], wave, Res, flux, sigma=result[0][1], r=result[0][2], line_flux=np.exp(result[0][3]))\n",
    "# Rflux, _, _  = line_fit(zz, wave, Res, flux, sigma=50., r=0.8, line_flux=np.exp(2.))"
   ]
  },
  {
   "cell_type": "code",
   "execution_count": 70,
   "metadata": {},
   "outputs": [
    {
     "data": {
      "text/plain": [
       "(-0.5, 3.0)"
      ]
     },
     "execution_count": 70,
     "metadata": {},
     "output_type": "execute_result"
    },
    {
     "data": {
      "image/png": "[encoded data removed]",
      "text/plain": [
       "<Figure size 432x288 with 1 Axes>"
      ]
     },
     "metadata": {
      "needs_background": "light"
     },
     "output_type": "display_data"
    }
   ],
   "source": [
    "pl.plot(wave, flux,  c='k', label='OIIFLUX: {:.2e}'.format(0.0))\n",
    "pl.plot(wave, Rflux, c='r')\n",
    "\n",
    "pl.axhline(continuum, alpha=0.4, c='k')\n",
    "\n",
    "pl.legend(frameon=False)\n",
    "\n",
    "pl.title('Fitted OII: {:.2e} [1.e-17 ergs/s/cm2]'.format(np.exp(result[0][3])))\n",
    "\n",
    "pl.xlabel('Wavlength [Angstroms]')\n",
    "pl.ylabel('Flux')\n",
    "\n",
    "pl.xlim(xmin, xmax)\n",
    "pl.ylim(bottom=-0.5, top=3.0)"
   ]
  },
  {
   "cell_type": "code",
   "execution_count": 71,
   "metadata": {},
   "outputs": [],
   "source": [
    "ihess = result[3]"
   ]
  },
  {
   "cell_type": "code",
   "execution_count": 72,
   "metadata": {},
   "outputs": [
    {
     "name": "stdout",
     "output_type": "stream",
     "text": [
      "[ 1.23429295e-09 -5.02341168e-05  7.91233469e-07  3.76546810e-08]\n",
      "[-5.02341168e-05  9.03815367e+01 -1.34391154e-01  6.21418904e-01]\n",
      "[ 7.91233469e-07 -1.34391154e-01  1.95511160e-02  1.23341680e-03]\n",
      "[3.76546810e-08 6.21418904e-01 1.23341680e-03 1.56440221e-02]\n"
     ]
    }
   ],
   "source": [
    "for x in ihess:\n",
    "    print(x)"
   ]
  },
  {
   "cell_type": "code",
   "execution_count": 75,
   "metadata": {},
   "outputs": [
    {
     "data": {
      "text/plain": [
       "array([ 0.78521647, 40.21359148,  0.71664804,  2.62414942])"
      ]
     },
     "execution_count": 75,
     "metadata": {},
     "output_type": "execute_result"
    }
   ],
   "source": [
    "# [z, v, r, A]\n",
    "result[0]"
   ]
  },
  {
   "cell_type": "code",
   "execution_count": 76,
   "metadata": {},
   "outputs": [
    {
     "data": {
      "text/plain": [
       "array([3.51325056e-05, 9.50692046e+00, 1.39825305e-01, 1.25076065e-01])"
      ]
     },
     "execution_count": 76,
     "metadata": {},
     "output_type": "execute_result"
    }
   ],
   "source": [
    "# https://astrostatistics.psu.edu/su11scma5/HeavensLecturesSCMAVfull.pdf\n",
    "# Note:  marginal errors.\n",
    "merr = np.sqrt(np.diag(ihess))\n",
    "merr"
   ]
  },
  {
   "cell_type": "code",
   "execution_count": 77,
   "metadata": {},
   "outputs": [],
   "source": [
    "samples             = np.random.multivariate_normal(mean=result[0], cov=result[3], size=50000)"
   ]
  },
  {
   "cell_type": "code",
   "execution_count": 78,
   "metadata": {},
   "outputs": [
    {
     "data": {
      "image/png": "[encoded data removed]",
      "text/plain": [
       "<Figure size 698.4x698.4 with 16 Axes>"
      ]
     },
     "metadata": {
      "needs_background": "light"
     },
     "output_type": "display_data"
    }
   ],
   "source": [
    "ndim, nsamples      = 4, len(samples)\n",
    "data_kwargs         = {'markersize': 2, 'alpha': 1.0}\n",
    "\n",
    "figure              = corner.corner(samples, labels=['z', r'$\\sigma_v$', '$r$', 'ln(A)'],\n",
    "                                    quantiles=[0.16, 0.5, 0.84], plot_contours=True,\n",
    "                                    show_titles=True, title_kwargs={\"fontsize\": 12},\n",
    "                                    plot_datapoints=False, plot_density=False, no_fill_contours=False, data_kwargs=data_kwargs)"
   ]
  },
  {
   "cell_type": "code",
   "execution_count": 1213,
   "metadata": {},
   "outputs": [],
   "source": [
    "import jax.numpy      as     jnp\n",
    " \n",
    "from   jax            import hessian, grad\n",
    "from   scipy.stats    import multivariate_normal\n",
    "from   scipy.optimize import minimize"
   ]
  },
  {
   "cell_type": "code",
   "execution_count": 1214,
   "metadata": {},
   "outputs": [],
   "source": [
    "sigma     = jnp.array([(1.0, 0.5), (0.5, 1.0)])\n",
    "mu        = jnp.array([0.5, 2.0])\n",
    "nu        = jnp.array([7])\n",
    "\n",
    "sigma_inv = jnp.linalg.inv(sigma)"
   ]
  },
  {
   "cell_type": "code",
   "execution_count": 1215,
   "metadata": {},
   "outputs": [],
   "source": [
    "def negative_log_posterior(theta):\n",
    "    return (-jnp.log(\n",
    "        1.0 + nu ** -1.0 * jnp.dot((theta - mu), jnp.dot(sigma_inv, (theta - mu).T).T)\n",
    "    ) * (0.5  * -(nu + theta.shape[0])))[0]"
   ]
  },
  {
   "cell_type": "code",
   "execution_count": 1216,
   "metadata": {},
   "outputs": [],
   "source": [
    "def grad_negative_log_posterior(theta):\n",
    "    return grad(negative_log_posterior)(theta)"
   ]
  },
  {
   "cell_type": "code",
   "execution_count": 1217,
   "metadata": {},
   "outputs": [],
   "source": [
    "def approx_covariance_matrix(theta):\n",
    "    return jnp.linalg.inv(hessian(negative_log_posterior)(theta))"
   ]
  },
  {
   "cell_type": "code",
   "execution_count": 1219,
   "metadata": {},
   "outputs": [],
   "source": [
    "theta_star = minimize(\n",
    "    negative_log_posterior, \n",
    "    jnp.array([0.0, 0.0]), \n",
    "    jac=grad_negative_log_posterior, \n",
    "    method=\"BFGS\"\n",
    ").x"
   ]
  },
  {
   "cell_type": "code",
   "execution_count": 1220,
   "metadata": {},
   "outputs": [
    {
     "data": {
      "text/plain": [
       "array([0.49996502, 2.0000122 ])"
      ]
     },
     "execution_count": 1220,
     "metadata": {},
     "output_type": "execute_result"
    }
   ],
   "source": [
    "theta_star"
   ]
  },
  {
   "cell_type": "code",
   "execution_count": 1223,
   "metadata": {},
   "outputs": [
    {
     "data": {
      "text/plain": [
       "DeviceArray([[0.77777773, 0.38888887],\n",
       "             [0.38888887, 0.77777773]], dtype=float32)"
      ]
     },
     "execution_count": 1223,
     "metadata": {},
     "output_type": "execute_result"
    }
   ],
   "source": [
    "sigma_approx = sigma_approx = approx_covariance_matrix(theta_star)\n",
    "sigma_approx"
   ]
  },
  {
   "cell_type": "code",
   "execution_count": 1225,
   "metadata": {},
   "outputs": [
    {
     "data": {
      "text/plain": [
       "DeviceArray([0.5, 2. ], dtype=float32)"
      ]
     },
     "execution_count": 1225,
     "metadata": {},
     "output_type": "execute_result"
    }
   ],
   "source": [
    "mu"
   ]
  },
  {
   "cell_type": "code",
   "execution_count": 1224,
   "metadata": {},
   "outputs": [
    {
     "data": {
      "text/plain": [
       "DeviceArray([[1. , 0.5],\n",
       "             [0.5, 1. ]], dtype=float32)"
      ]
     },
     "execution_count": 1224,
     "metadata": {},
     "output_type": "execute_result"
    }
   ],
   "source": [
    "sigma"
   ]
  },
  {
   "cell_type": "markdown",
   "metadata": {},
   "source": [
    "# Done."
   ]
  }
 ],
 "metadata": {
  "kernelspec": {
   "display_name": "DESI master",
   "language": "python",
   "name": "desi-master"
  },
  "language_info": {
   "codemirror_mode": {
    "name": "ipython",
    "version": 3
   },
   "file_extension": ".py",
   "mimetype": "text/x-python",
   "name": "python",
   "nbconvert_exporter": "python",
   "pygments_lexer": "ipython3",
   "version": "3.8.3"
  },
  "latex_envs": {
   "LaTeX_envs_menu_present": true,
   "autoclose": false,
   "autocomplete": true,
   "bibliofile": "biblio.bib",
   "cite_by": "apalike",
   "current_citInitial": 1,
   "eqLabelWithNumbers": true,
   "eqNumInitial": 1,
   "hotkeys": {
    "equation": "Ctrl-E",
    "itemize": "Ctrl-I"
   },
   "labels_anchors": false,
   "latex_user_defs": false,
   "report_style_numbering": false,
   "user_envs_cfg": false
  },
  "nbTranslate": {
   "displayLangs": [
    "*"
   ],
   "hotkey": "alt-t",
   "langInMainMenu": true,
   "sourceLang": "en",
   "targetLang": "fr",
   "useGoogleTranslate": true
  }
 },
 "nbformat": 4,
 "nbformat_minor": 4
}
