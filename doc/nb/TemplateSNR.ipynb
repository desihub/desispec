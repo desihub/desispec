{
 "cells": [
  {
   "cell_type": "code",
   "execution_count": 23,
   "metadata": {},
   "outputs": [],
   "source": [
    "import os\n",
    "import numpy as np\n",
    "import pylab as pl"
   ]
  },
  {
   "cell_type": "code",
   "execution_count": 20,
   "metadata": {},
   "outputs": [],
   "source": [
    "from desisim.specsim import get_simulator"
   ]
  },
  {
   "cell_type": "code",
   "execution_count": 13,
   "metadata": {},
   "outputs": [],
   "source": [
    "# Wavelengths of OII doublet.\n",
    "lambdaa = 3727.092 # Angstroms\n",
    "lambdab = 3729.875 # Angstorms\n",
    "\n",
    "# Energy weighted mean.\n",
    "OII     = 3728.483\n",
    "\n",
    "# Width of each line due to thermal broadening.\n",
    "def width(center, dv):    \n",
    "    # velocity difference [speed of light]\n",
    "    return  center * dv"
   ]
  },
  {
   "cell_type": "code",
   "execution_count": 14,
   "metadata": {},
   "outputs": [
    {
     "data": {
      "text/plain": [
       "Text(0, 0.5, 'Normalised flux')"
      ]
     },
     "execution_count": 14,
     "metadata": {},
     "output_type": "execute_result"
    },
    {
     "data": {
      "image/png": "[encoded data removed]",
      "text/plain": [
       "<Figure size 432x288 with 1 Axes>"
      ]
     },
     "metadata": {
      "needs_background": "light"
     },
     "output_type": "display_data"
    }
   ],
   "source": [
    "wave     = np.arange(1000, 1.e4, 0.05)\n",
    "\n",
    "dlambdaa = width(lambdaa, 1.e-4)\n",
    "dlambdab = width(lambdab, 1.e-4) \n",
    "\n",
    "def gaussian(wave, center, width):\n",
    "    #  https://en.wikipedia.org/wiki/Gaussian_function \n",
    "    norm = np.sqrt(2. * np.pi / width)\n",
    "    \n",
    "    return  np.exp(-0.5 * (wave - center)**2. / width**2.)\n",
    "\n",
    "ax       = pl.gca()\n",
    "\n",
    "ax.fill_between(wave, 0., gaussian(wave, lambdaa, dlambdaa), color='b', alpha=1.0)\n",
    "ax.fill_between(wave, 0., gaussian(wave, lambdab, dlambdab), color='b', alpha=1.0)\n",
    "\n",
    "ax.fill_between(wave, 0., gaussian(wave, 3889.0, width(3889.0, 1.e-4)), color='k', alpha=1.)\n",
    "\n",
    "pl.xlim(3700., 3900.)\n",
    "pl.ylim(0.25, 1.1)\n",
    "\n",
    "pl.xlabel('Wavelength [AA]')\n",
    "pl.ylabel('Normalised flux')"
   ]
  },
  {
   "cell_type": "code",
   "execution_count": 15,
   "metadata": {},
   "outputs": [],
   "source": [
    "def dlamba_inst(R, z, center):\n",
    "    # eqn. (2) of https://arxiv.org/pdf/1310.0615.pdf\n",
    "    return  (1. + z) * center / R # [Angstroms]"
   ]
  },
  {
   "cell_type": "code",
   "execution_count": 16,
   "metadata": {},
   "outputs": [],
   "source": [
    "def dlamba_tot(R, z, center, v=1.e-4):\n",
    "    # Widths of Gaussians add in quadrature; (https://en.wikipedia.org/wiki/Propagation_of_uncertainty).\n",
    "    return np.sqrt(dlamba_inst(R, z, center)**2. + width(center, v)**2.)"
   ]
  },
  {
   "cell_type": "code",
   "execution_count": 17,
   "metadata": {},
   "outputs": [],
   "source": [
    "R       = 9.e3\n",
    "z       = 1.00"
   ]
  },
  {
   "cell_type": "code",
   "execution_count": 18,
   "metadata": {},
   "outputs": [],
   "source": [
    "dlambda = OII * (1 + z) / R  # [Angstroms]."
   ]
  },
  {
   "cell_type": "code",
   "execution_count": 19,
   "metadata": {},
   "outputs": [],
   "source": [
    "# width of a pixel in Angstroms, rather than a resolution element.\n",
    "dlambda  /= 3."
   ]
  },
  {
   "cell_type": "code",
   "execution_count": 24,
   "metadata": {},
   "outputs": [],
   "source": [
    "os.environ['DESIMODEL'] = '/Users/MJWilson/Work/desi/latest/desimodel/0.13.1' "
   ]
  },
  {
   "cell_type": "code",
   "execution_count": 25,
   "metadata": {},
   "outputs": [
    {
     "name": "stderr",
     "output_type": "stream",
     "text": [
      "/Users/MJWilson/opt/miniconda3/envs/desi/lib/python3.6/site-packages/speclite/filters.py:1466: FutureWarning: Using a non-tuple sequence for multidimensional indexing is deprecated; use `arr[tuple(seq)]` instead of `arr[seq]`. In the future this will be interpreted as an array index, `arr[np.array(seq)]`, which will result either in an error or a different result.\n",
      "  values_no_units = values_no_units[values_slice]\n"
     ]
    }
   ],
   "source": [
    "simulator = get_simulator(config='desi', num_fibers=1, camera_output=True)"
   ]
  },
  {
   "cell_type": "code",
   "execution_count": null,
   "metadata": {},
   "outputs": [],
   "source": []
  }
 ],
 "metadata": {
  "kernelspec": {
   "display_name": "Python [conda env:desi] *",
   "language": "python",
   "name": "conda-env-desi-py"
  },
  "language_info": {
   "codemirror_mode": {
    "name": "ipython",
    "version": 3
   },
   "file_extension": ".py",
   "mimetype": "text/x-python",
   "name": "python",
   "nbconvert_exporter": "python",
   "pygments_lexer": "ipython3",
   "version": "3.6.11"
  },
  "latex_envs": {
   "LaTeX_envs_menu_present": true,
   "autoclose": false,
   "autocomplete": true,
   "bibliofile": "biblio.bib",
   "cite_by": "apalike",
   "current_citInitial": 1,
   "eqLabelWithNumbers": true,
   "eqNumInitial": 1,
   "hotkeys": {
    "equation": "Ctrl-E",
    "itemize": "Ctrl-I"
   },
   "labels_anchors": false,
   "latex_user_defs": false,
   "report_style_numbering": false,
   "user_envs_cfg": false
  },
  "nbTranslate": {
   "displayLangs": [
    "*"
   ],
   "hotkey": "alt-t",
   "langInMainMenu": true,
   "sourceLang": "en",
   "targetLang": "fr",
   "useGoogleTranslate": true
  }
 },
 "nbformat": 4,
 "nbformat_minor": 4
}
