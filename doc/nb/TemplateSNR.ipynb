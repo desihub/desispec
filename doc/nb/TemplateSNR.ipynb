{
 "cells": [
  {
   "cell_type": "code",
   "execution_count": 1,
   "metadata": {},
   "outputs": [],
   "source": [
    "import sys\n",
    "\n",
    "sys.path.append('/global/project/projectdirs/desi/users/mjwilson/repos/desispec/py/desispec/radlss/')"
   ]
  },
  {
   "cell_type": "code",
   "execution_count": 2,
   "metadata": {},
   "outputs": [],
   "source": [
    "import os\n",
    "import sys\n",
    "import time\n",
    "import glob\n",
    "import fitsio\n",
    "\n",
    "import itertools\n",
    "import warnings\n",
    "\n",
    "import numpy as np\n",
    "import pylab as pl\n",
    "\n",
    "import desisim.templates\n",
    "import astropy.io.fits              as      fits\n",
    "\n",
    "import desispec.io\n",
    "import redrock.templates\n",
    "import matplotlib.pyplot            as      plt\n",
    "\n",
    "from   os                           import  path\n",
    "from   astropy.convolution          import  convolve, Box1DKernel\n",
    "from   desispec.spectra             import  Spectra\n",
    "from   desispec.frame               import  Frame\n",
    "from   desispec.resolution          import  Resolution\n",
    "from   desispec.io.meta             import  findfile\n",
    "from   desispec.io                  import  read_frame, read_fiberflat, read_flux_calibration, read_sky, read_fibermap\n",
    "from   desispec.interpolation       import  resample_flux\n",
    "from   astropy.table                import  Table\n",
    "from   desispec.io.image            import  read_image\n",
    "from   specter.psf.gausshermite     import  GaussHermitePSF\n",
    "from   scipy.signal                 import  medfilt\n",
    "from   desispec.calibfinder         import  CalibFinder\n",
    "from   astropy.utils.exceptions     import  AstropyWarning\n",
    "from   scipy                        import  stats\n",
    "from   pathlib                      import  Path\n",
    "from   templateSNR                  import  templateSNR\n",
    "from   RadLSS                       import  RadLSS"
   ]
  },
  {
   "cell_type": "code",
   "execution_count": 3,
   "metadata": {},
   "outputs": [],
   "source": [
    "# warnings.simplefilter('ignore', category=AstropyWarning)"
   ]
  },
  {
   "cell_type": "markdown",
   "metadata": {},
   "source": [
    "# Foundations to desispec ticket 1004:  Template SNR and LSS rad. weights."
   ]
  },
  {
   "cell_type": "markdown",
   "metadata": {},
   "source": [
    "Template SNR:"
   ]
  },
  {
   "cell_type": "markdown",
   "metadata": {},
   "source": [
    "https://desi.lbl.gov/DocDB/cgi-bin/private/RetrieveFile?docid=4723;filename=sky-monitor-mc-study-v1.pdf;version=2"
   ]
  },
  {
   "cell_type": "markdown",
   "metadata": {},
   "source": [
    "applied to SV0 dataset:"
   ]
  },
  {
   "cell_type": "markdown",
   "metadata": {},
   "source": [
    "https://desi.lbl.gov/trac/wiki/TargetSelectionWG/SV0"
   ]
  },
  {
   "cell_type": "markdown",
   "metadata": {},
   "source": [
    "# Template SNR"
   ]
  },
  {
   "cell_type": "markdown",
   "metadata": {},
   "source": [
    "$\\Huge \\langle tSNR^2 \\rangle = \\sum_{grz} \\sum_{\\lambda \\in grz} \\left ( \\frac{\\tau^2 T^2 \\langle \\Delta F^2 \\rangle}{\\sigma_e^2 \\cdot {\\rm NPIX/A} + \\tau T_{\\rm sky}  F_{\\rm sky}} \\right ) $"
   ]
  },
  {
   "cell_type": "markdown",
   "metadata": {},
   "source": [
    "_\"We choose to normalize it such that zSNR = 3 for a 1000 sec dark time exposure in\n",
    "nominal conditions.\"_"
   ]
  },
  {
   "cell_type": "markdown",
   "metadata": {},
   "source": [
    "Here:  \n",
    "- $\\sigma_e$ is the READNOISE in units of ELECTRONS / PIXEL. \n",
    "- NPIX/A is the projected fiber area in units of PIXELS for a width of **ONE ANGSTROM**.  \n",
    "- $\\Delta F$ is the residual (template) flux from a 100A filtered equivalent.\n",
    "- $\\tau$ is the exposure time, already included in the flux calib.\n",
    "- $T_{\\rm sky} F_{\\rm sky}$ is the estimated fiber sky flux in units of ELECTRONS PER ANGSTROM."
   ]
  },
  {
   "cell_type": "code",
   "execution_count": 4,
   "metadata": {},
   "outputs": [],
   "source": [
    "def get_expids(night, andes='/global/cfs/cdirs/desi/spectro/redux/andes'):\n",
    "    tiles  = np.unique(np.array([x.split('/')[-3] for x in glob.glob(andes + '/tiles/*/{}/cframe-*'.format(night))]).astype(np.int))\n",
    "\n",
    "    # np.sort(np.array([x.split('/')[-1] for x in glob.glob(andes + '/exposures/{}/*'.format(night))]).astype(np.int))                                                                                  \n",
    "    expids = np.unique(np.array([x.split('/')[-1].split('-')[2].replace('.fits','') for x in glob.glob(andes + '/tiles/*/{}/cframe-*'.format(night))]).astype(np.int))\n",
    "\n",
    "    return  expids, tiles"
   ]
  },
  {
   "cell_type": "code",
   "execution_count": 5,
   "metadata": {},
   "outputs": [],
   "source": [
    "nmax     = 1\n",
    "night    = '20200315'\n",
    "tracers  = ['ELG']\n",
    "\n",
    "expids, tiles = get_expids(night)\n",
    "\n",
    "cameras  = ['b5', 'r5', 'z5']"
   ]
  },
  {
   "cell_type": "code",
   "execution_count": 6,
   "metadata": {},
   "outputs": [],
   "source": [
    "expids   = expids[1:2]"
   ]
  },
  {
   "cell_type": "code",
   "execution_count": 7,
   "metadata": {},
   "outputs": [
    {
     "data": {
      "text/plain": [
       "array([55589])"
      ]
     },
     "execution_count": 7,
     "metadata": {},
     "output_type": "execute_result"
    }
   ],
   "source": [
    "expids "
   ]
  },
  {
   "cell_type": "code",
   "execution_count": null,
   "metadata": {},
   "outputs": [
    {
     "name": "stdout",
     "output_type": "stream",
     "text": [
      "Solving for EXPID 00055589\n",
      "Rank 0:  Grabbing camera b0\n",
      "Rank 0:  Grabbing camera b1\n",
      "Rank 0:  Grabbing camera b2\n",
      "Rank 0:  Grabbing camera b3\n",
      "Rank 0:  Grabbing camera b4\n",
      "Rank 0:  Grabbing camera b5\n",
      "Rank 0:  Grabbing camera b6\n",
      "Rank 0:  Grabbing camera b7\n",
      "Rank 0:  Grabbing camera b8\n",
      "Rank 0:  Grabbing camera b9\n",
      "Rank 0:  Grabbing camera r0\n",
      "Rank 0:  Grabbing camera r1\n",
      "Rank 0:  Grabbing camera r2\n",
      "Rank 0:  Grabbing camera r3\n",
      "Rank 0:  Grabbing camera r4\n",
      "Rank 0:  Grabbing camera r5\n",
      "Rank 0:  Grabbing camera r6\n",
      "Rank 0:  Grabbing camera r7\n",
      "Rank 0:  Grabbing camera r8\n",
      "Rank 0:  Grabbing camera r9\n"
     ]
    }
   ],
   "source": [
    "for nexp, expid in enumerate(expids):\n",
    "    print('Solving for EXPID {:08d}'.format(expid))\n",
    "    \n",
    "    rads = RadLSS(night, expid, cameras=None)\n",
    "    \n",
    "    rads.compute(tracers=tracers)\n",
    "\n",
    "    if nexp == nmax:\n",
    "        break"
   ]
  },
  {
   "cell_type": "markdown",
   "metadata": {},
   "source": [
    "# Done."
   ]
  }
 ],
 "metadata": {
  "kernelspec": {
   "display_name": "DESI master",
   "language": "python",
   "name": "desi-master"
  },
  "language_info": {
   "codemirror_mode": {
    "name": "ipython",
    "version": 3
   },
   "file_extension": ".py",
   "mimetype": "text/x-python",
   "name": "python",
   "nbconvert_exporter": "python",
   "pygments_lexer": "ipython3",
   "version": "3.8.3"
  },
  "latex_envs": {
   "LaTeX_envs_menu_present": true,
   "autoclose": false,
   "autocomplete": true,
   "bibliofile": "biblio.bib",
   "cite_by": "apalike",
   "current_citInitial": 1,
   "eqLabelWithNumbers": true,
   "eqNumInitial": 1,
   "hotkeys": {
    "equation": "Ctrl-E",
    "itemize": "Ctrl-I"
   },
   "labels_anchors": false,
   "latex_user_defs": false,
   "report_style_numbering": false,
   "user_envs_cfg": false
  },
  "nbTranslate": {
   "displayLangs": [
    "*"
   ],
   "hotkey": "alt-t",
   "langInMainMenu": true,
   "sourceLang": "en",
   "targetLang": "fr",
   "useGoogleTranslate": true
  }
 },
 "nbformat": 4,
 "nbformat_minor": 4
}
