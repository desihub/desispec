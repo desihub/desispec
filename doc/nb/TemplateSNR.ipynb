{
 "cells": [
  {
   "cell_type": "code",
   "execution_count": 286,
   "metadata": {},
   "outputs": [],
   "source": [
    "import os\n",
    "\n",
    "import glob\n",
    "import fitsio\n",
    "\n",
    "import numpy as np\n",
    "import pylab as pl\n",
    "\n",
    "import desisim.templates\n",
    "import astropy.io.fits          as      fits\n",
    "\n",
    "import desispec.io\n",
    "import redrock.templates\n",
    "import matplotlib.pyplot        as      plt\n",
    "\n",
    "\n",
    "from   astropy.convolution      import  convolve, Box1DKernel\n",
    "from   desispec.spectra         import  Spectra\n",
    "from   desispec.resolution      import  Resolution\n",
    "from   desispec.io.meta         import  findfile\n",
    "from   desispec.io              import  read_frame, read_fiberflat, read_flux_calibration, read_xytraceset, read_sky \n",
    "\n",
    "from   desispec.interpolation   import  resample_flux\n",
    "\n",
    "from   astropy.table            import  Table\n",
    "from   desispec.io.image        import  read_image\n",
    "\n",
    "from   specter.psf.gausshermite import GaussHermitePSF\n",
    "from   scipy.signal             import medfilt"
   ]
  },
  {
   "cell_type": "markdown",
   "metadata": {},
   "source": [
    "# Foundations to 1004 desispec ticket:  Template SNR and LSS rad. weights."
   ]
  },
  {
   "cell_type": "markdown",
   "metadata": {},
   "source": [
    "Template SNR:"
   ]
  },
  {
   "cell_type": "markdown",
   "metadata": {},
   "source": [
    "https://desi.lbl.gov/DocDB/cgi-bin/private/RetrieveFile?docid=4723;filename=sky-monitor-mc-study-v1.pdf;version=2"
   ]
  },
  {
   "cell_type": "code",
   "execution_count": 268,
   "metadata": {},
   "outputs": [],
   "source": [
    "#  andes                           = '/global/cfs/cdirs/desi/spectro/redux/andes/'\n",
    "andes                              = '/global/scratch/mjwilson/desi-data.dm.noao.edu/desi/spectro/redux/andes'\n",
    "\n",
    "os.environ['SPEC_PROD']            = andes\n",
    "\n",
    "# os.environ['DESIMODEL']          = '/global/common/software/desi/cori/desiconda/20200801-1.4.0-spec/code/desimodel/0.13.0' \n",
    "os.environ['DESIMODEL']            = '/global/scratch/mjwilson/miniconda3/envs/desi/code/desimodel'\n",
    "\n",
    "os.environ['DESI_BASIS_TEMPLATES'] = '/global/scratch/mjwilson/desi-data.dm.noao.edu/desi/spectro/templates/basis_templates/v3.1/'\n",
    "\n",
    "os.environ['RESULTS']              = '/global/scratch/mjwilson'"
   ]
  },
  {
   "cell_type": "markdown",
   "metadata": {},
   "source": [
    "# Get a cframe for ELG SV0 tile (67230)"
   ]
  },
  {
   "cell_type": "markdown",
   "metadata": {},
   "source": [
    "https://desi.lbl.gov/trac/wiki/TargetSelectionWG/SV0"
   ]
  },
  {
   "cell_type": "code",
   "execution_count": 208,
   "metadata": {},
   "outputs": [],
   "source": [
    "night      = '20200314'\n",
    "\n",
    "tile       = 67230\n",
    "petal      = 0\n",
    "\n",
    "# 0th fiber in the petal.\n",
    "fiber      = 0\n",
    "\n",
    "camera     = 'z'"
   ]
  },
  {
   "cell_type": "markdown",
   "metadata": {},
   "source": [
    "# Class Definition"
   ]
  },
  {
   "cell_type": "code",
   "execution_count": null,
   "metadata": {},
   "outputs": [],
   "source": [
    "class RadWeights(object):\n",
    "    def __init__(self, wave, fiberflat, ivar, mask=None, meanspec=None,\n",
    "            chi2pdf=None, header=None, fibers=None, fibermap=None, spectrograph=0):\n",
    "        \"\"\"\n",
    "        Creates a lightweight data wrapper for fiber flats\n",
    "        Args:\n",
    "            wave: 1D[nwave] wavelength in Angstroms\n",
    "            fiberflat: 2D[nspec, nwave]\n",
    "            ivar: 2D[nspec, nwave] inverse variance of fiberflat\n",
    "        Optional inputs:\n",
    "            mask: 2D[nspec, nwave] mask where 0=good; default ivar==0; 32-bit\n",
    "            meanspec: (optional) 1D[nwave] mean deconvolved average flat lamp spectrum\n",
    "            chi2pdf: (optional) Normalized chi^2 for fit to mean spectrum\n",
    "            header: (optional) FITS header from HDU0\n",
    "            fibers: (optional) fiber indices\n",
    "            fibermap: fibermap table\n",
    "            spectrograph: (optional) spectrograph number [0-9]\n",
    "        \"\"\""
   ]
  },
  {
   "cell_type": "markdown",
   "metadata": {},
   "source": [
    "# Get (calibrated) spectra and calibration data "
   ]
  },
  {
   "cell_type": "code",
   "execution_count": 290,
   "metadata": {},
   "outputs": [],
   "source": [
    "# For each camera.\n",
    "frames     = {}\n",
    "cframes    = {}\n",
    "\n",
    "psfs       = {}\n",
    "skies      = {} \n",
    "\n",
    "fluxcalibs = {}\n",
    "\n",
    "# NOT including in the flux calibration. \n",
    "fiberflats = {}\n",
    "\n",
    "psf_nights = {}\n",
    "\n",
    "for cam in list(camera):\n",
    "  # E.g.  /global/cfs/cdirs/desi/spectro/redux/andes/tiles/67230/20200314/cframe-z9-00055382.fits  \n",
    "  specpaths    = glob.glob('{}/tiles/{}/{}/cframe-{}{}-*.fits'.format(andes, tile, night, cam, petal))\n",
    "\n",
    "  expids       = [x.split('-')[-1].replace('.fits', '') for x in specpaths]\n",
    "        \n",
    "  # E.g.  /global/cfs/cdirs/desi/spectro/redux/andes/exposures/20200315/00055590/sky-r8-00055590.fits\n",
    "  # skies_path   = glob.glob('{}/exposures/{}/{}/sky-{}{}-{}.fits'.format(andes, tile, night, cam, petal))\n",
    "    \n",
    "  mjd_obs      = 0.0\n",
    "    \n",
    "  for i, specpath in enumerate(specpaths):\n",
    "    dat        = fits.open(specpath)\n",
    "    \n",
    "    _          = dat[0].header['MJD-OBS']\n",
    "\n",
    "    # Get the last in the night, for example.      \n",
    "    if _ > mjd_obs:          \n",
    "        cframes[cam]    = read_frame(specpath)\n",
    "                \n",
    "        expid           = expids[i]\n",
    "\n",
    "        exptime         = cframes[cam].meta['EXPTIME']\n",
    "        \n",
    "        mjd_obs         = cframes[cam].meta['MJD-OBS']\n",
    "        \n",
    "        fiberid         = cframes[cam].fibermap['FIBER'][fiber]\n",
    "        \n",
    "        # psfs[cam]     = fitsio.FITS('{}/exposures/{}/{}/psf-{}{}-{}.fits'.format(andes, night, expid, cam, petal, expid))\n",
    "        psfs[cam]       = GaussHermitePSF(findfile('psf', night=night, expid=int(expid), camera=cam + str(petal), specprod_dir=andes))\n",
    "\n",
    "        psf_nights[cam] = GaussHermitePSF(findfile('psfnight', night=night, expid=int(expid), camera=cam + str(petal), specprod_dir=andes))\n",
    "        \n",
    "        # fname = andes + '/calibnight/{}/psfnight-{}{}-{}.fits'.format(night, camera, petal, night)\n",
    "        \n",
    "        # skies[cam]    = fitsio.FITS('{}/exposures/{}/{}/sky-{}{}-{}.fits'.format(andes, night, expid, cam, petal, expid))\n",
    "        skies[cam]      = read_sky(findfile('sky', night=night, expid=int(expid), camera=cam + str(petal), specprod_dir=andes))\n",
    "        \n",
    "        # https://desidatamodel.readthedocs.io/en/latest/DESI_SPECTRO_CALIB/fluxcalib-CAMERA.html\n",
    "        # fluxcalibs[cam] = fitsio.FITS('{}/exposures/{}/{}/fluxcalib-{}{}-{}.fits'.format(andes, night, expid, cam, petal, expid))\n",
    "        fluxcalibs[cam] = read_flux_calibration(findfile('fluxcalib', night=night, expid=int(expid), camera=cam + str(petal), specprod_dir=andes))\n",
    "\n",
    "        # Book keeping on what exposure was the fiberflat.  Taken once per night. \n",
    "        fiberflats[cam] = read_fiberflat(findfile('fiberflat', night=night, expid=int(55531), camera=cam + str(petal), specprod_dir=andes))\n",
    "        \n",
    "        # frames[cam]   = fitsio.FITS('{}/exposures/{}/{}/frame-{}{}-{}.fits'.format(andes, night, expid, cam, petal, expid))\n",
    "        frames[cam]     = read_frame(findfile('frame', night=night, expid=int(expid), camera=cam + str(petal), specprod_dir=andes))\n"
   ]
  },
  {
   "cell_type": "code",
   "execution_count": 291,
   "metadata": {},
   "outputs": [
    {
     "name": "stdout",
     "output_type": "stream",
     "text": [
      "20200314 67230 00055382 900.0 0\n"
     ]
    }
   ],
   "source": [
    "print(night, tile, expid, exptime, fiberid)"
   ]
  },
  {
   "cell_type": "code",
   "execution_count": 292,
   "metadata": {},
   "outputs": [
    {
     "data": {
      "text/plain": [
       "array([7520. , 7520.8, 7521.6, ..., 9822.4, 9823.2, 9824. ])"
      ]
     },
     "execution_count": 292,
     "metadata": {},
     "output_type": "execute_result"
    }
   ],
   "source": [
    "wave                    = cframes[camera].wave\n",
    "wave"
   ]
  },
  {
   "cell_type": "markdown",
   "metadata": {},
   "source": [
    "# Get GFA data"
   ]
  },
  {
   "cell_type": "code",
   "execution_count": 7,
   "metadata": {},
   "outputs": [],
   "source": [
    "def get_med_gfa(printit=False, root='/global/scratch/mjwilson'):\n",
    "  gfa = Table.read(root + '/offline_all_guide_ccds_SV0.fits')\n",
    "    \n",
    "  gfa = gfa[gfa['SPECTRO_EXPID'] > -1]\n",
    "  gfa = gfa[gfa['N_SOURCES_FOR_PSF'] > 2]\n",
    "  gfa = gfa[gfa['CONTRAST'] > 2]\n",
    "  gfa = gfa[gfa['NPIX_BAD_TOTAL'] < 10]\n",
    "\n",
    "  gfa.sort('SPECTRO_EXPID')\n",
    "\n",
    "  gfa = gfa['SPECTRO_EXPID', 'FWHM_ASEC', 'TRANSPARENCY', 'FIBER_FRACFLUX', 'SKY_MAG_AB', 'MJD']\n",
    "    \n",
    "  by_spectro_expid = gfa.group_by('SPECTRO_EXPID')\n",
    "\n",
    "  # gfa_mean = by_spectro_expid.groups.aggregate(np.mean)\n",
    "  gfa_median = by_spectro_expid.groups.aggregate(np.median)\n",
    " \n",
    "  if printit:\n",
    "    print(gfa_median)\n",
    "\n",
    "  return  gfa_median"
   ]
  },
  {
   "cell_type": "code",
   "execution_count": 8,
   "metadata": {},
   "outputs": [],
   "source": [
    "med_gfa    = get_med_gfa()"
   ]
  },
  {
   "cell_type": "code",
   "execution_count": 9,
   "metadata": {},
   "outputs": [
    {
     "data": {
      "text/html": [
       "<i>Table length=82</i>\n",
       "<table id=\"table47555954731440\" class=\"table-striped table-bordered table-condensed\">\n",
       "<thead><tr><th>SPECTRO_EXPID</th><th>FWHM_ASEC</th><th>TRANSPARENCY</th><th>FIBER_FRACFLUX</th><th>SKY_MAG_AB</th><th>MJD</th></tr></thead>\n",
       "<thead><tr><th>int32</th><th>float64</th><th>float64</th><th>float64</th><th>float64</th><th>float64</th></tr></thead>\n",
       "<tr><td>55353</td><td>1.3556690883636473</td><td>0.9491531856658579</td><td>0.42902994928339766</td><td>20.13257532857953</td><td>58923.105804845</td></tr>\n",
       "<tr><td>55354</td><td>1.0842609405517578</td><td>0.9306584084094406</td><td>0.5758220848678852</td><td>20.716475970074487</td><td>58923.11684792</td></tr>\n",
       "<tr><td>55355</td><td>1.1528374147415161</td><td>0.9287752724595781</td><td>0.5266150665431396</td><td>20.751343417592672</td><td>58923.12406566</td></tr>\n",
       "<tr><td>55356</td><td>1.124827275276184</td><td>0.9291547576080916</td><td>0.5513398270660941</td><td>20.78339337676281</td><td>58923.1282444</td></tr>\n",
       "<tr><td>55357</td><td>1.1412470054626465</td><td>0.9324662058076588</td><td>0.5494354959155627</td><td>20.736887796902987</td><td>58923.13247917</td></tr>\n",
       "<tr><td>55358</td><td>1.0398310708999634</td><td>0.926993168397129</td><td>0.6079540155317155</td><td>20.732981448479244</td><td>58923.13667283</td></tr>\n",
       "<tr><td>55359</td><td>1.3305566978454588</td><td>0.8911601509977743</td><td>0.42628248906121285</td><td>20.784752835872254</td><td>58923.14101085</td></tr>\n",
       "<tr><td>55360</td><td>1.248458046913147</td><td>0.9177696043867326</td><td>0.47084553982027816</td><td>20.80443171895309</td><td>58923.14525603</td></tr>\n",
       "<tr><td>55361</td><td>1.1383494520187378</td><td>0.8861931873134048</td><td>0.5298523127713594</td><td>20.773264489657137</td><td>58923.14950753</td></tr>\n",
       "<tr><td>55362</td><td>1.2238284516334534</td><td>0.9034252271677183</td><td>0.49734093803071555</td><td>20.807978443570086</td><td>58923.153674945</td></tr>\n",
       "<tr><td>...</td><td>...</td><td>...</td><td>...</td><td>...</td><td>...</td></tr>\n",
       "<tr><td>55674</td><td>1.1113050985336304</td><td>0.964350490252501</td><td>0.5460385873940345</td><td>20.51628562350199</td><td>58924.48173386</td></tr>\n",
       "<tr><td>55676</td><td>1.220447907447815</td><td>0.9618748846546804</td><td>0.4769327158491101</td><td>20.51656622266724</td><td>58924.485957255005</td></tr>\n",
       "<tr><td>55678</td><td>1.1808475542068482</td><td>0.9521870510136358</td><td>0.4965423898112948</td><td>20.483182601889357</td><td>58924.49020096</td></tr>\n",
       "<tr><td>55680</td><td>1.2315554237365722</td><td>0.9498727144977854</td><td>0.474162015963733</td><td>20.469658065724868</td><td>58924.49430702</td></tr>\n",
       "<tr><td>55682</td><td>1.150905647277832</td><td>0.961819112604408</td><td>0.5058066154829663</td><td>20.44293089935006</td><td>58924.49863134</td></tr>\n",
       "<tr><td>55684</td><td>1.3556690883636473</td><td>0.9492307534996669</td><td>0.4075430968446988</td><td>20.45222303599205</td><td>58924.50285695</td></tr>\n",
       "<tr><td>55686</td><td>1.3286249303817748</td><td>0.9327544683907377</td><td>0.4382493893040137</td><td>20.391286718029715</td><td>58924.50719792</td></tr>\n",
       "<tr><td>55688</td><td>1.1779498052597046</td><td>0.9595012693791285</td><td>0.4834739526883711</td><td>20.34339653595935</td><td>58924.511309765</td></tr>\n",
       "<tr><td>55690</td><td>1.2378335213661193</td><td>0.9443942552643484</td><td>0.4495081831668003</td><td>20.304621746446408</td><td>58924.51548036</td></tr>\n",
       "<tr><td>55692</td><td>1.319932074546814</td><td>0.9607678418031806</td><td>0.4017382671685154</td><td>20.04634733803951</td><td>58924.51965154</td></tr>\n",
       "</table>"
      ],
      "text/plain": [
       "<Table length=82>\n",
       "SPECTRO_EXPID     FWHM_ASEC      ...     SKY_MAG_AB            MJD        \n",
       "    int32          float64       ...      float64            float64      \n",
       "------------- ------------------ ... ------------------ ------------------\n",
       "        55353 1.3556690883636473 ...  20.13257532857953    58923.105804845\n",
       "        55354 1.0842609405517578 ... 20.716475970074487     58923.11684792\n",
       "        55355 1.1528374147415161 ... 20.751343417592672     58923.12406566\n",
       "        55356  1.124827275276184 ...  20.78339337676281      58923.1282444\n",
       "        55357 1.1412470054626465 ... 20.736887796902987     58923.13247917\n",
       "        55358 1.0398310708999634 ... 20.732981448479244     58923.13667283\n",
       "        55359 1.3305566978454588 ... 20.784752835872254     58923.14101085\n",
       "        55360  1.248458046913147 ...  20.80443171895309     58923.14525603\n",
       "        55361 1.1383494520187378 ... 20.773264489657137     58923.14950753\n",
       "        55362 1.2238284516334534 ... 20.807978443570086    58923.153674945\n",
       "          ...                ... ...                ...                ...\n",
       "        55674 1.1113050985336304 ...  20.51628562350199     58924.48173386\n",
       "        55676  1.220447907447815 ...  20.51656622266724 58924.485957255005\n",
       "        55678 1.1808475542068482 ... 20.483182601889357     58924.49020096\n",
       "        55680 1.2315554237365722 ... 20.469658065724868     58924.49430702\n",
       "        55682  1.150905647277832 ...  20.44293089935006     58924.49863134\n",
       "        55684 1.3556690883636473 ...  20.45222303599205     58924.50285695\n",
       "        55686 1.3286249303817748 ... 20.391286718029715     58924.50719792\n",
       "        55688 1.1779498052597046 ...  20.34339653595935    58924.511309765\n",
       "        55690 1.2378335213661193 ... 20.304621746446408     58924.51548036\n",
       "        55692  1.319932074546814 ...  20.04634733803951     58924.51965154"
      ]
     },
     "execution_count": 9,
     "metadata": {},
     "output_type": "execute_result"
    }
   ],
   "source": [
    "med_gfa"
   ]
  },
  {
   "cell_type": "code",
   "execution_count": 10,
   "metadata": {},
   "outputs": [
    {
     "name": "stderr",
     "output_type": "stream",
     "text": [
      "/global/scratch/mjwilson/miniconda3/envs/desi/lib/python3.6/site-packages/astropy/table/column.py:1020: FutureWarning: elementwise comparison failed; returning scalar instead, but in the future will perform elementwise comparison\n",
      "  result = getattr(super(), op)(other)\n"
     ]
    }
   ],
   "source": [
    "exp_gfa = med_gfa[med_gfa['SPECTRO_EXPID'] == expid]"
   ]
  },
  {
   "cell_type": "code",
   "execution_count": 11,
   "metadata": {},
   "outputs": [
    {
     "data": {
      "text/html": [
       "<i>Row index=0</i>\n",
       "<table id=\"table47555954731440\">\n",
       "<thead><tr><th>SPECTRO_EXPID</th><th>FWHM_ASEC</th><th>TRANSPARENCY</th><th>FIBER_FRACFLUX</th><th>SKY_MAG_AB</th><th>MJD</th></tr></thead>\n",
       "<thead><tr><th>int32</th><th>float64</th><th>float64</th><th>float64</th><th>float64</th><th>float64</th></tr></thead>\n",
       "<tr><td>55353</td><td>1.3556690883636473</td><td>0.9491531856658579</td><td>0.42902994928339766</td><td>20.13257532857953</td><td>58923.105804845</td></tr>\n",
       "</table>"
      ],
      "text/plain": [
       "<Row index=0>\n",
       "SPECTRO_EXPID     FWHM_ASEC         TRANSPARENCY       FIBER_FRACFLUX       SKY_MAG_AB          MJD      \n",
       "    int32          float64            float64             float64            float64          float64    \n",
       "------------- ------------------ ------------------ ------------------- ----------------- ---------------\n",
       "        55353 1.3556690883636473 0.9491531856658579 0.42902994928339766 20.13257532857953 58923.105804845"
      ]
     },
     "execution_count": 11,
     "metadata": {},
     "output_type": "execute_result"
    }
   ],
   "source": [
    "exp_gfa"
   ]
  },
  {
   "cell_type": "code",
   "execution_count": 12,
   "metadata": {},
   "outputs": [],
   "source": [
    "FIBERLOSS = exp_gfa['FIBER_FRACFLUX']"
   ]
  },
  {
   "cell_type": "markdown",
   "metadata": {},
   "source": [
    "# Get 2D PSF and define NPIX"
   ]
  },
  {
   "cell_type": "markdown",
   "metadata": {},
   "source": [
    "Expectation of 3.44 for PSF size in pixel units (spectro paper)."
   ]
  },
  {
   "cell_type": "code",
   "execution_count": 293,
   "metadata": {},
   "outputs": [],
   "source": [
    "psf = psf_nights['z']"
   ]
  },
  {
   "cell_type": "code",
   "execution_count": 294,
   "metadata": {},
   "outputs": [
    {
     "data": {
      "text/plain": [
       "(500, 4114, 4128)"
      ]
     },
     "execution_count": 294,
     "metadata": {},
     "output_type": "execute_result"
    }
   ],
   "source": [
    "# One petal, one arm to a CCD.\n",
    "psf.nspec, psf.npix_x, psf.npix_y"
   ]
  },
  {
   "cell_type": "code",
   "execution_count": 295,
   "metadata": {},
   "outputs": [],
   "source": [
    "# Representative wavelength. \n",
    "oii = 3727. * (1. + 1.1)"
   ]
  },
  {
   "cell_type": "code",
   "execution_count": 296,
   "metadata": {},
   "outputs": [
    {
     "data": {
      "text/plain": [
       "(106.5136658758136, 752.9673119771362)"
      ]
     },
     "execution_count": 296,
     "metadata": {},
     "output_type": "execute_result"
    }
   ],
   "source": [
    "# Fiber centroid position on CCD.\n",
    "# https://github.com/desihub/specter/blob/f242a3d707c4cba549030af6df8cf5bb12e2b47c/py/specter/psf/psf.py#L467\n",
    "x,y = psf.xy(fiberid, oii)\n",
    "x,y"
   ]
  },
  {
   "cell_type": "code",
   "execution_count": 297,
   "metadata": {},
   "outputs": [
    {
     "data": {
      "text/plain": [
       "(99, 116, 747, 759)"
      ]
     },
     "execution_count": 297,
     "metadata": {},
     "output_type": "execute_result"
    }
   ],
   "source": [
    "# https://github.com/desihub/specter/blob/f242a3d707c4cba549030af6df8cf5bb12e2b47c/py/specter/psf/psf.py#L300\n",
    "# Range that boxes in fiber 'trace':  (xmin, xmax, ymin, ymax)\n",
    "psf.xyrange(fiberid, oii)"
   ]
  },
  {
   "cell_type": "code",
   "execution_count": 298,
   "metadata": {},
   "outputs": [
    {
     "data": {
      "text/plain": [
       "4.148481944894554"
      ]
     },
     "execution_count": 298,
     "metadata": {},
     "output_type": "execute_result"
    }
   ],
   "source": [
    "# Return Gaussian sigma of PSF spot in cross-dispersion direction in CCD pixel units.\n",
    "#  Gaussian PSF, radius R that maximizes S/N for a faint source in the sky-limited case is 1.7σ\n",
    "#  http://www.ucolick.org/~bolte/AY257/s_n.pdf\n",
    "2. * 1.7 * psf.xsigma(ispec=fiberid, wavelength=oii)"
   ]
  },
  {
   "cell_type": "code",
   "execution_count": 299,
   "metadata": {},
   "outputs": [
    {
     "data": {
      "text/plain": [
       "4.220916150012472"
      ]
     },
     "execution_count": 299,
     "metadata": {},
     "output_type": "execute_result"
    }
   ],
   "source": [
    "#  Gaussian sigma of PSF spot in dispersion direction in CCD pixel units.\n",
    "#  Gaussian PSF, radius R that maximizes S/N for a faint source in the sky-limited case is 1.7σ\n",
    "#  http://www.ucolick.org/~bolte/AY257/s_n.pdf\n",
    "2. * 1.7 * psf.ysigma(ispec=fiberid, wavelength=oii)"
   ]
  },
  {
   "cell_type": "code",
   "execution_count": 300,
   "metadata": {},
   "outputs": [
    {
     "data": {
      "text/plain": [
       "(11, 17)"
      ]
     },
     "execution_count": 300,
     "metadata": {},
     "output_type": "execute_result"
    }
   ],
   "source": [
    "psf_2d = psf.pix(ispec=fiberid, wavelength=oii)\n",
    "psf_2d.shape"
   ]
  },
  {
   "cell_type": "code",
   "execution_count": 301,
   "metadata": {},
   "outputs": [
    {
     "data": {
      "text/plain": [
       "0.9999999999999999"
      ]
     },
     "execution_count": 301,
     "metadata": {},
     "output_type": "execute_result"
    }
   ],
   "source": [
    "norm = np.sum(psf_2d); norm"
   ]
  },
  {
   "cell_type": "code",
   "execution_count": 302,
   "metadata": {},
   "outputs": [
    {
     "name": "stdout",
     "output_type": "stream",
     "text": [
      "For 20200314, fiber 0 on camera z for tile 67230, NPIX is 19.960498391945666\n"
     ]
    }
   ],
   "source": [
    "# http://articles.adsabs.harvard.edu/pdf/1983PASP...95..163K\n",
    "NEA  = 1. / np.sum(psf_2d ** 2.) # [pixel units].\n",
    "NPIX = NEA; \n",
    "\n",
    "print('For {}, fiber {} on camera {} for tile {}, NPIX is {}'.format(night, fiberid, camera, tile, NPIX))"
   ]
  },
  {
   "cell_type": "code",
   "execution_count": 303,
   "metadata": {},
   "outputs": [
    {
     "data": {
      "text/plain": [
       "0.6344665864382577"
      ]
     },
     "execution_count": 303,
     "metadata": {},
     "output_type": "execute_result"
    }
   ],
   "source": [
    "ANGSTROMS_PER_PIXEL = psf.angstroms_per_pixel(fiber, oii); ANGSTROMS_PER_PIXEL"
   ]
  },
  {
   "cell_type": "markdown",
   "metadata": {},
   "source": [
    "# Get (fiber local) READNOISE for this exposure."
   ]
  },
  {
   "cell_type": "code",
   "execution_count": 54,
   "metadata": {},
   "outputs": [],
   "source": [
    "image = read_image(andes + '/preproc/{}/{}/preproc-{}{}-{}.fits'.format(night, expid, camera, petal, expid))"
   ]
  },
  {
   "cell_type": "code",
   "execution_count": 55,
   "metadata": {},
   "outputs": [
    {
     "data": {
      "text/plain": [
       "'z0'"
      ]
     },
     "execution_count": 55,
     "metadata": {},
     "output_type": "execute_result"
    }
   ],
   "source": [
    "image.camera"
   ]
  },
  {
   "cell_type": "code",
   "execution_count": 56,
   "metadata": {},
   "outputs": [],
   "source": [
    "(xmin, xmax, ymin, ymax) = psf.xyrange(fiber, wave)"
   ]
  },
  {
   "cell_type": "code",
   "execution_count": 57,
   "metadata": {},
   "outputs": [],
   "source": [
    "# electrons/pixel (float).\n",
    "rd_cutout = image.readnoise[ymin:ymax, xmin:xmax]"
   ]
  },
  {
   "cell_type": "code",
   "execution_count": 58,
   "metadata": {},
   "outputs": [
    {
     "data": {
      "text/plain": [
       "(3859, 26)"
      ]
     },
     "execution_count": 58,
     "metadata": {},
     "output_type": "execute_result"
    }
   ],
   "source": [
    "rd_cutout.shape"
   ]
  },
  {
   "cell_type": "code",
   "execution_count": 59,
   "metadata": {},
   "outputs": [
    {
     "data": {
      "text/plain": [
       "array([[2.6179812 , 2.6179812 , 2.6179812 , ..., 2.6179812 , 2.6179812 ,\n",
       "        2.6179812 ],\n",
       "       [2.6179812 , 2.6179812 , 2.6179812 , ..., 2.6179812 , 2.6179812 ,\n",
       "        2.6179812 ],\n",
       "       [2.6179812 , 2.6179812 , 2.6179812 , ..., 2.6179812 , 2.6179812 ,\n",
       "        2.6179812 ],\n",
       "       ...,\n",
       "       [2.68856621, 2.68856621, 2.68856621, ..., 2.68856621, 2.68856621,\n",
       "        2.68856621],\n",
       "       [2.68856621, 2.68856621, 2.68856621, ..., 2.68856621, 2.68856621,\n",
       "        2.68856621],\n",
       "       [2.68856621, 2.68856621, 2.68856621, ..., 2.68856621, 2.68856621,\n",
       "        2.68856621]])"
      ]
     },
     "execution_count": 59,
     "metadata": {},
     "output_type": "execute_result"
    }
   ],
   "source": [
    "rd_cutout"
   ]
  },
  {
   "cell_type": "code",
   "execution_count": 60,
   "metadata": {},
   "outputs": [
    {
     "data": {
      "text/plain": [
       "(2.677520990371704, 2.48201847076416)"
      ]
     },
     "execution_count": 60,
     "metadata": {},
     "output_type": "execute_result"
    }
   ],
   "source": [
    "# electrons/pixel\n",
    "np.median(rd_cutout), np.median(image.readnoise)"
   ]
  },
  {
   "cell_type": "code",
   "execution_count": 258,
   "metadata": {},
   "outputs": [
    {
     "name": "stdout",
     "output_type": "stream",
     "text": [
      "CCD Quadrant A\t2.617981144531183\n",
      "CCD Quadrant B\t2.282433393636805\n",
      "CCD Quadrant C\t2.6885661902763\n",
      "CCD Quadrant D\t2.327298215169585\n"
     ]
    }
   ],
   "source": [
    "for ccd_quad in ['A', 'B', 'C', 'D']:\n",
    "  print('CCD Quadrant {}\\t{}'.format(ccd_quad, cframes['z'].meta['OBSRDN{}'.format(ccd_quad)]))"
   ]
  },
  {
   "cell_type": "code",
   "execution_count": 61,
   "metadata": {},
   "outputs": [],
   "source": [
    "RDNOISE = np.median(rd_cutout)"
   ]
  },
  {
   "cell_type": "markdown",
   "metadata": {},
   "source": [
    "# Sky flux"
   ]
  },
  {
   "cell_type": "code",
   "execution_count": 307,
   "metadata": {},
   "outputs": [
    {
     "data": {
      "text/plain": [
       "Text(0, 0.5, 'Electrons per Angstrom')"
      ]
     },
     "execution_count": 307,
     "metadata": {},
     "output_type": "execute_result"
    },
    {
     "data": {
      "image/png": "[encoded data removed]",
      "text/plain": [
       "<Figure size 432x288 with 1 Axes>"
      ]
     },
     "metadata": {
      "needs_background": "light"
     },
     "output_type": "display_data"
    }
   ],
   "source": [
    "pl.plot(skies['z'].wave, skies['z'].flux[0, :].T)\n",
    "\n",
    "pl.xlabel('Wavelength [Angstroms]')\n",
    "pl.ylabel('Electrons per Angstrom')"
   ]
  },
  {
   "cell_type": "code",
   "execution_count": 313,
   "metadata": {},
   "outputs": [
    {
     "data": {
      "text/plain": [
       "Text(0.5, 1.0, 'Sky continuum (116.0A median filter)')"
      ]
     },
     "execution_count": 313,
     "metadata": {},
     "output_type": "execute_result"
    },
    {
     "data": {
      "image/png": "[encoded data removed]",
      "text/plain": [
       "<Figure size 432x288 with 1 Axes>"
      ]
     },
     "metadata": {
      "needs_background": "light"
     },
     "output_type": "display_data"
    }
   ],
   "source": [
    "kernel_N      = 145\n",
    "sky_continuum = medfilt(skies['z'].flux[0, :], kernel_N)\n",
    "\n",
    "pl.plot(skies['z'].wave, sky_continuum)\n",
    "\n",
    "pl.xlabel('Wavelength [Angstroms]')\n",
    "pl.ylabel('Electrons per Angstrom')\n",
    "\n",
    "pl.title('Sky continuum ({}A median filter)'.format(kernel_N * 0.8))"
   ]
  },
  {
   "cell_type": "markdown",
   "metadata": {},
   "source": [
    "# Flux calibration"
   ]
  },
  {
   "cell_type": "code",
   "execution_count": 272,
   "metadata": {},
   "outputs": [],
   "source": [
    "# Includes seeing and airmass terms (therefore fiberloss).\n",
    "fluxcalib          = fluxcalibs[camera].calib[0,:]\n",
    "\n",
    "# Calibration for no fiber loss; nominally we need this for the sky flux calib, but it's already in e/A.\n",
    "lossless_fluxcalib = fluxcalib / FIBERLOSS"
   ]
  },
  {
   "cell_type": "code",
   "execution_count": 275,
   "metadata": {},
   "outputs": [
    {
     "data": {
      "text/plain": [
       "<matplotlib.legend.Legend at 0x2b415d73aeb8>"
      ]
     },
     "execution_count": 275,
     "metadata": {},
     "output_type": "execute_result"
    },
    {
     "data": {
      "image/png": "[encoded data removed]",
      "text/plain": [
       "<Figure size 432x288 with 1 Axes>"
      ]
     },
     "metadata": {
      "needs_background": "light"
     },
     "output_type": "display_data"
    }
   ],
   "source": [
    "pl.plot(wave, fluxcalib,          label='Flux calib.')\n",
    "pl.plot(wave, lossless_fluxcalib, label='Lossless flux calib.')\n",
    "\n",
    "pl.title('FIBERLOSS of {}'.format(FIBERLOSS))\n",
    "\n",
    "pl.legend(loc=0, frameon=False)"
   ]
  },
  {
   "cell_type": "markdown",
   "metadata": {},
   "source": [
    "# Fiber flats"
   ]
  },
  {
   "cell_type": "code",
   "execution_count": 265,
   "metadata": {},
   "outputs": [
    {
     "data": {
      "text/plain": [
       "array([7520.        , 7520.79980469, 7521.60009766, ..., 9822.40039062,\n",
       "       9823.20019531, 9824.        ])"
      ]
     },
     "execution_count": 265,
     "metadata": {},
     "output_type": "execute_result"
    }
   ],
   "source": [
    "fiberflats['z'].wave"
   ]
  },
  {
   "cell_type": "code",
   "execution_count": 266,
   "metadata": {},
   "outputs": [
    {
     "data": {
      "text/plain": [
       "(500, 2881)"
      ]
     },
     "execution_count": 266,
     "metadata": {},
     "output_type": "execute_result"
    }
   ],
   "source": [
    "# Function of wavelength.\n",
    "fiberflats['z'].fiberflat.shape"
   ]
  },
  {
   "cell_type": "code",
   "execution_count": 314,
   "metadata": {},
   "outputs": [],
   "source": [
    "# fiberflats['z'].header"
   ]
  },
  {
   "cell_type": "code",
   "execution_count": 318,
   "metadata": {},
   "outputs": [
    {
     "data": {
      "text/plain": [
       "(array([ 8.32189789e+01,  5.91095772e+01,  3.17518673e+01,  1.84324175e-01,\n",
       "        -1.97766590e+01,  4.14889946e+01,  1.46010160e+01,  1.73582268e+01,\n",
       "         7.30176010e+01,  5.58505287e+01,  7.63080740e+00,  5.54054832e+01,\n",
       "        -3.06542110e+00,  1.41123199e+01,  1.78330040e+01,  3.12865925e+01,\n",
       "         5.21570358e+01,  2.10792427e+01,  4.89062119e+01,  6.93105240e+01,\n",
       "         2.15566959e+01, -1.70739040e+01,  4.84468651e+01, -6.29962778e+00,\n",
       "        -1.27961674e+01,  7.14903736e+00,  7.95115128e+01,  6.23584404e+01,\n",
       "        -2.58230400e+00,  2.43282452e+01,  3.45293694e+01, -1.32806301e+01,\n",
       "         2.47961712e+01,  6.60587692e+01,  1.08624430e+01,  3.82449951e+01,\n",
       "         3.49941902e+01,  6.56095352e+01,  7.62628479e+01,  3.87041130e+01,\n",
       "        -9.54898930e+00,  4.38216782e+00, -1.65297680e+01,  3.89961743e+00,\n",
       "         4.52022781e+01,  6.67316437e-01,  7.25594330e+01,  2.80386963e+01,\n",
       "        -1.00537701e+01,  4.19516335e+01,  1.13552439e+00,  3.54532356e+01,\n",
       "         1.13513956e+01,  4.97998009e+01, -1.92714500e+01,  2.89385509e+01,\n",
       "        -1.87971210e+01,  3.21944504e+01,  1.50457869e+01,  4.60984955e+01,\n",
       "         1.54902563e+01,  8.54325962e+00, -5.82837200e+00,  8.09281731e+00,\n",
       "         3.58909073e+01,  3.26416168e+01,  5.30561867e+01, -3.27028236e+01,\n",
       "        -3.59329338e+01, -2.10314870e+00, -1.55492945e+01,  4.56523705e+01,\n",
       "         2.19932919e+01,  1.59633088e+00, -5.36120987e+00,  2.52545300e+01,\n",
       "        -2.24997654e+01, -3.64351463e+01,  4.93509483e+01, -1.64936161e+00,\n",
       "         3.91472511e+01,  1.83070087e+01,  4.23943481e+01, -1.60215302e+01,\n",
       "         1.17937098e+01, -2.57432384e+01,  1.87402191e+01, -2.30012646e+01,\n",
       "        -2.62423115e+01, -3.32218971e+01,  2.85079994e+01, -2.94618778e+01,\n",
       "         2.56884918e+01, -8.59490013e+00,  4.28428230e+01,  3.95915031e+01,\n",
       "        -1.23092098e+01, -9.05586243e+00,  5.25942421e+01,  4.85206890e+00,\n",
       "         3.03108978e+01,  3.40489197e+01,  4.79718475e+01,  5.86532288e+01,\n",
       "        -1.54897423e+01,  1.12596381e+00,  2.75683365e+01, -2.57256184e+01,\n",
       "        -1.16998940e+01, -1.48731077e+00,  5.07133865e+01, -2.62779179e+01,\n",
       "         5.16937180e+01,  6.88502197e+01, -1.22863808e+01,  4.10111275e+01,\n",
       "         5.12068825e+01,  3.08148899e+01,  3.35438728e+01, -5.29267740e+00,\n",
       "         5.44393082e+01, -1.86933670e+01, -3.91506729e+01,  2.70784683e+01,\n",
       "        -3.59326401e+01, -2.94962502e+01,  1.71929908e+00, -9.06870270e+00,\n",
       "         6.14013786e+01, -1.92951050e+01,  4.74762459e+01, -2.25106087e+01,\n",
       "        -3.27144966e+01,  5.49293404e+01,  4.47340622e+01, -8.48681927e+00,\n",
       "         4.42440910e+01,  4.90548468e+00, -1.60756607e+01,  3.77749481e+01,\n",
       "         6.18901520e+01, -2.89444790e+01, -1.49399939e+01, -4.70323992e+00,\n",
       "         6.51251984e+01,  4.05140991e+01,  5.81667290e+01, -2.19095058e+01,\n",
       "         3.72815018e+01, -2.09237528e+00,  8.98915482e+00, -7.68265915e+00,\n",
       "         2.05054212e+00, -3.50264015e+01,  1.27139006e+01,  5.29736471e+00,\n",
       "        -2.20353680e+01, -8.14397144e+00,  2.61529217e+01, -4.19677811e+01,\n",
       "        -1.13963747e+01,  2.29069271e+01,  2.24400673e+01, -2.15887375e+01,\n",
       "        -2.48280392e+01,  3.31131935e+01, -3.91836014e+01, -1.20861650e+00,\n",
       "        -4.56677895e+01,  2.65612907e+01, -2.52886200e+01,  9.43022346e+00,\n",
       "        -3.54800110e+01, -1.83339443e+01, -4.90137815e+00, -2.89921265e+01,\n",
       "        -3.87174225e+01,  1.96254539e+01, -4.44245195e+00, -7.64913201e-01,\n",
       "         1.91962185e+01, -1.46356363e+01, -1.50948238e+01,  5.74666786e+00,\n",
       "         1.63643913e+01, -4.89117050e+01,  1.59449787e+01,  2.98167133e+01,\n",
       "         1.22462387e+01,  6.17059469e+00, -2.85317078e+01,  3.02882633e+01,\n",
       "         2.33194618e+01, -3.22254677e+01,  3.63522835e+01, -1.78799438e+01,\n",
       "         2.93909245e+01, -4.24322548e+01,  2.51492357e+00, -3.17753696e+01,\n",
       "        -5.09423256e+01,  8.04070053e+01, -4.71900864e+01, -2.67659950e+01,\n",
       "         6.32594185e+01, -2.35189247e+01,  9.43206863e+01, -5.41655769e+01,\n",
       "        -5.79169312e+01,  6.97675400e+01, -6.16737900e+01,  7.02076263e+01,\n",
       "        -5.84564667e+01,  6.28056641e+01, -2.72753887e+01, -4.39650040e+01,\n",
       "         8.36749344e+01,  7.99744110e+01, -5.46990509e+01,  8.69262695e+01,\n",
       "        -4.77259064e+01, -6.81083603e+01,  8.73624344e+01,  9.38851166e+01,\n",
       "         7.34603958e+01,  6.00039215e+01, -6.48910904e+01,  7.39214783e+01,\n",
       "         7.71640091e+01,  9.75673523e+01, -3.37713356e+01,  9.10403137e+01,\n",
       "         7.67185516e+01, -3.75151024e+01, -4.44994774e+01,  5.95503082e+01,\n",
       "        -3.42776680e+01, -2.99867802e+01,  8.41264648e+01, -3.05242462e+01,\n",
       "        -5.14770317e+01,  5.63094139e+01, -2.02700462e+01, -3.69889488e+01,\n",
       "         6.69589233e+01, -7.13286743e+01,  5.67538300e+01, -4.07490730e+01,\n",
       "         6.65108948e+01,  9.06146851e+01,  1.31352854e+01,  1.63811722e+01,\n",
       "        -1.76025105e+01, -2.46026058e+01, -5.20216179e+01,  2.91035151e+00,\n",
       "        -1.05680599e+01, -4.23685837e+01, -4.82647209e+01, -2.51362019e+01,\n",
       "        -6.80101395e+00, -3.80686951e+01, -1.11642399e+01, -3.53811378e+01,\n",
       "        -3.12482029e-01, -4.18200035e+01, -3.10914307e+01, -1.81623631e+01,\n",
       "        -4.88040543e+01, -2.13691711e+01, -5.52390823e+01, -4.50439873e+01,\n",
       "         1.68815479e+01, -3.15795918e+01, -2.40817661e+01,  2.38443165e+01,\n",
       "        -2.78525276e+01, -9.22272086e-01,  6.13323498e+00, -3.48286629e+01,\n",
       "         2.33482494e+01,  6.67200613e+00, -3.85997314e+01,  3.43044066e+00,\n",
       "         9.38228416e+00, -4.12861557e+01,  2.05981369e+01,  1.03950052e+01,\n",
       "         9.91914654e+00, -1.43635349e+01, -2.83720741e+01, -4.55863800e+01,\n",
       "         1.36349306e+01, -4.13464355e+00, -1.38203592e+01, -3.55432105e+00,\n",
       "         2.01144466e+01, -3.21680832e+01, -7.35021067e+00, -2.08578606e+01,\n",
       "        -1.13355209e+02, -1.16622002e+02, -7.25413818e+01, -8.92608261e+01,\n",
       "        -9.98971786e+01, -1.03149590e+02, -5.21612663e+01, -8.59973679e+01,\n",
       "        -4.15591011e+01, -9.34117661e+01, -8.64530563e+01, -9.25756912e+01,\n",
       "        -6.88575439e+01, -8.27340012e+01, -9.62020035e+01, -8.32114410e+01,\n",
       "        -1.06845566e+02, -6.52085266e+01, -6.23470230e+01, -7.54164124e+01,\n",
       "        -7.57965240e+01, -8.56305161e+01, -4.84696350e+01, -5.50065613e+01,\n",
       "        -7.94977798e+01, -1.10096436e+02, -8.96953583e+01, -4.48072777e+01,\n",
       "        -8.23627548e+01, -4.52231026e+01, -9.66500473e+01, -1.03600517e+02,\n",
       "        -9.29424362e+01, -1.19914406e+02, -5.17587585e+01, -5.54120598e+01,\n",
       "        -4.80793266e+01, -6.93004684e+01, -7.21567230e+01, -1.02798409e+02,\n",
       "        -9.94707336e+01, -7.62587967e+01, -6.56031036e+01, -1.09687965e+02,\n",
       "        -3.82787170e+01, -5.82837296e+01, -6.19577713e+01, -5.86613617e+01,\n",
       "        -1.06409241e+02, -7.90567856e+01, -7.45467377e+01,  4.00220108e+01,\n",
       "        -8.09869766e+01,  4.04880333e+01, -5.73827858e+01, -4.02175255e+01,\n",
       "         5.75916977e+01,  4.65544434e+01,  5.39168053e+01,  6.37151184e+01,\n",
       "        -6.06030235e+01, -7.02700272e+01,  5.71669884e+01,  6.08830681e+01,\n",
       "         4.69612503e+01,  7.80139008e+01, -5.36244621e+01,  4.33114471e+01,\n",
       "         4.73912506e+01, -5.04088860e+01, -6.75766068e+01, -7.07983322e+01,\n",
       "         3.67580528e+01,  4.37148476e+01, -4.66478271e+01, -7.77650070e+01,\n",
       "        -6.43563538e+01, -7.40111389e+01, -4.34313087e+01,  7.10962982e+01,\n",
       "         5.35130844e+01, -3.96722565e+01, -6.38211823e+01, -8.42084045e+01,\n",
       "        -6.00658875e+01,  6.73722153e+01,  8.08342285e+01,  3.35214729e+01,\n",
       "        -5.68432159e+01,  7.06290665e+01, -5.30997505e+01,  6.41246567e+01,\n",
       "        -7.72446289e+01, -6.70338745e+01,  6.04249382e+01, -4.98686485e+01,\n",
       "         5.02217522e+01,  5.06794701e+01,  6.77999802e+01, -4.28982658e+01,\n",
       "        -3.74713945e+00, -1.01850939e+01,  1.45517426e+01,  3.52333598e-02,\n",
       "         1.13422365e+01,  3.67819901e+01,  4.37520447e+01,  1.90141850e+01,\n",
       "         2.65758934e+01,  2.15849552e+01,  2.28206768e+01,  2.60153961e+01,\n",
       "        -3.18311977e+00,  3.30284157e+01,  1.78046246e+01,  7.56044006e+00,\n",
       "        -1.28572683e+01,  3.84486747e+00, -2.63225150e+00, -5.84706783e+00,\n",
       "         3.25203919e+00,  2.32808471e+00,  3.62538185e+01,  2.54608994e+01,\n",
       "         5.89396000e-01,  2.92452030e+01,  1.83762646e+01, -1.34040136e+01,\n",
       "         1.96052608e+01, -1.98410530e+01,  3.24621735e+01, -6.40821695e+00,\n",
       "        -9.63442421e+00,  2.98144379e+01,  1.19421005e+01,  4.69938545e+01,\n",
       "         1.26086359e+01, -1.66225491e+01,  8.12224674e+00,  8.73317719e+00,\n",
       "         1.51587973e+01,  5.54555511e+00,  4.34718561e+00,  1.58195438e+01,\n",
       "         4.00103035e+01,  2.22433128e+01, -2.30595131e+01,  7.07106924e+00,\n",
       "         1.08133898e+01, -6.96613455e+00, -9.01689224e+01, -1.09578438e+01,\n",
       "        -5.58665733e+01, -8.69342194e+01, -5.95773506e+01, -1.00361328e+02,\n",
       "        -7.30273514e+01, -8.36993103e+01, -2.44145050e+01,  2.69894524e+01,\n",
       "        -9.06584320e+01, -1.74754124e+01, -7.67347031e+01, -2.11625080e+01,\n",
       "        -9.38889847e+01, -1.05287466e+01, -7.27831125e+00, -5.63387604e+01,\n",
       "        -8.04710617e+01,  1.31182775e+01, -3.64866185e+00,  1.67879257e+01,\n",
       "        -5.26190643e+01, -6.28219109e+01,  9.89060402e+00, -8.74321213e+01,\n",
       "        -7.35029373e+01, -6.65394821e+01,  3.71939659e+01, -1.42181740e+01,\n",
       "        -2.80803585e+01, -6.97759628e+01, -4.61312981e+01, -4.02360201e+00,\n",
       "        -3.78805618e+01,  6.58346653e+00, -9.71235886e+01, -3.13613796e+01,\n",
       "        -7.99794464e+01, -3.09423141e+01, -2.76761227e+01,  2.92251372e+00,\n",
       "        -6.60744858e+01, -6.33046227e+01, -4.93801041e+01,  2.00868759e+01,\n",
       "        -3.11200082e-01, -2.07358932e+01, -5.91169014e+01, -3.46108246e+01],\n",
       "       dtype=float32),\n",
       " array([-286.66373 , -273.27396 , -269.80435 , -221.17873 , -253.03535 ,\n",
       "        -240.11723 , -264.20517 , -226.7752  , -288.79773 , -283.17615 ,\n",
       "        -256.465   , -255.62157 , -231.07224 , -236.67046 , -254.30408 ,\n",
       "        -242.26082 , -265.51733 , -244.40692 , -275.41254 , -271.13327 ,\n",
       "        -271.96    , -215.61063 , -247.8675  , -240.97554 , -260.7656  ,\n",
       "        -228.92435 , -268.99274 , -263.37723 , -258.61267 , -234.5147  ,\n",
       "        -232.36435 , -233.24478 , -262.0513  , -281.0356  , -246.56422 ,\n",
       "        -250.0137  , -259.90805 , -253.47916 , -278.8941  , -277.55893 ,\n",
       "        -250.86967 , -266.3583  , -243.13928 , -238.81819 , -257.7641  ,\n",
       "        -248.71878 , -261.23657 , -252.15562 , -223.34372 , -267.65887 ,\n",
       "        -276.25247 , -287.4667  , -274.09833 , -330.6496  , -280.5785  ,\n",
       "        -307.28702 , -308.20123 , -297.37405 , -291.74976 , -312.92398 ,\n",
       "        -319.36624 , -311.58734 , -268.50943 , -283.99387 , -315.06445 ,\n",
       "        -325.00076 , -320.71002 , -292.69415 , -302.61987 , -286.16605 ,\n",
       "        -298.25177 , -285.31705 , -299.51303 , -303.81686 , -296.07056 ,\n",
       "        -289.609   , -290.5061  , -275.02893 , -303.0037  , -313.76572 ,\n",
       "        -305.14648 , -281.85342 , -295.23248 , -270.67792 , -301.66354 ,\n",
       "        -300.43588 , -309.4353  , -262.94443 , -272.84512 , -265.12103 ,\n",
       "        -279.7112  , -282.7649  , -317.2147  , -305.9973  , -322.85312 ,\n",
       "        -332.79407 , -288.31976 , -278.4183  , -293.08817 , -293.90848 ,\n",
       "        -187.18307 , -204.82164 , -220.32266 , -245.7257  , -123.11415 ,\n",
       "        -101.14654 , -224.61728 , -125.26481 , -140.78113 , -138.59483 ,\n",
       "        -182.87024 ,  -97.70795 , -237.97173 , -243.58012 , -113.20437 ,\n",
       "        -212.57005 , -210.42319 , -214.72115 , -177.28264 , -120.962425,\n",
       "        -200.52272 , -133.02362 , -137.32706 , -197.08315 , -127.42274 ,\n",
       "        -107.613144, -128.68684 , -103.299034, -208.2741  , -105.45279 ,\n",
       "        -192.76944 , -115.35886 , -117.51809 , -228.07231 , -230.22116 ,\n",
       "        -130.87617 , -202.67001 , -118.77224 ,  -95.54777 , -222.46877 ,\n",
       "        -235.82675 , -135.16919 , -150.67659 , -148.49976 , -225.92677 ,\n",
       "        -185.02142 , -218.17342 , -142.92876 , -194.92159 , -111.051994,\n",
       "        -339.29257 , -361.4776  , -331.49545 , -358.03256 , -357.07916 ,\n",
       "        -321.54193 , -318.1343  , -333.68326 , -344.9143  , -350.22247 ,\n",
       "        -343.66605 , -354.88977 , -327.15512 , -345.8542  , -355.85077 ,\n",
       "        -352.72772 , -312.5609  , -341.47516 , -332.4537  , -372.79895 ,\n",
       "        -328.0948  , -367.13968 , -330.2717  , -335.87323 , -323.7233  ,\n",
       "        -310.38223 , -340.24338 , -364.95132 , -351.47037 , -369.33304 ,\n",
       "        -337.12317 , -353.66074 , -325.9099  , -349.27682 , -374.9911  ,\n",
       "        -342.4201  , -347.08768 , -362.7537  , -329.33002 , -377.18576 ,\n",
       "        -338.0548  , -390.72162 , -382.8541  , -320.3204  , -342.74887 ,\n",
       "        -363.6711  , -334.9475  , -322.50034 , -359.28366 , -348.0413  ,\n",
       "        -232.03485 , -324.23123 , -249.67227 , -245.31197 , -318.57492 ,\n",
       "        -235.4162  , -339.8858  , -241.93521 , -224.29564 , -298.70544 ,\n",
       "        -206.64859 , -326.38446 , -196.74623 , -290.9389  , -217.81252 ,\n",
       "        -239.77094 , -314.28732 , -296.57407 , -214.39297 , -304.3641  ,\n",
       "        -222.13188 , -226.45319 , -332.0498  , -312.16028 , -316.42242 ,\n",
       "        -328.51688 , -216.55092 , -344.15445 , -334.20047 , -329.9356  ,\n",
       "        -237.60281 , -349.9155  , -306.49274 , -219.9728  , -212.23189 ,\n",
       "        -300.8551  , -210.07787 , -255.21855 , -342.03455 , -227.70723 ,\n",
       "        -204.4915  , -310.7804  , -225.5215  , -247.50612 , -336.33167 ,\n",
       "        -236.36488 , -338.46307 , -229.86887 , -308.62802 , -322.11032 ,\n",
       "        -181.58517 , -171.68924 , -188.10724 , -180.38045 , -176.94101 ,\n",
       "        -183.75565 , -195.82559 , -147.23105 , -194.58679 , -152.83018 ,\n",
       "        -213.45094 , -192.42451 , -168.29994 , -154.97733 , -193.6588  ,\n",
       "        -174.7835  , -200.1663  , -160.57755 , -167.03801 , -170.48346 ,\n",
       "        -186.84373 , -184.68471 , -199.23695 , -172.63538 , -207.90088 ,\n",
       "        -206.98271 , -190.27167 , -166.11014 , -173.85226 , -182.5286  ,\n",
       "        -179.43712 , -201.3858  , -164.88083 , -211.28346 , -163.95717 ,\n",
       "        -202.32759 , -216.8778  , -219.02924 , -191.4906  , -178.21008 ,\n",
       "        -162.72832 , -157.1347  , -209.132   , -176.01639 , -205.71837 ,\n",
       "        -203.55602 , -189.33694 , -145.07172 , -185.92143 , -197.99896 ,\n",
       "        -365.72278 , -375.7787  , -356.8218  , -379.14117 , -353.4774  ,\n",
       "        -363.4971  , -352.40097 , -369.08127 , -378.0944  , -333.49112 ,\n",
       "        -341.2584  , -389.2636  , -374.67804 , -359.0431  , -371.30838 ,\n",
       "        -331.27908 , -345.68506 , -392.6405  , -354.6111  , -394.8804  ,\n",
       "        -366.856   , -397.12317 , -370.2356  , -390.3999  , -349.03607 ,\n",
       "        -355.69168 , -351.2589  , -388.15967 , -387.02567 , -360.21295 ,\n",
       "        -343.4753  , -335.69644 , -361.27145 , -385.91357 , -380.31546 ,\n",
       "        -362.42072 , -398.28018 , -346.82724 , -384.78964 , -391.51837 ,\n",
       "        -381.37683 , -339.04825 , -364.63354 , -383.61917 , -368.035   ,\n",
       "        -400.52814 , -382.5525  , -372.45038 , -373.5409  , -376.90802 ,\n",
       "        -246.26967 , -360.60284 , -266.0921  , -388.52798 , -251.83884 ,\n",
       "        -257.4091  , -394.28452 , -340.6009  , -376.31216 , -346.2904  ,\n",
       "        -261.74622 , -291.48535 , -366.30325 , -384.1864  , -368.45316 ,\n",
       "        -389.99323 , -269.47903 , -350.5661  , -396.46896 , -259.57788 ,\n",
       "        -254.00673 , -263.92014 , -370.60898 , -378.46783 , -277.22034 ,\n",
       "        -256.17517 , -244.10457 , -273.83142 , -267.31192 , -382.0429  ,\n",
       "        -348.4235  , -284.9499  , -271.65363 , -276.00745 , -289.30917 ,\n",
       "        -364.1618  , -352.0344  , -380.65845 , -279.3903  , -354.16595 ,\n",
       "        -297.05383 , -374.1694  , -283.7462  , -281.57205 , -356.3016  ,\n",
       "        -287.13162 , -358.44293 , -386.33768 , -392.1349  , -294.87042 ,\n",
       "         -28.364714,  -48.178776,  -89.05611 ,  -46.023827,  -98.96355 ,\n",
       "        -167.38382 , -175.12283 , -134.23294 , -169.53485 ,  -96.76756 ,\n",
       "        -151.87967 , -141.96645 ,  -55.93096 , -149.72867 ,  -79.16263 ,\n",
       "         -81.33306 ,  -85.64222 ,  -63.689156,  -83.4884  ,  -93.39487 ,\n",
       "         -36.116074, -156.21611 , -139.82494 , -114.42397 ,  -73.58399 ,\n",
       "        -132.06436 , -106.67655 ,  -58.085655, -161.78596 ,  -77.89702 ,\n",
       "        -122.157906,  -65.834694,  -75.73797 , -159.63588 , -126.48828 ,\n",
       "        -165.22533 , -154.05443 ,  -67.99137 , -108.867424, -136.3964  ,\n",
       "        -116.58243 , -146.31116 ,  -91.24159 , -144.14642 , -157.48134 ,\n",
       "        -124.33043 ,  -87.80256 ,  -53.78463 ,  -71.43736 ,  -38.271797,\n",
       "        -323.5228  , -371.52182 , -334.6402  , -313.56165 , -316.92065 ,\n",
       "        -325.72598 , -329.0694  , -303.60718 , -383.74557 , -400.8682  ,\n",
       "        -295.86032 , -391.61984 , -311.3554  , -373.71112 , -305.80392 ,\n",
       "        -399.50418 , -389.43585 , -306.98074 , -293.67178 , -385.05435 ,\n",
       "        -407.4676  , -403.05026 , -324.68176 , -326.87097 , -395.10727 ,\n",
       "        -285.92987 , -301.41727 , -309.16577 , -398.6601  , -381.56467 ,\n",
       "        -365.8552  , -319.11066 , -304.79828 , -379.3747  , -396.03647 ,\n",
       "        -405.2553  , -315.7601  , -375.89456 , -321.30902 , -403.92978 ,\n",
       "        -393.81152 , -387.24213 , -336.83636 , -299.2309  , -314.73395 ,\n",
       "        -392.92233 , -397.30386 , -401.69574 , -344.6125  , -385.93512 ],\n",
       "       dtype=float32))"
      ]
     },
     "execution_count": 318,
     "metadata": {},
     "output_type": "execute_result"
    }
   ],
   "source": [
    "fiberflats['z'].fibermap['FIBERASSIGN_X'], fiberflats['z'].fibermap['FIBERASSIGN_Y']"
   ]
  },
  {
   "cell_type": "code",
   "execution_count": null,
   "metadata": {},
   "outputs": [],
   "source": [
    "fiberflats['z'].fiberflat[0,0]"
   ]
  },
  {
   "cell_type": "code",
   "execution_count": null,
   "metadata": {},
   "outputs": [],
   "source": [
    "2+2"
   ]
  },
  {
   "cell_type": "markdown",
   "metadata": {},
   "source": [
    "# Template SNR"
   ]
  },
  {
   "cell_type": "code",
   "execution_count": 67,
   "metadata": {},
   "outputs": [
    {
     "name": "stdout",
     "output_type": "stream",
     "text": [
      "67230 00055382 0 672300000\n"
     ]
    }
   ],
   "source": [
    "FIBERTILEID = 10000 * tile + fiberid\n",
    "\n",
    "print(tile, expid, fiberid, FIBERTILEID)"
   ]
  },
  {
   "cell_type": "markdown",
   "metadata": {},
   "source": [
    "$\\Huge \\langle tSNR^2 \\rangle = \\sum_{grz} \\sum_{\\lambda \\in grz} \\frac{\\tau^2 T^2 \\langle \\Delta F^2 \\rangle}{\\sigma_e^2 \\cdot {\\rm NPIX} + \\tau T_{\\rm sky}  F_{\\rm sky}}$"
   ]
  },
  {
   "cell_type": "markdown",
   "metadata": {},
   "source": [
    "_\"We choose to normalize it such that zSNR = 3 for a 1000 sec dark time exposure in\n",
    "nominal conditions.\"_"
   ]
  },
  {
   "cell_type": "markdown",
   "metadata": {},
   "source": [
    "Here:  \n",
    "- $\\sigma_e$ is the READNOISE in units of ELECTRONS / PIXEL. \n",
    "- NPIX is the projected fiber area in units of PIXELS for a width of **ONE ANGSTROM**.  \n",
    "- $\\Delta F$ is the residual (template) flux from a 100A filtered equivalent.\n",
    "- $\\tau$ is the exposure time, already included in the flux calib.\n",
    "- $T_{\\rm sky} F_{\\rm sky}$ is the estimated fiber sky flux in units of ELECTRONS PER ANGSTROM.\n",
    "\n",
    "TO DO:\n",
    "- Multiply T by FiberFlat top and bottom."
   ]
  },
  {
   "cell_type": "code",
   "execution_count": null,
   "metadata": {},
   "outputs": [],
   "source": [
    "2+2"
   ]
  },
  {
   "cell_type": "code",
   "execution_count": 68,
   "metadata": {},
   "outputs": [],
   "source": [
    "def templateSNR(template_flux, sky_flux, flux_calib=None, flux_ivar=None):\n",
    "    # dlambda per pixel = 0.8; 100A / dlambda per pixel = 125. \n",
    "    sflux  = convolve(template_flux, Box1DKernel(125)) \n",
    " \n",
    "    dflux  = template_flux - sflux \n",
    " \n",
    "    if flux_calib is None:\n",
    "        # Work in calibrated flux units.\n",
    "        # Assumes Poisson Variance from source is negligible.\n",
    "        assert  flux_ivar is not None\n",
    "        \n",
    "        return  np.sum(flux_ivar * dflux ** 2.)\n",
    "\n",
    "    else: \n",
    "        # Work in uncalibrated flux units; flux_calib includes exptime. tau.\n",
    "        dflux  *= flux_calib\n",
    " \n",
    "        result  = dflux * dflux\n",
    "\n",
    "        # RDNOISE & NPIX assumed wavelength independent\n",
    "        denom   = RDNOISE * NPIX / ANGSTROMS_PER_PIXEL + sky_flux\n",
    "        \n",
    "        result /= denom\n",
    "        \n",
    "        # Eqn. (1) of https://desi.lbl.gov/DocDB/cgi-bin/private/RetrieveFile?docid=4723;filename=sky-monitor-mc-study-v1.pdf;version=2\n",
    "        return  np.sum(result)"
   ]
  },
  {
   "cell_type": "markdown",
   "metadata": {},
   "source": [
    "# DESI sim. galaxy spectral templates "
   ]
  },
  {
   "cell_type": "markdown",
   "metadata": {},
   "source": [
    "TODO:  figure out fiber / fiberid indexing of arrays."
   ]
  },
  {
   "cell_type": "code",
   "execution_count": 69,
   "metadata": {},
   "outputs": [],
   "source": [
    "def tracer_maker(wave=None, tracer='ELG', nmodel=1):\n",
    "    if tracer == 'ELG':\n",
    "        maker = desisim.templates.ELG(wave=wave)\n",
    "                \n",
    "    elif tracer == 'QSO':\n",
    "        maker = desisim.templates.QSO(wave=wave)\n",
    "    \n",
    "    else:\n",
    "        raise  ValueError('{} is not an available tracer.'.format(tracer))\n",
    "\n",
    "    flux, wave, meta, objmeta = maker.make_templates(nmodel=nmodel)\n",
    "        \n",
    "    return  wave, flux, meta, objmeta     "
   ]
  },
  {
   "cell_type": "code",
   "execution_count": 134,
   "metadata": {},
   "outputs": [
    {
     "name": "stdout",
     "output_type": "stream",
     "text": [
      "INFO:io.py:971:read_basis_templates: Reading /global/scratch/mjwilson/desi-data.dm.noao.edu/desi/spectro/templates/basis_templates/v3.1/elg_templates_v2.2.fits\n"
     ]
    },
    {
     "name": "stderr",
     "output_type": "stream",
     "text": [
      "/global/scratch/mjwilson/miniconda3/envs/desi/lib/python3.6/site-packages/speclite/filters.py:1466: FutureWarning: Using a non-tuple sequence for multidimensional indexing is deprecated; use `arr[tuple(seq)]` instead of `arr[seq]`. In the future this will be interpreted as an array index, `arr[np.array(seq)]`, which will result either in an error or a different result.\n",
      "  values_no_units = values_no_units[values_slice]\n"
     ]
    }
   ],
   "source": [
    "wave, flux, meta, objmeta = tracer_maker(wave=wave, nmodel=10)"
   ]
  },
  {
   "cell_type": "code",
   "execution_count": 141,
   "metadata": {},
   "outputs": [],
   "source": [
    "meta['MAG_G']             = 22.5 - 2.5 * np.log10(meta['FLUX_G'])\n",
    "meta['MAG_R']             = 22.5 - 2.5 * np.log10(meta['FLUX_R'])\n",
    "meta['MAG_Z']             = 22.5 - 2.5 * np.log10(meta['FLUX_Z'])"
   ]
  },
  {
   "cell_type": "code",
   "execution_count": 142,
   "metadata": {},
   "outputs": [
    {
     "data": {
      "image/png": "[encoded data removed]",
      "text/plain": [
       "<Figure size 1440x360 with 3 Axes>"
      ]
     },
     "metadata": {
      "needs_background": "light"
     },
     "output_type": "display_data"
    }
   ],
   "source": [
    "fig, axes                 = plt.subplots(1, 3, figsize=(20, 5))\n",
    "\n",
    "for i, (band, color) in enumerate(zip(['MAG_G', 'MAG_R', 'MAG_Z'], ['b', 'g', 'r'])):\n",
    "  axes[i].plot(meta[band], meta['REDSHIFT'], marker='.', c=color, lw=0.0)\n",
    "\n",
    "  axes[i].set_xlabel('$REDSHIFT$')\n",
    "  axes[i].set_ylabel('$' + band + '$')  "
   ]
  },
  {
   "cell_type": "code",
   "execution_count": 143,
   "metadata": {},
   "outputs": [],
   "source": [
    "fflux                  = flux[:, :]\n",
    "flux_ivar              = np.tile(cframes[camera]['IVAR'][0, :], (len(fflux), 1))\n",
    "\n",
    "res                    = np.tile(cframes[camera]['RESOLUTION'][0,:,:], (len(fflux), 1, 1))\n",
    "mask                   = np.tile(cframes[camera]['MASK'][0,:], (len(fflux), 1))\n",
    "\n",
    "fibermap               = desispec.io.empty_fibermap(len(fflux)) "
   ]
  },
  {
   "cell_type": "code",
   "execution_count": 144,
   "metadata": {},
   "outputs": [
    {
     "data": {
      "text/html": [
       "<i>Table length=10</i>\n",
       "<table id=\"table47558046442664\" class=\"table-striped table-bordered table-condensed\">\n",
       "<thead><tr><th>TARGETID</th><th>DESI_TARGET</th><th>BGS_TARGET</th><th>MWS_TARGET</th><th>SECONDARY_TARGET</th><th>TARGET_RA</th><th>TARGET_DEC</th><th>TARGET_RA_IVAR</th><th>TARGET_DEC_IVAR</th><th>BRICKID</th><th>BRICK_OBJID</th><th>MORPHTYPE</th><th>PRIORITY</th><th>SUBPRIORITY</th><th>REF_ID</th><th>PMRA</th><th>PMDEC</th><th>REF_EPOCH</th><th>PMRA_IVAR</th><th>PMDEC_IVAR</th><th>RELEASE</th><th>FLUX_G</th><th>FLUX_R</th><th>FLUX_Z</th><th>FLUX_W1</th><th>FLUX_W2</th><th>FLUX_IVAR_G</th><th>FLUX_IVAR_R</th><th>FLUX_IVAR_Z</th><th>FLUX_IVAR_W1</th><th>FLUX_IVAR_W2</th><th>FIBERFLUX_G</th><th>FIBERFLUX_R</th><th>FIBERFLUX_Z</th><th>FIBERFLUX_W1</th><th>FIBERFLUX_W2</th><th>FIBERTOTFLUX_G</th><th>FIBERTOTFLUX_R</th><th>FIBERTOTFLUX_Z</th><th>FIBERTOTFLUX_W1</th><th>FIBERTOTFLUX_W2</th><th>MW_TRANSMISSION_G</th><th>MW_TRANSMISSION_R</th><th>MW_TRANSMISSION_Z</th><th>EBV</th><th>PHOTSYS</th><th>OBSCONDITIONS</th><th>NUMOBS_INIT</th><th>PRIORITY_INIT</th><th>NUMOBS_MORE</th><th>HPXPIXEL</th><th>FIBER</th><th>PETAL_LOC</th><th>DEVICE_LOC</th><th>LOCATION</th><th>FIBERSTATUS</th><th>OBJTYPE</th><th>LAMBDA_REF</th><th>FIBERASSIGN_X</th><th>FIBERASSIGN_Y</th><th>FA_TARGET</th><th>FA_TYPE</th><th>NUMTARGET</th><th>FIBER_RA</th><th>FIBER_DEC</th><th>FIBER_RA_IVAR</th><th>FIBER_DEC_IVAR</th><th>PLATEMAKER_X</th><th>PLATEMAKER_Y</th><th>PLATEMAKER_RA</th><th>PLATEMAKER_DEC</th><th>NUM_ITER</th><th>SPECTROID</th></tr></thead>\n",
       "<thead><tr><th></th><th></th><th></th><th></th><th></th><th>deg</th><th>deg</th><th>1 / deg2</th><th>1 / deg2</th><th></th><th></th><th></th><th></th><th></th><th></th><th>marcsec / yr</th><th>marcsec / yr</th><th></th><th>yr2 / marcsec2</th><th>yr2 / marcsec2</th><th></th><th>nanomaggies</th><th>nanomaggies</th><th>nanomaggies</th><th>nanomaggies</th><th>nanomaggies</th><th>1/nanomaggies**2</th><th>1/nanomaggies**2</th><th>1/nanomaggies**2</th><th>1/nanomaggies**2</th><th>1/nanomaggies**2</th><th>nanomaggies</th><th>nanomaggies</th><th>nanomaggies</th><th>nanomaggies</th><th>nanomaggies</th><th>nanomaggies</th><th>nanomaggies</th><th>nanomaggies</th><th>nanomaggies</th><th>nanomaggies</th><th></th><th></th><th></th><th></th><th></th><th></th><th></th><th></th><th></th><th></th><th></th><th></th><th></th><th></th><th></th><th></th><th>Angstrom</th><th>mm</th><th>mm</th><th></th><th></th><th></th><th>deg</th><th>deg</th><th>1 / deg2</th><th>1 / deg2</th><th>mm</th><th>mm</th><th>deg</th><th>deg</th><th></th><th></th></tr></thead>\n",
       "<thead><tr><th>int64</th><th>int64</th><th>int64</th><th>int64</th><th>int64</th><th>float64</th><th>float64</th><th>float64</th><th>float64</th><th>int64</th><th>int64</th><th>str4</th><th>int32</th><th>float64</th><th>int64</th><th>float32</th><th>float32</th><th>float32</th><th>float32</th><th>float32</th><th>int16</th><th>float32</th><th>float32</th><th>float32</th><th>float32</th><th>float32</th><th>float32</th><th>float32</th><th>float32</th><th>float32</th><th>float32</th><th>float32</th><th>float32</th><th>float32</th><th>float32</th><th>float32</th><th>float32</th><th>float32</th><th>float32</th><th>float32</th><th>float32</th><th>float32</th><th>float32</th><th>float32</th><th>float32</th><th>str1</th><th>int32</th><th>int64</th><th>int64</th><th>int32</th><th>int64</th><th>int32</th><th>int32</th><th>int32</th><th>int32</th><th>int32</th><th>str3</th><th>float32</th><th>float32</th><th>float32</th><th>int64</th><th>uint8</th><th>int16</th><th>float64</th><th>float64</th><th>float32</th><th>float32</th><th>float32</th><th>float32</th><th>float32</th><th>float32</th><th>int32</th><th>int32</th></tr></thead>\n",
       "<tr><td>0</td><td>0</td><td>0</td><td>0</td><td>0</td><td>0.0</td><td>0.0</td><td>0.0</td><td>0.0</td><td>0</td><td>0</td><td></td><td>0</td><td>0.0</td><td>0</td><td>0.0</td><td>0.0</td><td>0.0</td><td>0.0</td><td>0.0</td><td>0</td><td>0.0</td><td>0.0</td><td>0.0</td><td>0.0</td><td>0.0</td><td>0.0</td><td>0.0</td><td>0.0</td><td>0.0</td><td>0.0</td><td>0.0</td><td>0.0</td><td>0.0</td><td>0.0</td><td>0.0</td><td>0.0</td><td>0.0</td><td>0.0</td><td>0.0</td><td>0.0</td><td>0.999</td><td>0.999</td><td>0.999</td><td>0.001</td><td>S</td><td>0</td><td>0</td><td>0</td><td>0</td><td>0</td><td>0</td><td>0</td><td>311</td><td>311</td><td>0</td><td></td><td>5400.0</td><td>83.21898</td><td>-286.66373</td><td>0</td><td>0</td><td>0</td><td>0.0</td><td>0.0</td><td>0.0</td><td>0.0</td><td>0.0</td><td>0.0</td><td>0.0</td><td>0.0</td><td>2</td><td>0</td></tr>\n",
       "<tr><td>1</td><td>0</td><td>0</td><td>0</td><td>0</td><td>0.0</td><td>0.0</td><td>0.0</td><td>0.0</td><td>0</td><td>0</td><td></td><td>0</td><td>0.0</td><td>0</td><td>0.0</td><td>0.0</td><td>0.0</td><td>0.0</td><td>0.0</td><td>0</td><td>0.0</td><td>0.0</td><td>0.0</td><td>0.0</td><td>0.0</td><td>0.0</td><td>0.0</td><td>0.0</td><td>0.0</td><td>0.0</td><td>0.0</td><td>0.0</td><td>0.0</td><td>0.0</td><td>0.0</td><td>0.0</td><td>0.0</td><td>0.0</td><td>0.0</td><td>0.0</td><td>0.999</td><td>0.999</td><td>0.999</td><td>0.001</td><td>S</td><td>0</td><td>0</td><td>0</td><td>0</td><td>0</td><td>1</td><td>0</td><td>272</td><td>272</td><td>0</td><td></td><td>5400.0</td><td>59.109577</td><td>-273.27396</td><td>0</td><td>0</td><td>0</td><td>0.0</td><td>0.0</td><td>0.0</td><td>0.0</td><td>0.0</td><td>0.0</td><td>0.0</td><td>0.0</td><td>2</td><td>0</td></tr>\n",
       "<tr><td>2</td><td>0</td><td>0</td><td>0</td><td>0</td><td>0.0</td><td>0.0</td><td>0.0</td><td>0.0</td><td>0</td><td>0</td><td></td><td>0</td><td>0.0</td><td>0</td><td>0.0</td><td>0.0</td><td>0.0</td><td>0.0</td><td>0.0</td><td>0</td><td>0.0</td><td>0.0</td><td>0.0</td><td>0.0</td><td>0.0</td><td>0.0</td><td>0.0</td><td>0.0</td><td>0.0</td><td>0.0</td><td>0.0</td><td>0.0</td><td>0.0</td><td>0.0</td><td>0.0</td><td>0.0</td><td>0.0</td><td>0.0</td><td>0.0</td><td>0.0</td><td>0.999</td><td>0.999</td><td>0.999</td><td>0.001</td><td>S</td><td>0</td><td>0</td><td>0</td><td>0</td><td>0</td><td>2</td><td>0</td><td>252</td><td>252</td><td>0</td><td></td><td>5400.0</td><td>31.751867</td><td>-269.80435</td><td>0</td><td>0</td><td>0</td><td>0.0</td><td>0.0</td><td>0.0</td><td>0.0</td><td>0.0</td><td>0.0</td><td>0.0</td><td>0.0</td><td>2</td><td>0</td></tr>\n",
       "<tr><td>3</td><td>0</td><td>0</td><td>0</td><td>0</td><td>0.0</td><td>0.0</td><td>0.0</td><td>0.0</td><td>0</td><td>0</td><td></td><td>0</td><td>0.0</td><td>0</td><td>0.0</td><td>0.0</td><td>0.0</td><td>0.0</td><td>0.0</td><td>0</td><td>0.0</td><td>0.0</td><td>0.0</td><td>0.0</td><td>0.0</td><td>0.0</td><td>0.0</td><td>0.0</td><td>0.0</td><td>0.0</td><td>0.0</td><td>0.0</td><td>0.0</td><td>0.0</td><td>0.0</td><td>0.0</td><td>0.0</td><td>0.0</td><td>0.0</td><td>0.0</td><td>0.999</td><td>0.999</td><td>0.999</td><td>0.001</td><td>S</td><td>0</td><td>0</td><td>0</td><td>0</td><td>0</td><td>3</td><td>0</td><td>156</td><td>156</td><td>0</td><td></td><td>5400.0</td><td>0.18432418</td><td>-221.17873</td><td>0</td><td>0</td><td>0</td><td>0.0</td><td>0.0</td><td>0.0</td><td>0.0</td><td>0.0</td><td>0.0</td><td>0.0</td><td>0.0</td><td>2</td><td>0</td></tr>\n",
       "<tr><td>4</td><td>0</td><td>0</td><td>0</td><td>0</td><td>0.0</td><td>0.0</td><td>0.0</td><td>0.0</td><td>0</td><td>0</td><td></td><td>0</td><td>0.0</td><td>0</td><td>0.0</td><td>0.0</td><td>0.0</td><td>0.0</td><td>0.0</td><td>0</td><td>0.0</td><td>0.0</td><td>0.0</td><td>0.0</td><td>0.0</td><td>0.0</td><td>0.0</td><td>0.0</td><td>0.0</td><td>0.0</td><td>0.0</td><td>0.0</td><td>0.0</td><td>0.0</td><td>0.0</td><td>0.0</td><td>0.0</td><td>0.0</td><td>0.0</td><td>0.0</td><td>0.999</td><td>0.999</td><td>0.999</td><td>0.001</td><td>S</td><td>0</td><td>0</td><td>0</td><td>0</td><td>0</td><td>4</td><td>0</td><td>198</td><td>198</td><td>0</td><td></td><td>5400.0</td><td>-19.776659</td><td>-253.03535</td><td>0</td><td>0</td><td>0</td><td>0.0</td><td>0.0</td><td>0.0</td><td>0.0</td><td>0.0</td><td>0.0</td><td>0.0</td><td>0.0</td><td>2</td><td>0</td></tr>\n",
       "<tr><td>5</td><td>0</td><td>0</td><td>0</td><td>0</td><td>0.0</td><td>0.0</td><td>0.0</td><td>0.0</td><td>0</td><td>0</td><td></td><td>0</td><td>0.0</td><td>0</td><td>0.0</td><td>0.0</td><td>0.0</td><td>0.0</td><td>0.0</td><td>0</td><td>0.0</td><td>0.0</td><td>0.0</td><td>0.0</td><td>0.0</td><td>0.0</td><td>0.0</td><td>0.0</td><td>0.0</td><td>0.0</td><td>0.0</td><td>0.0</td><td>0.0</td><td>0.0</td><td>0.0</td><td>0.0</td><td>0.0</td><td>0.0</td><td>0.0</td><td>0.0</td><td>0.999</td><td>0.999</td><td>0.999</td><td>0.001</td><td>S</td><td>0</td><td>0</td><td>0</td><td>0</td><td>0</td><td>5</td><td>0</td><td>204</td><td>204</td><td>0</td><td></td><td>5400.0</td><td>41.488995</td><td>-240.11723</td><td>0</td><td>0</td><td>0</td><td>0.0</td><td>0.0</td><td>0.0</td><td>0.0</td><td>0.0</td><td>0.0</td><td>0.0</td><td>0.0</td><td>2</td><td>0</td></tr>\n",
       "<tr><td>6</td><td>0</td><td>0</td><td>0</td><td>0</td><td>0.0</td><td>0.0</td><td>0.0</td><td>0.0</td><td>0</td><td>0</td><td></td><td>0</td><td>0.0</td><td>0</td><td>0.0</td><td>0.0</td><td>0.0</td><td>0.0</td><td>0.0</td><td>0</td><td>0.0</td><td>0.0</td><td>0.0</td><td>0.0</td><td>0.0</td><td>0.0</td><td>0.0</td><td>0.0</td><td>0.0</td><td>0.0</td><td>0.0</td><td>0.0</td><td>0.0</td><td>0.0</td><td>0.0</td><td>0.0</td><td>0.0</td><td>0.0</td><td>0.0</td><td>0.0</td><td>0.999</td><td>0.999</td><td>0.999</td><td>0.001</td><td>S</td><td>0</td><td>0</td><td>0</td><td>0</td><td>0</td><td>6</td><td>0</td><td>233</td><td>233</td><td>0</td><td></td><td>5400.0</td><td>14.601016</td><td>-264.20517</td><td>0</td><td>0</td><td>0</td><td>0.0</td><td>0.0</td><td>0.0</td><td>0.0</td><td>0.0</td><td>0.0</td><td>0.0</td><td>0.0</td><td>2</td><td>0</td></tr>\n",
       "<tr><td>7</td><td>0</td><td>0</td><td>0</td><td>0</td><td>0.0</td><td>0.0</td><td>0.0</td><td>0.0</td><td>0</td><td>0</td><td></td><td>0</td><td>0.0</td><td>0</td><td>0.0</td><td>0.0</td><td>0.0</td><td>0.0</td><td>0.0</td><td>0</td><td>0.0</td><td>0.0</td><td>0.0</td><td>0.0</td><td>0.0</td><td>0.0</td><td>0.0</td><td>0.0</td><td>0.0</td><td>0.0</td><td>0.0</td><td>0.0</td><td>0.0</td><td>0.0</td><td>0.0</td><td>0.0</td><td>0.0</td><td>0.0</td><td>0.0</td><td>0.0</td><td>0.999</td><td>0.999</td><td>0.999</td><td>0.001</td><td>S</td><td>0</td><td>0</td><td>0</td><td>0</td><td>0</td><td>7</td><td>0</td><td>172</td><td>172</td><td>0</td><td></td><td>5400.0</td><td>17.358227</td><td>-226.7752</td><td>0</td><td>0</td><td>0</td><td>0.0</td><td>0.0</td><td>0.0</td><td>0.0</td><td>0.0</td><td>0.0</td><td>0.0</td><td>0.0</td><td>2</td><td>0</td></tr>\n",
       "<tr><td>8</td><td>0</td><td>0</td><td>0</td><td>0</td><td>0.0</td><td>0.0</td><td>0.0</td><td>0.0</td><td>0</td><td>0</td><td></td><td>0</td><td>0.0</td><td>0</td><td>0.0</td><td>0.0</td><td>0.0</td><td>0.0</td><td>0.0</td><td>0</td><td>0.0</td><td>0.0</td><td>0.0</td><td>0.0</td><td>0.0</td><td>0.0</td><td>0.0</td><td>0.0</td><td>0.0</td><td>0.0</td><td>0.0</td><td>0.0</td><td>0.0</td><td>0.0</td><td>0.0</td><td>0.0</td><td>0.0</td><td>0.0</td><td>0.0</td><td>0.0</td><td>0.999</td><td>0.999</td><td>0.999</td><td>0.001</td><td>S</td><td>0</td><td>0</td><td>0</td><td>0</td><td>0</td><td>8</td><td>0</td><td>310</td><td>310</td><td>0</td><td></td><td>5400.0</td><td>73.0176</td><td>-288.79773</td><td>0</td><td>0</td><td>0</td><td>0.0</td><td>0.0</td><td>0.0</td><td>0.0</td><td>0.0</td><td>0.0</td><td>0.0</td><td>0.0</td><td>2</td><td>0</td></tr>\n",
       "<tr><td>9</td><td>0</td><td>0</td><td>0</td><td>0</td><td>0.0</td><td>0.0</td><td>0.0</td><td>0.0</td><td>0</td><td>0</td><td></td><td>0</td><td>0.0</td><td>0</td><td>0.0</td><td>0.0</td><td>0.0</td><td>0.0</td><td>0.0</td><td>0</td><td>0.0</td><td>0.0</td><td>0.0</td><td>0.0</td><td>0.0</td><td>0.0</td><td>0.0</td><td>0.0</td><td>0.0</td><td>0.0</td><td>0.0</td><td>0.0</td><td>0.0</td><td>0.0</td><td>0.0</td><td>0.0</td><td>0.0</td><td>0.0</td><td>0.0</td><td>0.0</td><td>0.999</td><td>0.999</td><td>0.999</td><td>0.001</td><td>S</td><td>0</td><td>0</td><td>0</td><td>0</td><td>0</td><td>9</td><td>0</td><td>290</td><td>290</td><td>0</td><td></td><td>5400.0</td><td>55.85053</td><td>-283.17615</td><td>0</td><td>0</td><td>0</td><td>0.0</td><td>0.0</td><td>0.0</td><td>0.0</td><td>0.0</td><td>0.0</td><td>0.0</td><td>0.0</td><td>2</td><td>0</td></tr>\n",
       "</table>"
      ],
      "text/plain": [
       "<Table length=10>\n",
       "TARGETID DESI_TARGET BGS_TARGET MWS_TARGET ... PLATEMAKER_DEC NUM_ITER SPECTROID\n",
       "                                           ...      deg                         \n",
       " int64      int64      int64      int64    ...    float32      int32     int32  \n",
       "-------- ----------- ---------- ---------- ... -------------- -------- ---------\n",
       "       0           0          0          0 ...            0.0        2         0\n",
       "       1           0          0          0 ...            0.0        2         0\n",
       "       2           0          0          0 ...            0.0        2         0\n",
       "       3           0          0          0 ...            0.0        2         0\n",
       "       4           0          0          0 ...            0.0        2         0\n",
       "       5           0          0          0 ...            0.0        2         0\n",
       "       6           0          0          0 ...            0.0        2         0\n",
       "       7           0          0          0 ...            0.0        2         0\n",
       "       8           0          0          0 ...            0.0        2         0\n",
       "       9           0          0          0 ...            0.0        2         0"
      ]
     },
     "execution_count": 144,
     "metadata": {},
     "output_type": "execute_result"
    }
   ],
   "source": [
    "fibermap['TARGETID']   = np.arange(len(fibermap))\n",
    "fibermap"
   ]
  },
  {
   "cell_type": "code",
   "execution_count": 145,
   "metadata": {},
   "outputs": [
    {
     "data": {
      "text/plain": [
       "10"
      ]
     },
     "execution_count": 145,
     "metadata": {},
     "output_type": "execute_result"
    }
   ],
   "source": [
    "nspec                  = len(fflux)\n",
    "nspec"
   ]
  },
  {
   "cell_type": "code",
   "execution_count": 147,
   "metadata": {},
   "outputs": [
    {
     "data": {
      "text/html": [
       "<i>Table length=10</i>\n",
       "<table id=\"table47559810691592\" class=\"table-striped table-bordered table-condensed\">\n",
       "<thead><tr><th>TARGETID</th><th>OBJTYPE</th><th>SUBTYPE</th><th>TEMPLATEID</th><th>SEED</th><th>REDSHIFT</th><th>MAG</th><th>MAGFILTER</th><th>FLUX_G</th><th>FLUX_R</th><th>FLUX_Z</th><th>FLUX_W1</th><th>FLUX_W2</th><th>MAG_G</th><th>MAG_R</th><th>MAG_Z</th></tr></thead>\n",
       "<thead><tr><th></th><th></th><th></th><th></th><th></th><th></th><th>mag</th><th></th><th>nanomaggies</th><th>nanomaggies</th><th>nanomaggies</th><th>nanomaggies</th><th>nanomaggies</th><th>nanomaggies</th><th>nanomaggies</th><th>nanomaggies</th></tr></thead>\n",
       "<thead><tr><th>int64</th><th>str10</th><th>str10</th><th>int16</th><th>int64</th><th>float32</th><th>float32</th><th>str15</th><th>float32</th><th>float32</th><th>float32</th><th>float32</th><th>float32</th><th>float32</th><th>float32</th><th>float32</th></tr></thead>\n",
       "<tr><td>0</td><td>ELG</td><td></td><td>5420</td><td>1298759464</td><td>0.7993492</td><td>21.845482</td><td>decam2014-g</td><td>1.8272891</td><td>2.8954089</td><td>6.4860077</td><td>5.903712</td><td>3.7035031</td><td>21.845482</td><td>21.345726</td><td>20.470057</td></tr>\n",
       "<tr><td>1</td><td>ELG</td><td></td><td>1702</td><td>3563818295</td><td>0.85313386</td><td>21.456657</td><td>decam2014-g</td><td>2.6141894</td><td>3.4149323</td><td>7.934742</td><td>8.314088</td><td>5.8034415</td><td>21.456657</td><td>21.166546</td><td>20.251167</td></tr>\n",
       "<tr><td>2</td><td>ELG</td><td></td><td>2520</td><td>4239634355</td><td>1.3314425</td><td>22.847956</td><td>decam2014-g</td><td>0.7258013</td><td>0.940071</td><td>2.2740743</td><td>8.391057</td><td>8.009512</td><td>22.847956</td><td>22.567099</td><td>21.607988</td></tr>\n",
       "<tr><td>3</td><td>ELG</td><td></td><td>733</td><td>1937797628</td><td>1.3293251</td><td>21.334745</td><td>decam2014-g</td><td>2.924838</td><td>3.2355256</td><td>5.678092</td><td>8.051417</td><td>7.4185524</td><td>21.334745</td><td>21.225138</td><td>20.614494</td></tr>\n",
       "<tr><td>4</td><td>ELG</td><td></td><td>5204</td><td>424643782</td><td>1.5600014</td><td>22.05407</td><td>decam2014-g</td><td>1.5078988</td><td>1.7729332</td><td>3.1534138</td><td>9.19761</td><td>9.357868</td><td>22.05407</td><td>21.87827</td><td>21.253048</td></tr>\n",
       "<tr><td>5</td><td>ELG</td><td></td><td>995</td><td>2317046629</td><td>1.1707505</td><td>20.953327</td><td>decam2014-g</td><td>4.1559386</td><td>5.25973</td><td>11.302873</td><td>35.50691</td><td>29.87789</td><td>20.953327</td><td>20.697592</td><td>19.867027</td></tr>\n",
       "<tr><td>6</td><td>ELG</td><td></td><td>1802</td><td>3954805719</td><td>1.5162941</td><td>22.645363</td><td>decam2014-g</td><td>0.8746914</td><td>1.4549873</td><td>3.147632</td><td>15.251423</td><td>17.249846</td><td>22.645363</td><td>22.092852</td><td>21.25504</td></tr>\n",
       "<tr><td>7</td><td>ELG</td><td></td><td>6049</td><td>3853636864</td><td>1.1718724</td><td>20.021917</td><td>decam2014-g</td><td>9.800158</td><td>11.7591715</td><td>31.254677</td><td>79.28643</td><td>66.71349</td><td>20.021917</td><td>19.824059</td><td>18.762712</td></tr>\n",
       "<tr><td>8</td><td>ELG</td><td></td><td>1994</td><td>3426770667</td><td>1.5255601</td><td>20.592596</td><td>decam2014-g</td><td>5.7937746</td><td>6.6703124</td><td>9.44867</td><td>47.14436</td><td>53.96422</td><td>20.592596</td><td>20.439634</td><td>20.061573</td></tr>\n",
       "<tr><td>9</td><td>ELG</td><td></td><td>830</td><td>577212414</td><td>0.80825543</td><td>22.79995</td><td>decam2014-g</td><td>0.75861275</td><td>1.0052528</td><td>1.5937091</td><td>1.9804137</td><td>1.1774654</td><td>22.79995</td><td>22.494312</td><td>21.993977</td></tr>\n",
       "</table>"
      ],
      "text/plain": [
       "<Table length=10>\n",
       "TARGETID OBJTYPE SUBTYPE TEMPLATEID ...    MAG_G       MAG_R       MAG_Z   \n",
       "                                    ... nanomaggies nanomaggies nanomaggies\n",
       " int64    str10   str10    int16    ...   float32     float32     float32  \n",
       "-------- ------- ------- ---------- ... ----------- ----------- -----------\n",
       "       0     ELG               5420 ...   21.845482   21.345726   20.470057\n",
       "       1     ELG               1702 ...   21.456657   21.166546   20.251167\n",
       "       2     ELG               2520 ...   22.847956   22.567099   21.607988\n",
       "       3     ELG                733 ...   21.334745   21.225138   20.614494\n",
       "       4     ELG               5204 ...    22.05407    21.87827   21.253048\n",
       "       5     ELG                995 ...   20.953327   20.697592   19.867027\n",
       "       6     ELG               1802 ...   22.645363   22.092852    21.25504\n",
       "       7     ELG               6049 ...   20.021917   19.824059   18.762712\n",
       "       8     ELG               1994 ...   20.592596   20.439634   20.061573\n",
       "       9     ELG                830 ...    22.79995   22.494312   21.993977"
      ]
     },
     "execution_count": 147,
     "metadata": {},
     "output_type": "execute_result"
    }
   ],
   "source": [
    "meta"
   ]
  },
  {
   "cell_type": "code",
   "execution_count": 148,
   "metadata": {},
   "outputs": [
    {
     "data": {
      "text/plain": [
       "Text(0, 0.5, 'Observed flux [$10^{-17}$ erg/s/cm2/A)]')"
      ]
     },
     "execution_count": 148,
     "metadata": {},
     "output_type": "execute_result"
    },
    {
     "data": {
      "image/png": "[encoded data removed]",
      "text/plain": [
       "<Figure size 432x288 with 1 Axes>"
      ]
     },
     "metadata": {
      "needs_background": "light"
     },
     "output_type": "display_data"
    }
   ],
   "source": [
    "pl.plot(wave, fflux[2,:], c='b',    alpha=0.5)\n",
    "\n",
    "pl.axvline(3727. * (1. + meta['REDSHIFT'][2]), c='gold', alpha=0.2, lw=10.)\n",
    "\n",
    "pl.xlabel('Wavelength [Angstroms]')\n",
    "pl.ylabel('Observed flux [$10^{-17}$ erg/s/cm2/A)]')"
   ]
  },
  {
   "cell_type": "code",
   "execution_count": 149,
   "metadata": {},
   "outputs": [],
   "source": [
    "uflux = fflux * fluxcalib   # Uncalibrated flux [counts/Angstrom] "
   ]
  },
  {
   "cell_type": "code",
   "execution_count": 150,
   "metadata": {},
   "outputs": [
    {
     "data": {
      "text/plain": [
       "Text(0, 0.5, 'Observed flux [Counts/A)]')"
      ]
     },
     "execution_count": 150,
     "metadata": {},
     "output_type": "execute_result"
    },
    {
     "data": {
      "image/png": "[encoded data removed]",
      "text/plain": [
       "<Figure size 432x288 with 1 Axes>"
      ]
     },
     "metadata": {
      "needs_background": "light"
     },
     "output_type": "display_data"
    }
   ],
   "source": [
    "pl.plot(wave, uflux[2,:].T, c='green', alpha=0.9)\n",
    "\n",
    "pl.plot(skies[camera]['WAVELENGTH'][:], skies[camera]['SKY'][0, :].T, alpha=1.0, lw=0.1)\n",
    "\n",
    "pl.axvline(3727. * (1. + meta['REDSHIFT'][2]), c='gold', alpha=0.2, lw=10.)\n",
    "\n",
    "pl.ylim(-10., 1100.)\n",
    "\n",
    "pl.xlabel('Wavelength [Angstroms]')\n",
    "pl.ylabel('Observed flux [Counts/A)]')"
   ]
  },
  {
   "cell_type": "markdown",
   "metadata": {},
   "source": [
    "## Calculate 'templateSNR' for an ensemble of DESI-like targets"
   ]
  },
  {
   "cell_type": "code",
   "execution_count": 151,
   "metadata": {},
   "outputs": [],
   "source": [
    "sky_flux = skies[camera]['SKY'][0, :].T"
   ]
  },
  {
   "cell_type": "code",
   "execution_count": 152,
   "metadata": {},
   "outputs": [
    {
     "name": "stdout",
     "output_type": "stream",
     "text": [
      "Template SNR for the z band is 69508.609375.]\n",
      "Template SNR for the z band is 13133.951171875.]\n",
      "Template SNR for the z band is 47.47966384887695.]\n",
      "Template SNR for the z band is 2921.759765625.]\n",
      "Template SNR for the z band is 265.09259033203125.]\n",
      "Template SNR for the z band is 837.908447265625.]\n",
      "Template SNR for the z band is 131.66001892089844.]\n",
      "Template SNR for the z band is 11668.65234375.]\n",
      "Template SNR for the z band is 3787.36669921875.]\n",
      "Template SNR for the z band is 277.82086181640625.]\n"
     ]
    }
   ],
   "source": [
    "meta['TEMPLATESNR'] = np.zeros_like(meta['REDSHIFT'])\n",
    "\n",
    "for i, template_flux in enumerate(fflux):\n",
    "    meta['TEMPLATESNR'][i] = templateSNR(template_flux, sky_flux[0], fluxcalib[0])\n",
    "    \n",
    "    print('Template SNR for the {} band is {}.]'.format(camera, meta['TEMPLATESNR'][i]))"
   ]
  },
  {
   "cell_type": "markdown",
   "metadata": {},
   "source": [
    "##  Post-process spectra post redrock, calculate templateSNR for the redrock best-fit template."
   ]
  },
  {
   "cell_type": "markdown",
   "metadata": {},
   "source": [
    "First, run redshift fitting. "
   ]
  },
  {
   "cell_type": "code",
   "execution_count": 153,
   "metadata": {},
   "outputs": [],
   "source": [
    "# https://github.com/desihub/desisim/blob/c64ad6c14f36409833ad8616cb8ce180b1af54c1/py/desisim/scripts/quickspectra.py#L248"
   ]
  },
  {
   "cell_type": "code",
   "execution_count": 191,
   "metadata": {},
   "outputs": [],
   "source": [
    "# Note:  Sky noise added to template fluxes (in ergs/..).\n",
    "spec = Spectra([camera], {camera: wave}, {camera: fflux + sky_flux[0] / lossless_fluxcalib}, {camera: flux_ivar}, \n",
    "               resolution_data={camera: res}, \n",
    "               mask={camera: mask}, \n",
    "               fibermap=fibermap, \n",
    "               meta=None,\n",
    "               single=False)"
   ]
  },
  {
   "cell_type": "code",
   "execution_count": 194,
   "metadata": {},
   "outputs": [
    {
     "data": {
      "text/plain": [
       "'/global/scratch/mjwilson/spec_test.fits'"
      ]
     },
     "execution_count": 194,
     "metadata": {},
     "output_type": "execute_result"
    }
   ],
   "source": [
    "# Overwrites as default.\n",
    "desispec.io.write_spectra(os.environ['RESULTS'] + '/spec_test.fits', spec)  "
   ]
  },
  {
   "cell_type": "code",
   "execution_count": 195,
   "metadata": {},
   "outputs": [
    {
     "data": {
      "text/plain": [
       "'/global/scratch/mjwilson/test-zbest.fits'"
      ]
     },
     "execution_count": 195,
     "metadata": {},
     "output_type": "execute_result"
    }
   ],
   "source": [
    "# https://github.com/desihub/tutorials/blob/master/simulating-desi-spectra.ipynb\n",
    "zbest_file = os.path.join(os.environ['RESULTS'], 'test-zbest.fits')\n",
    "zbest_file"
   ]
  },
  {
   "cell_type": "code",
   "execution_count": 196,
   "metadata": {},
   "outputs": [],
   "source": [
    "! rm /global/scratch/mjwilson/test-zbest.fits"
   ]
  },
  {
   "cell_type": "code",
   "execution_count": 197,
   "metadata": {},
   "outputs": [
    {
     "name": "stdout",
     "output_type": "stream",
     "text": [
      "srun -A desi -N 1 -t 00:10:00 -C haswell --qos interactive rrdesi /global/scratch/mjwilson/spec_test.fits --zbest /global/scratch/mjwilson/test-zbest.fits --mp 32\n"
     ]
    }
   ],
   "source": [
    "cmd  = 'rrdesi {} --zbest {}'.format(os.environ['RESULTS'] + '/spec_test.fits', zbest_file)\n",
    "srun = 'srun -A desi -N 1 -t 00:10:00 -C haswell --qos interactive'\n",
    "cmd  = '{} {} --mp 32'.format(srun, cmd)\n",
    "\n",
    "print(cmd)"
   ]
  },
  {
   "cell_type": "markdown",
   "metadata": {},
   "source": [
    "Run on Cori Linux.  Finished?  Get the results."
   ]
  },
  {
   "cell_type": "code",
   "execution_count": 201,
   "metadata": {},
   "outputs": [],
   "source": [
    "zbest = Table.read(zbest_file, 'ZBEST')"
   ]
  },
  {
   "cell_type": "code",
   "execution_count": 202,
   "metadata": {},
   "outputs": [
    {
     "data": {
      "text/html": [
       "<i>Table length=10</i>\n",
       "<table id=\"table47559738911824\" class=\"table-striped table-bordered table-condensed\">\n",
       "<thead><tr><th>TARGETID</th><th>CHI2</th><th>COEFF [10]</th><th>Z</th><th>ZERR</th><th>ZWARN</th><th>NPIXELS</th><th>SPECTYPE</th><th>SUBTYPE</th><th>NCOEFF</th><th>DELTACHI2</th><th>NUMEXP</th><th>NUMTILE</th></tr></thead>\n",
       "<thead><tr><th>int64</th><th>float64</th><th>float64</th><th>float64</th><th>float64</th><th>int64</th><th>int64</th><th>bytes6</th><th>bytes20</th><th>int64</th><th>float64</th><th>int32</th><th>int32</th></tr></thead>\n",
       "<tr><td>0</td><td>11356.025405883789</td><td>-17187.529241944918 .. -381.05585740756203</td><td>0.5332899080417879</td><td>2.9598022623244335e-06</td><td>0</td><td>2824</td><td>GALAXY</td><td></td><td>10</td><td>4208.673358917236</td><td>0</td><td>0</td></tr>\n",
       "<tr><td>1</td><td>9554.491378560662</td><td>-20929.683057613875 .. -197.6425186526678</td><td>0.5180930968722439</td><td>5.32110280074169e-05</td><td>0</td><td>2824</td><td>GALAXY</td><td></td><td>10</td><td>202.3681233972311</td><td>0</td><td>0</td></tr>\n",
       "<tr><td>2</td><td>2352.030480951071</td><td>-21893.97284561595 .. -149.43062088936009</td><td>0.5158319387783974</td><td>7.97282589812037e-05</td><td>0</td><td>2824</td><td>GALAXY</td><td></td><td>10</td><td>90.7652032757178</td><td>0</td><td>0</td></tr>\n",
       "<tr><td>3</td><td>3052.4367168322206</td><td>-21547.73160136519 .. -23.88961768290206</td><td>0.5161310639718886</td><td>0.0001130105687849048</td><td>0</td><td>2824</td><td>GALAXY</td><td></td><td>10</td><td>362.32810576073825</td><td>0</td><td>0</td></tr>\n",
       "<tr><td>4</td><td>2525.4436218589544</td><td>-21700.750244622257 .. -180.878594230321</td><td>0.5156533516492261</td><td>5.088384593262186e-05</td><td>0</td><td>2824</td><td>GALAXY</td><td></td><td>10</td><td>110.40473768487573</td><td>0</td><td>0</td></tr>\n",
       "<tr><td>5</td><td>2288.154864117503</td><td>-23264.176557010327 .. -365.91666414781736</td><td>0.5182545083050604</td><td>9.412180785853184e-05</td><td>0</td><td>2824</td><td>GALAXY</td><td></td><td>10</td><td>38.7055878341198</td><td>0</td><td>0</td></tr>\n",
       "<tr><td>6</td><td>2489.5991479828954</td><td>-21930.85621258612 .. -167.65579225732995</td><td>0.5158267517843155</td><td>7.963208762906922e-05</td><td>0</td><td>2824</td><td>GALAXY</td><td></td><td>10</td><td>122.50340434908867</td><td>0</td><td>0</td></tr>\n",
       "<tr><td>7</td><td>5789.351532608271</td><td>-22311.997326188535 .. -277.4815446224914</td><td>0.511765279860277</td><td>6.805131482891367e-05</td><td>0</td><td>2824</td><td>GALAXY</td><td></td><td>10</td><td>194.266780808568</td><td>0</td><td>0</td></tr>\n",
       "<tr><td>8</td><td>4363.290345598012</td><td>-22236.47995862087 .. -171.00485355926742</td><td>0.5173571318667598</td><td>0.00010932520134543197</td><td>0</td><td>2824</td><td>GALAXY</td><td></td><td>10</td><td>391.10629921779037</td><td>0</td><td>0</td></tr>\n",
       "<tr><td>9</td><td>2203.106375128031</td><td>-21469.370157097917 .. -183.37930655382615</td><td>0.51581951369645</td><td>7.939722702130747e-05</td><td>0</td><td>2824</td><td>GALAXY</td><td></td><td>10</td><td>115.3646474443376</td><td>0</td><td>0</td></tr>\n",
       "</table>"
      ],
      "text/plain": [
       "<Table length=10>\n",
       "TARGETID        CHI2        ... NUMEXP NUMTILE\n",
       " int64        float64       ... int32   int32 \n",
       "-------- ------------------ ... ------ -------\n",
       "       0 11356.025405883789 ...      0       0\n",
       "       1  9554.491378560662 ...      0       0\n",
       "       2  2352.030480951071 ...      0       0\n",
       "       3 3052.4367168322206 ...      0       0\n",
       "       4 2525.4436218589544 ...      0       0\n",
       "       5  2288.154864117503 ...      0       0\n",
       "       6 2489.5991479828954 ...      0       0\n",
       "       7  5789.351532608271 ...      0       0\n",
       "       8  4363.290345598012 ...      0       0\n",
       "       9  2203.106375128031 ...      0       0"
      ]
     },
     "execution_count": 202,
     "metadata": {},
     "output_type": "execute_result"
    }
   ],
   "source": [
    "zbest"
   ]
  },
  {
   "cell_type": "code",
   "execution_count": 203,
   "metadata": {},
   "outputs": [
    {
     "data": {
      "text/html": [
       "<i>Table length=10</i>\n",
       "<table id=\"table47559810691592\" class=\"table-striped table-bordered table-condensed\">\n",
       "<thead><tr><th>TARGETID</th><th>OBJTYPE</th><th>SUBTYPE</th><th>TEMPLATEID</th><th>SEED</th><th>REDSHIFT</th><th>MAG</th><th>MAGFILTER</th><th>FLUX_G</th><th>FLUX_R</th><th>FLUX_Z</th><th>FLUX_W1</th><th>FLUX_W2</th><th>MAG_G</th><th>MAG_R</th><th>MAG_Z</th><th>TEMPLATESNR</th></tr></thead>\n",
       "<thead><tr><th></th><th></th><th></th><th></th><th></th><th></th><th>mag</th><th></th><th>nanomaggies</th><th>nanomaggies</th><th>nanomaggies</th><th>nanomaggies</th><th>nanomaggies</th><th>nanomaggies</th><th>nanomaggies</th><th>nanomaggies</th><th></th></tr></thead>\n",
       "<thead><tr><th>int64</th><th>str10</th><th>str10</th><th>int16</th><th>int64</th><th>float32</th><th>float32</th><th>str15</th><th>float32</th><th>float32</th><th>float32</th><th>float32</th><th>float32</th><th>float32</th><th>float32</th><th>float32</th><th>float32</th></tr></thead>\n",
       "<tr><td>0</td><td>ELG</td><td></td><td>5420</td><td>1298759464</td><td>0.7993492</td><td>21.845482</td><td>decam2014-g</td><td>1.8272891</td><td>2.8954089</td><td>6.4860077</td><td>5.903712</td><td>3.7035031</td><td>21.845482</td><td>21.345726</td><td>20.470057</td><td>69508.61</td></tr>\n",
       "<tr><td>1</td><td>ELG</td><td></td><td>1702</td><td>3563818295</td><td>0.85313386</td><td>21.456657</td><td>decam2014-g</td><td>2.6141894</td><td>3.4149323</td><td>7.934742</td><td>8.314088</td><td>5.8034415</td><td>21.456657</td><td>21.166546</td><td>20.251167</td><td>13133.951</td></tr>\n",
       "<tr><td>2</td><td>ELG</td><td></td><td>2520</td><td>4239634355</td><td>1.3314425</td><td>22.847956</td><td>decam2014-g</td><td>0.7258013</td><td>0.940071</td><td>2.2740743</td><td>8.391057</td><td>8.009512</td><td>22.847956</td><td>22.567099</td><td>21.607988</td><td>47.479664</td></tr>\n",
       "<tr><td>3</td><td>ELG</td><td></td><td>733</td><td>1937797628</td><td>1.3293251</td><td>21.334745</td><td>decam2014-g</td><td>2.924838</td><td>3.2355256</td><td>5.678092</td><td>8.051417</td><td>7.4185524</td><td>21.334745</td><td>21.225138</td><td>20.614494</td><td>2921.7598</td></tr>\n",
       "<tr><td>4</td><td>ELG</td><td></td><td>5204</td><td>424643782</td><td>1.5600014</td><td>22.05407</td><td>decam2014-g</td><td>1.5078988</td><td>1.7729332</td><td>3.1534138</td><td>9.19761</td><td>9.357868</td><td>22.05407</td><td>21.87827</td><td>21.253048</td><td>265.0926</td></tr>\n",
       "<tr><td>5</td><td>ELG</td><td></td><td>995</td><td>2317046629</td><td>1.1707505</td><td>20.953327</td><td>decam2014-g</td><td>4.1559386</td><td>5.25973</td><td>11.302873</td><td>35.50691</td><td>29.87789</td><td>20.953327</td><td>20.697592</td><td>19.867027</td><td>837.90845</td></tr>\n",
       "<tr><td>6</td><td>ELG</td><td></td><td>1802</td><td>3954805719</td><td>1.5162941</td><td>22.645363</td><td>decam2014-g</td><td>0.8746914</td><td>1.4549873</td><td>3.147632</td><td>15.251423</td><td>17.249846</td><td>22.645363</td><td>22.092852</td><td>21.25504</td><td>131.66002</td></tr>\n",
       "<tr><td>7</td><td>ELG</td><td></td><td>6049</td><td>3853636864</td><td>1.1718724</td><td>20.021917</td><td>decam2014-g</td><td>9.800158</td><td>11.7591715</td><td>31.254677</td><td>79.28643</td><td>66.71349</td><td>20.021917</td><td>19.824059</td><td>18.762712</td><td>11668.652</td></tr>\n",
       "<tr><td>8</td><td>ELG</td><td></td><td>1994</td><td>3426770667</td><td>1.5255601</td><td>20.592596</td><td>decam2014-g</td><td>5.7937746</td><td>6.6703124</td><td>9.44867</td><td>47.14436</td><td>53.96422</td><td>20.592596</td><td>20.439634</td><td>20.061573</td><td>3787.3667</td></tr>\n",
       "<tr><td>9</td><td>ELG</td><td></td><td>830</td><td>577212414</td><td>0.80825543</td><td>22.79995</td><td>decam2014-g</td><td>0.75861275</td><td>1.0052528</td><td>1.5937091</td><td>1.9804137</td><td>1.1774654</td><td>22.79995</td><td>22.494312</td><td>21.993977</td><td>277.82086</td></tr>\n",
       "</table>"
      ],
      "text/plain": [
       "<Table length=10>\n",
       "TARGETID OBJTYPE SUBTYPE TEMPLATEID ...    MAG_R       MAG_Z    TEMPLATESNR\n",
       "                                    ... nanomaggies nanomaggies            \n",
       " int64    str10   str10    int16    ...   float32     float32     float32  \n",
       "-------- ------- ------- ---------- ... ----------- ----------- -----------\n",
       "       0     ELG               5420 ...   21.345726   20.470057    69508.61\n",
       "       1     ELG               1702 ...   21.166546   20.251167   13133.951\n",
       "       2     ELG               2520 ...   22.567099   21.607988   47.479664\n",
       "       3     ELG                733 ...   21.225138   20.614494   2921.7598\n",
       "       4     ELG               5204 ...    21.87827   21.253048    265.0926\n",
       "       5     ELG                995 ...   20.697592   19.867027   837.90845\n",
       "       6     ELG               1802 ...   22.092852    21.25504   131.66002\n",
       "       7     ELG               6049 ...   19.824059   18.762712   11668.652\n",
       "       8     ELG               1994 ...   20.439634   20.061573   3787.3667\n",
       "       9     ELG                830 ...   22.494312   21.993977   277.82086"
      ]
     },
     "execution_count": 203,
     "metadata": {},
     "output_type": "execute_result"
    }
   ],
   "source": [
    "meta"
   ]
  },
  {
   "cell_type": "code",
   "execution_count": 198,
   "metadata": {},
   "outputs": [
    {
     "data": {
      "text/html": [
       "<i>Table length=10</i>\n",
       "<table id=\"table47558044368176\" class=\"table-striped table-bordered table-condensed\">\n",
       "<thead><tr><th>TARGETID</th><th>OIIFLUX</th><th>HBETAFLUX</th><th>EWOII</th><th>EWHBETA</th><th>D4000</th><th>VDISP</th><th>OIIDOUBLET</th><th>OIIIHBETA</th><th>OIIHBETA</th><th>NIIHBETA</th><th>SIIHBETA</th><th>TRANSIENT_MODEL</th><th>TRANSIENT_TYPE</th><th>TRANSIENT_EPOCH</th><th>TRANSIENT_RFLUXRATIO</th></tr></thead>\n",
       "<thead><tr><th></th><th>erg / (cm2 s)</th><th>erg / (cm2 s)</th><th>Angstrom</th><th>Angstrom</th><th></th><th>km / s</th><th></th><th>Dex</th><th>Dex</th><th>Dex</th><th>Dex</th><th></th><th></th><th>d</th><th></th></tr></thead>\n",
       "<thead><tr><th>int64</th><th>float32</th><th>float32</th><th>float32</th><th>float32</th><th>float32</th><th>float32</th><th>float32</th><th>float32</th><th>float32</th><th>float32</th><th>float32</th><th>str20</th><th>str10</th><th>float32</th><th>float32</th></tr></thead>\n",
       "<tr><td>0</td><td>4.7180164e-16</td><td>-1.0</td><td>84.07111</td><td>-1.0</td><td>1.0481201</td><td>65.083405</td><td>0.73816615</td><td>0.7696772</td><td>-0.4910734</td><td>-1.7641126</td><td>-1.2866124</td><td></td><td></td><td>-1.0</td><td>-1.0</td></tr>\n",
       "<tr><td>1</td><td>3.6014835e-16</td><td>-1.0</td><td>49.232246</td><td>-1.0</td><td>1.0774345</td><td>65.083405</td><td>0.7372966</td><td>0.5774649</td><td>0.30866987</td><td>-0.90301836</td><td>-0.39513603</td><td></td><td></td><td>-1.0</td><td>-1.0</td></tr>\n",
       "<tr><td>2</td><td>3.2261288e-17</td><td>-1.0</td><td>14.850486</td><td>-1.0</td><td>1.1396861</td><td>65.083405</td><td>0.81774914</td><td>0.8066954</td><td>0.19565248</td><td>-1.0351511</td><td>-0.7631561</td><td></td><td></td><td>-1.0</td><td>-1.0</td></tr>\n",
       "<tr><td>3</td><td>4.3454487e-16</td><td>-1.0</td><td>86.341644</td><td>-1.0</td><td>1.0268874</td><td>65.083405</td><td>0.75430757</td><td>0.7197764</td><td>0.3418281</td><td>-0.88499093</td><td>-0.38338155</td><td></td><td></td><td>-1.0</td><td>-1.0</td></tr>\n",
       "<tr><td>4</td><td>2.3370756e-16</td><td>-1.0</td><td>69.37333</td><td>-1.0</td><td>1.1075476</td><td>65.083405</td><td>0.70656854</td><td>-0.44111747</td><td>0.53628796</td><td>0.049532924</td><td>-0.08530418</td><td></td><td></td><td>-1.0</td><td>-1.0</td></tr>\n",
       "<tr><td>5</td><td>1.2047589e-16</td><td>-1.0</td><td>11.153942</td><td>-1.0</td><td>1.0898869</td><td>65.083405</td><td>0.7598019</td><td>-0.6427435</td><td>0.12550744</td><td>-0.12809342</td><td>-0.27694258</td><td></td><td></td><td>-1.0</td><td>-1.0</td></tr>\n",
       "<tr><td>6</td><td>1.4434245e-16</td><td>-1.0</td><td>43.718803</td><td>-1.0</td><td>1.0887089</td><td>65.083405</td><td>0.7605603</td><td>-0.39563468</td><td>0.3259388</td><td>0.0646167</td><td>-0.09656662</td><td></td><td></td><td>-1.0</td><td>-1.0</td></tr>\n",
       "<tr><td>7</td><td>6.8220325e-16</td><td>-1.0</td><td>26.712957</td><td>-1.0</td><td>1.135243</td><td>65.083405</td><td>0.7652351</td><td>0.22407562</td><td>0.1720496</td><td>-1.1662378</td><td>-0.6035426</td><td></td><td></td><td>-1.0</td><td>-1.0</td></tr>\n",
       "<tr><td>8</td><td>9.111999e-16</td><td>-1.0</td><td>88.015015</td><td>-1.0</td><td>1.107194</td><td>65.083405</td><td>0.7462555</td><td>0.3300791</td><td>0.3564458</td><td>-1.1154662</td><td>-0.4699114</td><td></td><td></td><td>-1.0</td><td>-1.0</td></tr>\n",
       "<tr><td>9</td><td>1.5830594e-16</td><td>-1.0</td><td>78.28179</td><td>-1.0</td><td>1.0137111</td><td>65.083405</td><td>0.6574935</td><td>-0.55875784</td><td>0.20646477</td><td>0.03387148</td><td>-0.092588924</td><td></td><td></td><td>-1.0</td><td>-1.0</td></tr>\n",
       "</table>"
      ],
      "text/plain": [
       "<Table length=10>\n",
       "TARGETID    OIIFLUX      HBETAFLUX   ... TRANSIENT_EPOCH TRANSIENT_RFLUXRATIO\n",
       "         erg / (cm2 s) erg / (cm2 s) ...        d                            \n",
       " int64      float32       float32    ...     float32           float32       \n",
       "-------- ------------- ------------- ... --------------- --------------------\n",
       "       0 4.7180164e-16          -1.0 ...            -1.0                 -1.0\n",
       "       1 3.6014835e-16          -1.0 ...            -1.0                 -1.0\n",
       "       2 3.2261288e-17          -1.0 ...            -1.0                 -1.0\n",
       "       3 4.3454487e-16          -1.0 ...            -1.0                 -1.0\n",
       "       4 2.3370756e-16          -1.0 ...            -1.0                 -1.0\n",
       "       5 1.2047589e-16          -1.0 ...            -1.0                 -1.0\n",
       "       6 1.4434245e-16          -1.0 ...            -1.0                 -1.0\n",
       "       7 6.8220325e-16          -1.0 ...            -1.0                 -1.0\n",
       "       8  9.111999e-16          -1.0 ...            -1.0                 -1.0\n",
       "       9 1.5830594e-16          -1.0 ...            -1.0                 -1.0"
      ]
     },
     "execution_count": 198,
     "metadata": {},
     "output_type": "execute_result"
    }
   ],
   "source": [
    "objmeta"
   ]
  },
  {
   "cell_type": "code",
   "execution_count": 204,
   "metadata": {},
   "outputs": [
    {
     "data": {
      "text/plain": [
       "Text(0, 0.5, 'REDROCK REDSHIFT')"
      ]
     },
     "execution_count": 204,
     "metadata": {},
     "output_type": "execute_result"
    },
    {
     "data": {
      "image/png": "[encoded data removed]",
      "text/plain": [
       "<Figure size 432x288 with 1 Axes>"
      ]
     },
     "metadata": {
      "needs_background": "light"
     },
     "output_type": "display_data"
    }
   ],
   "source": [
    "pl.plot(meta['REDSHIFT'], zbest['Z'], marker='.', lw=0.0)\n",
    "\n",
    "pl.plot(np.arange(0.7, 1.6, 0.1), np.arange(0.7, 1.6, 0.1), c='k', alpha=0.4)\n",
    "\n",
    "pl.xlabel('TRUE    REDSHIFT')\n",
    "pl.ylabel('REDROCK REDSHIFT')"
   ]
  },
  {
   "cell_type": "code",
   "execution_count": 205,
   "metadata": {},
   "outputs": [
    {
     "data": {
      "text/plain": [
       "Text(0, 0.5, '$\\\\log_{10}|\\\\Delta \\\\chi^2|$')"
      ]
     },
     "execution_count": 205,
     "metadata": {},
     "output_type": "execute_result"
    },
    {
     "data": {
      "image/png": "[encoded data removed]",
      "text/plain": [
       "<Figure size 432x288 with 1 Axes>"
      ]
     },
     "metadata": {
      "needs_background": "light"
     },
     "output_type": "display_data"
    }
   ],
   "source": [
    "pl.plot(np.log10(meta['TEMPLATESNR']), np.log10(zbest['DELTACHI2']), marker='.', lw=0.0, c='k')\n",
    "\n",
    "pl.xlabel('$\\log_{10}$|TEMPLATE SNR|')\n",
    "pl.ylabel('$\\log_{10}|\\Delta \\chi^2|$')"
   ]
  },
  {
   "cell_type": "code",
   "execution_count": 165,
   "metadata": {},
   "outputs": [
    {
     "name": "stdout",
     "output_type": "stream",
     "text": [
      "DEBUG: Read templates from /global/scratch/mjwilson/miniconda3/envs/desi/code/redrock-templates\n",
      "DEBUG: Using default redshift range -0.0050-1.6997 for rrtemplate-galaxy.fits\n",
      "DEBUG: Using default redshift range 0.0500-5.9934 for rrtemplate-qso.fits\n",
      "DEBUG: Using default redshift range -0.0020-0.0020 for rrtemplate-star-A.fits\n",
      "DEBUG: Using default redshift range -0.0020-0.0020 for rrtemplate-star-B.fits\n",
      "DEBUG: Using default redshift range -0.0020-0.0020 for rrtemplate-star-CV.fits\n",
      "DEBUG: Using default redshift range -0.0020-0.0020 for rrtemplate-star-F.fits\n",
      "DEBUG: Using default redshift range -0.0020-0.0020 for rrtemplate-star-G.fits\n",
      "DEBUG: Using default redshift range -0.0020-0.0020 for rrtemplate-star-K.fits\n",
      "DEBUG: Using default redshift range -0.0020-0.0020 for rrtemplate-star-M.fits\n",
      "DEBUG: Using default redshift range -0.0020-0.0020 for rrtemplate-star-WD.fits\n"
     ]
    }
   ],
   "source": [
    "# Import redrock templates\n",
    "templates = dict()\n",
    "\n",
    "for filename in redrock.templates.find_templates():\n",
    "    t = redrock.templates.Template(filename)\n",
    "    templates[(t.template_type, t.sub_type)] = t"
   ]
  },
  {
   "cell_type": "code",
   "execution_count": 166,
   "metadata": {},
   "outputs": [],
   "source": [
    "rr_z     = zbest['Z'][0]\n",
    "\n",
    "spectype = zbest['SPECTYPE'][0].strip()\n",
    "subtype  = zbest['SUBTYPE'][0].strip()\n",
    "\n",
    "fulltype = (spectype, subtype)\n",
    "ncoeff   = templates[fulltype].flux.shape[0]\n",
    "\n",
    "coeff    = zbest['COEFF'][0][0:ncoeff]"
   ]
  },
  {
   "cell_type": "code",
   "execution_count": 167,
   "metadata": {},
   "outputs": [
    {
     "data": {
      "text/plain": [
       "(0.7993492, 0.7993487751229342)"
      ]
     },
     "execution_count": 167,
     "metadata": {},
     "output_type": "execute_result"
    }
   ],
   "source": [
    "meta['REDSHIFT'][0], zbest['Z'][0]"
   ]
  },
  {
   "cell_type": "code",
   "execution_count": 168,
   "metadata": {},
   "outputs": [
    {
     "data": {
      "text/plain": [
       "(0.7993487751229342, ('GALAXY', ''))"
      ]
     },
     "execution_count": 168,
     "metadata": {},
     "output_type": "execute_result"
    }
   ],
   "source": [
    "rr_z, fulltype"
   ]
  },
  {
   "cell_type": "code",
   "execution_count": 169,
   "metadata": {},
   "outputs": [],
   "source": [
    "tflux    = templates[fulltype].flux.T.dot(coeff)\n",
    "twave    = templates[fulltype].wave * (1. + rr_z)"
   ]
  },
  {
   "cell_type": "code",
   "execution_count": 170,
   "metadata": {},
   "outputs": [],
   "source": [
    "R        = Resolution(res[0])\n",
    "txflux   = R.dot(resample_flux(wave, twave, tflux))"
   ]
  },
  {
   "cell_type": "code",
   "execution_count": 171,
   "metadata": {},
   "outputs": [
    {
     "data": {
      "text/plain": [
       "Text(0, 0.5, 'Observed flux [$10^{-17}$ erg/s/cm2/A)]')"
      ]
     },
     "execution_count": 171,
     "metadata": {},
     "output_type": "execute_result"
    },
    {
     "data": {
      "image/png": "[encoded data removed]",
      "text/plain": [
       "<Figure size 432x288 with 1 Axes>"
      ]
     },
     "metadata": {
      "needs_background": "light"
     },
     "output_type": "display_data"
    }
   ],
   "source": [
    "pl.plot(wave, fflux[0,:].T,  c='blue', alpha=0.9)\n",
    "pl.plot(wave, txflux,        c='gold', alpha=1.0)\n",
    "\n",
    "pl.xlim(wave[0], wave[-1])\n",
    "\n",
    "pl.xlabel('Wavelength [Angstroms]')\n",
    "pl.ylabel('Observed flux [$10^{-17}$ erg/s/cm2/A)]')"
   ]
  },
  {
   "cell_type": "code",
   "execution_count": 172,
   "metadata": {},
   "outputs": [
    {
     "name": "stdout",
     "output_type": "stream",
     "text": [
      "Template SNR for the z band is 118636.46931158268.]\n"
     ]
    }
   ],
   "source": [
    "print('Template SNR for the {} band is {}.]'.format(camera, templateSNR(fflux[0,:], sky_flux[0], fluxcalib[0])))"
   ]
  },
  {
   "cell_type": "code",
   "execution_count": 173,
   "metadata": {},
   "outputs": [
    {
     "name": "stdout",
     "output_type": "stream",
     "text": [
      "RRTemplate SNR for the z band is 69926.85257129664.]\n"
     ]
    }
   ],
   "source": [
    "print('RRTemplate SNR for the {} band is {}.]'.format(camera, templateSNR(txflux, sky_flux[0], fluxcalib[0])))"
   ]
  },
  {
   "cell_type": "markdown",
   "metadata": {},
   "source": [
    "##  Rad. weights"
   ]
  },
  {
   "cell_type": "markdown",
   "metadata": {},
   "source": [
    "_Each tile, each fiber, a redshift efficiency as a function of redshift and target magnitude, per target class. This could be\n",
    "for instance in the form of fits images in 3D (fiber x redshift x magnitude), with one HDU per target class, and one fits\n",
    "file per tile_"
   ]
  },
  {
   "cell_type": "code",
   "execution_count": 511,
   "metadata": {},
   "outputs": [],
   "source": [
    "hdr             = fits.open(specpath)[0].header\n",
    "\n",
    "hdr['EXTNAME']  = 'RADWEIGHT'\n",
    "\n",
    "primary         = fits.PrimaryHDU(header=hdr)\n",
    "\n",
    "# LRG\n",
    "lrg_radweight   = fits.ImageHDU(np.zeros((1, 25, 25)), name='LRG')\n",
    "\n",
    "# ELG\n",
    "elg_radweight   = fits.ImageHDU(np.zeros((1, 25, 25)), name='ELG')\n",
    "\n",
    "# QSO\n",
    "qso_radweight   = fits.ImageHDU(np.zeros((1, 25, 25)), name='QSO')\n",
    "\n",
    "# List\n",
    "all_hdus        = fits.HDUList([primary, lrg_radweight, elg_radweight, qso_radweight])\n",
    "\n",
    "all_hdus.writeto('/global/cscratch1/sd/mjwilson/desi/radweights/lss_radweights.fits', overwrite=True)"
   ]
  },
  {
   "cell_type": "code",
   "execution_count": 512,
   "metadata": {},
   "outputs": [
    {
     "data": {
      "text/plain": [
       "SIMPLE  =                    T / conforms to FITS standard                      \n",
       "BITPIX  =                  -32 / array data type                                \n",
       "NAXIS   =                    2 / number of array dimensions                     \n",
       "NAXIS1  =                 2881                                                  \n",
       "NAXIS2  =                  500                                                  \n",
       "EXTEND  =                    T                                                  \n",
       "EXTNAME = 'RADWEIGHT'                                                           \n",
       "OBSERVAT= 'KPNO    '           / Observatory name                               \n",
       "OBS-LAT = '31.96403'           / [deg] Observatory latitude                     \n",
       "OBS-LONG= '-111.59989'         / [deg] Observatory east longitude               \n",
       "OBS-ELEV=                2097. / [m] Observatory elevation                      \n",
       "TELESCOP= 'KPNO 4.0-m telescope' / Telescope name                               \n",
       "INSTRUME= 'DESI    '           / Instrument name                                \n",
       "CORRCTOR= 'DESI Corrector'     / Corrector Identification                       \n",
       "PROCTYPE= 'RAW     '           / Data processing level                          \n",
       "PRODTYPE= 'image   '           / Data product type                              \n",
       "PROGRAM = 'Mini SV ELG Tile 67230' / Program name                               \n",
       "OBSERVER= 'DESIObserver'       / Names of observers                             \n",
       "LEAD    = 'Luke Tyas'          / Lead observer                                  \n",
       "PROPID  = '2019B-5000'         / Proposal ID                                    \n",
       "TILEID  =                67230 / DESI Tile ID                                   \n",
       "EXPID   =                55381 / Exposure number                                \n",
       "EXPFRAME=                    0 / Frame number                                   \n",
       "FILENAME= '/exposures/desi/specs/20200314/00055381/sp5-00055381.fits.fz' / Name \n",
       "FLAVOR  = 'science '           / Observation type                               \n",
       "REQTIME =                 900. / [s] Requested exposure time                    \n",
       "EXPTIME =                 900. / [s] Actual exposure time                       \n",
       "OBSID   = 'kp4m20200315t050220' / Unique observation identifier                 \n",
       "FOCUS   = '1070.4,-272.6,597.6,-19.2,22.4,204.6' / Telescope focus settings     \n",
       "TIMESYS = 'UTC     '           / Time system used for date-obs                  \n",
       "RADESYS = 'FK5     '           / Coordinate reference frame of major/minor axes \n",
       "EPOCH   =                2000. / Epoch of observation                           \n",
       "NIGHT   = '20200314'           / Observing night                                \n",
       "DATE-OBS= '2020-03-15T05:02:20.536518' / [UTC] Observation data and start time  \n",
       "TIME-OBS= '05:02:20.536518'    / [UTC] Observation start time                   \n",
       "MJD-OBS =       58923.20995991 / Modified Julian Date of observation            \n",
       "ST      = '09:08:59.660'       / Local Sidereal time at observation start (HH:MM\n",
       "REQRA   =     138.997356099811 / [deg] Requested right ascension (observer input\n",
       "REQDEC  =    0.574227370375913 / [deg] Requested declination (observer input)   \n",
       "TARGTRA =           138.997958 / [deg] Target right ascension (to TCS)          \n",
       "TARGTDEC=              0.56765 / [deg] Target declination (to TCS)              \n",
       "SKYRA   =           138.997958 / [deg] Telescope right ascension (pointing on sk\n",
       "SKYDEC  =              0.56765 / [deg] Telescope declination (pointing on sky)  \n",
       "SPECGRPH=                    0 / Spectrograph logical name (SP)                 \n",
       "SPECID  =                    4 / Spectrograph serial number (SM)                \n",
       "DETECTOR= 'M1-53   '           / Detector (ccd) identification                  \n",
       "CAMERA  = 'z0      '           / Camera name                                    \n",
       "CCDNAME = 'CCDSM4Z '           / CCD name                                       \n",
       "CCDPREP = 'purge,clear'        / CCD prep actions                               \n",
       "CCDSIZE = '4194,4256'          / CCD size in pixels (rows, columns)             \n",
       "CCDTEMP =            -137.7093 / [deg C] CCD controller CCD temperature         \n",
       "CPUTEMP =              59.9472 / [deg C] CCD controller CPU temperature         \n",
       "CASETEMP=              60.3064 / [deg C] CCD controller case temperature        \n",
       "CCDTMING= 'default_lbnl_timing_20180905.txt' / CCD timing file                  \n",
       "CCDCFG  = 'default_lbnl_20190717.cfg' / CCD configuration file                  \n",
       "SETTINGS= 'detectors_sm_20191211.json' / Name of DESI CCD settings file         \n",
       "VESSEL  =                   17 / Cryostat serial number                         \n",
       "FEEVER  = 'v20160312'          / CCD Controller version                         \n",
       "FEEBOX  = 'lbnl082 '           / CCD Controller serial number                   \n",
       "PRESECA = '[1:7, 2:2065]'      / Prescan section for quadrant A                 \n",
       "PRRSECA = '[8:2064, 1:1]'      / Row prescan section for quadrant A             \n",
       "DATASECA= '[8:2064, 2:2065]'   / Data section for quadrant A                    \n",
       "TRIMSECA= '[8:2064, 2:2065]'   / Trim section for quadrant A                    \n",
       "BIASSECA= '[2065:2128, 2:2065]' / Bias section for quadrant A                   \n",
       "ORSECA  = '[8:2064, 2066:2097]' / Row overscan section for quadrant A           \n",
       "CCDSECA = '[1:2057, 1:2064]'   / CCD section for quadrant A                     \n",
       "DETSECA = '[1:2057, 1:2064]'   / Detector section for quadrant A                \n",
       "AMPSECA = '[1:2057, 1:2064]'   / AMP section for quadrant A                     \n",
       "PRESECB = '[4250:4256, 2:2065]' / Prescan section for quadrant B                \n",
       "PRRSECB = '[2193:4249, 1:1]'   / Row prescan section for quadrant B             \n",
       "DATASECB= '[2193:4249, 2:2065]' / Data section for quadrant B                   \n",
       "TRIMSECB= '[2193:4249, 2:2065]' / Trim section for quadrant B                   \n",
       "BIASSECB= '[2129:2192, 2:2065]' / Bias section for quadrant B                   \n",
       "ORSECB  = '[2193:4249, 2066:2097]' / Row overscan section for quadrant B        \n",
       "CCDSECB = '[2058:4114, 1:2064]' / CCD section for quadrant B                    \n",
       "DETSECB = '[2058:4114, 1:2064]' / Detector section for quadrant B               \n",
       "AMPSECB = '[4114:2058, 1:2064]' / AMP section for quadrant B                    \n",
       "PRESECC = '[1:7, 2130:4193]'   / Prescan section for quadrant C                 \n",
       "PRRSECC = '[8:2064, 4194:4194]' / Row prescan section for quadrant C            \n",
       "DATASECC= '[8:2064, 2130:4193]' / Data section for quadrant C                   \n",
       "TRIMSECC= '[8:2064, 2130:4193]' / Trim section for quadrant C                   \n",
       "BIASSECC= '[2065:2128, 2130:4193]' / Bias section for quadrant C                \n",
       "ORSECC  = '[8:2064, 2098:2129]' / Row overscan section for quadrant C           \n",
       "CCDSECC = '[1:2057, 2065:4128]' / CCD section for quadrant C                    \n",
       "DETSECC = '[1:2057, 2065:4128]' / Detector section for quadrant C               \n",
       "AMPSECC = '[1:2057, 4128:2065]' / AMP section for quadrant C                    \n",
       "PRESECD = '[4250:4256, 2130:4193]' / Prescan section for quadrant D             \n",
       "PRRSECD = '[2193:4249, 4194:4194]' / Row prescan section for quadrant D         \n",
       "DATASECD= '[2193:4249, 2130:4193]' / Data section for quadrant D                \n",
       "TRIMSECD= '[2193:4249, 2130:4193]' / Trim section for quadrant D                \n",
       "BIASSECD= '[2129:2192, 2130:4193]' / Bias section for quadrant D                \n",
       "ORSECD  = '[2193:4249, 2098:2129]' / Row bias section for quadrant D            \n",
       "CCDSECD = '[2058:4114, 2065:4128]' / CCD section for quadrant D                 \n",
       "DETSECD = '[2058:4114, 2065:4128]' / Detector section for quadrant D            \n",
       "AMPSECD = '[4114:2058, 4128:2065]' / AMP section for quadrant D                 \n",
       "DAC0    = '-9.0002,-8.7962'    / [V] set value, measured value                  \n",
       "DAC1    = '-9.0002,-8.8786'    / [V] set value, measured value                  \n",
       "DAC2    = '-9.0002,-8.8271'    / [V] set value, measured value                  \n",
       "DAC3    = '-9.0002,-8.8786'    / [V] set value, measured value                  \n",
       "DAC4    = '5.9998,6.0648'      / [V] set value, measured value                  \n",
       "DAC5    = '5.9998,6.0806'      / [V] set value, measured value                  \n",
       "DAC6    = '5.9998,6.0911'      / [V] set value, measured value                  \n",
       "DAC7    = '5.9998,5.9964'      / [V] set value, measured value                  \n",
       "DAC8    = '-25.0003,-24.8273'  / [V] set value, measured value                  \n",
       "DAC9    = '-25.0003,-24.946'   / [V] set value, measured value                  \n",
       "DAC10   = '-25.0003,-24.8125'  / [V] set value, measured value                  \n",
       "DAC11   = '-25.0003,-24.0556'  / [V] set value, measured value                  \n",
       "DAC12   = '0.0,0.089'          / [V] set value, measured value                  \n",
       "DAC13   = '0.0,0.1039'         / [V] set value, measured value                  \n",
       "DAC14   = '0.0,0.089'          / [V] set value, measured value                  \n",
       "DAC15   = '0.0,0.089'          / [V] set value, measured value                  \n",
       "DAC16   = '39.9961,39.039'     / [V] set value, measured value                  \n",
       "DAC17   = '20.0008,11.8096'    / [V] set value, measured value                  \n",
       "CLOCK0  = '9.9999,0.0'         / [V] high rail, low rail                        \n",
       "CLOCK1  = '9.9999,0.0'         / [V] high rail, low rail                        \n",
       "CLOCK2  = '9.9999,0.0'         / [V] high rail, low rail                        \n",
       "CLOCK3  = '-2.0001,3.9999'     / [V] high rail, low rail                        \n",
       "CLOCK4  = '9.9999,0.0'         / [V] high rail, low rail                        \n",
       "CLOCK5  = '9.9999,0.0'         / [V] high rail, low rail                        \n",
       "CLOCK6  = '9.9999,0.0'         / [V] high rail, low rail                        \n",
       "CLOCK7  = '-2.0001,3.9999'     / [V] high rail, low rail                        \n",
       "CLOCK8  = '9.9992,2.9993'      / [V] high rail, low rail                        \n",
       "CLOCK9  = '9.9992,2.9993'      / [V] high rail, low rail                        \n",
       "CLOCK10 = '9.9992,2.9993'      / [V] high rail, low rail                        \n",
       "CLOCK11 = '9.9992,2.9993'      / [V] high rail, low rail                        \n",
       "CLOCK12 = '9.9992,2.9993'      / [V] high rail, low rail                        \n",
       "CLOCK13 = '9.9992,2.9993'      / [V] high rail, low rail                        \n",
       "CLOCK14 = '9.9992,2.9993'      / [V] high rail, low rail                        \n",
       "CLOCK15 = '9.9992,2.9993'      / [V] high rail, low rail                        \n",
       "CLOCK16 = '9.9999,3.0'         / [V] high rail, low rail                        \n",
       "CLOCK17 = '9.0,0.9999'         / [V] high rail, low rail                        \n",
       "CLOCK18 = '9.0,0.9999'         / [V] high rail, low rail                        \n",
       "OFFSET0 = '0.4000000059604645,-8.7962' / [V] set value, measured value          \n",
       "OFFSET1 = '0.4000000059604645,-8.8786' / [V] set value, measured value          \n",
       "OFFSET2 = '0.4000000059604645,-8.8271' / [V] set value, measured value          \n",
       "OFFSET3 = '0.4000000059604645,-8.8683' / [V] set value, measured value          \n",
       "OFFSET4 = '2.0,6.0595'         / [V] set value, measured value                  \n",
       "OFFSET5 = '2.0,6.0858'         / [V] set value, measured value                  \n",
       "OFFSET6 = '2.0,6.0911'         / [V] set value, measured value                  \n",
       "OFFSET7 = '2.0,5.9964'         / [V] set value, measured value                  \n",
       "DELAYS  = '20, 20, 25, 40, 7, 3000, 7, 7, 7, 7' / [10] Delay settings           \n",
       "CDSPARMS= '400, 400, 8, 2000'  / CDS parameters                                 \n",
       "PGAGAIN =                    3 / Controller gain                                \n",
       "OCSVER  =                  1.2 / OCS software version                           \n",
       "DOSVER  = 'trunk   '           / DOS software version                           \n",
       "CONSTVER= 'DESI:CURRENT'       / Constants version                              \n",
       "BLDTIME =               0.3347 / [s] Time to build image                        \n",
       "DIGITIME=              47.5379 / [s] Time to digitize image                     \n",
       "HIERARCH FIBERASSIGN = '/data/tiles/SVN_tiles/067/fiberassign-067230.fits'      \n",
       "INIFILE = '/data/msdos/dos_home/architectures/kpno/desi.ini'                    \n",
       "CHECKSUM= 'fYociYlZfYlafYlY'   / HDU checksum updated 2020-04-23T13:39:11       \n",
       "DATASUM = '1976647047'         / data unit checksum updated 2020-04-23T13:39:11 \n",
       "OVERSCNA=    1963.083919045188 / ADUs (gain not applied)                        \n",
       "OBSRDNA =    2.620827793645367 / electrons (gain is applied)                    \n",
       "GAINA   =                1.614 / e/ADU (gain applied to image)                  \n",
       "OVERSCNB=    1995.238844172171 / ADUs (gain not applied)                        \n",
       "OBSRDNB =    2.285459705384519 / electrons (gain is applied)                    \n",
       "GAINB   =                1.519 / e/ADU (gain applied to image)                  \n",
       "OVERSCNC=    1978.300921146347 / ADUs (gain not applied)                        \n",
       "OBSRDNC =    2.691667386628784 / electrons (gain is applied)                    \n",
       "GAINC   =                1.673 / e/ADU (gain applied to image)                  \n",
       "OVERSCND=    1980.140072188775 / ADUs (gain not applied)                        \n",
       "OBSRDND =    2.328341002534765 / electrons (gain is applied)                    \n",
       "GAIND   =                1.491 / e/ADU (gain applied to image)                  \n",
       "TILERA  =     138.997356099811                                                  \n",
       "TILEDEC =    0.574227370375913                                                  \n",
       "DEPNAM00= 'python  '                                                            \n",
       "DEPVER00= '3.6.6   '                                                            \n",
       "DEPNAM01= 'numpy   '                                                            \n",
       "DEPVER01= '1.16.4  '                                                            \n",
       "DEPNAM02= 'scipy   '                                                            \n",
       "DEPVER02= '1.3.0   '                                                            \n",
       "DEPNAM03= 'astropy '                                                            \n",
       "DEPVER03= '2.0.14  '                                                            \n",
       "DEPNAM04= 'yaml    '                                                            \n",
       "DEPVER04= '5.1.1   '                                                            \n",
       "DEPNAM05= 'matplotlib'                                                          \n",
       "DEPVER05= '2.1.2   '                                                            \n",
       "DEPNAM06= 'desiutil'                                                            \n",
       "DEPVER06= '3.0.0   '                                                            \n",
       "DEPNAM07= 'desispec'                                                            \n",
       "DEPVER07= '0.34.4  '                                                            \n",
       "DEPNAM08= 'desitarget'                                                          \n",
       "DEPVER08= '0.37.3  '                                                            \n",
       "DEPNAM09= 'speclite'                                                            \n",
       "DEPVER09= '0.9dev514'                                                           \n",
       "HELIOCOR=   0.9999479588860473                                                  \n",
       "NSPEC   =                  500 / Number of spectra                              \n",
       "WAVEMIN =               7520.0 / First wavelength [Angstroms]                   \n",
       "WAVEMAX =               9824.0 / Last wavelength [Angstroms]                    \n",
       "WAVESTEP=                  0.8 / Wavelength step size [Angstroms]               \n",
       "SPECTER = '0.9.3   '           / https://github.com/desihub/specter             \n",
       "IN_PSF  = '...s/20200314/00055381/psf-z0-00055381.fits' / Input spectral PSF    \n",
       "IN_IMG  = '...200314/00055381/preproc-z0-00055381.fits' / Input image           \n",
       "FIBERMIN=                    0                                                  \n",
       "BUNIT   = '10**-17 erg/(s cm2 Angstrom)'                                        \n",
       "DEPNAM10= 'fitsio  '                                                            \n",
       "DEPVER10= '0.9.11  '                                                            \n",
       "DEPNAM11= 'mpi4py  '                                                            \n",
       "DEPVER11= '3.0.1   '                                                            \n",
       "DEPNAM12= 'specter '                                                            \n",
       "DEPVER12= '0.9.3   '                                                            \n",
       "DEPNAM13= 'h5py    '                                                            \n",
       "DEPVER13= '2.9.0   '                                                            \n",
       "DEPNAM14= 'healpy  '                                                            \n",
       "DEPVER14= '1.12.9  '                                                            "
      ]
     },
     "execution_count": 512,
     "metadata": {},
     "output_type": "execute_result"
    }
   ],
   "source": [
    "hdr"
   ]
  },
  {
   "cell_type": "markdown",
   "metadata": {},
   "source": [
    "# Appendix A:  Fiberloss correction on Flux Calibration Vector"
   ]
  },
  {
   "cell_type": "code",
   "execution_count": 80,
   "metadata": {},
   "outputs": [],
   "source": [
    "# https://github.com/desihub/desispec/blob/6c9810df3929b8518d49bad14356d35137d25a89/py/desispec/fluxcalibration.py#L809"
   ]
  },
  {
   "cell_type": "code",
   "execution_count": 81,
   "metadata": {},
   "outputs": [],
   "source": [
    "from desimodel.io import load_desiparams, load_fiberpos, load_platescale, load_tiles, load_deviceloc"
   ]
  },
  {
   "cell_type": "code",
   "execution_count": 82,
   "metadata": {},
   "outputs": [],
   "source": [
    "def fiber_area_arcsec2(x, y):\n",
    "  params       = load_desiparams()\n",
    "\n",
    "  fiber_dia    = params['fibers']['diameter_um']\n",
    "    \n",
    "  x            = np.asarray(x)\n",
    "  y            = np.asarray(y)\n",
    "\n",
    "  r            = np.sqrt(x**2 + y**2)\n",
    "\n",
    "  #- Platescales in um/arcsec\n",
    "  ps           = load_platescale()\n",
    "\n",
    "  # ps['radius'] in mm.\n",
    "  radial_scale = np.interp(r, ps['radius'], ps['radial_platescale'])\n",
    "  az_scale     = np.interp(r, ps['radius'], ps['az_platescale'])\n",
    " \n",
    "  #- radial and azimuthal fiber radii in arcsec\n",
    "  rr           = 0.5 * fiber_dia / radial_scale\n",
    "  raz          = 0.5 * fiber_dia / az_scale\n",
    "\n",
    "  fiber_area = (np.pi * rr * raz)\n",
    "\n",
    "  return rr, raz, fiber_area "
   ]
  },
  {
   "cell_type": "code",
   "execution_count": 83,
   "metadata": {},
   "outputs": [
    {
     "data": {
      "text/plain": [
       "(0.7927738217452752, 0.7927738209229515, 1.9744606092121348)"
      ]
     },
     "execution_count": 83,
     "metadata": {},
     "output_type": "execute_result"
    }
   ],
   "source": [
    "fiber_area_arcsec2(0.0, 0.0)"
   ]
  },
  {
   "cell_type": "code",
   "execution_count": 84,
   "metadata": {},
   "outputs": [],
   "source": [
    "def moffatt(r, fwhm, beta=3.5):\n",
    "  ##  Apparent radial profile of star-light due to buffeting by the atmosphere.  \n",
    "  ##  Sec. 4 of https://iopscience.iop.org/article/10.1086/675808/pdf;  [arcsecond].                                                                                                                                                         \n",
    "  alpha    = fwhm / 2. / (2.**(1./beta) - 1.)**0.5\n",
    "\n",
    "  return  (2. * (beta - 1.) / alpha / alpha) * (1. + (r/alpha)**2.)**-beta"
   ]
  },
  {
   "cell_type": "code",
   "execution_count": 85,
   "metadata": {},
   "outputs": [],
   "source": [
    "fwhm       = 2.0\n",
    "dr         = 0.01\n",
    "\n",
    "rs         = np.arange(0.0, 15., dr)  ## [arcseconds].        \n",
    "ms         = moffatt(rs, fwhm)"
   ]
  },
  {
   "cell_type": "code",
   "execution_count": 86,
   "metadata": {},
   "outputs": [],
   "source": [
    "theta      = 0.7927738217452752"
   ]
  },
  {
   "cell_type": "code",
   "execution_count": 87,
   "metadata": {},
   "outputs": [
    {
     "data": {
      "text/plain": [
       "(-0.1, 6.0)"
      ]
     },
     "execution_count": 87,
     "metadata": {},
     "output_type": "execute_result"
    },
    {
     "data": {
      "image/png": "[encoded data removed]",
      "text/plain": [
       "<Figure size 432x288 with 1 Axes>"
      ]
     },
     "metadata": {
      "needs_background": "light"
     },
     "output_type": "display_data"
    }
   ],
   "source": [
    "pl.axvline(theta, alpha=0.25, c='k')\n",
    "\n",
    "pl.plot(rs, ms, c='k')\n",
    "pl.xlabel('Distance from center of star [arcseconds]')\n",
    "pl.ylabel('Relative apparent brightness of star')\n",
    "pl.xlim(left=-0.1, right=6.0)"
   ]
  },
  {
   "cell_type": "code",
   "execution_count": 88,
   "metadata": {},
   "outputs": [
    {
     "data": {
      "text/plain": [
       "Text(0, 0.5, 'FIBER FRAC.')"
      ]
     },
     "execution_count": 88,
     "metadata": {},
     "output_type": "execute_result"
    },
    {
     "data": {
      "image/png": "[encoded data removed]",
      "text/plain": [
       "<Figure size 432x288 with 1 Axes>"
      ]
     },
     "metadata": {
      "needs_background": "light"
     },
     "output_type": "display_data"
    }
   ],
   "source": [
    "# A range of full-width @ half max. values for the seeing.  \n",
    "fwhms      = np.arange(0.5, 3.5, 0.1)\n",
    "\n",
    "# Find the index in our distance grid closest to the size of a fiber. \n",
    "indx       = np.abs(rs - theta).argmin()\n",
    "\n",
    "# A list to collect the fraction of light down a fiber for each value of the seeing. \n",
    "fiberfracs = []\n",
    "\n",
    "# Loop over the seeing values. \n",
    "for i, fwhm in enumerate(fwhms):\n",
    "  # Work out the radial profile of the star.\n",
    "  ms       = moffatt(rs, fwhm)\n",
    "  \n",
    "  # Integrate this to get the total light within a radius\n",
    "  Is       = 2. * np.pi * dr * np.cumsum(rs * ms)\n",
    "\n",
    "  # Calculate the fiber fraction for each r value we as for. \n",
    "  ffrac    = Is / Is[-1]\n",
    "  \n",
    "  # Save the fiber fraction for the radius corresponding to the fiber size. \n",
    "  fiberfracs.append(ffrac[indx])\n",
    "\n",
    "fiberfracs = np.array(fiberfracs)\n",
    "\n",
    "pl.plot(fwhms, fiberfracs)\n",
    "\n",
    "pl.xlim(0.5, 3.0)\n",
    "\n",
    "pl.xlabel(r'$(FWHM) \\ Seeing \\ [{\\rm arcseconds}]$')\n",
    "pl.ylabel(r'FIBER FRAC.')"
   ]
  },
  {
   "cell_type": "markdown",
   "metadata": {},
   "source": [
    "## Done."
   ]
  }
 ],
 "metadata": {
  "kernelspec": {
   "display_name": "DESI",
   "language": "python",
   "name": "desi"
  },
  "language_info": {
   "codemirror_mode": {
    "name": "ipython",
    "version": 3
   },
   "file_extension": ".py",
   "mimetype": "text/x-python",
   "name": "python",
   "nbconvert_exporter": "python",
   "pygments_lexer": "ipython3",
   "version": "3.6.12"
  },
  "latex_envs": {
   "LaTeX_envs_menu_present": true,
   "autoclose": false,
   "autocomplete": true,
   "bibliofile": "biblio.bib",
   "cite_by": "apalike",
   "current_citInitial": 1,
   "eqLabelWithNumbers": true,
   "eqNumInitial": 1,
   "hotkeys": {
    "equation": "Ctrl-E",
    "itemize": "Ctrl-I"
   },
   "labels_anchors": false,
   "latex_user_defs": false,
   "report_style_numbering": false,
   "user_envs_cfg": false
  },
  "nbTranslate": {
   "displayLangs": [
    "*"
   ],
   "hotkey": "alt-t",
   "langInMainMenu": true,
   "sourceLang": "en",
   "targetLang": "fr",
   "useGoogleTranslate": true
  }
 },
 "nbformat": 4,
 "nbformat_minor": 4
}
