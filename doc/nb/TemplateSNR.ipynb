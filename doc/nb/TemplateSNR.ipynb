{
 "cells": [
  {
   "cell_type": "code",
   "execution_count": 475,
   "metadata": {},
   "outputs": [],
   "source": [
    "import os\n",
    "\n",
    "import glob\n",
    "import fitsio\n",
    "\n",
    "import numpy as np\n",
    "import pylab as pl\n",
    "\n",
    "import desisim.templates\n",
    "import astropy.io.fits as fits\n",
    "\n",
    "import desispec.io\n",
    "import redrock.templates\n",
    "\n",
    "from   desisim.specsim        import  get_simulator\n",
    "from   astropy.convolution    import  convolve, Box1DKernel\n",
    "from   desispec.spectra       import  Spectra\n",
    "from   desispec.resolution    import  Resolution\n",
    "\n",
    "from   desispec.interpolation import  resample_flux\n",
    "\n",
    "from   astropy.table          import  Table"
   ]
  },
  {
   "cell_type": "markdown",
   "metadata": {},
   "source": [
    "# Foundations to 1004 desispec ticket:  Template SNR and LSS rad. weights."
   ]
  },
  {
   "cell_type": "markdown",
   "metadata": {},
   "source": [
    "Template SNR:"
   ]
  },
  {
   "cell_type": "markdown",
   "metadata": {},
   "source": [
    "https://desi.lbl.gov/DocDB/cgi-bin/private/RetrieveFile?docid=4723;filename=sky-monitor-mc-study-v1.pdf;version=2"
   ]
  },
  {
   "cell_type": "code",
   "execution_count": 363,
   "metadata": {},
   "outputs": [],
   "source": [
    "andes                   = '/global/cfs/cdirs/desi/spectro/redux/andes/'\n",
    "\n",
    "os.environ['SPEC_PROD'] = andes\n",
    "os.environ['DESIMODEL'] = '/global/common/software/desi/cori/desiconda/20200801-1.4.0-spec/code/desimodel/0.13.0' "
   ]
  },
  {
   "cell_type": "markdown",
   "metadata": {},
   "source": [
    "# Get a cframe for ELG SV0 tile (67230)"
   ]
  },
  {
   "cell_type": "markdown",
   "metadata": {},
   "source": [
    "https://desi.lbl.gov/trac/wiki/TargetSelectionWG/SV0"
   ]
  },
  {
   "cell_type": "code",
   "execution_count": 364,
   "metadata": {},
   "outputs": [],
   "source": [
    "night      = '20200314'\n",
    "\n",
    "tile       = 67230\n",
    "petal      = 0\n",
    "\n",
    "# 0th fiber in the petal.\n",
    "fiber      = 0"
   ]
  },
  {
   "cell_type": "markdown",
   "metadata": {},
   "source": [
    "# Get (calibrated) spectra and calibration data "
   ]
  },
  {
   "cell_type": "code",
   "execution_count": 365,
   "metadata": {},
   "outputs": [],
   "source": [
    "# For each camera.\n",
    "frames     = {}\n",
    "cframes    = {}\n",
    "\n",
    "psfs       = {}\n",
    "skies      = {} \n",
    "\n",
    "fluxcalibs = {}\n",
    "\n",
    "for cam in ['g', 'r', 'z']:\n",
    "  # E.g.  /global/cfs/cdirs/desi/spectro/redux/andes/tiles/67230/20200314/cframe-z9-00055382.fits  \n",
    "  specpaths    = glob.glob('{}/tiles/{}/{}/cframe-{}{}-*.fits'.format(andes, tile, night, cam, petal))\n",
    "\n",
    "  expids       = [x.split('-')[-1].replace('.fits', '') for x in specpaths]\n",
    "        \n",
    "  # E.g.  /global/cfs/cdirs/desi/spectro/redux/andes/exposures/20200315/00055590/sky-r8-00055590.fits\n",
    "  # skies_path   = glob.glob('{}/exposures/{}/{}/sky-{}{}-{}.fits'.format(andes, tile, night, cam, petal))\n",
    "    \n",
    "  mjd_obs      = 0.0\n",
    "    \n",
    "  for i, specpath in enumerate(specpaths):\n",
    "    dat        = fits.open(specpath)\n",
    "    \n",
    "    _          = dat[0].header['MJD-OBS']\n",
    "\n",
    "    # Get the last in the night, for example.      \n",
    "    if _ > mjd_obs:          \n",
    "        cframes[cam]    = fitsio.FITS(specpath)\n",
    "                \n",
    "        expid           = expids[i]\n",
    "        exptime         = dat[0].header['EXPTIME']\n",
    "        \n",
    "        fiberid         = cframes[cam]['FIBERMAP']['FIBER'][fiber]\n",
    "        \n",
    "        psfs[cam]       = fitsio.FITS('{}/exposures/{}/{}/psf-{}{}-{}.fits'.format(andes, night, expid, cam, petal, expid))\n",
    "        \n",
    "        skies[cam]      = fitsio.FITS('{}/exposures/{}/{}/sky-{}{}-{}.fits'.format(andes, night, expid, cam, petal, expid))\n",
    "        \n",
    "        # https://desidatamodel.readthedocs.io/en/latest/DESI_SPECTRO_CALIB/fluxcalib-CAMERA.html\n",
    "        fluxcalibs[cam] = fitsio.FITS('{}/exposures/{}/{}/fluxcalib-{}{}-{}.fits'.format(andes, night, expid, cam, petal, expid))\n",
    "        \n",
    "        frames[cam]     = fitsio.FITS('{}/exposures/{}/{}/frame-{}{}-{}.fits'.format(andes, night, expid, cam, petal, expid))\n",
    "        \n",
    "        mjd_obs         = dat[0].header['MJD-OBS']"
   ]
  },
  {
   "cell_type": "markdown",
   "metadata": {},
   "source": [
    "# DESI sim. galaxy spectral templates "
   ]
  },
  {
   "cell_type": "code",
   "execution_count": 367,
   "metadata": {},
   "outputs": [],
   "source": [
    "def tracer_maker(wave=None, tracer='ELG', nmodel=1):\n",
    "    if tracer == 'ELG':\n",
    "        maker = desisim.templates.ELG(wave=wave)\n",
    "                \n",
    "    elif tracer == 'QSO':\n",
    "        maker = desisim.templates.QSO(wave=wave)\n",
    "    \n",
    "    else:\n",
    "        raise  ValueError('{} is not an available tracer.'.format(tracer))\n",
    "\n",
    "    flux, wave, meta, objmeta = maker.make_templates(nmodel=nmodel)\n",
    "        \n",
    "    return  wave, flux, meta, objmeta     "
   ]
  },
  {
   "cell_type": "code",
   "execution_count": 368,
   "metadata": {},
   "outputs": [],
   "source": [
    "camera                 = 'z'"
   ]
  },
  {
   "cell_type": "code",
   "execution_count": 369,
   "metadata": {},
   "outputs": [
    {
     "name": "stdout",
     "output_type": "stream",
     "text": [
      "INFO:io.py:971:read_basis_templates: Reading /global/cfs/cdirs/desi/spectro/templates/basis_templates/v3.2/elg_templates_v2.2.fits\n"
     ]
    }
   ],
   "source": [
    "wave                   = cframes[camera]['WAVELENGTH'][:]\n",
    "_, flux, meta, objmeta = tracer_maker(wave=wave, tracer='ELG')"
   ]
  },
  {
   "cell_type": "code",
   "execution_count": 429,
   "metadata": {},
   "outputs": [],
   "source": [
    "fflux                  = flux[fiber, :]\n",
    "flux_ivar              = cframes[camera]['IVAR'][fiber, :]\n",
    "\n",
    "res                    = cframes[camera]['RESOLUTION'][fiber,:,:]\n",
    "mask                   = cframes[camera]['MASK'][fiber,:]\n",
    "\n",
    "fibermap               = desispec.io.empty_fibermap(1) "
   ]
  },
  {
   "cell_type": "code",
   "execution_count": 419,
   "metadata": {},
   "outputs": [
    {
     "data": {
      "text/plain": [
       "(22.582870488986373, 22.361717643216252, 21.60609744489193)"
      ]
     },
     "execution_count": 419,
     "metadata": {},
     "output_type": "execute_result"
    }
   ],
   "source": [
    "gmag = 22.5 - 2.5 * np.log10(meta['FLUX_G'][fiber])\n",
    "rmag = 22.5 - 2.5 * np.log10(meta['FLUX_R'][fiber])\n",
    "zmag = 22.5 - 2.5 * np.log10(meta['FLUX_Z'][fiber])\n",
    "\n",
    "gmag, rmag, zmag"
   ]
  },
  {
   "cell_type": "code",
   "execution_count": 420,
   "metadata": {},
   "outputs": [
    {
     "data": {
      "text/plain": [
       "Text(0, 0.5, 'Observed flux [$10^{-17}$ erg/s/cm2/A)]')"
      ]
     },
     "execution_count": 420,
     "metadata": {},
     "output_type": "execute_result"
    },
    {
     "data": {
      "image/png": "[encoded data removed]",
      "text/plain": [
       "<Figure size 432x288 with 1 Axes>"
      ]
     },
     "metadata": {
      "needs_background": "light"
     },
     "output_type": "display_data"
    }
   ],
   "source": [
    "pl.plot(wave, fflux, c='b',    alpha=0.5)\n",
    "\n",
    "pl.xlabel('Wavelength [Angstroms]')\n",
    "pl.ylabel('Observed flux [$10^{-17}$ erg/s/cm2/A)]')"
   ]
  },
  {
   "cell_type": "code",
   "execution_count": 421,
   "metadata": {},
   "outputs": [
    {
     "data": {
      "text/plain": [
       "Text(0, 0.5, 'Counts per Angstrom')"
      ]
     },
     "execution_count": 421,
     "metadata": {},
     "output_type": "execute_result"
    },
    {
     "data": {
      "image/png": "[encoded data removed]",
      "text/plain": [
       "<Figure size 432x288 with 1 Axes>"
      ]
     },
     "metadata": {
      "needs_background": "light"
     },
     "output_type": "display_data"
    }
   ],
   "source": [
    "pl.plot(skies[camera]['WAVELENGTH'][:], skies[camera]['SKY'][fiber, :].T)\n",
    "\n",
    "pl.xlabel('Wavelength [Angstroms]')\n",
    "pl.ylabel('Counts per Angstrom')"
   ]
  },
  {
   "cell_type": "code",
   "execution_count": 422,
   "metadata": {},
   "outputs": [],
   "source": [
    "# Includes seeing and airmass terms (therefore fiberloss).\n",
    "fluxcalib = fluxcalibs[camera]['FLUXCALIB'][fiber,:]"
   ]
  },
  {
   "cell_type": "code",
   "execution_count": 423,
   "metadata": {},
   "outputs": [],
   "source": [
    "uflux     = fflux * fluxcalib   # Uncalibrated flux [counts/Angstrom] "
   ]
  },
  {
   "cell_type": "raw",
   "metadata": {},
   "source": [
    "pl.plot(wave, uflux.T, c='green', alpha=0.9)\n",
    "\n",
    "pl.plot(skies[camera]['WAVELENGTH'][:], skies[camera]['SKY'][fiber, :].T)\n",
    "\n",
    "pl.ylim(0.0, 225.)\n",
    "\n",
    "pl.xlabel('Wavelength [Angstroms]')\n",
    "pl.ylabel('Observed flux [Counts/A)]')"
   ]
  },
  {
   "cell_type": "raw",
   "metadata": {},
   "source": [
    "tflux = uflux + skies[camera]['SKY'][fiber, :] / 100."
   ]
  },
  {
   "cell_type": "raw",
   "metadata": {},
   "source": [
    "pl.plot(wave, tflux.T, c='green', alpha=0.9)\n",
    "pl.plot(wave, uflux.T, c='blue',  alpha=0.9)\n",
    "\n",
    "pl.ylim(0.0, 225.)\n",
    "\n",
    "pl.xlabel('Wavelength [Angstroms]')\n",
    "pl.ylabel('Observed flux [Counts/A)]')"
   ]
  },
  {
   "cell_type": "markdown",
   "metadata": {},
   "source": [
    "## Calculate 'templateSNR' for a DESI spectrum when given a template, an EXPID and a FIBER-TILE-ID."
   ]
  },
  {
   "cell_type": "code",
   "execution_count": 476,
   "metadata": {},
   "outputs": [],
   "source": [
    "def templateSNR(template_flux, fluxcalib=None, flux_ivar=None):\n",
    "    # dlambda per pixel = 0.8; 100A / dlambda per pixel = 125. \n",
    "    sflux  = convolve(template_flux, Box1DKernel(125)) \n",
    " \n",
    "    dflux  = flux - sflux \n",
    " \n",
    "    if fluxcalib is None:\n",
    "        # Work in calibrated flux units.\n",
    "        assert  flux_ivar is not None\n",
    "        \n",
    "        return  np.sum((dflux ** 2.) * flux_ivar)\n",
    "\n",
    "    else: \n",
    "        # Work in uncalibrated flux units.\n",
    "        dflux  *= fluxcalib\n",
    " \n",
    "        result  = dflux * dflux\n",
    "\n",
    "        # TBD.\n",
    "        denom   = np.ones_like(result)\n",
    "        \n",
    "        result /= denom\n",
    "        \n",
    "        # Eqn. (1) of https://desi.lbl.gov/DocDB/cgi-bin/private/RetrieveFile?docid=4723;filename=sky-monitor-mc-study-v1.pdf;version=2\n",
    "        return  np.sum(result)"
   ]
  },
  {
   "cell_type": "code",
   "execution_count": 479,
   "metadata": {},
   "outputs": [
    {
     "name": "stdout",
     "output_type": "stream",
     "text": [
      "67230 00055382 0 672300000\n"
     ]
    }
   ],
   "source": [
    "FIBERTILEID = 10000 * tile + fiberid\n",
    "\n",
    "print(tile, expid, fiberid, FIBERTILEID)"
   ]
  },
  {
   "cell_type": "code",
   "execution_count": 480,
   "metadata": {},
   "outputs": [
    {
     "name": "stdout",
     "output_type": "stream",
     "text": [
      "Template SNR for the z band is 30.31232313474115.]\n"
     ]
    }
   ],
   "source": [
    "print('Template SNR for the {} band is {}.]'.format(camera, templateSNR(fflux, fluxcalib=None, flux_ivar=flux_ivar)))"
   ]
  },
  {
   "cell_type": "markdown",
   "metadata": {},
   "source": [
    "##  Post-process spectra post redrock, calculate templateSNR for the redrock best-fit template."
   ]
  },
  {
   "cell_type": "markdown",
   "metadata": {},
   "source": [
    "First, run redshift fitting. "
   ]
  },
  {
   "cell_type": "code",
   "execution_count": 384,
   "metadata": {},
   "outputs": [],
   "source": [
    "# https://github.com/desihub/desisim/blob/c64ad6c14f36409833ad8616cb8ce180b1af54c1/py/desisim/scripts/quickspectra.py#L248"
   ]
  },
  {
   "cell_type": "code",
   "execution_count": 385,
   "metadata": {},
   "outputs": [],
   "source": [
    "spec      = Spectra([camera], {camera: wave}, {camera: fflux[None, :]}, {camera: flux_ivar}, \n",
    "                     resolution_data={camera : res}, \n",
    "                     mask={camera : mask}, \n",
    "                     fibermap=fibermap, \n",
    "                     meta=None,\n",
    "                     single=True)"
   ]
  },
  {
   "cell_type": "code",
   "execution_count": 386,
   "metadata": {},
   "outputs": [
    {
     "data": {
      "text/plain": [
       "'/global/cscratch1/sd/mjwilson/desi/radweights/spec_test.fits'"
      ]
     },
     "execution_count": 386,
     "metadata": {},
     "output_type": "execute_result"
    }
   ],
   "source": [
    "desispec.io.write_spectra('/global/cscratch1/sd/mjwilson/desi/radweights/spec_test.fits', spec)  "
   ]
  },
  {
   "cell_type": "code",
   "execution_count": 387,
   "metadata": {},
   "outputs": [],
   "source": [
    "# https://github.com/desihub/tutorials/blob/master/simulating-desi-spectra.ipynb\n",
    "zbest_file = os.path.join('/global/cscratch1/sd/mjwilson/desi/radweights/', 'test-zbest.fits')"
   ]
  },
  {
   "cell_type": "code",
   "execution_count": 431,
   "metadata": {},
   "outputs": [
    {
     "name": "stdout",
     "output_type": "stream",
     "text": [
      "srun -A desi -N 1 -t 00:10:00 -C haswell --qos interactive rrdesi /global/cscratch1/sd/mjwilson/desi/radweights/spec_test.fits --zbest /global/cscratch1/sd/mjwilson/desi/radweights/test-zbest.fits --mp 32\n"
     ]
    }
   ],
   "source": [
    "cmd  = 'rrdesi {} --zbest {}'.format('/global/cscratch1/sd/mjwilson/desi/radweights/spec_test.fits', zbest_file)\n",
    "srun = 'srun -A desi -N 1 -t 00:10:00 -C haswell --qos interactive'\n",
    "cmd  = '{} {} --mp 32'.format(srun, cmd)\n",
    "\n",
    "print(cmd)"
   ]
  },
  {
   "cell_type": "markdown",
   "metadata": {},
   "source": [
    "Run on Cori Linux.  Finished?  Get the results."
   ]
  },
  {
   "cell_type": "code",
   "execution_count": 481,
   "metadata": {},
   "outputs": [],
   "source": [
    "zbest = Table.read(zbest_file, 'ZBEST')"
   ]
  },
  {
   "cell_type": "code",
   "execution_count": 482,
   "metadata": {},
   "outputs": [
    {
     "data": {
      "text/html": [
       "<i>Table length=1</i>\n",
       "<table id=\"table46913493732128\" class=\"table-striped table-bordered table-condensed\">\n",
       "<thead><tr><th>TARGETID</th><th>CHI2</th><th>COEFF [10]</th><th>Z</th><th>ZERR</th><th>ZWARN</th><th>NPIXELS</th><th>SPECTYPE</th><th>SUBTYPE</th><th>NCOEFF</th><th>DELTACHI2</th><th>NUMEXP</th><th>NUMTILE</th></tr></thead>\n",
       "<thead><tr><th>int64</th><th>float64</th><th>float64</th><th>float64</th><th>float64</th><th>int64</th><th>int64</th><th>bytes6</th><th>bytes20</th><th>int64</th><th>float64</th><th>int32</th><th>int32</th></tr></thead>\n",
       "<tr><td>0</td><td>0.1012810468673706</td><td>118.60677429703631 .. 2.1036142971974714</td><td>0.9152815456943096</td><td>0.00017956067522297597</td><td>0</td><td>2824</td><td>GALAXY</td><td></td><td>10</td><td>11.341802882030606</td><td>0</td><td>0</td></tr>\n",
       "</table>"
      ],
      "text/plain": [
       "<Table length=1>\n",
       "TARGETID        CHI2        ... NUMEXP NUMTILE\n",
       " int64        float64       ... int32   int32 \n",
       "-------- ------------------ ... ------ -------\n",
       "       0 0.1012810468673706 ...      0       0"
      ]
     },
     "execution_count": 482,
     "metadata": {},
     "output_type": "execute_result"
    }
   ],
   "source": [
    "zbest"
   ]
  },
  {
   "cell_type": "code",
   "execution_count": 483,
   "metadata": {},
   "outputs": [
    {
     "data": {
      "text/plain": [
       "(0.9152733, 0.9152815456943096)"
      ]
     },
     "execution_count": 483,
     "metadata": {},
     "output_type": "execute_result"
    }
   ],
   "source": [
    "meta['REDSHIFT'][0], zbest['Z'][0]"
   ]
  },
  {
   "cell_type": "code",
   "execution_count": 484,
   "metadata": {},
   "outputs": [
    {
     "name": "stdout",
     "output_type": "stream",
     "text": [
      "DEBUG: Read templates from /global/common/software/desi/cori/desiconda/20200801-1.4.0-spec/code/redrock-templates/0.7.2\n",
      "DEBUG: Using default redshift range -0.0050-1.6997 for rrtemplate-galaxy.fits\n",
      "DEBUG: Using default redshift range 0.0500-5.9934 for rrtemplate-qso.fits\n",
      "DEBUG: Using default redshift range -0.0020-0.0020 for rrtemplate-star-A.fits\n",
      "DEBUG: Using default redshift range -0.0020-0.0020 for rrtemplate-star-B.fits\n",
      "DEBUG: Using default redshift range -0.0020-0.0020 for rrtemplate-star-CV.fits\n",
      "DEBUG: Using default redshift range -0.0020-0.0020 for rrtemplate-star-F.fits\n",
      "DEBUG: Using default redshift range -0.0020-0.0020 for rrtemplate-star-G.fits\n",
      "DEBUG: Using default redshift range -0.0020-0.0020 for rrtemplate-star-K.fits\n",
      "DEBUG: Using default redshift range -0.0020-0.0020 for rrtemplate-star-M.fits\n",
      "DEBUG: Using default redshift range -0.0020-0.0020 for rrtemplate-star-WD.fits\n"
     ]
    }
   ],
   "source": [
    "# Import redrock templates\n",
    "templates = dict()\n",
    "\n",
    "for filename in redrock.templates.find_templates():\n",
    "    t = redrock.templates.Template(filename)\n",
    "    templates[(t.template_type, t.sub_type)] = t"
   ]
  },
  {
   "cell_type": "code",
   "execution_count": 485,
   "metadata": {},
   "outputs": [],
   "source": [
    "rr_z     = zbest['Z'][0]\n",
    "\n",
    "spectype = zbest['SPECTYPE'][0].strip()\n",
    "subtype  = zbest['SUBTYPE'][0].strip()\n",
    "\n",
    "fulltype = (spectype, subtype)\n",
    "ncoeff   = templates[fulltype].flux.shape[0]\n",
    "coeff    = zbest['COEFF'][0][0:ncoeff]"
   ]
  },
  {
   "cell_type": "code",
   "execution_count": 486,
   "metadata": {},
   "outputs": [
    {
     "data": {
      "text/plain": [
       "(0.9152815456943096, ('GALAXY', ''))"
      ]
     },
     "execution_count": 486,
     "metadata": {},
     "output_type": "execute_result"
    }
   ],
   "source": [
    "rr_z, fulltype"
   ]
  },
  {
   "cell_type": "code",
   "execution_count": 487,
   "metadata": {},
   "outputs": [],
   "source": [
    "tflux    = templates[fulltype].flux.T.dot(coeff)\n",
    "twave    = templates[fulltype].wave * (1. + rr_z)"
   ]
  },
  {
   "cell_type": "code",
   "execution_count": 488,
   "metadata": {},
   "outputs": [],
   "source": [
    "R        = Resolution(res[0])\n",
    "txflux   = R.dot(resample_flux(wave, twave, tflux))"
   ]
  },
  {
   "cell_type": "code",
   "execution_count": 489,
   "metadata": {},
   "outputs": [
    {
     "data": {
      "text/plain": [
       "Text(0, 0.5, 'Observed flux [$10^{-17}$ erg/s/cm2/A)]')"
      ]
     },
     "execution_count": 489,
     "metadata": {},
     "output_type": "execute_result"
    },
    {
     "data": {
      "image/png": "[encoded data removed]",
      "text/plain": [
       "<Figure size 432x288 with 1 Axes>"
      ]
     },
     "metadata": {
      "needs_background": "light"
     },
     "output_type": "display_data"
    }
   ],
   "source": [
    "pl.plot(wave, fflux.T,  c='blue', alpha=0.9)\n",
    "pl.plot(wave, txflux,   c='gold', alpha=0.4)\n",
    "\n",
    "pl.xlim(wave[0], wave[-1])\n",
    "pl.ylim(0.0, 2.0)\n",
    "\n",
    "pl.xlabel('Wavelength [Angstroms]')\n",
    "pl.ylabel('Observed flux [$10^{-17}$ erg/s/cm2/A)]')"
   ]
  },
  {
   "cell_type": "code",
   "execution_count": 490,
   "metadata": {},
   "outputs": [
    {
     "name": "stdout",
     "output_type": "stream",
     "text": [
      "Template SNR for the z band is 30.31232313474115.]\n"
     ]
    }
   ],
   "source": [
    "print('Template SNR for the {} band is {}.]'.format(camera, templateSNR(fflux, fluxcalib=None, flux_ivar=flux_ivar)))"
   ]
  },
  {
   "cell_type": "code",
   "execution_count": 491,
   "metadata": {},
   "outputs": [
    {
     "name": "stdout",
     "output_type": "stream",
     "text": [
      "RRTemplate SNR for the z band is 30.28025238859542.]\n"
     ]
    }
   ],
   "source": [
    "print('RRTemplate SNR for the {} band is {}.]'.format(camera, templateSNR(txflux, fluxcalib=None, flux_ivar=flux_ivar)))"
   ]
  },
  {
   "cell_type": "code",
   "execution_count": 492,
   "metadata": {},
   "outputs": [],
   "source": [
    "dChi2         = zbest['DELTACHI2']\n",
    "\n",
    "templatesnr   = templateSNR(fflux, fluxcalib=None, flux_ivar=flux_ivar)\n",
    "rrtemplatesnr = templateSNR(txflux, fluxcalib=None, flux_ivar=flux_ivar)"
   ]
  },
  {
   "cell_type": "code",
   "execution_count": 493,
   "metadata": {},
   "outputs": [
    {
     "data": {
      "text/plain": [
       "[<matplotlib.lines.Line2D at 0x2aaae6002460>]"
      ]
     },
     "execution_count": 493,
     "metadata": {},
     "output_type": "execute_result"
    },
    {
     "data": {
      "image/png": "[encoded data removed]",
      "text/plain": [
       "<Figure size 432x288 with 1 Axes>"
      ]
     },
     "metadata": {
      "needs_background": "light"
     },
     "output_type": "display_data"
    }
   ],
   "source": [
    "pl.plot(templatesnr,   dChi2, marker='.', c='k')\n",
    "pl.plot(rrtemplatesnr, dChi2, marker='.', c='r')"
   ]
  },
  {
   "cell_type": "markdown",
   "metadata": {},
   "source": [
    "##  Rad. weights"
   ]
  },
  {
   "cell_type": "markdown",
   "metadata": {},
   "source": [
    "_Each tile, each fiber, a redshift efficiency as a function of redshift and target magnitude, per target class. This could be\n",
    "for instance in the form of fits images in 3D (fiber x redshift x magnitude), with one HDU per target class, and one fits\n",
    "file per tile_"
   ]
  },
  {
   "cell_type": "code",
   "execution_count": 511,
   "metadata": {},
   "outputs": [],
   "source": [
    "hdr             = fits.open(specpath)[0].header\n",
    "\n",
    "hdr['EXTNAME']  = 'RADWEIGHT'\n",
    "\n",
    "primary         = fits.PrimaryHDU(header=hdr)\n",
    "\n",
    "# LRG\n",
    "lrg_radweight   = fits.ImageHDU(np.zeros((1, 25, 25)), name='LRG')\n",
    "\n",
    "# ELG\n",
    "elg_radweight   = fits.ImageHDU(np.zeros((1, 25, 25)), name='ELG')\n",
    "\n",
    "# QSO\n",
    "qso_radweight   = fits.ImageHDU(np.zeros((1, 25, 25)), name='QSO')\n",
    "\n",
    "# List\n",
    "all_hdus        = fits.HDUList([primary, lrg_radweight, elg_radweight, qso_radweight])\n",
    "\n",
    "all_hdus.writeto('/global/cscratch1/sd/mjwilson/desi/radweights/lss_radweights.fits', overwrite=True)"
   ]
  },
  {
   "cell_type": "code",
   "execution_count": 512,
   "metadata": {},
   "outputs": [
    {
     "data": {
      "text/plain": [
       "SIMPLE  =                    T / conforms to FITS standard                      \n",
       "BITPIX  =                  -32 / array data type                                \n",
       "NAXIS   =                    2 / number of array dimensions                     \n",
       "NAXIS1  =                 2881                                                  \n",
       "NAXIS2  =                  500                                                  \n",
       "EXTEND  =                    T                                                  \n",
       "EXTNAME = 'RADWEIGHT'                                                           \n",
       "OBSERVAT= 'KPNO    '           / Observatory name                               \n",
       "OBS-LAT = '31.96403'           / [deg] Observatory latitude                     \n",
       "OBS-LONG= '-111.59989'         / [deg] Observatory east longitude               \n",
       "OBS-ELEV=                2097. / [m] Observatory elevation                      \n",
       "TELESCOP= 'KPNO 4.0-m telescope' / Telescope name                               \n",
       "INSTRUME= 'DESI    '           / Instrument name                                \n",
       "CORRCTOR= 'DESI Corrector'     / Corrector Identification                       \n",
       "PROCTYPE= 'RAW     '           / Data processing level                          \n",
       "PRODTYPE= 'image   '           / Data product type                              \n",
       "PROGRAM = 'Mini SV ELG Tile 67230' / Program name                               \n",
       "OBSERVER= 'DESIObserver'       / Names of observers                             \n",
       "LEAD    = 'Luke Tyas'          / Lead observer                                  \n",
       "PROPID  = '2019B-5000'         / Proposal ID                                    \n",
       "TILEID  =                67230 / DESI Tile ID                                   \n",
       "EXPID   =                55381 / Exposure number                                \n",
       "EXPFRAME=                    0 / Frame number                                   \n",
       "FILENAME= '/exposures/desi/specs/20200314/00055381/sp5-00055381.fits.fz' / Name \n",
       "FLAVOR  = 'science '           / Observation type                               \n",
       "REQTIME =                 900. / [s] Requested exposure time                    \n",
       "EXPTIME =                 900. / [s] Actual exposure time                       \n",
       "OBSID   = 'kp4m20200315t050220' / Unique observation identifier                 \n",
       "FOCUS   = '1070.4,-272.6,597.6,-19.2,22.4,204.6' / Telescope focus settings     \n",
       "TIMESYS = 'UTC     '           / Time system used for date-obs                  \n",
       "RADESYS = 'FK5     '           / Coordinate reference frame of major/minor axes \n",
       "EPOCH   =                2000. / Epoch of observation                           \n",
       "NIGHT   = '20200314'           / Observing night                                \n",
       "DATE-OBS= '2020-03-15T05:02:20.536518' / [UTC] Observation data and start time  \n",
       "TIME-OBS= '05:02:20.536518'    / [UTC] Observation start time                   \n",
       "MJD-OBS =       58923.20995991 / Modified Julian Date of observation            \n",
       "ST      = '09:08:59.660'       / Local Sidereal time at observation start (HH:MM\n",
       "REQRA   =     138.997356099811 / [deg] Requested right ascension (observer input\n",
       "REQDEC  =    0.574227370375913 / [deg] Requested declination (observer input)   \n",
       "TARGTRA =           138.997958 / [deg] Target right ascension (to TCS)          \n",
       "TARGTDEC=              0.56765 / [deg] Target declination (to TCS)              \n",
       "SKYRA   =           138.997958 / [deg] Telescope right ascension (pointing on sk\n",
       "SKYDEC  =              0.56765 / [deg] Telescope declination (pointing on sky)  \n",
       "SPECGRPH=                    0 / Spectrograph logical name (SP)                 \n",
       "SPECID  =                    4 / Spectrograph serial number (SM)                \n",
       "DETECTOR= 'M1-53   '           / Detector (ccd) identification                  \n",
       "CAMERA  = 'z0      '           / Camera name                                    \n",
       "CCDNAME = 'CCDSM4Z '           / CCD name                                       \n",
       "CCDPREP = 'purge,clear'        / CCD prep actions                               \n",
       "CCDSIZE = '4194,4256'          / CCD size in pixels (rows, columns)             \n",
       "CCDTEMP =            -137.7093 / [deg C] CCD controller CCD temperature         \n",
       "CPUTEMP =              59.9472 / [deg C] CCD controller CPU temperature         \n",
       "CASETEMP=              60.3064 / [deg C] CCD controller case temperature        \n",
       "CCDTMING= 'default_lbnl_timing_20180905.txt' / CCD timing file                  \n",
       "CCDCFG  = 'default_lbnl_20190717.cfg' / CCD configuration file                  \n",
       "SETTINGS= 'detectors_sm_20191211.json' / Name of DESI CCD settings file         \n",
       "VESSEL  =                   17 / Cryostat serial number                         \n",
       "FEEVER  = 'v20160312'          / CCD Controller version                         \n",
       "FEEBOX  = 'lbnl082 '           / CCD Controller serial number                   \n",
       "PRESECA = '[1:7, 2:2065]'      / Prescan section for quadrant A                 \n",
       "PRRSECA = '[8:2064, 1:1]'      / Row prescan section for quadrant A             \n",
       "DATASECA= '[8:2064, 2:2065]'   / Data section for quadrant A                    \n",
       "TRIMSECA= '[8:2064, 2:2065]'   / Trim section for quadrant A                    \n",
       "BIASSECA= '[2065:2128, 2:2065]' / Bias section for quadrant A                   \n",
       "ORSECA  = '[8:2064, 2066:2097]' / Row overscan section for quadrant A           \n",
       "CCDSECA = '[1:2057, 1:2064]'   / CCD section for quadrant A                     \n",
       "DETSECA = '[1:2057, 1:2064]'   / Detector section for quadrant A                \n",
       "AMPSECA = '[1:2057, 1:2064]'   / AMP section for quadrant A                     \n",
       "PRESECB = '[4250:4256, 2:2065]' / Prescan section for quadrant B                \n",
       "PRRSECB = '[2193:4249, 1:1]'   / Row prescan section for quadrant B             \n",
       "DATASECB= '[2193:4249, 2:2065]' / Data section for quadrant B                   \n",
       "TRIMSECB= '[2193:4249, 2:2065]' / Trim section for quadrant B                   \n",
       "BIASSECB= '[2129:2192, 2:2065]' / Bias section for quadrant B                   \n",
       "ORSECB  = '[2193:4249, 2066:2097]' / Row overscan section for quadrant B        \n",
       "CCDSECB = '[2058:4114, 1:2064]' / CCD section for quadrant B                    \n",
       "DETSECB = '[2058:4114, 1:2064]' / Detector section for quadrant B               \n",
       "AMPSECB = '[4114:2058, 1:2064]' / AMP section for quadrant B                    \n",
       "PRESECC = '[1:7, 2130:4193]'   / Prescan section for quadrant C                 \n",
       "PRRSECC = '[8:2064, 4194:4194]' / Row prescan section for quadrant C            \n",
       "DATASECC= '[8:2064, 2130:4193]' / Data section for quadrant C                   \n",
       "TRIMSECC= '[8:2064, 2130:4193]' / Trim section for quadrant C                   \n",
       "BIASSECC= '[2065:2128, 2130:4193]' / Bias section for quadrant C                \n",
       "ORSECC  = '[8:2064, 2098:2129]' / Row overscan section for quadrant C           \n",
       "CCDSECC = '[1:2057, 2065:4128]' / CCD section for quadrant C                    \n",
       "DETSECC = '[1:2057, 2065:4128]' / Detector section for quadrant C               \n",
       "AMPSECC = '[1:2057, 4128:2065]' / AMP section for quadrant C                    \n",
       "PRESECD = '[4250:4256, 2130:4193]' / Prescan section for quadrant D             \n",
       "PRRSECD = '[2193:4249, 4194:4194]' / Row prescan section for quadrant D         \n",
       "DATASECD= '[2193:4249, 2130:4193]' / Data section for quadrant D                \n",
       "TRIMSECD= '[2193:4249, 2130:4193]' / Trim section for quadrant D                \n",
       "BIASSECD= '[2129:2192, 2130:4193]' / Bias section for quadrant D                \n",
       "ORSECD  = '[2193:4249, 2098:2129]' / Row bias section for quadrant D            \n",
       "CCDSECD = '[2058:4114, 2065:4128]' / CCD section for quadrant D                 \n",
       "DETSECD = '[2058:4114, 2065:4128]' / Detector section for quadrant D            \n",
       "AMPSECD = '[4114:2058, 4128:2065]' / AMP section for quadrant D                 \n",
       "DAC0    = '-9.0002,-8.7962'    / [V] set value, measured value                  \n",
       "DAC1    = '-9.0002,-8.8786'    / [V] set value, measured value                  \n",
       "DAC2    = '-9.0002,-8.8271'    / [V] set value, measured value                  \n",
       "DAC3    = '-9.0002,-8.8786'    / [V] set value, measured value                  \n",
       "DAC4    = '5.9998,6.0648'      / [V] set value, measured value                  \n",
       "DAC5    = '5.9998,6.0806'      / [V] set value, measured value                  \n",
       "DAC6    = '5.9998,6.0911'      / [V] set value, measured value                  \n",
       "DAC7    = '5.9998,5.9964'      / [V] set value, measured value                  \n",
       "DAC8    = '-25.0003,-24.8273'  / [V] set value, measured value                  \n",
       "DAC9    = '-25.0003,-24.946'   / [V] set value, measured value                  \n",
       "DAC10   = '-25.0003,-24.8125'  / [V] set value, measured value                  \n",
       "DAC11   = '-25.0003,-24.0556'  / [V] set value, measured value                  \n",
       "DAC12   = '0.0,0.089'          / [V] set value, measured value                  \n",
       "DAC13   = '0.0,0.1039'         / [V] set value, measured value                  \n",
       "DAC14   = '0.0,0.089'          / [V] set value, measured value                  \n",
       "DAC15   = '0.0,0.089'          / [V] set value, measured value                  \n",
       "DAC16   = '39.9961,39.039'     / [V] set value, measured value                  \n",
       "DAC17   = '20.0008,11.8096'    / [V] set value, measured value                  \n",
       "CLOCK0  = '9.9999,0.0'         / [V] high rail, low rail                        \n",
       "CLOCK1  = '9.9999,0.0'         / [V] high rail, low rail                        \n",
       "CLOCK2  = '9.9999,0.0'         / [V] high rail, low rail                        \n",
       "CLOCK3  = '-2.0001,3.9999'     / [V] high rail, low rail                        \n",
       "CLOCK4  = '9.9999,0.0'         / [V] high rail, low rail                        \n",
       "CLOCK5  = '9.9999,0.0'         / [V] high rail, low rail                        \n",
       "CLOCK6  = '9.9999,0.0'         / [V] high rail, low rail                        \n",
       "CLOCK7  = '-2.0001,3.9999'     / [V] high rail, low rail                        \n",
       "CLOCK8  = '9.9992,2.9993'      / [V] high rail, low rail                        \n",
       "CLOCK9  = '9.9992,2.9993'      / [V] high rail, low rail                        \n",
       "CLOCK10 = '9.9992,2.9993'      / [V] high rail, low rail                        \n",
       "CLOCK11 = '9.9992,2.9993'      / [V] high rail, low rail                        \n",
       "CLOCK12 = '9.9992,2.9993'      / [V] high rail, low rail                        \n",
       "CLOCK13 = '9.9992,2.9993'      / [V] high rail, low rail                        \n",
       "CLOCK14 = '9.9992,2.9993'      / [V] high rail, low rail                        \n",
       "CLOCK15 = '9.9992,2.9993'      / [V] high rail, low rail                        \n",
       "CLOCK16 = '9.9999,3.0'         / [V] high rail, low rail                        \n",
       "CLOCK17 = '9.0,0.9999'         / [V] high rail, low rail                        \n",
       "CLOCK18 = '9.0,0.9999'         / [V] high rail, low rail                        \n",
       "OFFSET0 = '0.4000000059604645,-8.7962' / [V] set value, measured value          \n",
       "OFFSET1 = '0.4000000059604645,-8.8786' / [V] set value, measured value          \n",
       "OFFSET2 = '0.4000000059604645,-8.8271' / [V] set value, measured value          \n",
       "OFFSET3 = '0.4000000059604645,-8.8683' / [V] set value, measured value          \n",
       "OFFSET4 = '2.0,6.0595'         / [V] set value, measured value                  \n",
       "OFFSET5 = '2.0,6.0858'         / [V] set value, measured value                  \n",
       "OFFSET6 = '2.0,6.0911'         / [V] set value, measured value                  \n",
       "OFFSET7 = '2.0,5.9964'         / [V] set value, measured value                  \n",
       "DELAYS  = '20, 20, 25, 40, 7, 3000, 7, 7, 7, 7' / [10] Delay settings           \n",
       "CDSPARMS= '400, 400, 8, 2000'  / CDS parameters                                 \n",
       "PGAGAIN =                    3 / Controller gain                                \n",
       "OCSVER  =                  1.2 / OCS software version                           \n",
       "DOSVER  = 'trunk   '           / DOS software version                           \n",
       "CONSTVER= 'DESI:CURRENT'       / Constants version                              \n",
       "BLDTIME =               0.3347 / [s] Time to build image                        \n",
       "DIGITIME=              47.5379 / [s] Time to digitize image                     \n",
       "HIERARCH FIBERASSIGN = '/data/tiles/SVN_tiles/067/fiberassign-067230.fits'      \n",
       "INIFILE = '/data/msdos/dos_home/architectures/kpno/desi.ini'                    \n",
       "CHECKSUM= 'fYociYlZfYlafYlY'   / HDU checksum updated 2020-04-23T13:39:11       \n",
       "DATASUM = '1976647047'         / data unit checksum updated 2020-04-23T13:39:11 \n",
       "OVERSCNA=    1963.083919045188 / ADUs (gain not applied)                        \n",
       "OBSRDNA =    2.620827793645367 / electrons (gain is applied)                    \n",
       "GAINA   =                1.614 / e/ADU (gain applied to image)                  \n",
       "OVERSCNB=    1995.238844172171 / ADUs (gain not applied)                        \n",
       "OBSRDNB =    2.285459705384519 / electrons (gain is applied)                    \n",
       "GAINB   =                1.519 / e/ADU (gain applied to image)                  \n",
       "OVERSCNC=    1978.300921146347 / ADUs (gain not applied)                        \n",
       "OBSRDNC =    2.691667386628784 / electrons (gain is applied)                    \n",
       "GAINC   =                1.673 / e/ADU (gain applied to image)                  \n",
       "OVERSCND=    1980.140072188775 / ADUs (gain not applied)                        \n",
       "OBSRDND =    2.328341002534765 / electrons (gain is applied)                    \n",
       "GAIND   =                1.491 / e/ADU (gain applied to image)                  \n",
       "TILERA  =     138.997356099811                                                  \n",
       "TILEDEC =    0.574227370375913                                                  \n",
       "DEPNAM00= 'python  '                                                            \n",
       "DEPVER00= '3.6.6   '                                                            \n",
       "DEPNAM01= 'numpy   '                                                            \n",
       "DEPVER01= '1.16.4  '                                                            \n",
       "DEPNAM02= 'scipy   '                                                            \n",
       "DEPVER02= '1.3.0   '                                                            \n",
       "DEPNAM03= 'astropy '                                                            \n",
       "DEPVER03= '2.0.14  '                                                            \n",
       "DEPNAM04= 'yaml    '                                                            \n",
       "DEPVER04= '5.1.1   '                                                            \n",
       "DEPNAM05= 'matplotlib'                                                          \n",
       "DEPVER05= '2.1.2   '                                                            \n",
       "DEPNAM06= 'desiutil'                                                            \n",
       "DEPVER06= '3.0.0   '                                                            \n",
       "DEPNAM07= 'desispec'                                                            \n",
       "DEPVER07= '0.34.4  '                                                            \n",
       "DEPNAM08= 'desitarget'                                                          \n",
       "DEPVER08= '0.37.3  '                                                            \n",
       "DEPNAM09= 'speclite'                                                            \n",
       "DEPVER09= '0.9dev514'                                                           \n",
       "HELIOCOR=   0.9999479588860473                                                  \n",
       "NSPEC   =                  500 / Number of spectra                              \n",
       "WAVEMIN =               7520.0 / First wavelength [Angstroms]                   \n",
       "WAVEMAX =               9824.0 / Last wavelength [Angstroms]                    \n",
       "WAVESTEP=                  0.8 / Wavelength step size [Angstroms]               \n",
       "SPECTER = '0.9.3   '           / https://github.com/desihub/specter             \n",
       "IN_PSF  = '...s/20200314/00055381/psf-z0-00055381.fits' / Input spectral PSF    \n",
       "IN_IMG  = '...200314/00055381/preproc-z0-00055381.fits' / Input image           \n",
       "FIBERMIN=                    0                                                  \n",
       "BUNIT   = '10**-17 erg/(s cm2 Angstrom)'                                        \n",
       "DEPNAM10= 'fitsio  '                                                            \n",
       "DEPVER10= '0.9.11  '                                                            \n",
       "DEPNAM11= 'mpi4py  '                                                            \n",
       "DEPVER11= '3.0.1   '                                                            \n",
       "DEPNAM12= 'specter '                                                            \n",
       "DEPVER12= '0.9.3   '                                                            \n",
       "DEPNAM13= 'h5py    '                                                            \n",
       "DEPVER13= '2.9.0   '                                                            \n",
       "DEPNAM14= 'healpy  '                                                            \n",
       "DEPVER14= '1.12.9  '                                                            "
      ]
     },
     "execution_count": 512,
     "metadata": {},
     "output_type": "execute_result"
    }
   ],
   "source": [
    "hdr"
   ]
  },
  {
   "cell_type": "markdown",
   "metadata": {},
   "source": [
    "## Done."
   ]
  }
 ],
 "metadata": {
  "kernelspec": {
   "display_name": "DESI 20.8",
   "language": "python",
   "name": "desi-20.8"
  },
  "language_info": {
   "codemirror_mode": {
    "name": "ipython",
    "version": 3
   },
   "file_extension": ".py",
   "mimetype": "text/x-python",
   "name": "python",
   "nbconvert_exporter": "python",
   "pygments_lexer": "ipython3",
   "version": "3.8.3"
  },
  "latex_envs": {
   "LaTeX_envs_menu_present": true,
   "autoclose": false,
   "autocomplete": true,
   "bibliofile": "biblio.bib",
   "cite_by": "apalike",
   "current_citInitial": 1,
   "eqLabelWithNumbers": true,
   "eqNumInitial": 1,
   "hotkeys": {
    "equation": "Ctrl-E",
    "itemize": "Ctrl-I"
   },
   "labels_anchors": false,
   "latex_user_defs": false,
   "report_style_numbering": false,
   "user_envs_cfg": false
  },
  "nbTranslate": {
   "displayLangs": [
    "*"
   ],
   "hotkey": "alt-t",
   "langInMainMenu": true,
   "sourceLang": "en",
   "targetLang": "fr",
   "useGoogleTranslate": true
  }
 },
 "nbformat": 4,
 "nbformat_minor": 4
}
