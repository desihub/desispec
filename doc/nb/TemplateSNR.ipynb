{
 "cells": [
  {
   "cell_type": "code",
   "execution_count": 1,
   "metadata": {},
   "outputs": [],
   "source": [
    "import os\n",
    "\n",
    "import glob\n",
    "import fitsio\n",
    "\n",
    "import itertools\n",
    "\n",
    "import numpy as np\n",
    "import pylab as pl\n",
    "\n",
    "import desisim.templates\n",
    "import astropy.io.fits          as      fits\n",
    "\n",
    "import desispec.io\n",
    "import redrock.templates\n",
    "import matplotlib.pyplot        as      plt\n",
    "\n",
    "from   astropy.convolution      import  convolve, Box1DKernel\n",
    "from   desispec.spectra         import  Spectra\n",
    "from   desispec.resolution      import  Resolution\n",
    "from   desispec.io.meta         import  findfile\n",
    "from   desispec.io              import  read_frame, read_fiberflat, read_flux_calibration, read_sky, read_fibermap \n",
    "\n",
    "from   desispec.interpolation   import  resample_flux\n",
    "\n",
    "from   astropy.table            import  Table\n",
    "from   desispec.io.image        import  read_image\n",
    "\n",
    "from   specter.psf.gausshermite import  GaussHermitePSF\n",
    "from   scipy.signal             import  medfilt"
   ]
  },
  {
   "cell_type": "markdown",
   "metadata": {},
   "source": [
    "# Foundations to 1004 desispec ticket:  Template SNR and LSS rad. weights."
   ]
  },
  {
   "cell_type": "markdown",
   "metadata": {},
   "source": [
    "Template SNR:"
   ]
  },
  {
   "cell_type": "markdown",
   "metadata": {},
   "source": [
    "https://desi.lbl.gov/DocDB/cgi-bin/private/RetrieveFile?docid=4723;filename=sky-monitor-mc-study-v1.pdf;version=2"
   ]
  },
  {
   "cell_type": "markdown",
   "metadata": {},
   "source": [
    "applied to SV0 dataset:"
   ]
  },
  {
   "cell_type": "markdown",
   "metadata": {},
   "source": [
    "https://desi.lbl.gov/trac/wiki/TargetSelectionWG/SV0"
   ]
  },
  {
   "cell_type": "code",
   "execution_count": 2,
   "metadata": {},
   "outputs": [],
   "source": [
    "expid  = 55382\n",
    "\n",
    "# Should be derivable.\n",
    "tile   = 67230\n",
    "flatid = 55530"
   ]
  },
  {
   "cell_type": "markdown",
   "metadata": {},
   "source": [
    "# Template SNR"
   ]
  },
  {
   "cell_type": "markdown",
   "metadata": {},
   "source": [
    "$\\Huge \\langle tSNR^2 \\rangle = \\sum_{grz} \\sum_{\\lambda \\in grz} \\frac{\\tau^2 T^2 \\langle \\Delta F^2 \\rangle}{\\sigma_e^2 \\cdot {\\rm NPIX} + \\tau T_{\\rm sky}  F_{\\rm sky}}$"
   ]
  },
  {
   "cell_type": "markdown",
   "metadata": {},
   "source": [
    "_\"We choose to normalize it such that zSNR = 3 for a 1000 sec dark time exposure in\n",
    "nominal conditions.\"_"
   ]
  },
  {
   "cell_type": "markdown",
   "metadata": {},
   "source": [
    "Here:  \n",
    "- $\\sigma_e$ is the READNOISE in units of ELECTRONS / PIXEL. \n",
    "- NPIX is the projected fiber area in units of PIXELS for a width of **ONE ANGSTROM**.  \n",
    "- $\\Delta F$ is the residual (template) flux from a 100A filtered equivalent.\n",
    "- $\\tau$ is the exposure time, already included in the flux calib.\n",
    "- $T_{\\rm sky} F_{\\rm sky}$ is the estimated fiber sky flux in units of ELECTRONS PER ANGSTROM."
   ]
  },
  {
   "cell_type": "code",
   "execution_count": 4,
   "metadata": {},
   "outputs": [],
   "source": [
    "def templateSNR(template_flux, sky_flux=None, flux_calib=None, fiberflat=None, readnoise=None, npix=None, angstroms_per_pixel=None, fiberloss=None, flux_ivar=None):\n",
    "    \"\"\"\n",
    "        Creates a spectroscopic radial weights.\n",
    "        \n",
    "        Args:\n",
    "            template_flux: ergs/s/cm2/A \n",
    "            sky_flux: electrons/A\n",
    "            flux_calib: \n",
    "            readnoise:electrons/pixel\n",
    "            npix:\n",
    "            angstroms_per_pixel: in the wavelength direction.\n",
    "            fiberloss:\n",
    "            flux_ivar: Equivalent to calibrated flux [ergs/s/cm2/A]. \n",
    "            \n",
    "        Optional inputs:\n",
    "            ...\n",
    "\n",
    "        Returns:\n",
    "            template S/N per camera.\n",
    "    \"\"\"\n",
    "    # dlambda per pixel = 0.8; 100A / dlambda per pixel = 125. \n",
    "    sflux = convolve(template_flux, Box1DKernel(125))  \n",
    "    dflux = template_flux - sflux \n",
    "    \n",
    "    if flux_ivar is not None:\n",
    "        # Work in calibrated flux units.\n",
    "        # Assumes Poisson Variance from source is negligible.\n",
    "        return  np.sum(flux_ivar * dflux ** 2.)\n",
    "\n",
    "    else: \n",
    "        # Work in uncalibrated flux units (electrons per angstrom); flux_calib includes exptime. tau.\n",
    "        dflux  *= flux_calib    # [e/A]\n",
    " \n",
    "        # Wavelength dependent fiber flat;  Multiply or divide - check with Julien. \n",
    "        result *= fiberflat\n",
    "\n",
    "        result  = dflux * dflux\n",
    "    \n",
    "        lossless_fluxcalib = flux_calib / fiberloss\n",
    "    \n",
    "        # RDNOISE & NPIX assumed wavelength independent.\n",
    "        # TO DO:  How to deal with fiberflat here?  Relative between two fibers? \n",
    "        denom   = readnoise**2 * npix / angstroms_per_pixel + fiberflat * sky_flux\n",
    "        \n",
    "        result /= denom\n",
    "        \n",
    "        # Eqn. (1) of https://desi.lbl.gov/DocDB/cgi-bin/private/RetrieveFile?docid=4723;filename=sky-monitor-mc-study-v1.pdf;version=2\n",
    "        return  np.sum(result)"
   ]
  },
  {
   "cell_type": "markdown",
   "metadata": {},
   "source": [
    "# Rad. Weights Class Definition"
   ]
  },
  {
   "cell_type": "code",
   "execution_count": 159,
   "metadata": {},
   "outputs": [],
   "source": [
    "class RadWeights(object):\n",
    "    def __init__(self, expid, tile, flatid, cameras=None, andes=None):\n",
    "        \"\"\"\n",
    "        Creates a spectroscopic radial weights.\n",
    "        \n",
    "        Args:\n",
    "            night: \n",
    "            expid: \n",
    "            \n",
    "        Optional inputs:\n",
    "            andes: \n",
    "        \"\"\"\n",
    "        \n",
    "        if andes is None:\n",
    "            # /global/cfs/cdirs/desi/spectro/redux/andes/'\n",
    "            self.andes  = '/global/scratch/mjwilson/desi-data.dm.noao.edu/desi/spectro/redux/andes'\n",
    "\n",
    "        # os.environ['DESIMODEL']          = '/global/common/software/desi/cori/desiconda/20200801-1.4.0-spec/code/desimodel/0.13.0' \n",
    "        os.environ['DESIMODEL']            = '/global/scratch/mjwilson/miniconda3/envs/desi/code/desimodel'\n",
    "        os.environ['DESI_BASIS_TEMPLATES'] = '/global/scratch/mjwilson/desi-data.dm.noao.edu/desi/spectro/templates/basis_templates/v3.1/'\n",
    "        os.environ['RESULTS']              = '/global/scratch/mjwilson'\n",
    "\n",
    "        self.tileid           = tile\n",
    "        self.expid            = expid\n",
    "        self.flatid           = flatid\n",
    "        self.cameras          = cameras\n",
    "        \n",
    "        self.nmodel           =  0\n",
    "        self.ensemble_flux    = {}\n",
    "        self.ensemble_meta    = {}\n",
    "        self.ensemble_objmeta = {}          \n",
    "        \n",
    "        self.get_gfas()\n",
    "        \n",
    "        self.get_data()\n",
    "        \n",
    "    def get_gfas(self, printit=False, root='/global/scratch/mjwilson'):\n",
    "      gfa = Table.read(root + '/offline_all_guide_ccds_SV0.fits')\n",
    "    \n",
    "      # Quality cuts. \n",
    "      gfa = gfa[gfa['SPECTRO_EXPID'] > -1]\n",
    "      gfa = gfa[gfa['N_SOURCES_FOR_PSF'] > 2]\n",
    "      gfa = gfa[gfa['CONTRAST'] > 2]\n",
    "      gfa = gfa[gfa['NPIX_BAD_TOTAL'] < 10]\n",
    "\n",
    "      gfa.sort('SPECTRO_EXPID')\n",
    "\n",
    "      by_spectro_expid = gfa.group_by('SPECTRO_EXPID')\n",
    "\n",
    "      # np.mean\n",
    "      self.gfa_median  = by_spectro_expid.groups.aggregate(np.median)\n",
    " \n",
    "      self.gfa_median_exposure = self.gfa_median[self.gfa_median['SPECTRO_EXPID'] == expid]\n",
    "\n",
    "      self.gfa_median_exposure = self.gfa_median_exposure['SPECTRO_EXPID', 'FWHM_ASEC', 'TRANSPARENCY', 'FIBER_FRACFLUX', 'SKY_MAG_AB', 'MJD', 'NIGHT']\n",
    "    \n",
    "      self.night       = np.int(self.gfa_median_exposure['NIGHT'])\n",
    "      self.fiberloss   = self.gfa_median_exposure['FIBER_FRACFLUX'][0]\n",
    "        \n",
    "      if printit:\n",
    "          print(self.gfa_median)\n",
    "       \n",
    "    def get_data(self):    \n",
    "        # For each camera.\n",
    "        self.frames     = {}\n",
    "        self.cframes    = {}\n",
    "\n",
    "        self.psfs       = {}\n",
    "        self.skies      = {} \n",
    "\n",
    "        self.fluxcalibs = {}\n",
    "\n",
    "        self.fiberflats = {}  # NOT including in the flux calibration. \n",
    "    \n",
    "        self.fibermaps  = {} \n",
    "        \n",
    "        self.psf_nights = {}\n",
    "\n",
    "        self.preprocs   = {}\n",
    "\n",
    "        if self.cameras is None:\n",
    "            petals       = np.arange(10)\n",
    "            self.cameras = [x[0] + x[1] for x in itertools.product(['b', 'r', 'z'], petals.astype(np.str))]\n",
    "                \n",
    "        else:\n",
    "            self.cameras = self.cameras\n",
    "            \n",
    "        for cam in self.cameras:\n",
    "            # E.g.  /global/cfs/cdirs/desi/spectro/redux/andes/tiles/67230/20200314/cframe-z9-00055382.fits                      \n",
    "            self.cframes[cam]    = read_frame(findfile('cframe', night=self.night, expid=self.expid, camera=cam, specprod_dir=self.andes))\n",
    "                     \n",
    "            self.exptime         = self.cframes[cam].meta['EXPTIME']\n",
    "        \n",
    "            self.mjd             = self.cframes[cam].meta['MJD-OBS']\n",
    "            \n",
    "            self.night           = self.cframes[cam].meta['NIGHT']\n",
    "                \n",
    "            self.fibermaps[cam]  = self.cframes[cam].fibermap\n",
    "                     \n",
    "            self.fibermaps[cam]['TILEFIBERID'] = 10000 * self.tileid + self.fibermaps[cam]['FIBER']\n",
    "                \n",
    "            self.psfs[cam]       = GaussHermitePSF(findfile('psf', night=self.night, expid=self.expid, camera=cam, specprod_dir=self.andes))\n",
    "\n",
    "            self.psf_nights[cam] = GaussHermitePSF(findfile('psfnight', night=self.night, expid=self.expid, camera=cam, specprod_dir=self.andes))\n",
    "                \n",
    "            self.skies[cam]      = read_sky(findfile('sky', night=self.night, expid=self.expid, camera=cam, specprod_dir=self.andes))\n",
    "        \n",
    "            # https://desidatamodel.readthedocs.io/en/latest/DESI_SPECTRO_CALIB/fluxcalib-CAMERA.html\n",
    "            self.fluxcalibs[cam] = read_flux_calibration(findfile('fluxcalib', night=self.night, expid=self.expid, camera=cam, specprod_dir=self.andes))\n",
    "        \n",
    "            # Book keeping on what exposure was the fiberflat.  Taken once per night. \n",
    "            self.fiberflats[cam] = read_fiberflat(findfile('fiberflat', night=self.night, expid=self.flatid, camera=cam, specprod_dir=self.andes))\n",
    "        \n",
    "            self.frames[cam]     = read_frame(findfile('frame', night=self.night, expid=self.expid, camera=cam, specprod_dir=self.andes))\n",
    "                \n",
    "            self.preprocs[cam]   = read_image(findfile('preproc', night=self.night, expid=self.expid, camera=cam, specprod_dir=self.andes))\n",
    "            \n",
    "    def calc_nea(self, psf_wave=None, write=False):\n",
    "        for cam in self.cameras:\n",
    "            psf = self.psf_nights[cam]\n",
    "            \n",
    "            # Note:  psf.nspec, psf.npix_x, psf.npix_y\n",
    "            \n",
    "            if psf_wave is None:\n",
    "              # Representative wavelength. \n",
    "              psf_wave = 3727. * (1. + 1.1)    \n",
    "            \n",
    "            if (psf_wave < rads.cframes[cam].wave.min()) | (psf_wave > rads.cframes[cam].wave.max()):\n",
    "                psf_wave = np.median(rads.cframes[cam].wave)\n",
    "               \n",
    "            fiberids = self.fibermaps[cam]['FIBER']\n",
    "                \n",
    "            # Fiber centroid position on CCD.\n",
    "            # https://github.com/desihub/specter/blob/f242a3d707c4cba549030af6df8cf5bb12e2b47c/py/specter/psf/psf.py#L467\n",
    "            # x,y = psf.xy(fiberids, self.psf_wave)\n",
    "            \n",
    "            # https://github.com/desihub/specter/blob/f242a3d707c4cba549030af6df8cf5bb12e2b47c/py/specter/psf/psf.py#L300\n",
    "            # Range that boxes in fiber 'trace':  (xmin, xmax, ymin, ymax)\n",
    "            # ranges = psf.xyrange(fiberids, self.psf_wave)\n",
    "            \n",
    "            #  Note:  Expectation of 3.44 for PSF size in pixel units (spectro paper).\n",
    "            #  Return Gaussian sigma of PSF spot in cross-dispersion direction in CCD pixel units.\n",
    "            #  Gaussian PSF, radius R that maximizes S/N for a faint source in the sky-limited case is 1.7σ\n",
    "            #  http://www.ucolick.org/~bolte/AY257/s_n.pdf\n",
    "            #  2. * 1.7 * psf.xsigma(ispec=fiberid, wavelength=oii)\n",
    "            \n",
    "            #  Gaussian sigma of PSF spot in dispersion direction in CCD pixel units.\n",
    "            #  Gaussian PSF, radius R that maximizes S/N for a faint source in the sky-limited case is 1.7σ\n",
    "            #  http://www.ucolick.org/~bolte/AY257/s_n.pdf\n",
    "            #  2. * 1.7 * psf.ysigma(ispec=fiberid, wavelength=oii)\n",
    "           \n",
    "            neas             = []\n",
    "            angstrom_per_pix = []\n",
    "    \n",
    "            for fiberid in fiberids:\n",
    "              psf_2d = psf.pix(ispec=fiberid, wavelength=psf_wave)\n",
    "            \n",
    "              # norm = np.sum(psf_2d)\n",
    "             \n",
    "              # http://articles.adsabs.harvard.edu/pdf/1983PASP...95..163K\n",
    "              neas.append(1. / np.sum(psf_2d ** 2.)) # [pixel units].\n",
    "\n",
    "              angstrom_per_pix.append(psf.angstroms_per_pixel(fiberid, psf_wave))\n",
    "\n",
    "            self.fibermaps[cam]['NEA']              = np.array(neas)\n",
    "            self.fibermaps[cam]['ANGSTROMPERPIXEL'] = np.array(angstrom_per_pix)\n",
    "            \n",
    "            if write:\n",
    "                # Write fibermaps with NEA and ANGSTROMPERPIXEL here. \n",
    "                pass\n",
    "                \n",
    "    def calc_readnoise(self, psf_wave=None):\n",
    "            self.ccdsizes          = {}\n",
    "            \n",
    "            for cam in self.cameras:\n",
    "                self.ccdsizes[cam] = self.cframes[cam].meta['CCDSIZE']\n",
    "            \n",
    "                psf                = self.psf_nights[cam]\n",
    "                        \n",
    "                if psf_wave is None:\n",
    "                  # Representative wavelength. \n",
    "                  psf_wave = 3727. * (1. + 1.1)    \n",
    "            \n",
    "                if (psf_wave < rads.cframes[cam].wave.min()) | (psf_wave > rads.cframes[cam].wave.max()):\n",
    "                  psf_wave = np.median(rads.cframes[cam].wave)\n",
    "               \n",
    "                fiberids = self.fibermaps[cam]['FIBER']\n",
    "        \n",
    "                rd_noises = []\n",
    "        \n",
    "                for fiberid in fiberids:                \n",
    "                    x, y                     = psf.xy(fiberid, psf_wave)\n",
    "    \n",
    "                    (xmin, xmax, ymin, ymax) = psf.xyrange(fiberid, psf_wave)\n",
    "\n",
    "                    # electrons/pixel (float).\n",
    "                    rd_cutout = self.preprocs[cam].readnoise[ymin:ymax, xmin:xmax]\n",
    "                    \n",
    "                    rd_noises.append(np.median(rd_cutout))\n",
    "                                \n",
    "                self.fibermaps[cam]['RDNOISE'] = np.array(rd_noises)\n",
    "                            \n",
    "                # TO DO:  Compare fiber (x,y) to quadrants.\n",
    "                # for ccd_quad in ['A', 'B', 'C', 'D']:\n",
    "                #   print('CCD Quadrant {}\\t{}'.format(ccd_quad, cframes['z'].meta['OBSRDN{}'.format(ccd_quad)]))\n",
    "            \n",
    "    def calc_skycontinuum(self):\n",
    "        # kernel_N      = 145\n",
    "        # sky_continuum = medfilt(skies['z'].flux[0, :], kernel_N)\n",
    "\n",
    "        # pl.plot(skies['z'].wave, sky_continuum)\n",
    "\n",
    "        # pl.xlabel('Wavelength [Angstroms]')\n",
    "        # pl.ylabel('Electrons per Angstrom')\n",
    "\n",
    "        # pl.title('Sky continuum ({}A median filter)'.format(kernel_N * 0.8))\n",
    "        pass\n",
    "\n",
    "    def calc_template_ensemble(self, tracer='ELG', nmodel=1):                \n",
    "        def tracer_maker(wave, tracer='ELG', nmodel=10):\n",
    "            if tracer == 'ELG':\n",
    "                maker = desisim.templates.ELG(wave=wave)\n",
    "                \n",
    "            elif tracer == 'QSO':\n",
    "                maker = desisim.templates.QSO(wave=wave)\n",
    "    \n",
    "            else:\n",
    "                raise  ValueError('{} is not an available tracer.'.format(tracer))\n",
    "\n",
    "            flux, wave, meta, objmeta = maker.make_templates(nmodel=nmodel)\n",
    "        \n",
    "            return  wave, flux, meta, objmeta\n",
    "\n",
    "        for cam in self.cameras:\n",
    "            band                               = cam[0]\n",
    "\n",
    "            if (not band in self.ensemble_flux.keys()) | (self.nmodel != nmodel):            \n",
    "                # Where is the per band wavelength arrays defined?\n",
    "                # self.cframes['r0'].wave, self.cframes['z0'].wave\n",
    "                keys                           = set([key for key in self.cframes.keys() if key[0] in ['b','r','z']])\n",
    "                keys                           = np.array(list(keys))\n",
    "                                                        \n",
    "                wave                           = self.cframes[keys[0]].wave\n",
    "                                \n",
    "                if len(keys) > 1:\n",
    "                    for key in keys[1:]:\n",
    "                        wave                   = np.concatenate((wave, self.cframes[key].wave))\n",
    "                \n",
    "                wave                           = np.unique(wave) # sorted.\n",
    "                wave, flux, meta, objmeta      = tracer_maker(wave=wave, tracer=tracer, nmodel=nmodel)\n",
    "\n",
    "                meta['MAG_G']                  = 22.5 - 2.5 * np.log10(meta['FLUX_G'])\n",
    "                meta['MAG_R']                  = 22.5 - 2.5 * np.log10(meta['FLUX_R'])\n",
    "                meta['MAG_Z']                  = 22.5 - 2.5 * np.log10(meta['FLUX_Z'])\n",
    "\n",
    "                self.nmodel                    = nmodel\n",
    "                \n",
    "                for band in ['b', 'r', 'z']:\n",
    "                    band_key                   = [x[0] == band for x in keys]\n",
    "                    band_key                   = keys[band_key][0]\n",
    "                                            \n",
    "                    band_wave                  = self.cframes[band_key].wave\n",
    "                    \n",
    "                    in_band                    = np.isin(wave, band_wave)\n",
    "                    \n",
    "                    self.ensemble_flux[band]   = flux[:, in_band]\n",
    "                    self.ensemble_meta         = meta\n",
    "                    self.ensemble_objmeta      = objmeta\n",
    "    \n",
    "    def calc_templatesnrs(self, calibrated=True):\n",
    "        self.template_snrs          = {}\n",
    "        \n",
    "        if  len(self.ensemble_flux.keys()) == 0:\n",
    "            self.calc_template_ensemble()\n",
    "        \n",
    "        for cam in self.cameras:  \n",
    "            band                    = cam[0]\n",
    "            \n",
    "            nfiber                  = len(self.fibermaps[cam]['FIBER'])\n",
    "            nmodel                  = len(self.ensemble_meta)\n",
    "                \n",
    "            self.template_snrs[cam] = np.zeros((nfiber, nmodel)) \n",
    "\n",
    "            for i, fiber in enumerate(self.fibermaps[cam]['FIBER']):\n",
    "                for j, template_flux in enumerate(self.ensemble_flux[band]):\n",
    "                    sky_flux        = self.skies[cam].flux[fiber,:]\n",
    "                    flux_calib      = self.fluxcalibs[cam].calib[fiber,:]\n",
    "                \n",
    "                if not calibrated:\n",
    "                    self.template_snrs[cam][i, j] = templateSNR(template_flux, sky_flux=sky_flux, flux_calib=flux_calib,\n",
    "                                                                fiberflat=None, readnoise=None, npix=None,\n",
    "                                                                angstroms_per_pixel=None, fiberloss=None,\n",
    "                                                                flux_ivar=None)\n",
    "                    \n",
    "                else:\n",
    "                    flux_ivar                     = self.cframes[cam].ivar[i, :]    \n",
    "                    self.template_snrs[cam][i, j] = templateSNR(template_flux, flux_ivar=flux_ivar)\n",
    "    \n",
    "    def run_redrock(self, output_dir='/global/scratch/mjwilson/'):\n",
    "        for cam in self.cameras:        \n",
    "          band = cam[0]\n",
    "            \n",
    "          # TODO:  Add resolution, mask and sky noise to template flux for camera.  \n",
    "          spec = Spectra([cam], {cam: self.cframes[cam].wave}, {cam: self.ensemble_flux[band]}, {cam: self.cframes[cam].ivar[:self.nmodel]}, \n",
    "                          resolution_data={cam: self.cframes[cam].resolution_data[:self.nmodel,:,:]}, \n",
    "                          mask={cam: self.cframes[cam].mask[:self.nmodel]}, \n",
    "                          fibermap=self.cframes[cam].fibermap[:self.nmodel], \n",
    "                          meta=None,\n",
    "                          single=False)\n",
    "        \n",
    "        # Overwrites as default.\n",
    "        desispec.io.write_spectra(output_dir + '/spec_test.fits', spec)\n",
    "        \n",
    "        # https://github.com/desihub/tutorials/blob/master/simulating-desi-spectra.ipynb\n",
    "        zbest_file = os.path.join(output_dir, 'test-zbest.fits')\n",
    "\n",
    "        os.system('rm {}'.format(zbest_file))\n",
    "        \n",
    "        cmd   = 'rrdesi {} --zbest {}'.format(os.environ['RESULTS'] + '/spec_test.fits', zbest_file)\n",
    "        srun  = 'srun -A desi -N 1 -t 00:10:00 -C haswell --qos interactive'\n",
    "        cmd   = '{} {} --mp 32'.format(srun, cmd)\n",
    "\n",
    "        print(cmd)\n",
    "        \n",
    "        # zbest = Table.read(zbest_file, 'ZBEST')\n",
    "       \n",
    "    def write_radweights(self, output_dir='/global/scratch/mjwilson/'):\n",
    "        '''\n",
    "        Each exposure, each fiber, a redshift efficiency as a function of redshift and target magnitude,\n",
    "        per target class.  This could be for instance in the form of fits images in 3D\n",
    "        (fiber x redshift x magnitude), with one HDU per target class, and one fits file per tile.\n",
    "        '''\n",
    "        for cam in self.cameras:            \n",
    "          hdr             = fits.open(findfile('cframe', night=self.night, expid=self.expid, camera=cam, specprod_dir=self.andes))[0].header\n",
    "\n",
    "          hdr['EXTNAME']  = 'RADWEIGHT'\n",
    "\n",
    "          primary         = fits.PrimaryHDU(header=hdr)\n",
    "          \n",
    "          # LRG\n",
    "          lrg_radweight   = fits.ImageHDU(self.template_snrs[cam], name='LRG')\n",
    "\n",
    "          # ELG\n",
    "          elg_radweight   = fits.ImageHDU(self.template_snrs[cam], name='ELG')\n",
    "\n",
    "          # QSO\n",
    "          qso_radweight   = fits.ImageHDU(self.template_snrs[cam], name='QSO')\n",
    "\n",
    "          # List\n",
    "          all_hdus        = fits.HDUList([primary, lrg_radweight, elg_radweight, qso_radweight])\n",
    "\n",
    "          all_hdus.writeto(output_dir + '/lss-radweights-{}-{}.fits'.format(self.expid, cam), overwrite=True)\n",
    "    \n",
    "    def qa_plots(self, plots_dir='/global/scratch/mjwilson/plots'):\n",
    "        for cam in self.cameras:\n",
    "          # Skies  \n",
    "          pl.clf()\n",
    "          pl.plot(self.skies[cam].wave, self.skies[cam].flux[0, :].T)\n",
    "          pl.xlabel('Wavelength [Angstroms]')\n",
    "          pl.ylabel('Electrons per Angstrom')\n",
    "          pl.savefig(plots_dir + '/sky-{}.pdf'.format(cam))\n",
    "        \n",
    "       \n",
    "          # Flux calibration\n",
    "          fluxcalib          = self.fluxcalibs[cam].calib[0,:].T\n",
    "          lossless_fluxcalib = fluxcalib / self.fiberloss \n",
    "\n",
    "          wave               = self.cframes[cam].wave\n",
    "  \n",
    "          pl.clf()\n",
    "          pl.plot(wave, fluxcalib,          label='Flux calib.')\n",
    "          pl.plot(wave, lossless_fluxcalib, label='Lossless flux calib.')\n",
    "\n",
    "          pl.title('FIBERLOSS of {:.2f}'.format(self.fiberloss))\n",
    "\n",
    "          pl.legend(loc=0, frameon=False)\n",
    "          pl.savefig(plots_dir + '/fluxcalib-{}.pdf'.format(cam))  \n",
    "        \n",
    "          # Fiber flats.\n",
    "          xs = self.fibermaps[cam]['FIBERASSIGN_X']\n",
    "          ys = self.fibermaps[cam]['FIBERASSIGN_Y']\n",
    "\n",
    "          # Center on zero.\n",
    "          fs = self.fiberflats[cam].fiberflat[:,0]\n",
    "        \n",
    "          pl.clf()\n",
    "          pl.scatter(xs, ys, c=fs, vmin=0.0, vmax=2.0, s=2)\n",
    "          pl.savefig(plots_dir + '/fiberflat-{}.pdf'.format(cam)) \n",
    "            \n",
    "          # Template meta.\n",
    "          # fig, axes = plt.subplots(1, 3, figsize=(20, 5))\n",
    "  \n",
    "          # for i, (band, color) in enumerate(zip(['MAG_G', 'MAG_R', 'MAG_Z'], ['b', 'g', 'r'])):\n",
    "          #    axes[i].plot(meta[band], meta['REDSHIFT'], marker='.', c=color, lw=0.0)\n",
    "\n",
    "          #    axes[i].set_xlabel('$REDSHIFT$')\n",
    "          #    axes[i].set_ylabel('$' + band + '$')  \n",
    "           \n",
    "        \n",
    "            \n",
    "    def compute(self, output_dir='/global/scratch/mjwilson/'):\n",
    "            self.calc_nea(psf_wave=None)\n",
    "            \n",
    "            self.calc_readnoise()\n",
    "            \n",
    "            self.calc_template_ensemble()\n",
    "            \n",
    "            self.calc_templatesnrs()\n",
    "\n",
    "            self.run_redrock()\n",
    "            \n",
    "            self.write_radweights()\n",
    "            \n",
    "            self.qa_plots(plots_dir=output_dir + '/plots/')"
   ]
  },
  {
   "cell_type": "code",
   "execution_count": 160,
   "metadata": {},
   "outputs": [
    {
     "name": "stderr",
     "output_type": "stream",
     "text": [
      "WARNING: Cannot aggregate column 'CAMERA' with type '|S6' [astropy.table.groups]\n",
      "WARNING: Cannot aggregate column 'PROGRAM' with type '|S94' [astropy.table.groups]\n",
      "WARNING: Cannot aggregate column 'DOMSHUTL' with type '|S8' [astropy.table.groups]\n",
      "WARNING: Cannot aggregate column 'DOMSHUTU' with type '|S8' [astropy.table.groups]\n",
      "WARNING: Cannot aggregate column 'PMCOVER' with type '|S4' [astropy.table.groups]\n",
      "WARNING: Cannot aggregate column 'FOCUS' with type '|S37' [astropy.table.groups]\n",
      "WARNING: Cannot aggregate column 'FNAME_RAW' with type '|S97' [astropy.table.groups]\n",
      "WARNING: Cannot aggregate column 'GITREV' with type '|S7' [astropy.table.groups]\n",
      "WARNING: Cannot aggregate column 'EXTNAME' with type '|S6' [astropy.table.groups]\n",
      "WARNING: Cannot aggregate column 'CTYPE' with type '|S8' [astropy.table.groups]\n",
      "WARNING: Cannot aggregate column 'FNAME_MASTER_DARK' with type '|S114' [astropy.table.groups]\n"
     ]
    }
   ],
   "source": [
    "rads = RadWeights(expid, tile, flatid, cameras=['b0', 'r0', 'z0'])"
   ]
  },
  {
   "cell_type": "code",
   "execution_count": 105,
   "metadata": {},
   "outputs": [],
   "source": [
    "# rads.qa_plots('/global/scratch/mjwilson//plots/')"
   ]
  },
  {
   "cell_type": "code",
   "execution_count": 7,
   "metadata": {},
   "outputs": [
    {
     "name": "stdout",
     "output_type": "stream",
     "text": [
      "INFO:io.py:971:read_basis_templates: Reading /global/scratch/mjwilson/desi-data.dm.noao.edu/desi/spectro/templates/basis_templates/v3.1/elg_templates_v2.2.fits\n"
     ]
    },
    {
     "name": "stderr",
     "output_type": "stream",
     "text": [
      "/global/scratch/mjwilson/miniconda3/envs/desi/lib/python3.6/site-packages/speclite/filters.py:1466: FutureWarning: Using a non-tuple sequence for multidimensional indexing is deprecated; use `arr[tuple(seq)]` instead of `arr[seq]`. In the future this will be interpreted as an array index, `arr[np.array(seq)]`, which will result either in an error or a different result.\n",
      "  values_no_units = values_no_units[values_slice]\n"
     ]
    },
    {
     "data": {
      "image/png": "[encoded data removed]",
      "text/plain": [
       "<Figure size 432x288 with 1 Axes>"
      ]
     },
     "metadata": {
      "needs_background": "light"
     },
     "output_type": "display_data"
    }
   ],
   "source": [
    "# rads.compute()"
   ]
  },
  {
   "cell_type": "code",
   "execution_count": 149,
   "metadata": {},
   "outputs": [],
   "source": [
    "uflux = fflux * fluxcalib   # Uncalibrated flux [counts/Angstrom] "
   ]
  },
  {
   "cell_type": "code",
   "execution_count": 204,
   "metadata": {},
   "outputs": [
    {
     "data": {
      "text/plain": [
       "Text(0, 0.5, 'REDROCK REDSHIFT')"
      ]
     },
     "execution_count": 204,
     "metadata": {},
     "output_type": "execute_result"
    },
    {
     "data": {
      "image/png": "[encoded data removed]",
      "text/plain": [
       "<Figure size 432x288 with 1 Axes>"
      ]
     },
     "metadata": {
      "needs_background": "light"
     },
     "output_type": "display_data"
    }
   ],
   "source": [
    "pl.plot(meta['REDSHIFT'], zbest['Z'], marker='.', lw=0.0)\n",
    "\n",
    "pl.plot(np.arange(0.7, 1.6, 0.1), np.arange(0.7, 1.6, 0.1), c='k', alpha=0.4)\n",
    "\n",
    "pl.xlabel('TRUE    REDSHIFT')\n",
    "pl.ylabel('REDROCK REDSHIFT')"
   ]
  },
  {
   "cell_type": "code",
   "execution_count": 205,
   "metadata": {},
   "outputs": [
    {
     "data": {
      "text/plain": [
       "Text(0, 0.5, '$\\\\log_{10}|\\\\Delta \\\\chi^2|$')"
      ]
     },
     "execution_count": 205,
     "metadata": {},
     "output_type": "execute_result"
    },
    {
     "data": {
      "image/png": "[encoded data removed]",
      "text/plain": [
       "<Figure size 432x288 with 1 Axes>"
      ]
     },
     "metadata": {
      "needs_background": "light"
     },
     "output_type": "display_data"
    }
   ],
   "source": [
    "pl.plot(np.log10(meta['TEMPLATESNR']), np.log10(zbest['DELTACHI2']), marker='.', lw=0.0, c='k')\n",
    "\n",
    "pl.xlabel('$\\log_{10}$|TEMPLATE SNR|')\n",
    "pl.ylabel('$\\log_{10}|\\Delta \\chi^2|$')"
   ]
  },
  {
   "cell_type": "code",
   "execution_count": 165,
   "metadata": {},
   "outputs": [
    {
     "name": "stdout",
     "output_type": "stream",
     "text": [
      "DEBUG: Read templates from /global/scratch/mjwilson/miniconda3/envs/desi/code/redrock-templates\n",
      "DEBUG: Using default redshift range -0.0050-1.6997 for rrtemplate-galaxy.fits\n",
      "DEBUG: Using default redshift range 0.0500-5.9934 for rrtemplate-qso.fits\n",
      "DEBUG: Using default redshift range -0.0020-0.0020 for rrtemplate-star-A.fits\n",
      "DEBUG: Using default redshift range -0.0020-0.0020 for rrtemplate-star-B.fits\n",
      "DEBUG: Using default redshift range -0.0020-0.0020 for rrtemplate-star-CV.fits\n",
      "DEBUG: Using default redshift range -0.0020-0.0020 for rrtemplate-star-F.fits\n",
      "DEBUG: Using default redshift range -0.0020-0.0020 for rrtemplate-star-G.fits\n",
      "DEBUG: Using default redshift range -0.0020-0.0020 for rrtemplate-star-K.fits\n",
      "DEBUG: Using default redshift range -0.0020-0.0020 for rrtemplate-star-M.fits\n",
      "DEBUG: Using default redshift range -0.0020-0.0020 for rrtemplate-star-WD.fits\n"
     ]
    }
   ],
   "source": [
    "# Import redrock templates\n",
    "templates = dict()\n",
    "\n",
    "for filename in redrock.templates.find_templates():\n",
    "    t = redrock.templates.Template(filename)\n",
    "    templates[(t.template_type, t.sub_type)] = t"
   ]
  },
  {
   "cell_type": "code",
   "execution_count": 166,
   "metadata": {},
   "outputs": [],
   "source": [
    "rr_z     = zbest['Z'][0]\n",
    "\n",
    "spectype = zbest['SPECTYPE'][0].strip()\n",
    "subtype  = zbest['SUBTYPE'][0].strip()\n",
    "\n",
    "fulltype = (spectype, subtype)\n",
    "ncoeff   = templates[fulltype].flux.shape[0]\n",
    "\n",
    "coeff    = zbest['COEFF'][0][0:ncoeff]"
   ]
  },
  {
   "cell_type": "code",
   "execution_count": 167,
   "metadata": {},
   "outputs": [
    {
     "data": {
      "text/plain": [
       "(0.7993492, 0.7993487751229342)"
      ]
     },
     "execution_count": 167,
     "metadata": {},
     "output_type": "execute_result"
    }
   ],
   "source": [
    "meta['REDSHIFT'][0], zbest['Z'][0]"
   ]
  },
  {
   "cell_type": "code",
   "execution_count": 168,
   "metadata": {},
   "outputs": [
    {
     "data": {
      "text/plain": [
       "(0.7993487751229342, ('GALAXY', ''))"
      ]
     },
     "execution_count": 168,
     "metadata": {},
     "output_type": "execute_result"
    }
   ],
   "source": [
    "rr_z, fulltype"
   ]
  },
  {
   "cell_type": "code",
   "execution_count": 169,
   "metadata": {},
   "outputs": [],
   "source": [
    "tflux    = templates[fulltype].flux.T.dot(coeff)\n",
    "twave    = templates[fulltype].wave * (1. + rr_z)"
   ]
  },
  {
   "cell_type": "code",
   "execution_count": 170,
   "metadata": {},
   "outputs": [],
   "source": [
    "R        = Resolution(res[0])\n",
    "txflux   = R.dot(resample_flux(wave, twave, tflux))"
   ]
  },
  {
   "cell_type": "code",
   "execution_count": 171,
   "metadata": {},
   "outputs": [
    {
     "data": {
      "text/plain": [
       "Text(0, 0.5, 'Observed flux [$10^{-17}$ erg/s/cm2/A)]')"
      ]
     },
     "execution_count": 171,
     "metadata": {},
     "output_type": "execute_result"
    },
    {
     "data": {
      "image/png": "[encoded data removed]",
      "text/plain": [
       "<Figure size 432x288 with 1 Axes>"
      ]
     },
     "metadata": {
      "needs_background": "light"
     },
     "output_type": "display_data"
    }
   ],
   "source": [
    "pl.plot(wave, fflux[0,:].T,  c='blue', alpha=0.9)\n",
    "pl.plot(wave, txflux,        c='gold', alpha=1.0)\n",
    "\n",
    "pl.xlim(wave[0], wave[-1])\n",
    "\n",
    "pl.xlabel('Wavelength [Angstroms]')\n",
    "pl.ylabel('Observed flux [$10^{-17}$ erg/s/cm2/A)]')"
   ]
  },
  {
   "cell_type": "code",
   "execution_count": 172,
   "metadata": {},
   "outputs": [
    {
     "name": "stdout",
     "output_type": "stream",
     "text": [
      "Template SNR for the z band is 118636.46931158268.]\n"
     ]
    }
   ],
   "source": [
    "print('Template SNR for the {} band is {}.]'.format(camera, templateSNR(fflux[0,:], sky_flux[0], fluxcalib[0])))"
   ]
  },
  {
   "cell_type": "code",
   "execution_count": 173,
   "metadata": {},
   "outputs": [
    {
     "name": "stdout",
     "output_type": "stream",
     "text": [
      "RRTemplate SNR for the z band is 69926.85257129664.]\n"
     ]
    }
   ],
   "source": [
    "print('RRTemplate SNR for the {} band is {}.]'.format(camera, templateSNR(txflux, sky_flux[0], fluxcalib[0])))"
   ]
  },
  {
   "cell_type": "markdown",
   "metadata": {},
   "source": [
    "# Appendix A:  Fiberloss correction on Flux Calibration Vector"
   ]
  },
  {
   "cell_type": "code",
   "execution_count": 80,
   "metadata": {},
   "outputs": [],
   "source": [
    "# https://github.com/desihub/desispec/blob/6c9810df3929b8518d49bad14356d35137d25a89/py/desispec/fluxcalibration.py#L809"
   ]
  },
  {
   "cell_type": "code",
   "execution_count": 81,
   "metadata": {},
   "outputs": [],
   "source": [
    "from desimodel.io import load_desiparams, load_fiberpos, load_platescale, load_tiles, load_deviceloc"
   ]
  },
  {
   "cell_type": "code",
   "execution_count": 82,
   "metadata": {},
   "outputs": [],
   "source": [
    "def fiber_area_arcsec2(x, y):\n",
    "  params       = load_desiparams()\n",
    "\n",
    "  fiber_dia    = params['fibers']['diameter_um']\n",
    "    \n",
    "  x            = np.asarray(x)\n",
    "  y            = np.asarray(y)\n",
    "\n",
    "  r            = np.sqrt(x**2 + y**2)\n",
    "\n",
    "  #- Platescales in um/arcsec\n",
    "  ps           = load_platescale()\n",
    "\n",
    "  # ps['radius'] in mm.\n",
    "  radial_scale = np.interp(r, ps['radius'], ps['radial_platescale'])\n",
    "  az_scale     = np.interp(r, ps['radius'], ps['az_platescale'])\n",
    " \n",
    "  #- radial and azimuthal fiber radii in arcsec\n",
    "  rr           = 0.5 * fiber_dia / radial_scale\n",
    "  raz          = 0.5 * fiber_dia / az_scale\n",
    "\n",
    "  fiber_area = (np.pi * rr * raz)\n",
    "\n",
    "  return rr, raz, fiber_area "
   ]
  },
  {
   "cell_type": "code",
   "execution_count": 83,
   "metadata": {},
   "outputs": [
    {
     "data": {
      "text/plain": [
       "(0.7927738217452752, 0.7927738209229515, 1.9744606092121348)"
      ]
     },
     "execution_count": 83,
     "metadata": {},
     "output_type": "execute_result"
    }
   ],
   "source": [
    "fiber_area_arcsec2(0.0, 0.0)"
   ]
  },
  {
   "cell_type": "code",
   "execution_count": 84,
   "metadata": {},
   "outputs": [],
   "source": [
    "def moffatt(r, fwhm, beta=3.5):\n",
    "  ##  Apparent radial profile of star-light due to buffeting by the atmosphere.  \n",
    "  ##  Sec. 4 of https://iopscience.iop.org/article/10.1086/675808/pdf;  [arcsecond].                                                                                                                                                         \n",
    "  alpha    = fwhm / 2. / (2.**(1./beta) - 1.)**0.5\n",
    "\n",
    "  return  (2. * (beta - 1.) / alpha / alpha) * (1. + (r/alpha)**2.)**-beta"
   ]
  },
  {
   "cell_type": "code",
   "execution_count": 85,
   "metadata": {},
   "outputs": [],
   "source": [
    "fwhm       = 2.0\n",
    "dr         = 0.01\n",
    "\n",
    "rs         = np.arange(0.0, 15., dr)  ## [arcseconds].        \n",
    "ms         = moffatt(rs, fwhm)"
   ]
  },
  {
   "cell_type": "code",
   "execution_count": 86,
   "metadata": {},
   "outputs": [],
   "source": [
    "theta      = 0.7927738217452752"
   ]
  },
  {
   "cell_type": "code",
   "execution_count": 87,
   "metadata": {},
   "outputs": [
    {
     "data": {
      "text/plain": [
       "(-0.1, 6.0)"
      ]
     },
     "execution_count": 87,
     "metadata": {},
     "output_type": "execute_result"
    },
    {
     "data": {
      "image/png": "[encoded data removed]",
      "text/plain": [
       "<Figure size 432x288 with 1 Axes>"
      ]
     },
     "metadata": {
      "needs_background": "light"
     },
     "output_type": "display_data"
    }
   ],
   "source": [
    "pl.axvline(theta, alpha=0.25, c='k')\n",
    "\n",
    "pl.plot(rs, ms, c='k')\n",
    "pl.xlabel('Distance from center of star [arcseconds]')\n",
    "pl.ylabel('Relative apparent brightness of star')\n",
    "pl.xlim(left=-0.1, right=6.0)"
   ]
  },
  {
   "cell_type": "code",
   "execution_count": 88,
   "metadata": {},
   "outputs": [
    {
     "data": {
      "text/plain": [
       "Text(0, 0.5, 'FIBER FRAC.')"
      ]
     },
     "execution_count": 88,
     "metadata": {},
     "output_type": "execute_result"
    },
    {
     "data": {
      "image/png": "[encoded data removed]",
      "text/plain": [
       "<Figure size 432x288 with 1 Axes>"
      ]
     },
     "metadata": {
      "needs_background": "light"
     },
     "output_type": "display_data"
    }
   ],
   "source": [
    "# A range of full-width @ half max. values for the seeing.  \n",
    "fwhms      = np.arange(0.5, 3.5, 0.1)\n",
    "\n",
    "# Find the index in our distance grid closest to the size of a fiber. \n",
    "indx       = np.abs(rs - theta).argmin()\n",
    "\n",
    "# A list to collect the fraction of light down a fiber for each value of the seeing. \n",
    "fiberfracs = []\n",
    "\n",
    "# Loop over the seeing values. \n",
    "for i, fwhm in enumerate(fwhms):\n",
    "  # Work out the radial profile of the star.\n",
    "  ms       = moffatt(rs, fwhm)\n",
    "  \n",
    "  # Integrate this to get the total light within a radius\n",
    "  Is       = 2. * np.pi * dr * np.cumsum(rs * ms)\n",
    "\n",
    "  # Calculate the fiber fraction for each r value we as for. \n",
    "  ffrac    = Is / Is[-1]\n",
    "  \n",
    "  # Save the fiber fraction for the radius corresponding to the fiber size. \n",
    "  fiberfracs.append(ffrac[indx])\n",
    "\n",
    "fiberfracs = np.array(fiberfracs)\n",
    "\n",
    "pl.plot(fwhms, fiberfracs)\n",
    "\n",
    "pl.xlim(0.5, 3.0)\n",
    "\n",
    "pl.xlabel(r'$(FWHM) \\ Seeing \\ [{\\rm arcseconds}]$')\n",
    "pl.ylabel(r'FIBER FRAC.')"
   ]
  },
  {
   "cell_type": "markdown",
   "metadata": {},
   "source": [
    "## Done."
   ]
  }
 ],
 "metadata": {
  "kernelspec": {
   "display_name": "DESI",
   "language": "python",
   "name": "desi"
  },
  "language_info": {
   "codemirror_mode": {
    "name": "ipython",
    "version": 3
   },
   "file_extension": ".py",
   "mimetype": "text/x-python",
   "name": "python",
   "nbconvert_exporter": "python",
   "pygments_lexer": "ipython3",
   "version": "3.6.12"
  },
  "latex_envs": {
   "LaTeX_envs_menu_present": true,
   "autoclose": false,
   "autocomplete": true,
   "bibliofile": "biblio.bib",
   "cite_by": "apalike",
   "current_citInitial": 1,
   "eqLabelWithNumbers": true,
   "eqNumInitial": 1,
   "hotkeys": {
    "equation": "Ctrl-E",
    "itemize": "Ctrl-I"
   },
   "labels_anchors": false,
   "latex_user_defs": false,
   "report_style_numbering": false,
   "user_envs_cfg": false
  },
  "nbTranslate": {
   "displayLangs": [
    "*"
   ],
   "hotkey": "alt-t",
   "langInMainMenu": true,
   "sourceLang": "en",
   "targetLang": "fr",
   "useGoogleTranslate": true
  }
 },
 "nbformat": 4,
 "nbformat_minor": 4
}
