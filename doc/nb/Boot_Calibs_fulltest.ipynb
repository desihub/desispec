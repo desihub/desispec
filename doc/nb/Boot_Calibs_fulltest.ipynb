{
 "cells": [
  {
   "cell_type": "markdown",
   "metadata": {},
   "source": [
    "# Full test for of Boot Calibs (v1.1)"
   ]
  },
  {
   "cell_type": "markdown",
   "metadata": {},
   "source": [
    "## b0 camera"
   ]
  },
  {
   "cell_type": "markdown",
   "metadata": {},
   "source": [
    "### On Laptop"
   ]
  },
  {
   "cell_type": "markdown",
   "metadata": {},
   "source": [
    "    desi_bootcalib.py \\\n",
    "        --fiberflat /Users/xavier/DESI/Wavelengths/pix-b0-00000001.fits \\\n",
    "        --arcfile /Users/xavier/DESI/Wavelengths/pix-b0-00000000.fits \\\n",
    "        --outfile /Users/xavier/DESI/Wavelengths/boot_psf-b0.fits \\\n",
    "        --qafile /Users/xavier/DESI/Wavelengths/qa_boot-b0.pdf \\\n",
    "        --test"
   ]
  },
  {
   "cell_type": "markdown",
   "metadata": {},
   "source": [
    "### On Edison"
   ]
  },
  {
   "cell_type": "markdown",
   "metadata": {},
   "source": [
    "    desi_compute_sky.py \\\n",
    "            --infile /project/projectdirs/desi/spectro/redux/sjb/dogwood/exposures/20150211/00000002/frame-b0-00000002.fits \\\n",
    "            --fibermap /project/projectdirs/desi/spectro/sim/alpha-5/20150211/fibermap-00000002.fits \\\n",
    "            --fiberflat /project/projectdirs/desi/spectro/redux/sjb/dogwood/calib2d/20150211/fiberflat-b0-00000001.fits \\\n",
    "            --outfile sky-b0-00000002.fits \\\n",
    "            --qafile qa-b0-00000002.yaml \\\n",
    "            --qafig qa-b0-00000002.pdf \\        \n",
    "            > qa_tst.log"
   ]
  },
  {
   "cell_type": "markdown",
   "metadata": {},
   "source": [
    "----"
   ]
  },
  {
   "cell_type": "markdown",
   "metadata": {},
   "source": [
    "## r0 camera"
   ]
  },
  {
   "cell_type": "markdown",
   "metadata": {},
   "source": [
    "### Laptop"
   ]
  },
  {
   "cell_type": "markdown",
   "metadata": {},
   "source": [
    "    desi_bootcalib.py \\\n",
    "        --fiberflat /Users/xavier/DESI/Wavelengths/pix-r0-00000001.fits \\\n",
    "        --arcfile /Users/xavier/DESI/Wavelengths/pix-r0-00000000.fits \\\n",
    "        --outfile /Users/xavier/DESI/Wavelengths/boot_psf-r0.fits \\\n",
    "        --qafile /Users/xavier/DESI/Wavelengths/qa_boot-r0.pdf \\\n",
    "        --test"
   ]
  },
  {
   "cell_type": "markdown",
   "metadata": {},
   "source": [
    "----"
   ]
  },
  {
   "cell_type": "markdown",
   "metadata": {},
   "source": [
    "## z0 camera"
   ]
  },
  {
   "cell_type": "markdown",
   "metadata": {},
   "source": [
    "### Laptop"
   ]
  },
  {
   "cell_type": "markdown",
   "metadata": {},
   "source": [
    "    desi_bootcalib.py \\\n",
    "        --fiberflat /Users/xavier/DESI/Wavelengths/pix-z0-00000001.fits \\\n",
    "        --arcfile /Users/xavier/DESI/Wavelengths/pix-z0-00000000.fits \\\n",
    "        --outfile /Users/xavier/DESI/Wavelengths/boot_psf-z0.fits \\\n",
    "        --qafile /Users/xavier/DESI/Wavelengths/qa_boot-z0.pdf \\\n",
    "        --test"
   ]
  },
  {
   "cell_type": "markdown",
   "metadata": {
    "collapsed": true
   },
   "source": [
    "----"
   ]
  },
  {
   "cell_type": "markdown",
   "metadata": {},
   "source": [
    "## Ted's data"
   ]
  },
  {
   "cell_type": "markdown",
   "metadata": {},
   "source": [
    "    desi_bootcalib.py \\\n",
    "        --fiberflat /Users/xavier/DESI/NERSC_TED/pix-z0-00000000.fits \\\n",
    "        --arcfile /Users/xavier/DESI/NERSC_TED/pix-z0-00000001.fits \\\n",
    "        --outfile /Users/xavier/DESI/NERSC_TED/boot_psf-z0.fits \\\n",
    "        --qafile /Users/xavier/DESI/NERSC_TED/qa_boot-z0.pdf \\\n",
    "        --test"
   ]
  },
  {
   "cell_type": "markdown",
   "metadata": {},
   "source": [
    "## Trace only"
   ]
  },
  {
   "cell_type": "markdown",
   "metadata": {},
   "source": [
    "    desi_bootcalib.py \\\n",
    "        --fiberflat /Users/xavier/DESI/Wavelengths/pix-b0-00000001.fits \\\n",
    "        --outfile /Users/xavier/DESI/Wavelengths/boot_psf_trace_only-b0.fits \\\n",
    "        --qafile /Users/xavier/DESI/Wavelengths/qa_boot-b0.pdf \\\n",
    "        --test --trace_only"
   ]
  },
  {
   "cell_type": "markdown",
   "metadata": {},
   "source": [
    "## Arc only"
   ]
  },
  {
   "cell_type": "markdown",
   "metadata": {},
   "source": [
    "    desi_bootcalib.py \\\n",
    "        --psffile /Users/xavier/DESI/Wavelengths/boot_psf_trace_only-b0.fits \\\n",
    "        --arcfile /Users/xavier/DESI/Wavelengths/pix-b0-00000000.fits \\\n",
    "        --outfile /Users/xavier/DESI/Wavelengths/boot_psf_arc_only-b0.fits \\\n",
    "        --qafile /Users/xavier/DESI/Wavelengths/qa_boot-b0.pdf \\\n",
    "        --test"
   ]
  },
  {
   "cell_type": "markdown",
   "metadata": {},
   "source": [
    "----"
   ]
  },
  {
   "cell_type": "markdown",
   "metadata": {},
   "source": [
    "## DC3 Subset\n",
    "\n",
    "Generated run_boot.src script in /Users/xavier/DESI/DATA/20160310"
   ]
  },
  {
   "cell_type": "markdown",
   "metadata": {},
   "source": [
    "## DC3 Full\n",
    "\n",
    "Run the following from the directory with the data\n",
    "/Users/xavier/DESI/DATA/calibtest/20160310\n",
    "\n",
    "    from desispec.bootcalib import script_bootcalib as scb\n",
    "    scb([0,1,2,3,4,5,6,7,8,9], [10,11,12,13,14])"
   ]
  },
  {
   "cell_type": "code",
   "execution_count": null,
   "metadata": {
    "collapsed": true
   },
   "outputs": [],
   "source": []
  }
 ],
 "metadata": {
  "kernelspec": {
   "display_name": "Python 2",
   "language": "python",
   "name": "python2"
  },
  "language_info": {
   "codemirror_mode": {
    "name": "ipython",
    "version": 2
   },
   "file_extension": ".py",
   "mimetype": "text/x-python",
   "name": "python",
   "nbconvert_exporter": "python",
   "pygments_lexer": "ipython2",
   "version": "2.7.11"
  }
 },
 "nbformat": 4,
 "nbformat_minor": 0
}
