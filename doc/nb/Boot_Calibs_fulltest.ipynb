{
 "cells": [
  {
   "cell_type": "markdown",
   "metadata": {},
   "source": [
    "# Full test for of Boot Calibs "
   ]
  },
  {
   "cell_type": "markdown",
   "metadata": {},
   "source": [
    "## b0 camera"
   ]
  },
  {
   "cell_type": "markdown",
   "metadata": {},
   "source": [
    "### On Laptop"
   ]
  },
  {
   "cell_type": "markdown",
   "metadata": {},
   "source": [
    "    desi_bootcalib.py \\\n",
    "        --fiberflat /Users/xavier/DESI/Wavelengths/pix-b0-00000001.fits \\\n",
    "        --arcfile /Users/xavier/DESI/Wavelengths/pix-b0-00000000.fits \\\n",
    "        --outfile /Users/xavier/DESI/Wavelengths/boot_psf-b0.fits \\\n",
    "        --qafile /Users/xavier/DESI/Wavelengths/qa_boot-b0.pdf \\\n",
    "        --test"
   ]
  },
  {
   "cell_type": "markdown",
   "metadata": {},
   "source": [
    "### On Edison"
   ]
  },
  {
   "cell_type": "markdown",
   "metadata": {},
   "source": [
    "    desi_compute_sky.py \\\n",
    "            --infile /project/projectdirs/desi/spectro/redux/sjb/dogwood/exposures/20150211/00000002/frame-b0-00000002.fits \\\n",
    "            --fibermap /project/projectdirs/desi/spectro/sim/alpha-5/20150211/fibermap-00000002.fits \\\n",
    "            --fiberflat /project/projectdirs/desi/spectro/redux/sjb/dogwood/calib2d/20150211/fiberflat-b0-00000001.fits \\\n",
    "            --outfile sky-b0-00000002.fits \\\n",
    "            --qafile qa-b0-00000002.yaml \\\n",
    "            --qafig qa-b0-00000002.pdf \\        \n",
    "            > qa_tst.log"
   ]
  },
  {
   "cell_type": "markdown",
   "metadata": {},
   "source": [
    "----"
   ]
  },
  {
   "cell_type": "markdown",
   "metadata": {},
   "source": [
    "## r0 camera"
   ]
  },
  {
   "cell_type": "markdown",
   "metadata": {},
   "source": [
    "### Laptop"
   ]
  },
  {
   "cell_type": "markdown",
   "metadata": {},
   "source": [
    "    desi_bootcalib.py \\\n",
    "        --fiberflat /Users/xavier/DESI/Wavelengths/pix-r0-00000001.fits \\\n",
    "        --arcfile /Users/xavier/DESI/Wavelengths/pix-r0-00000000.fits \\\n",
    "        --outfile /Users/xavier/DESI/Wavelengths/boot_psf-r0.fits \\\n",
    "        --qafile /Users/xavier/DESI/Wavelengths/qa_boot-r0.pdf \\\n",
    "        --test"
   ]
  },
  {
   "cell_type": "markdown",
   "metadata": {},
   "source": [
    "----"
   ]
  },
  {
   "cell_type": "markdown",
   "metadata": {},
   "source": [
    "## z0 camera"
   ]
  },
  {
   "cell_type": "markdown",
   "metadata": {},
   "source": [
    "### Laptop"
   ]
  },
  {
   "cell_type": "markdown",
   "metadata": {},
   "source": [
    "    desi_bootcalib.py \\\n",
    "        --fiberflat /Users/xavier/DESI/Wavelengths/pix-z0-00000001.fits \\\n",
    "        --arcfile /Users/xavier/DESI/Wavelengths/pix-z0-00000000.fits \\\n",
    "        --outfile /Users/xavier/DESI/Wavelengths/boot_psf-z0.fits \\\n",
    "        --qafile /Users/xavier/DESI/Wavelengths/qa_boot-z0.pdf \\\n",
    "        --test"
   ]
  },
  {
   "cell_type": "code",
   "execution_count": null,
   "metadata": {
    "collapsed": true
   },
   "outputs": [],
   "source": []
  }
 ],
 "metadata": {
  "kernelspec": {
   "display_name": "Python 2",
   "language": "python",
   "name": "python2"
  },
  "language_info": {
   "codemirror_mode": {
    "name": "ipython",
    "version": 2
   },
   "file_extension": ".py",
   "mimetype": "text/x-python",
   "name": "python",
   "nbconvert_exporter": "python",
   "pygments_lexer": "ipython2",
   "version": "2.7.11"
  }
 },
 "nbformat": 4,
 "nbformat_minor": 0
}
