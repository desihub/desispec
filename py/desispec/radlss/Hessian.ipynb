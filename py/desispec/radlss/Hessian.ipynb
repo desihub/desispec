{
 "cells": [
  {
   "cell_type": "code",
   "execution_count": 103,
   "metadata": {},
   "outputs": [],
   "source": [
    "import scipy\n",
    "import numpy             as     np\n",
    "import matplotlib.pyplot as     plt\n",
    "import pylab             as     pl\n",
    "\n",
    "from   scipy             import optimize\n",
    "from   scipy.optimize    import approx_fprime, minimize, Bounds\n",
    "from   scipy.stats       import multivariate_normal"
   ]
  },
  {
   "cell_type": "code",
   "execution_count": 104,
   "metadata": {},
   "outputs": [],
   "source": [
    "def jeffreys_prior(x, sigma):\n",
    "    # unnormalised.  Applied to line flux, line ratio & velocity dispersion, both positive definite.  \n",
    "    return  1. / sigma"
   ]
  },
  {
   "cell_type": "code",
   "execution_count": 105,
   "metadata": {},
   "outputs": [],
   "source": [
    "def gaussian_prior(x, mu, sigma):\n",
    "    # normalised.  Applied to redrock z.\n",
    "    return  (1. / np.sqrt(2. * np.pi) / sigma) * np.exp(-0.5 * (x - mu)**2. / sigma**2.)     "
   ]
  },
  {
   "cell_type": "code",
   "execution_count": 131,
   "metadata": {},
   "outputs": [],
   "source": [
    "def prior(z, v, r, A):\n",
    "    # Gaussian prior in redshift.\n",
    "    muz  = 1.6 # rr_z\n",
    "    sigz = 0.1 # rr_sigz\n",
    "\n",
    "    # Jeffreys prior in line flux, dispersion, line ratio. \n",
    "    sigv = 100.\n",
    "    sigr =   1.\n",
    "    sigA = 100. \n",
    "    \n",
    "    # unnormalised (scalar).\n",
    "    return gaussian_prior(z, muz, sigz) * jeffreys_prior(v, sigv) * jeffreys_prior(r, sigr) * jeffreys_prior(A, sigA)"
   ]
  },
  {
   "cell_type": "code",
   "execution_count": 121,
   "metadata": {},
   "outputs": [],
   "source": [
    "def X2(x):  \n",
    "  z       = x[0]\n",
    "  v       = x[1]\n",
    "  r       = x[2] \n",
    "  A       = x[3]\n",
    "    \n",
    "  _mean   = [0, 0, 0, 0]\n",
    "  _cov    = [[1, 0, 0, 0], [0, 2, 0, 0], [0, 0, 3, 0], [0, 0, 0, 5]]\n",
    "    \n",
    "  return -2. * np.log(multivariate_normal.pdf(x, _mean, _cov))  "
   ]
  },
  {
   "cell_type": "code",
   "execution_count": 122,
   "metadata": {},
   "outputs": [],
   "source": [
    "def mlogprior(x):\n",
    "    z     = x[0]\n",
    "    v     = x[1]\n",
    "    r     = x[2]\n",
    "    A     = x[3]\n",
    "    \n",
    "    # prior on the parameter space.\n",
    "    return -np.log(prior(z, v, r, A))"
   ]
  },
  {
   "cell_type": "code",
   "execution_count": 123,
   "metadata": {},
   "outputs": [],
   "source": [
    "def mloglike(x):\n",
    "    return -X2(x) / 2. "
   ]
  },
  {
   "cell_type": "code",
   "execution_count": 124,
   "metadata": {},
   "outputs": [],
   "source": [
    "def mlogpos(x):\n",
    "    return mloglike(x) + mlogprior(x)"
   ]
  },
  {
   "cell_type": "code",
   "execution_count": 136,
   "metadata": {},
   "outputs": [],
   "source": [
    "def gradient(x):\n",
    "  return optimize.approx_fprime(x, mlogpos, eps)"
   ]
  },
  {
   "cell_type": "code",
   "execution_count": 137,
   "metadata": {},
   "outputs": [],
   "source": [
    "oo = np.array([1.7, 22.5, 0.5, 50.])\n",
    "x0 = np.array([1.5, 32.5, 3.5, 5.5])\n",
    "x1 = np.array([2.0, 3.0, 3.5, 5.5])"
   ]
  },
  {
   "cell_type": "code",
   "execution_count": 138,
   "metadata": {},
   "outputs": [
    {
     "data": {
      "text/plain": [
       "8.326693812186807"
      ]
     },
     "execution_count": 138,
     "metadata": {},
     "output_type": "execute_result"
    }
   ],
   "source": [
    "mlogprior(oo)"
   ]
  },
  {
   "cell_type": "code",
   "execution_count": 139,
   "metadata": {},
   "outputs": [
    {
     "data": {
      "text/plain": [
       "-267.3038256781296"
      ]
     },
     "execution_count": 139,
     "metadata": {},
     "output_type": "execute_result"
    }
   ],
   "source": [
    "mlogpos(x0)"
   ]
  },
  {
   "cell_type": "code",
   "execution_count": 140,
   "metadata": {},
   "outputs": [
    {
     "data": {
      "text/plain": [
       "1.1336743218703695"
      ]
     },
     "execution_count": 140,
     "metadata": {},
     "output_type": "execute_result"
    }
   ],
   "source": [
    "mlogpos(x1)"
   ]
  },
  {
   "cell_type": "code",
   "execution_count": 141,
   "metadata": {},
   "outputs": [
    {
     "name": "stdout",
     "output_type": "stream",
     "text": [
      "Warning: Desired error not necessarily achieved due to precision loss.\n",
      "         Current function value: -380.831348\n",
      "         Iterations: 1\n",
      "         Function evaluations: 120\n",
      "         Gradient evaluations: 108\n"
     ]
    },
    {
     "name": "stderr",
     "output_type": "stream",
     "text": [
      "/Users/MJWilson/opt/miniconda3/envs/desihigh/lib/python3.7/site-packages/ipykernel_launcher.py:10: RuntimeWarning: divide by zero encountered in log\n",
      "  # Remove the CWD from sys.path while we load stuff.\n",
      "/Users/MJWilson/opt/miniconda3/envs/desihigh/lib/python3.7/site-packages/scipy/optimize/_numdiff.py:497: RuntimeWarning: invalid value encountered in subtract\n",
      "  df = fun(x) - f0\n",
      "/Users/MJWilson/opt/miniconda3/envs/desihigh/lib/python3.7/site-packages/ipykernel_launcher.py:8: RuntimeWarning: divide by zero encountered in log\n",
      "  \n",
      "/Users/MJWilson/opt/miniconda3/envs/desihigh/lib/python3.7/site-packages/ipykernel_launcher.py:2: RuntimeWarning: invalid value encountered in double_scalars\n",
      "  \n",
      "/Users/MJWilson/opt/miniconda3/envs/desihigh/lib/python3.7/site-packages/ipykernel_launcher.py:10: RuntimeWarning: divide by zero encountered in log\n",
      "  # Remove the CWD from sys.path while we load stuff.\n",
      "/Users/MJWilson/opt/miniconda3/envs/desihigh/lib/python3.7/site-packages/scipy/optimize/_numdiff.py:497: RuntimeWarning: invalid value encountered in subtract\n",
      "  df = fun(x) - f0\n"
     ]
    }
   ],
   "source": [
    "# https://docs.scipy.org/doc/scipy/reference/generated/scipy.optimize.fmin_bfgs.html\n",
    "result = scipy.optimize.fmin_bfgs(mlogpos, oo, fprime=gradient, gtol=1e-05, norm=-np.inf, epsilon=1.4901161193847656e-08, maxiter=None, full_output=True, disp=1, retall=1, callback=None)"
   ]
  },
  {
   "cell_type": "code",
   "execution_count": 142,
   "metadata": {},
   "outputs": [],
   "source": [
    "# Bounded, no Hessian returned.\n",
    "# bounds = [(-1.0, 10.), (-40., 40.)]\n",
    "# result = scipy.optimize.fmin_l_bfgs_b(chi2, x0, approx_grad=True, args=(mean, cov), bounds=bounds)"
   ]
  },
  {
   "cell_type": "code",
   "execution_count": 143,
   "metadata": {},
   "outputs": [
    {
     "data": {
      "text/plain": [
       "array([-11.5       , -16.25000381,  -1.16666412,  -1.10000229])"
      ]
     },
     "execution_count": 143,
     "metadata": {},
     "output_type": "execute_result"
    }
   ],
   "source": [
    "optimize.approx_fprime(x0, mlogpos, eps)"
   ]
  },
  {
   "cell_type": "code",
   "execution_count": 144,
   "metadata": {},
   "outputs": [
    {
     "data": {
      "text/plain": [
       "8"
      ]
     },
     "execution_count": 144,
     "metadata": {},
     "output_type": "execute_result"
    }
   ],
   "source": [
    "len(result)"
   ]
  },
  {
   "cell_type": "code",
   "execution_count": 145,
   "metadata": {},
   "outputs": [
    {
     "data": {
      "text/plain": [
       "(array([ 1.21231973, 23.16101247,  0.50979308, 50.58756664]),\n",
       " -380.83134844434306,\n",
       " array([-39.98034668, -11.58050537,  -0.1699295 , -10.11750793]),\n",
       " array([[ 1.04328469e-02, -3.78285933e-02, -5.26078184e-04,\n",
       "         -2.99292134e-02],\n",
       "        [-3.78285933e-02,  2.92054879e+00,  2.84068673e-02,\n",
       "          1.70214457e+00],\n",
       "        [-5.26078184e-04,  2.84068673e-02,  1.00042017e+00,\n",
       "          2.51763255e-02],\n",
       "        [-2.99292134e-02,  1.70214457e+00,  2.51763255e-02,\n",
       "          2.50856414e+00]]),\n",
       " 120,\n",
       " 108,\n",
       " 2,\n",
       " [array([ 1.7, 22.5,  0.5, 50. ]),\n",
       "  array([ 1.21231973, 23.16101247,  0.50979308, 50.58756664])])"
      ]
     },
     "execution_count": 145,
     "metadata": {},
     "output_type": "execute_result"
    }
   ],
   "source": [
    "# Parameters which minimize f, i.e., f(xopt) == fopt.\n",
    "# Minimum value.\n",
    "# Value of gradient at minimum, f’(xopt), which should be near 0.\n",
    "# Value of 1/f’’(xopt), i.e., the inverse Hessian matrix.\n",
    "# Number of function_calls made.\n",
    "# Number of gradient calls made.\n",
    "# Maximum number of iterations exceeded. 2 : Gradient and/or function calls not changing. 3 : NaN result encountered. \n",
    "# The value of xopt at each iteration. Only returned if retall is True.\n",
    "result"
   ]
  },
  {
   "cell_type": "code",
   "execution_count": 146,
   "metadata": {},
   "outputs": [],
   "source": [
    "# Value of 1/f’’(xopt), i.e., the inverse Hessian matrix.\n",
    "ihess = result[3]"
   ]
  },
  {
   "cell_type": "code",
   "execution_count": 147,
   "metadata": {},
   "outputs": [
    {
     "data": {
      "text/plain": [
       "array([[ 1.04328469e-02, -3.78285933e-02, -5.26078184e-04,\n",
       "        -2.99292134e-02],\n",
       "       [-3.78285933e-02,  2.92054879e+00,  2.84068673e-02,\n",
       "         1.70214457e+00],\n",
       "       [-5.26078184e-04,  2.84068673e-02,  1.00042017e+00,\n",
       "         2.51763255e-02],\n",
       "       [-2.99292134e-02,  1.70214457e+00,  2.51763255e-02,\n",
       "         2.50856414e+00]])"
      ]
     },
     "execution_count": 147,
     "metadata": {},
     "output_type": "execute_result"
    }
   ],
   "source": [
    "ihess"
   ]
  },
  {
   "cell_type": "code",
   "execution_count": 148,
   "metadata": {},
   "outputs": [
    {
     "data": {
      "text/plain": [
       "array([[ 1.00990821e+02,  1.00209878e+00,  1.14444712e-02,\n",
       "         5.24830389e-01],\n",
       "       [ 1.00209878e+00,  5.76368551e-01, -6.29950079e-03,\n",
       "        -3.79066239e-01],\n",
       "       [ 1.14444712e-02, -6.29950079e-03,  9.99906442e-01,\n",
       "        -5.62424725e-03],\n",
       "       [ 5.24830389e-01, -3.79066239e-01, -5.62424725e-03,\n",
       "         6.62161622e-01]])"
      ]
     },
     "execution_count": 148,
     "metadata": {},
     "output_type": "execute_result"
    }
   ],
   "source": [
    "hess = np.linalg.inv(ihess)\n",
    "hess"
   ]
  },
  {
   "cell_type": "code",
   "execution_count": 149,
   "metadata": {},
   "outputs": [
    {
     "data": {
      "text/plain": [
       "array([0.10214131, 1.70896132, 1.00021006, 1.58384473])"
      ]
     },
     "execution_count": 149,
     "metadata": {},
     "output_type": "execute_result"
    }
   ],
   "source": [
    "# https://astrostatistics.psu.edu/su11scma5/HeavensLecturesSCMAVfull.pdf\n",
    "# Note:  marginal errors.\n",
    "merr = np.sqrt(np.diag(ihess))\n",
    "merr"
   ]
  },
  {
   "cell_type": "code",
   "execution_count": 153,
   "metadata": {},
   "outputs": [],
   "source": [
    "# x, y = np.mgrid[-1:1:.01, -1:1:.01]\n",
    "# pos  = np.dstack((x, y))\n",
    "# rv   = multivariate_normal([0.5, -0.2], [[2.0, 0.3], [0.3, 0.5]])"
   ]
  },
  {
   "cell_type": "code",
   "execution_count": 154,
   "metadata": {},
   "outputs": [],
   "source": [
    "# fig  = plt.figure()\n",
    "# ax   = fig.add_subplot(111)\n",
    "# cax  = fig.add_axes([0.27, 0.8, 0.5, 0.05])\n",
    "# im   = ax.contourf(x, y, X2(pos))\n",
    "# fig.colorbar(im, cax=cax, orientation='horizontal')"
   ]
  },
  {
   "cell_type": "code",
   "execution_count": 155,
   "metadata": {},
   "outputs": [
    {
     "name": "stdout",
     "output_type": "stream",
     "text": [
      "Done.\n"
     ]
    }
   ],
   "source": [
    "print('Done.')"
   ]
  }
 ],
 "metadata": {
  "kernelspec": {
   "display_name": "Python 3",
   "language": "python",
   "name": "python3"
  },
  "language_info": {
   "codemirror_mode": {
    "name": "ipython",
    "version": 3
   },
   "file_extension": ".py",
   "mimetype": "text/x-python",
   "name": "python",
   "nbconvert_exporter": "python",
   "pygments_lexer": "ipython3",
   "version": "3.7.9"
  },
  "latex_envs": {
   "LaTeX_envs_menu_present": true,
   "autoclose": false,
   "autocomplete": true,
   "bibliofile": "biblio.bib",
   "cite_by": "apalike",
   "current_citInitial": 1,
   "eqLabelWithNumbers": true,
   "eqNumInitial": 1,
   "hotkeys": {
    "equation": "Ctrl-E",
    "itemize": "Ctrl-I"
   },
   "labels_anchors": false,
   "latex_user_defs": false,
   "report_style_numbering": false,
   "user_envs_cfg": false
  },
  "nbTranslate": {
   "displayLangs": [
    "*"
   ],
   "hotkey": "alt-t",
   "langInMainMenu": true,
   "sourceLang": "en",
   "targetLang": "fr",
   "useGoogleTranslate": true
  }
 },
 "nbformat": 4,
 "nbformat_minor": 4
}
